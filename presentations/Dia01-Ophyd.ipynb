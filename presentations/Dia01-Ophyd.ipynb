{
 "cells": [
  {
   "cell_type": "markdown",
   "id": "eab63918-c88e-470f-9152-e7ca62eadf3c",
   "metadata": {
    "slideshow": {
     "slide_type": "slide"
    }
   },
   "source": [
    "## Ophyd\n",
    "\n",
    "#### Da documentação oficial:\n",
    "Ophyd cria representações de hardware em Python como objetos hierárquicos que agrupam valores relacionados do sistema de controle. Essa estrutura permite o Ophyd disponibilizar:\n",
    "\n",
    "- Uma interface de alto nível consistente para uma ampla gama de dispositivos (usada pelo bluesky).\n",
    "- Acesso direto de baixo nível ao sistema de controle para debug e desenvolvimento.\n",
    "\n",
    "Ao apresentar uma interface uniforme, os planos experimentais podem ser independentes dos detalhes do hardware, simplificando a criação desses planos.\n",
    "\n",
    "#### Como usar?"
   ]
  },
  {
   "cell_type": "markdown",
   "id": "3b498b19-c9db-4760-a209-1a9d0a86b1a6",
   "metadata": {
    "slideshow": {
     "slide_type": "slide"
    }
   },
   "source": [
    "### Leitura de sinais Read-Only"
   ]
  },
  {
   "cell_type": "code",
   "execution_count": null,
   "id": "ba4aebdd-c4ac-47a9-9b9c-9fe13d0ce2f1",
   "metadata": {
    "slideshow": {
     "slide_type": "fragment"
    }
   },
   "outputs": [],
   "source": [
    "from ophyd import EpicsSignalRO"
   ]
  },
  {
   "cell_type": "code",
   "execution_count": null,
   "id": "03e4e1d7-c966-4891-9a7e-96004fec6e9c",
   "metadata": {
    "slideshow": {
     "slide_type": "fragment"
    }
   },
   "outputs": [],
   "source": [
    "i0 = EpicsSignalRO('TEST:DETECTOR:Data_RBV')"
   ]
  },
  {
   "cell_type": "markdown",
   "id": "bc7ac328-ec37-40cb-a5f0-077e424085b4",
   "metadata": {
    "slideshow": {
     "slide_type": "fragment"
    }
   },
   "source": [
    "#### É possível aguardar até realizar a conexão (com timeout definido)"
   ]
  },
  {
   "cell_type": "code",
   "execution_count": null,
   "id": "32647e9d-4cc1-4ab8-9610-378feb1ddd5b",
   "metadata": {
    "slideshow": {
     "slide_type": "fragment"
    }
   },
   "outputs": [],
   "source": [
    "i0.wait_for_connection(timeout=1) #Aguarda para conexão com timout definido"
   ]
  },
  {
   "cell_type": "markdown",
   "id": "9517a3c2-1511-4726-b627-e82790bd89f6",
   "metadata": {
    "slideshow": {
     "slide_type": "slide"
    }
   },
   "source": [
    "#### Ler o sinal com um simples dicionário, retorna o valor e um timestamp"
   ]
  },
  {
   "cell_type": "code",
   "execution_count": null,
   "id": "c7b9c7ef-54cf-4396-84b0-27ef05d95e5e",
   "metadata": {
    "slideshow": {
     "slide_type": "fragment"
    }
   },
   "outputs": [],
   "source": [
    "i0.read() "
   ]
  },
  {
   "cell_type": "markdown",
   "id": "04a17562-82ff-4106-ba83-375eca769a53",
   "metadata": {
    "slideshow": {
     "slide_type": "fragment"
    }
   },
   "source": [
    "#### Descrever com mais metadados, como unidade (EGU) e limites"
   ]
  },
  {
   "cell_type": "code",
   "execution_count": null,
   "id": "06635a73-41f0-4c89-bff9-d955a5f87c24",
   "metadata": {
    "slideshow": {
     "slide_type": "fragment"
    }
   },
   "outputs": [],
   "source": [
    "i0.describe()"
   ]
  },
  {
   "cell_type": "markdown",
   "id": "829b148b-be6b-4589-9178-2ce872eff30d",
   "metadata": {
    "slideshow": {
     "slide_type": "slide"
    }
   },
   "source": [
    "### Dispositivos com permissão de escrita"
   ]
  },
  {
   "cell_type": "code",
   "execution_count": null,
   "id": "c94e3c2c-deb0-427b-9dcf-162496bc88e9",
   "metadata": {
    "slideshow": {
     "slide_type": "-"
    }
   },
   "outputs": [],
   "source": [
    "from ophyd import EpicsSignal"
   ]
  },
  {
   "cell_type": "code",
   "execution_count": null,
   "id": "8d197540-8cd7-4ba3-8a35-9f267577a257",
   "metadata": {
    "slideshow": {
     "slide_type": "-"
    }
   },
   "outputs": [],
   "source": [
    "data = EpicsSignal('TEST:MOTORS:m1', name='data')"
   ]
  },
  {
   "cell_type": "code",
   "execution_count": null,
   "id": "898d849c-3451-420e-825f-2b2e5c541c3b",
   "metadata": {
    "slideshow": {
     "slide_type": "-"
    }
   },
   "outputs": [],
   "source": [
    "data.wait_for_connection()"
   ]
  },
  {
   "cell_type": "markdown",
   "id": "67ba2d6d-b5c4-4cc6-ba9d-db37d7fe2c5d",
   "metadata": {
    "slideshow": {
     "slide_type": "slide"
    }
   },
   "source": [
    "#### Set\n",
    "É possível utilizar set para realizar ações _sem bloqueio_, isto é, ao realizar data.set(10), o set iniciará o movimento, porém não irá esperar até completar"
   ]
  },
  {
   "cell_type": "code",
   "execution_count": null,
   "id": "216c316c-7a1d-4ce3-a97f-92e3e090c6ab",
   "metadata": {},
   "outputs": [],
   "source": [
    "data.set(0)"
   ]
  },
  {
   "cell_type": "markdown",
   "id": "72524474-040f-4000-8e3c-367ada3a5b9e",
   "metadata": {
    "slideshow": {
     "slide_type": "slide"
    }
   },
   "source": [
    "#### Set retorna um Status Object\n",
    "Esses objetos são reponsáveis por notificar quando uma ação \"lenta\" foi completada. Essa ação pode ser: mover um motor, iniciar a aquisição de um detector, aguardar uma temperatura específica... Cada Status Object possui um timeout associado que pode ser configurado."
   ]
  },
  {
   "cell_type": "code",
   "execution_count": null,
   "id": "2811f0d6-d81f-43bb-bf45-78e762445910",
   "metadata": {
    "slideshow": {
     "slide_type": "fragment"
    }
   },
   "outputs": [],
   "source": [
    "status = data.set(10)"
   ]
  },
  {
   "cell_type": "code",
   "execution_count": null,
   "id": "f4191d97",
   "metadata": {},
   "outputs": [],
   "source": [
    "status"
   ]
  },
  {
   "cell_type": "code",
   "execution_count": null,
   "id": "040330de-e2de-48b7-a6a6-506171de3258",
   "metadata": {
    "slideshow": {
     "slide_type": "slide"
    }
   },
   "outputs": [],
   "source": [
    "from ophyd.status import Status\n",
    "\n",
    "status_sim = Status(timeout=10)\n",
    "status_sim_2 = Status(timeout=10)"
   ]
  },
  {
   "cell_type": "code",
   "execution_count": null,
   "id": "db331182",
   "metadata": {
    "slideshow": {
     "slide_type": "fragment"
    }
   },
   "outputs": [],
   "source": [
    "import random\n",
    "import threading\n",
    "\n",
    "def done():\n",
    "    status_sim.set_finished()\n",
    "\n",
    "threading.Timer(5, done).start()"
   ]
  },
  {
   "cell_type": "code",
   "execution_count": null,
   "id": "975f1e75",
   "metadata": {
    "slideshow": {
     "slide_type": "fragment"
    }
   },
   "outputs": [],
   "source": [
    "print('Antes do status sim')\n",
    "status_sim.wait()\n",
    "print('Status sim terminou')\n",
    "status_sim_2.wait()"
   ]
  },
  {
   "cell_type": "markdown",
   "id": "63e7b49e-e260-4db8-a80a-ed988099b346",
   "metadata": {
    "slideshow": {
     "slide_type": "slide"
    }
   },
   "source": [
    "#### Subscribe\n",
    "É uma maneira de monitorar nosso sinal quando ele mudar"
   ]
  },
  {
   "cell_type": "code",
   "execution_count": null,
   "id": "201c3080-f349-4582-879c-6042949f593f",
   "metadata": {
    "slideshow": {
     "slide_type": "fragment"
    }
   },
   "outputs": [],
   "source": [
    "values = [] \n",
    "def monitor(value, old_value, timestamp, **kwargs):\n",
    "    values.append({'value': value, 'timestamp': timestamp})\n"
   ]
  },
  {
   "cell_type": "code",
   "execution_count": null,
   "id": "c3b3502a-4bfc-4548-80f9-abca5f2e5c72",
   "metadata": {
    "slideshow": {
     "slide_type": "fragment"
    }
   },
   "outputs": [],
   "source": [
    "data.subscribe(monitor)"
   ]
  },
  {
   "cell_type": "code",
   "execution_count": null,
   "id": "b0b71680-af6f-419f-a07d-bdc8f917aeab",
   "metadata": {
    "slideshow": {
     "slide_type": "slide"
    }
   },
   "outputs": [],
   "source": [
    "data.set(-10).wait(timeout=10)\n",
    "data.set(7).wait(timeout=10)\n",
    "data.set(8).wait(timeout=10)"
   ]
  },
  {
   "cell_type": "code",
   "execution_count": null,
   "id": "051f016e-32b9-41fc-b6f5-5c68ae9ef7ea",
   "metadata": {
    "slideshow": {
     "slide_type": "fragment"
    }
   },
   "outputs": [],
   "source": [
    "values "
   ]
  },
  {
   "cell_type": "markdown",
   "id": "2a390882",
   "metadata": {
    "slideshow": {
     "slide_type": "slide"
    }
   },
   "source": [
    "## Dispositivos mais comuns como EpicsMotor estão disponíveis diretamente no Ophyd:"
   ]
  },
  {
   "cell_type": "code",
   "execution_count": null,
   "id": "e39e74fb",
   "metadata": {
    "slideshow": {
     "slide_type": "fragment"
    }
   },
   "outputs": [],
   "source": [
    "from ophyd import EpicsMotor"
   ]
  },
  {
   "cell_type": "code",
   "execution_count": null,
   "id": "fd87d675",
   "metadata": {
    "slideshow": {
     "slide_type": "fragment"
    }
   },
   "outputs": [],
   "source": [
    "my_motor = EpicsMotor('TEST:MOTORS:m1', name='my_motor')"
   ]
  },
  {
   "cell_type": "markdown",
   "id": "6a003679-faa1-41c1-a8ad-174ff4585946",
   "metadata": {
    "slideshow": {
     "slide_type": "slide"
    }
   },
   "source": [
    "## Dispositivos mais complexos\n",
    "É possível unir diversos sinais e dispositivos em um único Device."
   ]
  },
  {
   "cell_type": "code",
   "execution_count": null,
   "id": "40c1a2f3-f8bf-4017-af55-3cc9d9d3e66c",
   "metadata": {
    "slideshow": {
     "slide_type": "-"
    }
   },
   "outputs": [],
   "source": [
    "from ophyd import Component as Cpt\n",
    "from ophyd import Device, EpicsSignal, EpicsSignalRO, EpicsMotor, EpicsSignalWithRBV, EpicsMotor, Kind"
   ]
  },
  {
   "cell_type": "markdown",
   "id": "8d695ad2",
   "metadata": {},
   "source": [
    "O Component(Cpt) é usado para definir um componente de um dispositivo(nosso device). Ele serve como um descritor que conecta partes de um dispositivo ao sistema de controle.\n",
    "\n",
    "O Component pode ser configurado com parâmetros que influenciam como o sinal é inicializado e acessado. Como por exemplo: o endereço da PV, a natureza do sinal, e outras configurações específicas dos componentes."
   ]
  },
  {
   "cell_type": "markdown",
   "id": "292ea847-4ad3-40c9-84c8-bddf81aaa436",
   "metadata": {
    "slideshow": {
     "slide_type": "slide"
    }
   },
   "source": [
    "Considere os seguintes conjuntos de PVs:\n",
    "\n",
    "Estágios de amostra\n",
    "\n",
    "|Prefixo|Tipo|Descrição|\n",
    "|-------|----|---------|\n",
    "|TEST:MOTORS:m1|Motor|Eixo X do estágio da amostra|\n",
    "|TEST:MOTORS:m2|Motor|Eixo Y do estágio da amostra|\n",
    "|TEST:MOTORS:m3|Motor|Eixo Z do estágio da amostra|\n",
    "|TEST:MOTORS:m4|Motor|Eixo de rotação em X do estágio da amostra|\n",
    "|TEST:MOTORS:m5|Motor|Eixo de rotação em Y do estágio da amostra|\n",
    "|TEST:MOTORS:m6|Motor|Eixo de rotação em Z do estágio da amostra|\n",
    "|TEST:MOTORS:m7|Motor|Eixo de translação auxiliar|\n",
    "|TEST:MOTORS:m8|Motor|Eixo de translação auxiliar|\n",
    "\n",
    "Detector pontual\n",
    "\n",
    "|Prefixo|Tipo|Descrição|\n",
    "|-------|----|---------|\n",
    "|TEST:DETECTOR:AcquisitionNumber|Setpoint|Sobrescreve o número de aquisições feitas até o momento.|\n",
    "|TEST:DETECTOR:AcquisitionNumber_RBV|Readback|Indica o número de aquisições realizadas até o momento.|\n",
    "|TEST:DETECTOR:Trigger|Setpoint|Adquire a leitura atual do detector e salva os dados internamente|\n",
    "|TEST:DETECTOR:Trigger_RBV|Readback|Indica se uma nova leitura está sendo adquirida (1) ou se já foi adquirida (0).|\n",
    "|TEST:DETECTOR:Data|Setpoint|Sobrescreve a leitura mais recente com inputs manuais.|\n",
    "|TEST:DETECTOR:Data_RBV|Readback|Mostra a valor da última leitura do detector.|"
   ]
  },
  {
   "cell_type": "code",
   "execution_count": null,
   "id": "c1cb0c01-9a67-4727-bb58-80a93b88d2fa",
   "metadata": {
    "slideshow": {
     "slide_type": "slide"
    }
   },
   "outputs": [],
   "source": [
    "class SampleMotor(Device):\n",
    "    x = Cpt(EpicsMotor, \"m1\", kind=Kind.hinted)\n",
    "    \"\"\"Eixo X do estágio da amostra.\"\"\"\n",
    "    y = Cpt(EpicsMotor, \"m2\", kind=Kind.hinted)\n",
    "    \"\"\"Eixo Y do estágio da amostra.\"\"\"\n",
    "    z = Cpt(EpicsMotor, \"m3\", kind=Kind.hinted)\n",
    "    \"\"\"Eixo Z do estágio da amostra .\"\"\"\n",
    " \n",
    "    rx = Cpt(EpicsMotor, \"m4\")\n",
    "    \"\"\"Eixo de rotação em X do estágio da amostra.\"\"\"\n",
    "    ry = Cpt(EpicsMotor, \"m5\") \n",
    "    \"\"\"Eixo de rotação em Y do estágio da amostra.\"\"\"\n",
    "    rz = Cpt(EpicsMotor, \"m6\")\n",
    "    \"\"\"Eixo de rotação em Z do estágio da amostra.\"\"\"\n",
    " \n",
    "    utg = Cpt(EpicsMotor, \"m7\")\n",
    "    \"\"\"Eixo de translação auxiliar.\"\"\"\n",
    "    uth = Cpt(EpicsMotor, \"m8\")\n",
    "    \"\"\"Eixo de translação auxiliar.\"\"\""
   ]
  },
  {
   "cell_type": "markdown",
   "id": "3aa8d46d",
   "metadata": {
    "slideshow": {
     "slide_type": "slide"
    }
   },
   "source": [
    "\n",
    "\n",
    "Na definição x = Cpt(EpicsMotor, \"m1\", kind=Kind.hinted), o Cpt não cria imediatamente uma instância de EpicsMotor.\n",
    "Na verdade, ele configura o descritor com as informações necessárias, como por exemplo: a classe EpicsMotor, o sufixo \"m1\", e o tipo de Kind (natureza com relação aos dados e metadados).\n",
    "\n",
    "\n",
    "    "
   ]
  },
  {
   "cell_type": "markdown",
   "id": "01fe1a58",
   "metadata": {
    "slideshow": {
     "slide_type": "fragment"
    }
   },
   "source": [
    "Quando a instância device de SampleMotor é criada, o dispositivo principal é inicializado, em conjunto com seus componentes."
   ]
  },
  {
   "cell_type": "code",
   "execution_count": null,
   "id": "1f0ac529-e50c-4692-ba56-792a9287ff5b",
   "metadata": {
    "slideshow": {
     "slide_type": "fragment"
    }
   },
   "outputs": [],
   "source": [
    "sample_stage = SampleMotor('TEST:MOTORS:', name='sample_stage')"
   ]
  },
  {
   "cell_type": "code",
   "execution_count": null,
   "id": "f5811bde",
   "metadata": {},
   "outputs": [],
   "source": [
    "sample_stage.x"
   ]
  },
  {
   "cell_type": "markdown",
   "id": "36f3f8ed",
   "metadata": {
    "slideshow": {
     "slide_type": "fragment"
    }
   },
   "source": [
    "Assim, qualquer acesso subsequente a sample_stage.x retorna a mesma instância de EpicsMotor, permitindo que você controle o motor correspondente."
   ]
  },
  {
   "cell_type": "markdown",
   "id": "841a2d1e",
   "metadata": {},
   "source": [
    "#### Também é possível buscar um sumário do dispositivo"
   ]
  },
  {
   "cell_type": "code",
   "execution_count": null,
   "id": "10b6e967",
   "metadata": {
    "slideshow": {
     "slide_type": "fragment"
    }
   },
   "outputs": [],
   "source": [
    "sample_stage.summary()"
   ]
  },
  {
   "cell_type": "markdown",
   "id": "d4549031-2b48-439a-8b1e-71b5a2ae86ee",
   "metadata": {
    "slideshow": {
     "slide_type": "slide"
    }
   },
   "source": [
    "#### Para implementar o detector será necessário o uso de um Status Object diferente"
   ]
  },
  {
   "cell_type": "code",
   "execution_count": null,
   "id": "96979b68-972c-4cf7-bcbd-2521360a9496",
   "metadata": {
    "slideshow": {
     "slide_type": "fragment"
    }
   },
   "outputs": [],
   "source": [
    "from ophyd.status import SubscriptionStatus"
   ]
  },
  {
   "cell_type": "markdown",
   "id": "501cc3ba-4c5d-4171-9db7-0e0fab426a23",
   "metadata": {
    "slideshow": {
     "slide_type": "slide"
    }
   },
   "source": [
    "#### O SubscriptionStatus utiliza eventos Ophyd para se basear se o Status Object pode ser marcado como _finished_"
   ]
  },
  {
   "cell_type": "code",
   "execution_count": null,
   "id": "f5de1add-23c8-492c-a462-fd5c362a71e1",
   "metadata": {
    "slideshow": {
     "slide_type": "fragment"
    }
   },
   "outputs": [],
   "source": [
    "class SampleDetector(Device):\n",
    "    acquisition_number = Cpt(EpicsSignalWithRBV, \"AcquisitionNumber\", kind=Kind.config)\n",
    "    \"\"\"Numero de aquisições realizadas até o momento.\"\"\"\n",
    "    trigger_signal = Cpt(EpicsSignalWithRBV, \"Trigger\", kind=Kind.omitted)\n",
    "    \"\"\"Sinal para iniciar uma nova aquisição.\"\"\"\n",
    "    data_signal = Cpt(EpicsSignalRO, \"Data_RBV\", kind=Kind.hinted)\n",
    "    \"\"\"Dados da última aquisição.\"\"\"\n",
    " \n",
    "    def trigger(self):\n",
    "        super_sts = super().trigger()\n",
    " \n",
    "        # Alternativa: Checar se Trigger_RBV foi para 0.\n",
    "        def check_value(*, old_value, value, **kwargs):\n",
    "            return (value == old_value + 1)\n",
    " \n",
    "        sts = SubscriptionStatus(self.acquisition_number, check_value)\n",
    "        self.trigger_signal.set(1)\n",
    " \n",
    "        return super_sts & sts"
   ]
  },
  {
   "cell_type": "markdown",
   "id": "a7969027-4a70-4e3b-b747-a20056f5879a",
   "metadata": {
    "slideshow": {
     "slide_type": "fragment"
    }
   },
   "source": [
    "Nesse exemplo, o SampleDetector implementa o método trigger (comumente utilizado em scans pelo Bluesky). Esse método é responsável por acionar o detector e reportar (via Status Object) quando o envento de trigger foi completado.\n",
    "\n",
    "O comando super().tigger() chama o método trigger da classe base (Device), que lida com a parte padrão do acionamento (trigger). Enquanto o SubscriptionStatus verifica (monitora) se o valor de AcquitionNumber_RBV é maior que o valor anterior para notificar que a aquisição finalizou"
   ]
  },
  {
   "cell_type": "code",
   "execution_count": null,
   "id": "39af3eff-0f69-426f-81c7-d5e37d7d1f7d",
   "metadata": {
    "slideshow": {
     "slide_type": "slide"
    }
   },
   "outputs": [],
   "source": [
    "detector = SampleDetector('TEST:DETECTOR:', name='detector')"
   ]
  },
  {
   "cell_type": "code",
   "execution_count": null,
   "id": "4e3d45b2-89f9-4743-aa7e-286ae1aa5f6e",
   "metadata": {
    "slideshow": {
     "slide_type": "fragment"
    }
   },
   "outputs": [],
   "source": [
    "detector.wait_for_connection(timeout=2)"
   ]
  },
  {
   "cell_type": "markdown",
   "id": "70e4d727-e11b-4d96-a3d1-a3c27f1cf6a9",
   "metadata": {
    "slideshow": {
     "slide_type": "slide"
    }
   },
   "source": [
    "Os tipos de Kind (natureza) influenciam como esses componentes são tratados em termos de exibição e coleta de dados, os possíveis tipos de Kind:\n",
    "- hinted\n",
    "- normal\n",
    "- config\n",
    "- omitted\n",
    "\n",
    "As diferenças podem são mais claras ao utilizar summary, read e read_configuration"
   ]
  },
  {
   "cell_type": "code",
   "execution_count": null,
   "id": "6686fd3b-0fd6-4ed1-b270-67e4f4f08aa2",
   "metadata": {
    "scrolled": true,
    "slideshow": {
     "slide_type": "fragment"
    }
   },
   "outputs": [],
   "source": [
    "detector.summary()"
   ]
  },
  {
   "cell_type": "code",
   "execution_count": null,
   "id": "1e6a4b6d",
   "metadata": {
    "slideshow": {
     "slide_type": "slide"
    }
   },
   "outputs": [],
   "source": [
    "detector.describe()"
   ]
  },
  {
   "cell_type": "code",
   "execution_count": null,
   "id": "9370f20d",
   "metadata": {
    "slideshow": {
     "slide_type": "fragment"
    }
   },
   "outputs": [],
   "source": [
    "detector.read()"
   ]
  },
  {
   "cell_type": "code",
   "execution_count": null,
   "id": "251785ea",
   "metadata": {
    "slideshow": {
     "slide_type": "fragment"
    }
   },
   "outputs": [],
   "source": [
    "detector.read_configuration()"
   ]
  },
  {
   "cell_type": "markdown",
   "id": "fb04a04e",
   "metadata": {
    "slideshow": {
     "slide_type": "slide"
    }
   },
   "source": [
    "## Sempre preciso implementar um device novo?\n",
    "## Preciso sair do zero?"
   ]
  },
  {
   "cell_type": "markdown",
   "id": "a9b761f0-efc7-47f1-a9f3-c08bdcdf235e",
   "metadata": {
    "slideshow": {
     "slide_type": "slide"
    }
   },
   "source": [
    "## Sophys Common - https://gitlab.cnpem.br/SOL/bluesky/sophys-common\n",
    "\n",
    "#### Sophys: Common is a collection of Bluesky and Ophyd utility code (plans, devices, and other useful stuff) for usage at LNLS/SIRIUS beamlines.\n",
    "#### Sophys stands for **S**irius **Ophy**d and Bluesky utilitie**s**. As an old wise monk once said, nothing beats a cool-looking name."
   ]
  },
  {
   "cell_type": "markdown",
   "id": "82bbd9ba-ad86-4bf5-93f2-5f3f115be7e7",
   "metadata": {
    "slideshow": {
     "slide_type": "fragment"
    }
   },
   "source": [
    "#### Referências: https://blueskyproject.io/ophyd/"
   ]
  }
 ],
 "metadata": {
  "celltoolbar": "Slideshow",
  "kernelspec": {
   "display_name": "Python 3 (ipykernel)",
   "language": "python",
   "name": "python3"
  },
  "language_info": {
   "codemirror_mode": {
    "name": "ipython",
    "version": 3
   },
   "file_extension": ".py",
   "mimetype": "text/x-python",
   "name": "python",
   "nbconvert_exporter": "python",
   "pygments_lexer": "ipython3",
   "version": "3.12.5"
  },
  "rise": {
   "enable_chalkboard": true,
   "scroll": true,
   "start_slideshow_at": "beginning",
   "theme": "sky"
  }
 },
 "nbformat": 4,
 "nbformat_minor": 5
}
