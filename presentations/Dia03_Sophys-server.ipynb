{
 "cells": [
  {
   "cell_type": "markdown",
   "id": "ef8c972a",
   "metadata": {
    "slideshow": {
     "slide_type": "slide"
    }
   },
   "source": [
    "## Sophys Server"
   ]
  },
  {
   "cell_type": "markdown",
   "id": "5e4a011b",
   "metadata": {
    "slideshow": {
     "slide_type": "fragment"
    }
   },
   "source": [
    "O Servidor do Sophys (Sirius Ophyd and Bluesky Utilities) é uma padronização e controle sobre o ambiente de Bluesky a ser utilizado pelos usuários das linhas de luz do Sirius."
   ]
  },
  {
   "cell_type": "markdown",
   "id": "0b4254b6",
   "metadata": {
    "slideshow": {
     "slide_type": "fragment"
    }
   },
   "source": [
    "Cada linha de luz terá um servidor sophys isolado para seus planos."
   ]
  },
  {
   "cell_type": "markdown",
   "id": "19ba6356",
   "metadata": {
    "slideshow": {
     "slide_type": "subslide"
    }
   },
   "source": [
    "![Diagrama do Sophys Server](./images/sophys_server.png)"
   ]
  },
  {
   "cell_type": "markdown",
   "id": "c669ef8a",
   "metadata": {
    "slideshow": {
     "slide_type": "subslide"
    }
   },
   "source": [
    "### 1. Processamento dos planos em uma máquina remota"
   ]
  },
  {
   "cell_type": "markdown",
   "id": "b5c0c9c7",
   "metadata": {
    "slideshow": {
     "slide_type": "fragment"
    }
   },
   "source": [
    "Na padronização atual essa máquina é a máquina virtual de IOCs da linha de luz."
   ]
  },
  {
   "cell_type": "markdown",
   "id": "11857367",
   "metadata": {
    "slideshow": {
     "slide_type": "fragment"
    }
   },
   "source": [
    "* Todos os planos estão centralizados em uma mesma Run Engine\n",
    "\n",
    "* Maior controle de versão dos pacotes Python utilizados nos planos\n",
    "\n",
    "* Padronização das customizações dos serviços do servidor de Bluesky\n",
    "\n",
    "* Dados em tempo real centralizados no Kafka"
   ]
  },
  {
   "cell_type": "markdown",
   "id": "11ab2ea0",
   "metadata": {
    "slideshow": {
     "slide_type": "subslide"
    }
   },
   "source": [
    "### 2. Arquitetura multi-usuários"
   ]
  },
  {
   "cell_type": "markdown",
   "id": "38ddfd19",
   "metadata": {
    "slideshow": {
     "slide_type": "fragment"
    }
   },
   "source": [
    "* Autenticação com login da microsoft\n",
    "* Independência de login em uma máquina física\n",
    "* Vários usuários conseguem controlar e monitorar a Run Engine\n",
    "* Informação sobre o usuário que executou o plano\n",
    "* Possibilidade de restrição de ações de controle e monitoramento da Run Engine por níveis de permissão"
   ]
  },
  {
   "cell_type": "markdown",
   "id": "a9a2d981",
   "metadata": {
    "slideshow": {
     "slide_type": "subslide"
    }
   },
   "source": [
    "### 3. Planejamento de experimentos"
   ]
  },
  {
   "cell_type": "markdown",
   "id": "cc2d9860",
   "metadata": {
    "slideshow": {
     "slide_type": "fragment"
    }
   },
   "source": [
    "* Possibilidade da criação de uma fila de planos a serem executados sequencialmente\n",
    "* Controle sobre a ordem de execução dos planos\n",
    "* Possibilidade de edição e reutilização dos parâmetros de planos existentes\n",
    "* Possibilidade de adição de pausas planejadas entre planos \n",
    "* Informação sobre o último usuário que alterou o plano"
   ]
  },
  {
   "cell_type": "markdown",
   "id": "93ee7a67",
   "metadata": {
    "slideshow": {
     "slide_type": "fragment"
    }
   },
   "source": [
    "![Diagrama do Sophys Server](./images/queue.png)"
   ]
  },
  {
   "cell_type": "markdown",
   "id": "0dfbebb6",
   "metadata": {
    "slideshow": {
     "slide_type": "subslide"
    }
   },
   "source": [
    "### 4. Histórico de experimentos"
   ]
  },
  {
   "cell_type": "markdown",
   "id": "c56c85ed",
   "metadata": {
    "slideshow": {
     "slide_type": "fragment"
    }
   },
   "source": [
    "* Existência de um histórico de planos realizados\n",
    "    * Usuário que executou o plano\n",
    "    * Status ao final do plano\n",
    "    * Parâmetros do plano\n",
    "* Possibilidade de reutilização de planos já executados "
   ]
  },
  {
   "cell_type": "markdown",
   "id": "467b6563",
   "metadata": {
    "slideshow": {
     "slide_type": "fragment"
    }
   },
   "source": [
    "![Diagrama do Sophys Server](./images/history.png)"
   ]
  },
  {
   "cell_type": "markdown",
   "id": "ecba1f1f",
   "metadata": {
    "slideshow": {
     "slide_type": "subslide"
    }
   },
   "source": [
    "### 5. Interação através do protocolo HTTP"
   ]
  },
  {
   "cell_type": "markdown",
   "id": "90d1c85a",
   "metadata": {
    "slideshow": {
     "slide_type": "fragment"
    }
   },
   "source": [
    "* Grande quantidade de pacotes em várias linguagens de programação voltadas a comunicação através desse protocolo\n",
    "* Possibilidade de execução de planos através de qualquer computador conectado na rede do CNPEM\n",
    "* Proteção dos planos através de autenticação de usuário"
   ]
  },
  {
   "cell_type": "markdown",
   "id": "b7df0031",
   "metadata": {
    "slideshow": {
     "slide_type": "subslide"
    }
   },
   "source": [
    "### 6. Comunicação transparente com a Ibirá"
   ]
  },
  {
   "cell_type": "markdown",
   "id": "43c4e722",
   "metadata": {
    "slideshow": {
     "slide_type": "fragment"
    }
   },
   "source": [
    "Os metadados e dados do Bluesky são salvos automaticamente na Ibirá através do plano"
   ]
  },
  {
   "cell_type": "markdown",
   "id": "a7dc3446",
   "metadata": {
    "slideshow": {
     "slide_type": "fragment"
    }
   },
   "source": [
    "Documentos gerados pelo bluesky são salvos pelo bluesky-autosave, de acordo com os seguintes parâmetros passados nos metadados do plano: \n",
    "\n",
    "* metadata_save_file_location: Diretório para salvamento dos documentos do plano.\n",
    "\n",
    "* metadata_save_file_identifier: Nome do arquivo dos documentos, sem o formato do arquivo. Se inexistente, o nome será o uid do plano."
   ]
  }
 ],
 "metadata": {
  "celltoolbar": "Slideshow",
  "kernelspec": {
   "display_name": "Python 3 (ipykernel)",
   "language": "python",
   "name": "python3"
  },
  "language_info": {
   "codemirror_mode": {
    "name": "ipython",
    "version": 3
   },
   "file_extension": ".py",
   "mimetype": "text/x-python",
   "name": "python",
   "nbconvert_exporter": "python",
   "pygments_lexer": "ipython3",
   "version": "3.9.2"
  },
  "rise": {
   "enable_chalkboard": true,
   "scroll": true,
   "start_slideshow_at": "beginning",
   "theme": "sky"
  }
 },
 "nbformat": 4,
 "nbformat_minor": 5
}
