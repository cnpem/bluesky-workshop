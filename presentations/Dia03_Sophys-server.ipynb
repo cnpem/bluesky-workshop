{
 "cells": [
  {
   "cell_type": "markdown",
   "id": "ef8c972a",
   "metadata": {
    "slideshow": {
     "slide_type": "slide"
    }
   },
   "source": [
    "## Sophys Server"
   ]
  },
  {
   "cell_type": "markdown",
   "id": "5e4a011b",
   "metadata": {
    "slideshow": {
     "slide_type": "fragment"
    }
   },
   "source": [
    "O Servidor do Sophys (Sirius Ophyd and Bluesky Utilities) é uma padronização e controle sobre o ambiente de Bluesky a ser utilizado pelos usuários das linhas de luz do Sirius."
   ]
  },
  {
   "cell_type": "markdown",
   "id": "4c8b5d4b",
   "metadata": {
    "slideshow": {
     "slide_type": "fragment"
    }
   },
   "source": [
    "Cada linha de luz terá um servidor sophys isolado para seus planos."
   ]
  },
  {
   "cell_type": "markdown",
   "id": "443ffb04",
   "metadata": {
    "slideshow": {
     "slide_type": "subslide"
    }
   },
   "source": [
    "### 1. Processamento dos planos em uma máquina remota"
   ]
  },
  {
   "cell_type": "markdown",
   "id": "ca01608b",
   "metadata": {
    "slideshow": {
     "slide_type": "fragment"
    }
   },
   "source": [
    "Na padronização atual essa máquina é a máquina virtual de IOCs da linha de luz."
   ]
  },
  {
   "cell_type": "markdown",
   "id": "7d5e2b4a",
   "metadata": {
    "slideshow": {
     "slide_type": "fragment"
    }
   },
   "source": [
    "* Todos os planos estão centralizados em uma mesma Run Engine\n",
    "* Maior controle de versão dos pacotes Python utilizados nos planos\n",
    "* Padronização das customizações dos serviços do servidor de Bluesky"
   ]
  },
  {
   "cell_type": "markdown",
   "id": "644686c4",
   "metadata": {
    "slideshow": {
     "slide_type": "subslide"
    }
   },
   "source": [
    "### 2. Arquitetura multi-usuários"
   ]
  },
  {
   "cell_type": "markdown",
   "id": "69ed5d4f",
   "metadata": {
    "slideshow": {
     "slide_type": "fragment"
    }
   },
   "source": [
    "* Autenticação com login da microsoft\n",
    "* Independência de login em uma máquina física\n",
    "* Vários usuários conseguem controlar e monitorar a Run Engine\n",
    "* Informação sobre o usuário que executou o plano\n",
    "* Possibilidade de restrição de ações de controle e monitoramento da Run Engine por níveis de permissão"
   ]
  },
  {
   "cell_type": "markdown",
   "id": "ec32e72b",
   "metadata": {
    "slideshow": {
     "slide_type": "subslide"
    }
   },
   "source": [
    "### 3. Planejamento de experimentos"
   ]
  },
  {
   "cell_type": "markdown",
   "id": "6ac5b52e",
   "metadata": {
    "slideshow": {
     "slide_type": "fragment"
    }
   },
   "source": [
    "* Possibilidade da criação de uma fila de planos a serem executados sequencialmente\n",
    "* Controle sobre a ordem de execução dos planos\n",
    "* Possibilidade de edição e reutilização dos parâmetros de planos existentes\n",
    "* Possibilidade de adição de pausas planejadas entre planos \n",
    "* Informação sobre o último usuário que alterou o plano"
   ]
  },
  {
   "cell_type": "markdown",
   "id": "5565938a",
   "metadata": {
    "slideshow": {
     "slide_type": "subslide"
    }
   },
   "source": [
    "### 4. Histórico de experimentos"
   ]
  },
  {
   "cell_type": "markdown",
   "id": "63ef0956",
   "metadata": {
    "slideshow": {
     "slide_type": "fragment"
    }
   },
   "source": [
    "* Existência de um histórico de planos realizados\n",
    "    * Usuário que executou o plano\n",
    "    * Status ao final do plano\n",
    "    * Parâmetros do plano\n",
    "* Possibilidade de reutilização de planos já executados "
   ]
  },
  {
   "cell_type": "markdown",
   "id": "6c1e2958",
   "metadata": {
    "slideshow": {
     "slide_type": "subslide"
    }
   },
   "source": [
    "### 5. Interação através do protocolo HTTP"
   ]
  },
  {
   "cell_type": "markdown",
   "id": "73a045ca",
   "metadata": {
    "slideshow": {
     "slide_type": "fragment"
    }
   },
   "source": [
    "* Grande quantidade de pacotes em várias linguagens de programação voltadas a comunicação através desse protocolo\n",
    "* Possibilidade de execução de planos através de qualquer computador conectado na rede do CNPEM\n",
    "* Proteção dos planos através de autenticação de usuário"
   ]
  },
  {
   "cell_type": "markdown",
   "id": "420c1e6c",
   "metadata": {
    "slideshow": {
     "slide_type": "subslide"
    }
   },
   "source": [
    "### 6. Comunicação transparente com a Ibirá"
   ]
  },
  {
   "cell_type": "markdown",
   "id": "22214fa1",
   "metadata": {
    "slideshow": {
     "slide_type": "fragment"
    }
   },
   "source": [
    "Os metadados e dados do Bluesky são salvos automaticamente na Ibirá através do plano"
   ]
  }
 ],
 "metadata": {
  "celltoolbar": "Slideshow",
  "kernelspec": {
   "display_name": "Python 3 (ipykernel)",
   "language": "python",
   "name": "python3"
  },
  "language_info": {
   "codemirror_mode": {
    "name": "ipython",
    "version": 3
   },
   "file_extension": ".py",
   "mimetype": "text/x-python",
   "name": "python",
   "nbconvert_exporter": "python",
   "pygments_lexer": "ipython3",
   "version": "3.9.2"
  },
  "rise": {
   "enable_chalkboard": true,
   "scroll": true,
   "start_slideshow_at": "beginning",
   "theme": "sky"
  }
 },
 "nbformat": 4,
 "nbformat_minor": 5
}
