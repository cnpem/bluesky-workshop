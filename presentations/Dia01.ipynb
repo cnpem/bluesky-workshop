{
 "cells": [
  {
   "cell_type": "markdown",
   "id": "b440f664-6f84-4942-974d-9bbda4124d6f",
   "metadata": {
    "editable": true,
    "slideshow": {
     "slide_type": "slide"
    },
    "tags": []
   },
   "source": [
    "# Primeiro dia - Introdução: Orquestração, `pyepics`, `ophyd` e `bluesky`"
   ]
  },
  {
   "cell_type": "markdown",
   "id": "d233076b-bb8d-4f6a-9aa6-5d09515d4b97",
   "metadata": {
    "editable": true,
    "slideshow": {
     "slide_type": "skip"
    },
    "tags": []
   },
   "source": [
    "##### Setup"
   ]
  },
  {
   "cell_type": "markdown",
   "id": "49c37bcc-7a11-44a7-baa2-5296d52a17cc",
   "metadata": {
    "editable": true,
    "slideshow": {
     "slide_type": "skip"
    },
    "tags": []
   },
   "source": [
    "For those examples to work, you'll need to run the two soft IOCs these codes interact with. One is a python-softioc based IOC, while the other is an epics-base simulated motor IOC, using SIRIUS's `motor_sim_epics_ioc` docker container (accessible in the intranet).\n",
    "\n",
    "Both of these IOCs are on the `../iocs/` directory. The tested way to run those is via the `iocs` script, like so:\n",
    "\n",
    "```bash\n",
    "cd .../iocs/\n",
    "iocs start --local --anyuser\n",
    "```"
   ]
  },
  {
   "cell_type": "code",
   "execution_count": null,
   "id": "1e21ddd5-7414-4255-9686-76183b58f391",
   "metadata": {
    "editable": true,
    "slideshow": {
     "slide_type": "skip"
    },
    "tags": []
   },
   "outputs": [],
   "source": [
    "from ophyd import Device, Component as Cpt, EpicsMotor, EpicsSignal\n",
    "\n",
    "def timed_function(print_timing):\n",
    "    def __wrapper__(fn):\n",
    "        import epics\n",
    "        import time\n",
    "        import functools\n",
    "        @functools.wraps(fn)\n",
    "        def __inner__(*args, **kwargs):\n",
    "            epics.pv._PVcache_.clear()\n",
    "            epics.ca.clear_cache()\n",
    "\n",
    "            _t = time.perf_counter()\n",
    "            ret = fn(*args, **kwargs)\n",
    "            _dt = time.perf_counter() - _t\n",
    "            if print_timing:\n",
    "                print(f\"Function '{fn.__name__}' executed in {_dt:.4f}s.\")\n",
    "            return ret\n",
    "        return __inner__\n",
    "    return __wrapper__\n",
    "\n",
    "\n",
    "class ControllableMotor(EpicsMotor):\n",
    "    \"\"\"Custom EpicsMotor that enables control before a plan and disables it after.\"\"\"\n",
    "\n",
    "    enable_control = Cpt(EpicsSignal, \".CNEN\", kind=\"config\", auto_monitor=True)\n",
    "\n",
    "    def __init__(self, *args, **kwargs):\n",
    "        super().__init__(*args, **kwargs)\n",
    "\n",
    "        self.stage_sigs[\"enable_control\"] = 1\n",
    "\n",
    "\n",
    "class MotorMixinResolution(Device):\n",
    "    motor_step_size = Cpt(EpicsSignal, \".MRES\", kind=\"config\", auto_monitor=True)\n",
    "\n",
    "    steps_per_revolution = Cpt(EpicsSignal, \".SREV\", kind=\"omitted\")\n",
    "    units_per_revolution = Cpt(EpicsSignal, \".UREV\", kind=\"omitted\")\n",
    "\n",
    "\n",
    "class MotorMixinMiscellaneous(Device):\n",
    "    display_precision = Cpt(\n",
    "        EpicsSignal, \".PREC\", kind=\"config\", auto_monitor=True\n",
    "    )\n",
    "    code_version = Cpt(EpicsSignal, \".VERS\", kind=\"config\")\n",
    "\n",
    "\n",
    "class MotorMixinMotion(Device):\n",
    "    max_velocity = Cpt(EpicsSignal, \".VMAX\", kind=\"config\")\n",
    "    base_velocity = Cpt(EpicsSignal, \".VBAS\", kind=\"config\")\n",
    "\n",
    "\n",
    "class ExtendedEpicsMotor(\n",
    "    ControllableMotor, MotorMixinResolution, MotorMixinMiscellaneous, MotorMixinMotion\n",
    "):\n",
    "    pass\n",
    "\n",
    "\n",
    "from bluesky.callbacks import LiveFitPlot, LivePlot, LiveScatter, LiveGrid\n",
    "\n",
    "def create_jupyter_live_plot(plot_cls):\n",
    "    import matplotlib.pyplot as plt\n",
    "    from IPython.display import display, clear_output\n",
    "\n",
    "    class __JupyterLivePlot(plot_cls):\n",
    "        def __init__(self, *args, fig=None, ax=None, **kwargs):\n",
    "            if fig is None:\n",
    "                fig, ax = plt.subplots()\n",
    "            super().__init__(*args, ax=ax, **kwargs)\n",
    "            self._figure = fig\n",
    "    \n",
    "        def __call__(self, event_name, event_data, *args, **kwargs):\n",
    "            super().__call__(event_name, event_data, *args, **kwargs)\n",
    "            display(self._figure, clear=True)\n",
    "            if event_name == \"stop\":\n",
    "                clear_output(True)\n",
    "            self._figure.canvas.draw()\n",
    "\n",
    "    return __JupyterLivePlot\n",
    "\n",
    "JupyterLivePlot = create_jupyter_live_plot(LivePlot)\n",
    "JupyterLiveScatter = create_jupyter_live_plot(LiveScatter)\n",
    "JupyterLiveFitPlot = create_jupyter_live_plot(LiveFitPlot)\n",
    "JupyterLiveGrid = create_jupyter_live_plot(LiveGrid)"
   ]
  },
  {
   "cell_type": "markdown",
   "id": "01b9557b-1736-4fd4-8a0c-a99ef22a7a16",
   "metadata": {
    "editable": true,
    "slideshow": {
     "slide_type": "slide"
    },
    "tags": []
   },
   "source": [
    "### Orquestração de experimentos nas linhas de luz\n",
    "\n"
   ]
  },
  {
   "cell_type": "markdown",
   "id": "5e4d3d59-613a-4422-b4bc-2b8dc2ef2abe",
   "metadata": {
    "editable": true,
    "slideshow": {
     "slide_type": "subslide"
    },
    "tags": []
   },
   "source": [
    "![Diagrama do esquema EPICS / Orquestração no SIRIUS](./images/orquestracao_de_experimentos.png)"
   ]
  },
  {
   "cell_type": "markdown",
   "id": "23ecb821-066b-4eea-af37-74e3dca5ebe6",
   "metadata": {
    "editable": true,
    "slideshow": {
     "slide_type": "slide"
    },
    "tags": []
   },
   "source": [
    "### Estado atual: `pyepics`"
   ]
  },
  {
   "cell_type": "markdown",
   "id": "14b653b9-6560-4098-804b-9aa5b6ba91f4",
   "metadata": {
    "editable": true,
    "slideshow": {
     "slide_type": "subslide"
    },
    "tags": []
   },
   "source": [
    "#### Estudo de caso: Orquestração detector + motor"
   ]
  },
  {
   "cell_type": "markdown",
   "id": "e21947d7-98a8-43fa-83d2-25b7c666f427",
   "metadata": {
    "editable": true,
    "slideshow": {
     "slide_type": "subslide"
    },
    "tags": []
   },
   "source": [
    "![Example setup diagram, with a punctual detector and a pace motor moving the sample along the y axis.](./images/example_setup_diagram.png)"
   ]
  },
  {
   "cell_type": "markdown",
   "id": "1d6cad14-9636-45d4-9dcf-ad2d4afe630c",
   "metadata": {
    "editable": true,
    "slideshow": {
     "slide_type": "subslide"
    },
    "tags": []
   },
   "source": [
    "|Prefixo|Tipo|Descrição|\n",
    "|-------|----|---------|\n",
    "|TEST:DETECTOR:AcquisitionNumber|Setpoint|Sobrescreve o número de aquisições feitas até o momento.|\n",
    "|TEST:DETECTOR:AcquisitionNumber_RBV|Readback|Indica o número de aquisições realizadas até o momento.|\n",
    "|TEST:DETECTOR:Trigger|Setpoint|Adquire a leitura atual do detector e salva os dados internamente|\n",
    "|TEST:DETECTOR:Trigger_RBV|Readback|Indica se uma nova leitura está sendo adquirida (1) ou se já foi adquirida (0).|\n",
    "|TEST:DETECTOR:Data|Setpoint|Sobrescreve a leitura mais recente com inputs manuais.|\n",
    "|TEST:DETECTOR:Data_RBV|Readback|Mostra a valor da última leitura do detector.|\n",
    "\n",
    "|Prefixo|Tipo|Descrição|\n",
    "|-------|----|---------|\n",
    "|TEST:MOTORS:m1|Motor|Eixo X do estágio da amostra|\n",
    "|TEST:MOTORS:m2|Motor|Eixo Y do estágio da amostra|\n",
    "|TEST:MOTORS:m3|Motor|Eixo Z do estágio da amostra|\n",
    "|TEST:MOTORS:m4|Motor|Eixo de rotação em X do estágio da amostra|\n",
    "|TEST:MOTORS:m5|Motor|Eixo de rotação em Y do estágio da amostra|\n",
    "|TEST:MOTORS:m6|Motor|Eixo de rotação em Z do estágio da amostra|\n",
    "|TEST:MOTORS:m7|Motor|Eixo de translação auxiliar|\n",
    "|TEST:MOTORS:m8|Motor|Eixo de translação auxiliar|"
   ]
  },
  {
   "cell_type": "markdown",
   "id": "35acd787-cbd9-410b-8ed6-d31e5d5392c6",
   "metadata": {
    "editable": true,
    "slideshow": {
     "slide_type": "subslide"
    },
    "tags": []
   },
   "source": [
    "#### Implementação inicial"
   ]
  },
  {
   "cell_type": "code",
   "execution_count": null,
   "id": "e9bbec61-24f0-4ad9-b172-ec9059b344f2",
   "metadata": {
    "editable": true,
    "slideshow": {
     "slide_type": "subslide"
    },
    "tags": []
   },
   "outputs": [],
   "source": [
    "@timed_function(print_timing=True)\n",
    "def my_scan():\n",
    "    import numpy as np\n",
    "    from epics import caget, caput\n",
    "\n",
    "    my_data = {}\n",
    "\n",
    "    caput(\"TEST:MOTORS:m2.CNEN\", 1, wait=True)\n",
    "    for pos in np.linspace(-20, 20, 5):\n",
    "        caput(\"TEST:MOTORS:m1\", pos, wait=True)\n",
    "\n",
    "        caput(\"TEST:DETECTOR:Trigger\", 1)\n",
    "        det_data  = caget(\"TEST:DETECTOR:Data\")\n",
    "        my_data[pos] = det_data\n",
    "\n",
    "    caput(\"TEST:MOTORS:m2.CNEN\", 0, wait=True)\n",
    "\n",
    "    print(my_data)\n",
    "\n",
    "my_scan()"
   ]
  },
  {
   "cell_type": "markdown",
   "id": "525fb4f7-ab44-4ccd-9c82-e30813c12b5a",
   "metadata": {
    "editable": true,
    "slideshow": {
     "slide_type": "notes"
    },
    "tags": []
   },
   "source": [
    "----\n",
    "Fix `TEST:MOTORS:m1` -> `TEST:MOTORS:m2`\n",
    "\n",
    "Fix `TEST:DETECTOR:Data` -> `TEST:DETECTOR:Data_RBV`\n",
    "\n",
    "----"
   ]
  },
  {
   "cell_type": "code",
   "execution_count": null,
   "id": "bca10d4c-cce9-4d11-9e3e-bb2b3f0ad290",
   "metadata": {
    "editable": true,
    "slideshow": {
     "slide_type": "subslide"
    },
    "tags": []
   },
   "outputs": [],
   "source": [
    "@timed_function(print_timing=True)\n",
    "def my_scan():\n",
    "    import numpy as np\n",
    "    from epics import caget, caput\n",
    "\n",
    "    my_data = {}\n",
    "\n",
    "    caput(\"TEST:MOTORS:m2.CNEN\", 1, wait=True)\n",
    "    for pos in np.linspace(-20, 20, 5):\n",
    "        caput(\"TEST:MOTORS:m2\", pos, wait=True)\n",
    "\n",
    "        caput(\"TEST:DETECTOR:Trigger\", 1)\n",
    "        det_data  = caget(\"TEST:DETECTOR:Data_RBV\")\n",
    "        my_data[pos] = det_data\n",
    "\n",
    "    caput(\"TEST:MOTORS:m2.CNEN\", 0, wait=True)\n",
    "\n",
    "    print(my_data)\n",
    "\n",
    "my_scan()"
   ]
  },
  {
   "cell_type": "markdown",
   "id": "490c4695-92c6-4fb3-b2b5-cdb16927c045",
   "metadata": {
    "editable": true,
    "slideshow": {
     "slide_type": "notes"
    },
    "tags": []
   },
   "source": [
    "----\n",
    "Fix `Trigger` / `AcquisitionNumber`\n",
    "\n",
    "----"
   ]
  },
  {
   "cell_type": "code",
   "execution_count": null,
   "id": "2a94fe24-a6b8-493f-b705-b9beeeb9a1d5",
   "metadata": {
    "editable": true,
    "slideshow": {
     "slide_type": "subslide"
    },
    "tags": []
   },
   "outputs": [],
   "source": [
    "@timed_function(print_timing=True)\n",
    "def my_scan():\n",
    "    import time\n",
    "    import numpy as np\n",
    "    from epics import caget, caput\n",
    "\n",
    "    my_data = {}\n",
    "\n",
    "    caput(\"TEST:MOTORS:m2.CNEN\", 1, wait=True)\n",
    "    while caget(\"TEST:MOTORS:m2.CNEN\") != 1:\n",
    "        time.sleep(0.1)\n",
    "\n",
    "    for pos in np.linspace(-20, 20, 5):\n",
    "        caput(\"TEST:MOTORS:m2\", pos, wait=True)\n",
    "\n",
    "        while caget(\"TEST:DETECTOR:Trigger_RBV\") != 0:\n",
    "            time.sleep(0.1)\n",
    "\n",
    "        acq_num = caget(\"TEST:DETECTOR:AcquisitionNumber_RBV\")\n",
    "        caput(\"TEST:DETECTOR:Trigger\", 1)\n",
    "        while caget(\"TEST:DETECTOR:AcquisitionNumber_RBV\") == acq_num:\n",
    "            time.sleep(0.1)\n",
    "\n",
    "        det_data  = caget(\"TEST:DETECTOR:Data_RBV\")\n",
    "        my_data[pos] = det_data\n",
    "\n",
    "    caput(\"TEST:MOTORS:m2.CNEN\", 0, wait=True)\n",
    "\n",
    "    print(my_data)\n",
    "\n",
    "my_scan()"
   ]
  },
  {
   "cell_type": "markdown",
   "id": "c9b17ca8-25b6-4448-aae6-9e08e00fb34d",
   "metadata": {
    "editable": true,
    "slideshow": {
     "slide_type": "notes"
    },
    "tags": []
   },
   "source": [
    "----\n",
    "Factor out PV prefixes\n",
    "\n",
    "----"
   ]
  },
  {
   "cell_type": "code",
   "execution_count": null,
   "id": "90d255bc-c997-44d7-a172-06b45151befa",
   "metadata": {
    "editable": true,
    "slideshow": {
     "slide_type": "subslide"
    },
    "tags": []
   },
   "outputs": [],
   "source": [
    "@timed_function(print_timing=True)\n",
    "def my_scan():\n",
    "    import time\n",
    "    import numpy as np\n",
    "    from epics import caget, caput\n",
    "\n",
    "    Y_MOTOR_PREFIX = \"TEST:MOTORS:m2\"\n",
    "    Y_MOTOR_ENABLE = Y_MOTOR_PREFIX + \".CNEN\"\n",
    "    DETECTOR_PREFIX = \"TEST:DETECTOR\"\n",
    "    DETECTOR_TRIGGER = DETECTOR_PREFIX + \":Trigger\"\n",
    "    DETECTOR_TRIGGER_RBV = DETECTOR_PREFIX + \":Trigger_RBV\"\n",
    "    DETECTOR_ACQ_NUMBER = DETECTOR_PREFIX + \":AcquisitionNumber_RBV\"\n",
    "    DETECTOR_DATA = DETECTOR_PREFIX + \":Data_RBV\"\n",
    "\n",
    "    my_data = {}\n",
    "\n",
    "    caput(Y_MOTOR_ENABLE, 1, wait=True)\n",
    "    while caget(Y_MOTOR_ENABLE) != 1:\n",
    "        time.sleep(0.1)\n",
    "\n",
    "    for pos in np.linspace(-20, 20, 5):\n",
    "        caput(Y_MOTOR_PREFIX, pos, wait=True)\n",
    "\n",
    "        while caget(DETECTOR_TRIGGER_RBV) != 0:\n",
    "            time.sleep(0.1)\n",
    "\n",
    "        acq_num = caget(DETECTOR_ACQ_NUMBER)\n",
    "        caput(DETECTOR_TRIGGER, 1)\n",
    "        while caget(DETECTOR_ACQ_NUMBER) == acq_num:\n",
    "            time.sleep(0.1)\n",
    "\n",
    "        det_data  = caget(DETECTOR_DATA)\n",
    "        my_data[pos] = det_data\n",
    "\n",
    "    caput(Y_MOTOR_ENABLE, 0, wait=True)\n",
    "\n",
    "    print(my_data)\n",
    "\n",
    "my_scan()"
   ]
  },
  {
   "cell_type": "markdown",
   "id": "d1c0b8b9-db47-4311-a436-49b08838719a",
   "metadata": {
    "editable": true,
    "slideshow": {
     "slide_type": "notes"
    },
    "tags": []
   },
   "source": [
    "----\n",
    "Live plot\n",
    "\n",
    "----"
   ]
  },
  {
   "cell_type": "code",
   "execution_count": null,
   "id": "aa9ad3b0-2dcf-4833-b5fe-0c7f4f2fab55",
   "metadata": {
    "editable": true,
    "slideshow": {
     "slide_type": "subslide"
    },
    "tags": []
   },
   "outputs": [],
   "source": [
    "%matplotlib widget\n",
    "\n",
    "@timed_function(print_timing=True)\n",
    "def my_scan():\n",
    "    import time\n",
    "    import numpy as np\n",
    "    from epics import caget, caput\n",
    "\n",
    "    from IPython.display import display, clear_output\n",
    "    import matplotlib.pyplot as plt\n",
    "\n",
    "    Y_MOTOR_PREFIX = \"TEST:MOTORS:m2\"\n",
    "    Y_MOTOR_ENABLE = Y_MOTOR_PREFIX + \".CNEN\"\n",
    "    DETECTOR_PREFIX = \"TEST:DETECTOR\"\n",
    "    DETECTOR_TRIGGER = DETECTOR_PREFIX + \":Trigger\"\n",
    "    DETECTOR_TRIGGER_RBV = DETECTOR_PREFIX + \":Trigger_RBV\"\n",
    "    DETECTOR_ACQ_NUMBER = DETECTOR_PREFIX + \":AcquisitionNumber_RBV\"\n",
    "    DETECTOR_DATA = DETECTOR_PREFIX + \":Data_RBV\"\n",
    "\n",
    "    plt.ion()\n",
    "    figure, ax = plt.subplots()\n",
    "\n",
    "    def update_plot(data: dict):\n",
    "        X = list(data.keys())\n",
    "        Y = list(data.values())\n",
    "\n",
    "        clear_output(True)\n",
    "        ax.clear()\n",
    "\n",
    "        ax.plot(X, Y, zorder=50, marker='o')\n",
    "        figure.gca().relim()\n",
    "        figure.gca().autoscale_view()\n",
    "        figure.legend(framealpha=1.0)\n",
    "        display(figure)\n",
    "\n",
    "\n",
    "    my_data = {}\n",
    "\n",
    "    caput(Y_MOTOR_ENABLE, 1, wait=True)\n",
    "    while caget(Y_MOTOR_ENABLE) != 1:\n",
    "        time.sleep(0.1)\n",
    "\n",
    "    for pos in np.linspace(-20, 20, 5):\n",
    "        caput(Y_MOTOR_PREFIX, pos, wait=True)\n",
    "\n",
    "        while caget(DETECTOR_TRIGGER_RBV) != 0:\n",
    "            time.sleep(0.1)\n",
    "\n",
    "        acq_num = caget(DETECTOR_ACQ_NUMBER)\n",
    "        caput(DETECTOR_TRIGGER, 1)\n",
    "        while caget(DETECTOR_ACQ_NUMBER) == acq_num:\n",
    "            time.sleep(0.1)\n",
    "\n",
    "        det_data  = caget(DETECTOR_DATA)\n",
    "        my_data[pos] = det_data\n",
    "\n",
    "        update_plot(my_data)\n",
    "\n",
    "    caput(Y_MOTOR_ENABLE, 0, wait=True)\n",
    "\n",
    "    clear_output(True)\n",
    "\n",
    "    print(my_data)\n",
    "\n",
    "my_scan()"
   ]
  },
  {
   "cell_type": "markdown",
   "id": "618855f2-608c-4ca1-83be-65067a2d41fd",
   "metadata": {
    "editable": true,
    "slideshow": {
     "slide_type": "notes"
    },
    "tags": []
   },
   "source": [
    "----\n",
    "Metadata reading\n",
    "\n",
    "----"
   ]
  },
  {
   "cell_type": "code",
   "execution_count": null,
   "id": "f9e4c253-3de4-4b87-b065-87e46756a6c1",
   "metadata": {
    "editable": true,
    "slideshow": {
     "slide_type": ""
    },
    "tags": []
   },
   "outputs": [],
   "source": [
    "%matplotlib widget\n",
    "\n",
    "@timed_function(print_timing=True)\n",
    "def my_scan():\n",
    "    import time\n",
    "    import numpy as np\n",
    "    from epics import caget, caput\n",
    "\n",
    "    from IPython.display import display, clear_output\n",
    "    import matplotlib.pyplot as plt\n",
    "\n",
    "    Y_MOTOR_PREFIX = \"TEST:MOTORS:m2\"\n",
    "    Y_MOTOR_ENABLE = Y_MOTOR_PREFIX + \".CNEN\"\n",
    "    DETECTOR_PREFIX = \"TEST:DETECTOR\"\n",
    "    DETECTOR_TRIGGER = DETECTOR_PREFIX + \":Trigger\"\n",
    "    DETECTOR_TRIGGER_RBV = DETECTOR_PREFIX + \":Trigger_RBV\"\n",
    "    DETECTOR_ACQ_NUMBER = DETECTOR_PREFIX + \":AcquisitionNumber_RBV\"\n",
    "    DETECTOR_DATA = DETECTOR_PREFIX + \":Data_RBV\"\n",
    "\n",
    "    plt.ion()\n",
    "    figure, ax = plt.subplots()\n",
    "\n",
    "    def update_plot(data: dict):\n",
    "        X = list(data.keys())\n",
    "        Y = list(data.values())\n",
    "\n",
    "        clear_output(True)\n",
    "        ax.clear()\n",
    "\n",
    "        ax.plot(X, Y, zorder=50, marker='o')\n",
    "        figure.gca().relim()\n",
    "        figure.gca().autoscale_view()\n",
    "        figure.legend(framealpha=1.0)\n",
    "        display(figure)\n",
    "\n",
    "    def retrieve_metadata(prefix: str = \"\"):\n",
    "        md = dict()\n",
    "        for suffix, name in zip([\"m1\", \"m2\", \"m3\", \"m4\", \"m5\", \"m6\", \"m7\", \"m8\"], [\"x\", \"y\", \"z\", \"Rx\", \"Ry\", \"Rz\", \"Utg\", \"Uth\"]):\n",
    "            md[f\"{prefix}{name}_loc\"] = caget(f\"TEST:MOTORS:{suffix}.RBV\", use_monitor=False)\n",
    "            md[f\"{prefix}{name}_step_size\"] = caget(f\"TEST:MOTORS:{suffix}.MRES\", use_monitor=False)\n",
    "            md[f\"{prefix}{name}_velocity\"] = caget(f\"TEST:MOTORS:{suffix}.VELO\", use_monitor=False)\n",
    "            md[f\"{prefix}{name}_base_velocity\"] = caget(f\"TEST:MOTORS:{suffix}.VBAS\", use_monitor=False)\n",
    "            md[f\"{prefix}{name}_unit\"] = caget(f\"TEST:MOTORS:{suffix}.EGU\", use_monitor=False)\n",
    "            md[f\"{prefix}{name}_display_precision\"] = caget(f\"TEST:MOTORS:{suffix}.PREC\", use_monitor=False)\n",
    "            md[f\"{prefix}{name}_version\"] = caget(f\"TEST:MOTORS:{suffix}.VERS\", use_monitor=False)\n",
    "            md[f\"{prefix}{name}_enabled\"] = caget(f\"TEST:MOTORS:{suffix}.CNEN\", use_monitor=False)\n",
    "        return md\n",
    "\n",
    "    my_data = {}\n",
    "    my_metadata = retrieve_metadata(\"before\")\n",
    "\n",
    "    caput(Y_MOTOR_ENABLE, 1, wait=True)\n",
    "    while caget(Y_MOTOR_ENABLE) != 1:\n",
    "        time.sleep(0.1)\n",
    "\n",
    "    for pos in np.linspace(-20, 20, 5):\n",
    "        caput(Y_MOTOR_PREFIX, pos, wait=True)\n",
    "\n",
    "        while caget(DETECTOR_TRIGGER_RBV) != 0:\n",
    "            time.sleep(0.1)\n",
    "\n",
    "        acq_num = caget(DETECTOR_ACQ_NUMBER)\n",
    "        caput(DETECTOR_TRIGGER, 1)\n",
    "        while caget(DETECTOR_ACQ_NUMBER) == acq_num:\n",
    "            time.sleep(0.1)\n",
    "\n",
    "        det_data  = caget(DETECTOR_DATA)\n",
    "        my_data[pos] = det_data\n",
    "\n",
    "        update_plot(my_data)\n",
    "\n",
    "    caput(Y_MOTOR_ENABLE, 0, wait=True)\n",
    "\n",
    "    clear_output(True)\n",
    "\n",
    "    my_metadata.update(retrieve_metadata(\"after\"))\n",
    "\n",
    "my_scan()"
   ]
  },
  {
   "cell_type": "code",
   "execution_count": null,
   "id": "a35e7d8d-02bc-4e55-b74e-a95ada13d67e",
   "metadata": {
    "editable": true,
    "slideshow": {
     "slide_type": "subslide"
    },
    "tags": []
   },
   "outputs": [],
   "source": [
    "%matplotlib widget\n",
    "\n",
    "@timed_function(print_timing=True)\n",
    "def my_scan():\n",
    "    import time\n",
    "    import numpy as np\n",
    "    from epics import caget, caput, get_pv\n",
    "\n",
    "    from IPython.display import display, clear_output\n",
    "    import matplotlib.pyplot as plt\n",
    "\n",
    "    Y_MOTOR_PREFIX = \"TEST:MOTORS:m2\"\n",
    "    Y_MOTOR_ENABLE = Y_MOTOR_PREFIX + \".CNEN\"\n",
    "    DETECTOR_PREFIX = \"TEST:DETECTOR\"\n",
    "    DETECTOR_TRIGGER = DETECTOR_PREFIX + \":Trigger\"\n",
    "    DETECTOR_TRIGGER_RBV = DETECTOR_PREFIX + \":Trigger_RBV\"\n",
    "    DETECTOR_ACQ_NUMBER = DETECTOR_PREFIX + \":AcquisitionNumber_RBV\"\n",
    "    DETECTOR_DATA = DETECTOR_PREFIX + \":Data_RBV\"\n",
    "\n",
    "    plt.ion()\n",
    "    figure, ax = plt.subplots()\n",
    "\n",
    "    def update_plot(data: dict):\n",
    "        X = list(data.keys())\n",
    "        Y = list(data.values())\n",
    "\n",
    "        clear_output(True)\n",
    "        ax.clear()\n",
    "\n",
    "        ax.plot(X, Y, zorder=50, marker='o')\n",
    "        figure.gca().relim()\n",
    "        figure.gca().autoscale_view()\n",
    "        figure.legend(framealpha=1.0)\n",
    "        display(figure)\n",
    "\n",
    "    def retrieve_metadata(prefix: str = \"\"):\n",
    "        md = dict()\n",
    "        pvs = dict()\n",
    "        for suffix, name in zip([\"m1\", \"m2\", \"m3\", \"m4\", \"m5\", \"m6\", \"m7\", \"m8\"], [\"x\", \"y\", \"z\", \"Rx\", \"Ry\", \"Rz\", \"Utg\", \"Uth\"]):\n",
    "            pvs[f\"{prefix}{name}_loc\"] = get_pv(f\"TEST:MOTORS:{suffix}.RBV\", auto_monitor=False)\n",
    "            pvs[f\"{prefix}{name}_step_size\"] = get_pv(f\"TEST:MOTORS:{suffix}.MRES\", auto_monitor=False)\n",
    "            pvs[f\"{prefix}{name}_velocity\"] = get_pv(f\"TEST:MOTORS:{suffix}.VELO\", auto_monitor=False)\n",
    "            pvs[f\"{prefix}{name}_base_velocity\"] = get_pv(f\"TEST:MOTORS:{suffix}.VBAS\", auto_monitor=False)\n",
    "            pvs[f\"{prefix}{name}_unit\"] = get_pv(f\"TEST:MOTORS:{suffix}.EGU\", auto_monitor=False)\n",
    "            pvs[f\"{prefix}{name}_display_precision\"] = get_pv(f\"TEST:MOTORS:{suffix}.PREC\", auto_monitor=False)\n",
    "            pvs[f\"{prefix}{name}_version\"] = get_pv(f\"TEST:MOTORS:{suffix}.VERS\", auto_monitor=False)\n",
    "            pvs[f\"{prefix}{name}_enabled\"] = get_pv(f\"TEST:MOTORS:{suffix}.CNEN\", auto_monitor=False)\n",
    "        for pv in pvs.values():\n",
    "            pv.wait_for_connection(timeout=1.0)\n",
    "        for name, pv in pvs.items():\n",
    "            if pv.status == 0:\n",
    "                md[name] = pv.get()\n",
    "        return md\n",
    "\n",
    "    my_data = {}\n",
    "    my_metadata = retrieve_metadata(\"before\")\n",
    "\n",
    "    caput(Y_MOTOR_ENABLE, 1, wait=True)\n",
    "    while caget(Y_MOTOR_ENABLE) != 1:\n",
    "        time.sleep(0.1)\n",
    "\n",
    "    for pos in np.linspace(-20, 20, 5):\n",
    "        caput(Y_MOTOR_PREFIX, pos, wait=True)\n",
    "\n",
    "        while caget(DETECTOR_TRIGGER_RBV) != 0:\n",
    "            time.sleep(0.1)\n",
    "\n",
    "        acq_num = caget(DETECTOR_ACQ_NUMBER)\n",
    "        caput(DETECTOR_TRIGGER, 1)\n",
    "        while caget(DETECTOR_ACQ_NUMBER) == acq_num:\n",
    "            time.sleep(0.1)\n",
    "\n",
    "        det_data  = caget(DETECTOR_DATA)\n",
    "        my_data[pos] = det_data\n",
    "\n",
    "        update_plot(my_data)\n",
    "\n",
    "    caput(Y_MOTOR_ENABLE, 0, wait=True)\n",
    "\n",
    "    clear_output(True)\n",
    "\n",
    "    my_metadata.update(retrieve_metadata(\"after\"))\n",
    "\n",
    "my_scan()"
   ]
  },
  {
   "cell_type": "markdown",
   "id": "b0e2f505-b7e6-4fc0-bf60-56ec13e03934",
   "metadata": {
    "editable": true,
    "slideshow": {
     "slide_type": "slide"
    },
    "tags": []
   },
   "source": [
    "### Abstração de hardware: `ophyd`"
   ]
  },
  {
   "cell_type": "code",
   "execution_count": null,
   "id": "64e79266-bc64-4b4d-a4bc-925be1203ba9",
   "metadata": {
    "editable": true,
    "slideshow": {
     "slide_type": "subslide"
    },
    "tags": []
   },
   "outputs": [],
   "source": [
    "from ophyd import Device, Component as Cpt, EpicsSignalWithRBV, EpicsSignalRO, Kind\n",
    "from ophyd.status import SubscriptionStatus\n",
    "\n",
    "# from sophys.common.devices import ExtendedEpicsMotor\n",
    "\n",
    "class SampleMotor(Device):\n",
    "    x = Cpt(ExtendedEpicsMotor, \"m1\", kind=Kind.hinted)\n",
    "    \"\"\"Eixo X do estágio da amostra.\"\"\"\n",
    "    y = Cpt(ExtendedEpicsMotor, \"m2\", kind=Kind.hinted)\n",
    "    \"\"\"Eixo Y do estágio da amostra.\"\"\"\n",
    "    z = Cpt(ExtendedEpicsMotor, \"m3\", kind=Kind.hinted)\n",
    "    \"\"\"Eixo Z do estágio da amostra.\"\"\"\n",
    "\n",
    "    rx = Cpt(ExtendedEpicsMotor, \"m4\", kind=Kind.config)\n",
    "    \"\"\"Eixo de rotação em X do estágio da amostra.\"\"\"\n",
    "    ry = Cpt(ExtendedEpicsMotor, \"m5\", kind=Kind.config)\n",
    "    \"\"\"Eixo de rotação em Y do estágio da amostra.\"\"\"\n",
    "    rz = Cpt(ExtendedEpicsMotor, \"m6\", kind=Kind.config)\n",
    "    \"\"\"Eixo de rotação em Z do estágio da amostra.\"\"\"\n",
    "\n",
    "    utg = Cpt(ExtendedEpicsMotor, \"m7\", kind=Kind.config)\n",
    "    \"\"\"Eixo de translação auxiliar.\"\"\"\n",
    "    uth = Cpt(ExtendedEpicsMotor, \"m8\", kind=Kind.config)\n",
    "    \"\"\"Eixo de translação auxiliar.\"\"\"\n",
    "\n",
    "\n",
    "class SampleDetector(Device):\n",
    "    acquisition_number = Cpt(EpicsSignalWithRBV, \"AcquisitionNumber\", kind=Kind.omitted)\n",
    "    \"\"\"Numero de aquisições realizadas até o momento.\"\"\"\n",
    "    trigger_signal = Cpt(EpicsSignalWithRBV, \"Trigger\", kind=Kind.omitted)\n",
    "    \"\"\"Sinal para iniciar uma nova aquisição.\"\"\"\n",
    "    data_signal = Cpt(EpicsSignalRO, \"Data_RBV\", kind=Kind.hinted, auto_monitor=False)\n",
    "    \"\"\"Dados da última aquisição.\"\"\"\n",
    "\n",
    "    def trigger(self):\n",
    "        super_sts = super().trigger()\n",
    "\n",
    "        # Alternativa: Checar se Trigger_RBV foi para 0.\n",
    "        def check_value(*, old_value, value, **kwargs):\n",
    "            return (value == old_value + 1)\n",
    "\n",
    "        sts = SubscriptionStatus(self.acquisition_number, check_value, run=False)\n",
    "        self.trigger_signal.set(1).wait()\n",
    "\n",
    "        return super_sts & sts"
   ]
  },
  {
   "cell_type": "code",
   "execution_count": null,
   "id": "5ba4d402-776f-4073-86bc-fb098f73448e",
   "metadata": {
    "editable": true,
    "slideshow": {
     "slide_type": "subslide"
    },
    "tags": []
   },
   "outputs": [],
   "source": [
    "%matplotlib widget\n",
    "\n",
    "@timed_function(print_timing=True)\n",
    "def my_scan():\n",
    "    import time\n",
    "    import numpy as np\n",
    "\n",
    "    from IPython.display import display, clear_output\n",
    "    import matplotlib.pyplot as plt\n",
    "\n",
    "\n",
    "    motors = SampleMotor(\"TEST:MOTORS:\", name=\"sample_motors\")\n",
    "    motors.wait_for_connection()\n",
    "    detector = SampleDetector(\"TEST:DETECTOR:\", name=\"photodiode\")\n",
    "    detector.wait_for_connection()\n",
    "\n",
    "    plt.ion()\n",
    "    figure, ax = plt.subplots()\n",
    "\n",
    "    def update_plot(data: dict):\n",
    "        X = list(data.keys())\n",
    "        Y = list(data.values())\n",
    "\n",
    "        clear_output(True)\n",
    "        ax.clear()\n",
    "\n",
    "        ax.plot(X, Y, zorder=50, marker='o')\n",
    "        figure.gca().relim()\n",
    "        figure.gca().autoscale_view()\n",
    "        figure.legend(framealpha=1.0)\n",
    "        display(figure)\n",
    "\n",
    "    def retrieve_metadata(prefix: str = \"\"):\n",
    "        return {f\"{prefix}_{key}\": item[\"value\"] for key, item in motors.read_configuration().items()}\n",
    "\n",
    "    my_data = {}\n",
    "    my_metadata = retrieve_metadata(\"before\")\n",
    "\n",
    "    motors.y.enable_control.set(1).wait()\n",
    "    for pos in np.linspace(-20, 20, 5):\n",
    "        motors.y.move(pos).wait()\n",
    "        detector.trigger().wait()\n",
    "        my_data[pos] = detector.read()[\"photodiode_data_signal\"][\"value\"]\n",
    "\n",
    "        update_plot(my_data)\n",
    "\n",
    "    motors.y.enable_control.set(0).wait()\n",
    "\n",
    "    my_metadata.update(retrieve_metadata(\"after\"))\n",
    "\n",
    "my_scan()"
   ]
  },
  {
   "cell_type": "markdown",
   "id": "e4b34d22-850a-4242-b6ff-74cbc881b181",
   "metadata": {
    "editable": true,
    "slideshow": {
     "slide_type": "slide"
    },
    "tags": []
   },
   "source": [
    "### Framework de orquestração: `bluesky`"
   ]
  },
  {
   "cell_type": "code",
   "execution_count": null,
   "id": "61eae2e3-5fc4-4ed0-876c-1bedd2644c46",
   "metadata": {
    "editable": true,
    "slideshow": {
     "slide_type": "subslide"
    },
    "tags": []
   },
   "outputs": [],
   "source": [
    "%matplotlib widget\n",
    "\n",
    "@timed_function(print_timing=True)\n",
    "def my_scan():\n",
    "    import time\n",
    "    import numpy as np\n",
    "\n",
    "    import databroker\n",
    "\n",
    "    from bluesky import RunEngine, plans as bp\n",
    "    from bluesky.callbacks.best_effort import BestEffortCallback\n",
    "\n",
    "    motors = SampleMotor(\"TEST:MOTORS:\", name=\"sample_motors\")\n",
    "    motors.wait_for_connection()\n",
    "    detector = SampleDetector(\"TEST:DETECTOR:\", name=\"photodiode\")\n",
    "    detector.wait_for_connection()\n",
    "\n",
    "    RE = RunEngine({})\n",
    "    db = databroker.Broker.named(\"temp\")\n",
    "\n",
    "    live_plot = JupyterLivePlot(detector.data_signal.name, motors.y.name, marker='o', label='Scan')\n",
    "\n",
    "    RE(bp.scan([detector], motors.y, -20, 20, 5), [live_plot, db.v1.insert])\n",
    "\n",
    "    return db\n",
    "\n",
    "db = my_scan()"
   ]
  }
 ],
 "metadata": {
  "kernelspec": {
   "display_name": "Python 3 (ipykernel)",
   "language": "python",
   "name": "python3"
  },
  "language_info": {
   "codemirror_mode": {
    "name": "ipython",
    "version": 3
   },
   "file_extension": ".py",
   "mimetype": "text/x-python",
   "name": "python",
   "nbconvert_exporter": "python",
   "pygments_lexer": "ipython3",
   "version": "3.12.5"
  },
  "rise": {
   "enable_chalkboard": true,
   "scroll": true,
   "start_slideshow_at": "beginning",
   "theme": "sky"
  }
 },
 "nbformat": 4,
 "nbformat_minor": 5
}
