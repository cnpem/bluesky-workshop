{
 "cells": [
  {
   "cell_type": "code",
   "execution_count": null,
   "id": "53e034eb-d44c-49a9-9d32-1b19d3315a20",
   "metadata": {},
   "outputs": [],
   "source": [
    "import os\n",
    "os.environ['EPICS_CA_ADDR_LIST'] = 's-qat03-l.abtlus.org.br'"
   ]
  },
  {
   "cell_type": "code",
   "execution_count": null,
   "id": "5668d588-6c83-4359-9327-1f065a0b0731",
   "metadata": {},
   "outputs": [],
   "source": [
    "import numpy as np\n",
    "import matplotlib.pyplot as plt\n",
    "from pprint import pprint\n",
    "from IPython.display import display\n",
    "from scipy.special import erf\n",
    "\n",
    "from bluesky import RunEngine\n",
    "from bluesky.utils import Msg, make_decorator\n",
    "from bluesky.plans import scan, list_scan\n",
    "from bluesky.plan_stubs import open_run, close_run, one_nd_step, move_per_step\n",
    "from bluesky.callbacks import LiveFitPlot, LiveFit, LivePlot\n",
    "from bluesky.callbacks.best_effort import BestEffortCallback\n",
    "from bluesky.suspenders import SuspendCeil\n",
    "\n",
    "from ophyd import Device, EpicsSignal, EpicsSignalWithRBV, EpicsSignalRO, Component as Cpt\n",
    "from ophyd.sim import SynGauss, SynAxis, det1, motor1, noisy_det\n",
    "from ophyd.status import SubscriptionStatus\n",
    "\n",
    "from databroker import Broker\n",
    "\n",
    "import lmfit"
   ]
  },
  {
   "cell_type": "code",
   "execution_count": null,
   "id": "3c0642f9-9e8f-44fd-ac98-eb3f59e322a0",
   "metadata": {},
   "outputs": [],
   "source": [
    "RE = RunEngine({})\n",
    "bec = BestEffortCallback()\n",
    "db = Broker.named('temp')\n",
    "RE.subscribe(db.insert)\n",
    "RE.subscribe(bec)"
   ]
  },
  {
   "cell_type": "markdown",
   "id": "15f782bc-e344-4bf5-814e-c5eed35459ce",
   "metadata": {},
   "source": [
    "### Device Ophyd"
   ]
  },
  {
   "cell_type": "markdown",
   "id": "f919f27e-6cfe-4f2f-9583-ffd970d49eb6",
   "metadata": {},
   "source": [
    "A implementação do device pode seguir a mesma ideia dos dias anteriores. Com uma pequena mudança para o SubscriptionStatus monitorar o valor do trigger."
   ]
  },
  {
   "cell_type": "code",
   "execution_count": null,
   "id": "9eff0093-9e81-47c7-b126-4978ed9855e6",
   "metadata": {},
   "outputs": [],
   "source": [
    "class SampleDetector(Device):\n",
    "    exposure_time = Cpt(EpicsSignalWithRBV, \"ExposureTime\", kind='hinted')\n",
    "    trigger_signal = Cpt(EpicsSignalWithRBV, \"Trigger\", kind='omitted')\n",
    "    data_signal = Cpt(EpicsSignalRO, \"Data_RBV\", kind='hinted', auto_monitor=False)\n",
    "  \n",
    "\n",
    "    def trigger(self):\n",
    "        super_sts = super().trigger()\n",
    "        def check_value(*, old_value, value, **kwargs):\n",
    "            return (value == 0 and old_value == 1)\n",
    "\n",
    "        sts = SubscriptionStatus(self.trigger_signal, check_value, run=False)\n",
    "        self.trigger_signal.set(1).wait()\n",
    "\n",
    "        return super_sts & sts"
   ]
  },
  {
   "cell_type": "code",
   "execution_count": null,
   "id": "f57294f4-82c6-4602-9ff2-9c6507e1c76b",
   "metadata": {},
   "outputs": [],
   "source": [
    "i0 = SampleDetector('TEST:DET1:', name='i0')"
   ]
  },
  {
   "cell_type": "markdown",
   "id": "38b09fc7-c7bd-4be8-a67b-26b8e56491c8",
   "metadata": {},
   "source": [
    "### Plano de Scan em energia"
   ]
  },
  {
   "cell_type": "markdown",
   "id": "6e40ccf4-556b-4e64-8897-1a401ee6bf4b",
   "metadata": {},
   "source": [
    "O plano de scan em energia pode ser realizado com um list_scan. Basta lembrar que os scans padrões aceitam objetos __movable__, isto é, qualque device que implemente e interface de __movable__ pode ser utilizado em scans para modificar parâmetros durante um scan. Nesse exemplo vamos generalizar para múltiplos sinais de energias (são movables!!) e múltiplos sinais de tempo (são movables!!)"
   ]
  },
  {
   "cell_type": "code",
   "execution_count": null,
   "id": "19867e7f-c8cc-4c68-aac1-033f2c64b286",
   "metadata": {},
   "outputs": [],
   "source": [
    "def energy_scan(detectors, energy_list, exposure_time, energy_signals, time_signals=None):\n",
    "\n",
    "    # Verificar se o exposure time é um float, nesse caso geramos uma lista com dimensões de energy_list\n",
    "    if isinstance(exposure_time, float):\n",
    "        exposure_time = [exposure_time]*len(energy_list)\n",
    "\n",
    "    \n",
    "    if time_signals is None:\n",
    "        time_signals = [det.exposure_time \n",
    "                        for det in detectors \n",
    "                        if hasattr(det, 'exposure_time')]\n",
    "\n",
    "    # Agrupamos os argumentos da lista em tuplas para associar cada energy/time signal ao seu respectivo parâmetro de configuração\n",
    "    list_args = [(movable, energy_list) for movable in energy_signals]\n",
    "    list_args += [(signal, exposure_time) for signal in time_signals]\n",
    "    \n",
    "    # Aqui temos um processo de \"achatamento\" da lista de tuplas, basicamente transformamos tudo em uma lista plana: [Signal, list, Signal, list, ...]\n",
    "    list_args = [item \n",
    "                 for items in list_args \n",
    "                 for item in items]\n",
    "    print(list_args)\n",
    "\n",
    "    # Por fim utilizamos * para dar unpack dos argumentos posicionais da nossa lista para list_scan\n",
    "    _md = {'plan_name': 'energy_scan', 'e0': 7112, 'element': 'Fe', 'edge': 'K', 'd_spacing': 0.001}\n",
    "    yield from list_scan(detectors, *list_args, md=_md)"
   ]
  },
  {
   "cell_type": "code",
   "execution_count": null,
   "id": "cbdfecd3-759e-4396-8e38-4da8235e0937",
   "metadata": {},
   "outputs": [],
   "source": [
    "i0.wait_for_connection(timeout=4)"
   ]
  },
  {
   "cell_type": "code",
   "execution_count": null,
   "id": "819e8e59-2174-413a-bb90-076ca1204ec0",
   "metadata": {},
   "outputs": [],
   "source": [
    "uid, = RE(energy_scan([i0], np.arange(7000, 7100, 10), [0.1, 5, 10, 0.4, 3,5,6,7,2,1], [motor1], [i0.exposure_time]))"
   ]
  },
  {
   "cell_type": "markdown",
   "id": "2eda1550-5779-4653-99a8-ed2ee4a8d11f",
   "metadata": {},
   "source": [
    "### Metadados definidos no scan"
   ]
  },
  {
   "cell_type": "code",
   "execution_count": null,
   "id": "d4c3fbb2-acf0-45a4-a725-6d506699a238",
   "metadata": {},
   "outputs": [],
   "source": [
    "last_run = db[uid]"
   ]
  },
  {
   "cell_type": "code",
   "execution_count": null,
   "id": "5c520e3e-b975-430e-8077-45ea7133fdc5",
   "metadata": {},
   "outputs": [],
   "source": [
    "last_run.start"
   ]
  },
  {
   "cell_type": "markdown",
   "id": "4aada27b-9cef-4825-be9c-39d4b1c72010",
   "metadata": {},
   "source": [
    "### Outros exemplos: Dispositivos simulados"
   ]
  },
  {
   "cell_type": "code",
   "execution_count": null,
   "id": "4d9d698d-ec6a-4b27-85d6-c2e8931eb87a",
   "metadata": {},
   "outputs": [],
   "source": [
    "def gaussian_integral(x, peak, sigma, center):\n",
    "    return peak * sigma * np.sqrt(np.pi / 2) * (erf((x - center) / (np.sqrt(2) * sigma)) - erf((-5 - center) / (np.sqrt(2) * sigma)))\n",
    "\n",
    "class SynKnifeDetector(SynGauss):\n",
    "    \n",
    "    def __init__(self, name, motor, motor_field, center, Imax, *, random_state=None, **kwargs):\n",
    "        super().__init__(name, motor, motor_field, center, Imax, **kwargs)\n",
    "\n",
    "    def _compute(self):\n",
    "        m = self._motor.read()[self._motor_field][\"value\"]\n",
    "        Imax = self.Imax.get()\n",
    "        center = self.center.get()\n",
    "        sigma = self.sigma.get()\n",
    "        noise = self.noise.get()\n",
    "        noise_multiplier = self.noise_multiplier.get()\n",
    "        \n",
    "        return gaussian_integral(m, Imax, sigma, center)"
   ]
  },
  {
   "cell_type": "code",
   "execution_count": null,
   "id": "44137ebc-5a4e-4c70-825c-889186e6c579",
   "metadata": {},
   "outputs": [],
   "source": [
    "motor1.delay = 0.15\n",
    "detector = SynKnifeDetector('detector', motor1, 'motor1', center=2, Imax=9, sigma=1)"
   ]
  },
  {
   "cell_type": "code",
   "execution_count": null,
   "id": "00f8b414-df22-4d27-9571-25f2a2752063",
   "metadata": {},
   "outputs": [],
   "source": [
    "fig, ax = plt.subplots()\n",
    "bec.disable_plots()\n",
    "\n",
    "    \n",
    "model = lmfit.Model(gaussian_integral)\n",
    "\n",
    "init_guess = {'peak': 5, 'sigma': 1.5, 'center': 3}\n",
    "\n",
    "\n",
    "live_fit = LiveFit(model, 'detector', {'x': 'motor1'}, init_guess)\n",
    "live_fit_plot = LiveFitPlot(live_fit, color='r', ax=ax, label='Fit')\n",
    "live_plot = LivePlot('detector', 'motor1', marker='x', linestyle='none', ax=ax, label='Scan')\n",
    "\n",
    "RE(\n",
    "    scan([detector], motor1, -10, 10, num=40),\n",
    "    [live_fit_plot, live_plot]\n",
    ")"
   ]
  },
  {
   "cell_type": "code",
   "execution_count": null,
   "id": "c776e955-1dcd-4399-972c-ab801c7fba49",
   "metadata": {},
   "outputs": [],
   "source": [
    "live_fit.result"
   ]
  },
  {
   "cell_type": "code",
   "execution_count": null,
   "id": "1bbe3836-8d91-4a03-8ade-71e9b3a3e3a6",
   "metadata": {},
   "outputs": [],
   "source": [
    "my_dataset = db[uid].table()"
   ]
  },
  {
   "cell_type": "code",
   "execution_count": null,
   "id": "9d4c6b7b-09b7-4668-a747-876a757eceeb",
   "metadata": {},
   "outputs": [],
   "source": [
    "my_dataset.to_csv('my_data')"
   ]
  },
  {
   "cell_type": "markdown",
   "id": "4b72d99b-76aa-46c4-b4a3-a1cf3f1401f3",
   "metadata": {},
   "source": [
    "### Um pouco mais sobre os planos"
   ]
  },
  {
   "cell_type": "markdown",
   "id": "0ab5a2ca-6440-40c9-bb04-01152fe61fdf",
   "metadata": {},
   "source": [
    "É possível definir per_steps personalizados. Um exemplo é um per_step que toma __n__ medidas por step do scan padrão."
   ]
  },
  {
   "cell_type": "code",
   "execution_count": null,
   "id": "302c0696-a69f-45bd-b15a-7b4312ce5d5c",
   "metadata": {},
   "outputs": [],
   "source": [
    "from bluesky.plan_stubs import checkpoint, abs_set, trigger_and_read, create, save, trigger, read, wait\n",
    "from functools import partial\n",
    "\n",
    "def my_per_step(detectors, step, pos_cache, multi_triger_num=1):\n",
    "    motors = step.keys()\n",
    "    yield from move_per_step(step, pos_cache) # Já tem um checkpoint inserido!\n",
    "    for i in range(multi_triger_num):\n",
    "        yield from trigger_and_read(list(detectors) + list(motors))"
   ]
  },
  {
   "cell_type": "code",
   "execution_count": null,
   "id": "9c07a4b9-00fc-43ff-ba34-8f63861eb48c",
   "metadata": {
    "scrolled": true
   },
   "outputs": [],
   "source": [
    "uid, = RE(scan([det1], motor1, -10, 10, 100, per_step=partial(my_per_step, multi_triger_num=2)))"
   ]
  },
  {
   "cell_type": "markdown",
   "id": "bfc07a7e-b761-457e-b902-f2f17e3b8143",
   "metadata": {},
   "source": [
    "### Aprofundando um pouco mais"
   ]
  },
  {
   "cell_type": "code",
   "execution_count": null,
   "id": "801af033-3460-4b6e-9960-9951e0d01377",
   "metadata": {
    "scrolled": true
   },
   "outputs": [],
   "source": [
    "def simplified_trigger_and_read(devices):\n",
    "    def inner():\n",
    "        def read_plan():\n",
    "            reading_from_devices = {}\n",
    "            for device in devices:\n",
    "                reading = yield from read(device)\n",
    "                reading_from_devices.update(reading)\n",
    "            return reading_from_devices\n",
    "        for device in devices:\n",
    "            yield from trigger(device, group='id_for_trigger_group')\n",
    "        yield from wait(group='id_for_trigger_group')\n",
    "        \n",
    "        yield from create('primary')\n",
    "        read_from_devices = yield from read_plan()\n",
    "        yield from save()\n",
    "        return read_from_devices\n",
    "    return (yield from inner())"
   ]
  },
  {
   "cell_type": "code",
   "execution_count": null,
   "id": "3c287fa3-c199-45cc-8a46-cdb5a0e77034",
   "metadata": {},
   "outputs": [],
   "source": [
    "def my_simple_plan(detectors, reading_plan=None):\n",
    "    yield from open_run()\n",
    "    if reading_plan is None:\n",
    "        yield from trigger_and_read(detectors)\n",
    "    else:\n",
    "        yield from reading_plan(detectors)\n",
    "    yield from close_run()"
   ]
  },
  {
   "cell_type": "code",
   "execution_count": null,
   "id": "c4156fa2-8e2b-4b9a-a730-3cc9a37e9ea6",
   "metadata": {},
   "outputs": [],
   "source": [
    "RE(my_simple_plan([det1], simplified_trigger_and_read))"
   ]
  },
  {
   "cell_type": "code",
   "execution_count": null,
   "id": "d97b46ac-640f-433c-9788-30a8ec300c6e",
   "metadata": {},
   "outputs": [],
   "source": [
    "RE(my_simple_plan([det1]))"
   ]
  },
  {
   "cell_type": "code",
   "execution_count": null,
   "id": "4c418da5-8add-40ce-8fb5-a6296b05d4b5",
   "metadata": {},
   "outputs": [],
   "source": [
    "def my_total_custom_per_step(detectors, step, pos_cache, multi_triger_num=1):\n",
    "    motors = step.keys()\n",
    "    yield from move_per_step(step, pos_cache) # Já tem um checkpoint inserido!\n",
    "    for i in range(multi_triger_num):\n",
    "        yield from simplified_trigger_and_read(list(detectors) + list(motors))"
   ]
  },
  {
   "cell_type": "code",
   "execution_count": null,
   "id": "86a9f023-6b43-4795-9790-bf2f6522a9dc",
   "metadata": {},
   "outputs": [],
   "source": [
    "uid, = RE(scan([i0], motor1, -10, 10, 100, per_step=partial(my_total_custom_per_step, multi_triger_num=2)))"
   ]
  },
  {
   "cell_type": "code",
   "execution_count": null,
   "id": "3e15e2e4-ae41-470d-8b1f-3c1300b22b65",
   "metadata": {},
   "outputs": [],
   "source": [
    "RE.stop()"
   ]
  },
  {
   "cell_type": "code",
   "execution_count": null,
   "id": "fc0864f1-71c4-4470-9392-7d7fca8a12c4",
   "metadata": {},
   "outputs": [],
   "source": [
    "bec.peaks"
   ]
  },
  {
   "cell_type": "code",
   "execution_count": null,
   "id": "312137e1-e37c-4ae6-8226-bff37a284f8c",
   "metadata": {},
   "outputs": [],
   "source": []
  }
 ],
 "metadata": {
  "kernelspec": {
   "display_name": "Python 3 (ipykernel)",
   "language": "python",
   "name": "python3"
  },
  "language_info": {
   "codemirror_mode": {
    "name": "ipython",
    "version": 3
   },
   "file_extension": ".py",
   "mimetype": "text/x-python",
   "name": "python",
   "nbconvert_exporter": "python",
   "pygments_lexer": "ipython3",
   "version": "3.10.12"
  }
 },
 "nbformat": 4,
 "nbformat_minor": 5
}
