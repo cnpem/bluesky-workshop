{
 "cells": [
  {
   "cell_type": "markdown",
   "id": "94640fc1-d5bc-4cb2-a753-512c8900abb3",
   "metadata": {
    "slideshow": {
     "slide_type": "slide"
    }
   },
   "source": [
    "### Classe\n",
    "#### Uma classe é um modelo ou molde a partir do qual objetos são criados, mas não é um objeto. É um tipo de dado definido pelo usuário."
   ]
  },
  {
   "cell_type": "code",
   "execution_count": null,
   "id": "00df97a2-81c6-4aa2-9b2f-d71b70a37283",
   "metadata": {
    "slideshow": {
     "slide_type": "fragment"
    }
   },
   "outputs": [],
   "source": [
    "class Device:\n",
    "    name = 'i0'\n",
    "    value = 1000\n",
    "    prefix = 'TEST:DEVICE:'"
   ]
  },
  {
   "cell_type": "markdown",
   "id": "0fcc5ede-7d64-42f9-ae91-664862fd663f",
   "metadata": {
    "slideshow": {
     "slide_type": "fragment"
    }
   },
   "source": [
    "### Objeto\n",
    "#### Um objeto é um \"pacote\" de software que possui estado e comportamento. Objetos são instâncias das classes, seu comportamento e estado são definidos pela classe."
   ]
  },
  {
   "cell_type": "code",
   "execution_count": null,
   "id": "dc0cdade-5ff0-4f95-a2d1-8bb924d84a89",
   "metadata": {
    "slideshow": {
     "slide_type": "fragment"
    }
   },
   "outputs": [],
   "source": [
    "detector = Device()"
   ]
  },
  {
   "cell_type": "markdown",
   "id": "9c97a457-cb5b-4d9c-ad70-6610bb3769b6",
   "metadata": {
    "slideshow": {
     "slide_type": "slide"
    }
   },
   "source": [
    "#### Com o objeto é possível acessar atributos, como name ou prefix"
   ]
  },
  {
   "cell_type": "code",
   "execution_count": null,
   "id": "2ccfaf7a-4cb1-4c24-be9f-f9cd2abd2324",
   "metadata": {
    "slideshow": {
     "slide_type": "fragment"
    }
   },
   "outputs": [],
   "source": [
    "detector.name"
   ]
  },
  {
   "cell_type": "code",
   "execution_count": null,
   "id": "a48a6067-3471-4900-8b7d-e092cb910990",
   "metadata": {
    "slideshow": {
     "slide_type": "fragment"
    }
   },
   "outputs": [],
   "source": [
    "detector.prefix"
   ]
  },
  {
   "cell_type": "markdown",
   "id": "d8d32e24-728d-4680-a240-ad138fac51b1",
   "metadata": {
    "slideshow": {
     "slide_type": "slide"
    }
   },
   "source": [
    "### Construtor\n",
    "#### É possível definir os atributos na inicialização do objeto, utilizando o init"
   ]
  },
  {
   "cell_type": "code",
   "execution_count": null,
   "id": "c6dd29e5-1b59-4449-b118-4b6db9f2f025",
   "metadata": {
    "slideshow": {
     "slide_type": "fragment"
    }
   },
   "outputs": [],
   "source": [
    "class Detector:\n",
    "    def __init__(self, name, prefix):\n",
    "        self.name = name\n",
    "        self.prefix = prefix\n",
    "        "
   ]
  },
  {
   "cell_type": "code",
   "execution_count": null,
   "id": "4dd29486-2d96-47f9-a324-e5311d3d90af",
   "metadata": {
    "slideshow": {
     "slide_type": "fragment"
    }
   },
   "outputs": [],
   "source": [
    "detector2 = Detector('i1', 'TEST:DETECTOR:')"
   ]
  },
  {
   "cell_type": "code",
   "execution_count": null,
   "id": "72e98ddc-a1fd-44f6-af15-1e3ee403829d",
   "metadata": {
    "slideshow": {
     "slide_type": "fragment"
    }
   },
   "outputs": [],
   "source": [
    "detector2.name"
   ]
  },
  {
   "cell_type": "code",
   "execution_count": null,
   "id": "59c17283-eac5-4272-9c24-df09b4087334",
   "metadata": {
    "slideshow": {
     "slide_type": "fragment"
    }
   },
   "outputs": [],
   "source": [
    "detector2.prefix"
   ]
  },
  {
   "cell_type": "markdown",
   "id": "ad79dea6-7867-4918-a38c-d40c93a7c9fa",
   "metadata": {
    "slideshow": {
     "slide_type": "slide"
    }
   },
   "source": [
    "### Herança e interfaces\n",
    "\n",
    "### Considere o seguinte problema: \n",
    "Com o que aprendemos até agora podemos implementar um simples sistema de aquisição de devices. Basicamente a classe Beamline tem atributos que representam uma lista de seus dispositivos. É possível representar cada dispositivo por uma classe que implementa seus métodos de aquisição de dados.\n",
    "\n",
    "A classe Beamline é responsável por: \n",
    "\n",
    "Adicionar os devices, listar todos os devices e adquirir cada detector."
   ]
  },
  {
   "cell_type": "code",
   "execution_count": null,
   "id": "f34cc23c-394e-463a-98e6-7641da213bd8",
   "metadata": {
    "slideshow": {
     "slide_type": "slide"
    }
   },
   "outputs": [],
   "source": [
    "class Photodiode:\n",
    "    def __init__(self, name):\n",
    "        self.name = name\n",
    "    \n",
    "    def acquire(self):\n",
    "        print(0.9)  \n",
    "\n",
    "class IonChamber:\n",
    "    def __init__(self, name):\n",
    "        self.name = name\n",
    "    \n",
    "    def measure(self):\n",
    "        print(0.75)\n",
    "\n",
    "class FluoDetector:\n",
    "    def __init__(self, name):\n",
    "        self.name = name\n",
    "    \n",
    "    def trigger_and_read(self):\n",
    "        print(0.0)\n",
    "        \n",
    "        \n",
    "\n",
    "            "
   ]
  },
  {
   "cell_type": "code",
   "execution_count": null,
   "id": "92f8e314",
   "metadata": {
    "slideshow": {
     "slide_type": "slide"
    }
   },
   "outputs": [],
   "source": [
    "class Beamline:\n",
    "    def __init__(self, name):\n",
    "        self.name = name\n",
    "        self.photodiodes = []\n",
    "        self.ionchambers = []\n",
    "        self.fluodetectors = []\n",
    "\n",
    "    def add_fluodetector(self, fluodetector):\n",
    "        self.fluodetectors.append(fluodetector)\n",
    "\n",
    "    def add_photodiode(self, photodiode):\n",
    "        self.photodiodes.append(photodiode)\n",
    "\n",
    "    def add_ionchambers(self, ionchambers):\n",
    "        self.ionchambers.append(ionchambers)\n",
    "    \n",
    "    def get_devices(self):\n",
    "        device_list = []\n",
    "        device_list.extend(self.photodiodes)\n",
    "        device_list.extend(self.ionchambers)\n",
    "        device_list.extend(self.fluodetectors)\n",
    "        return device_list\n",
    "\n",
    "    def acquire_all(self):\n",
    "        list_of_devices = self.get_devices()\n",
    "        for device in list_of_devices:\n",
    "            if isinstance(device, FluoDetector):\n",
    "                device.trigger_and_read()\n",
    "            if isinstance(device, IonChamber):\n",
    "                device.measure()\n",
    "            if isinstance(device, Photodiode):\n",
    "                device.acquire()"
   ]
  },
  {
   "cell_type": "markdown",
   "id": "44b93aae-fffe-4377-8098-0fa4f76c2c7c",
   "metadata": {
    "slideshow": {
     "slide_type": "slide"
    }
   },
   "source": [
    "#### Diagrama:\n",
    "\n",
    "<div align=\"center\">\n",
    "  <img src=\"images/case1.png\" alt=\"Diagrama de classes, a classe Beamline depende de Admins, Programmers e Designers\" title=\"Diagrama de classes em UML\">\n",
    "</div>\n",
    "\n",
    "\n",
    "\n",
    "### Note que a implementação da classe empresa **depende** explicitamente das classes: Photodiode, IonChamber e FluoDetector. Além disso, o fluxo de controle é de Beamline para os dispositivos, quais implicações essa implementação pode causar?"
   ]
  },
  {
   "cell_type": "code",
   "execution_count": null,
   "id": "abfffd55-2772-4a95-86a7-300a03e58320",
   "metadata": {
    "slideshow": {
     "slide_type": "slide"
    }
   },
   "outputs": [],
   "source": [
    "my_Beamline = Beamline('Quati')"
   ]
  },
  {
   "cell_type": "code",
   "execution_count": null,
   "id": "3e125166-c778-4c93-8643-54c34c5444bf",
   "metadata": {
    "slideshow": {
     "slide_type": "fragment"
    }
   },
   "outputs": [],
   "source": [
    "i0 = Photodiode('I0')\n",
    "it = IonChamber('I1')\n",
    "fluo = FluoDetector('Fluo')\n"
   ]
  },
  {
   "cell_type": "code",
   "execution_count": null,
   "id": "c8ea885d-8fef-4565-9e29-a4874d84ac2f",
   "metadata": {
    "slideshow": {
     "slide_type": "fragment"
    }
   },
   "outputs": [],
   "source": [
    "my_Beamline.add_photodiode(i0)\n",
    "my_Beamline.add_fluodetector(fluo)\n",
    "my_Beamline.add_ionchambers(it)"
   ]
  },
  {
   "cell_type": "code",
   "execution_count": null,
   "id": "a1f0586e-d05a-4896-bf5c-d385e86f8e1e",
   "metadata": {
    "slideshow": {
     "slide_type": "fragment"
    }
   },
   "outputs": [],
   "source": [
    "my_Beamline.acquire_all()"
   ]
  },
  {
   "cell_type": "code",
   "execution_count": null,
   "id": "a19eac4b-9436-410f-a1c4-e11a60f8ee6a",
   "metadata": {
    "slideshow": {
     "slide_type": "slide"
    }
   },
   "outputs": [],
   "source": [
    "i2 = IonChamber('I2')"
   ]
  },
  {
   "cell_type": "code",
   "execution_count": null,
   "id": "14ffa2a6-9967-4335-9207-e5f5ad394011",
   "metadata": {
    "slideshow": {
     "slide_type": "fragment"
    }
   },
   "outputs": [],
   "source": [
    "my_Beamline.add_ionchambers(i2)"
   ]
  },
  {
   "cell_type": "code",
   "execution_count": null,
   "id": "d038f013",
   "metadata": {
    "slideshow": {
     "slide_type": "fragment"
    }
   },
   "outputs": [],
   "source": [
    "my_Beamline.acquire_all()"
   ]
  },
  {
   "cell_type": "markdown",
   "id": "8e8905ed-0cac-408e-b9aa-4317281ceaa5",
   "metadata": {
    "slideshow": {
     "slide_type": "slide"
    }
   },
   "source": [
    "Aparentemente nenhuma, já que nosso código está funcionando :). Porém, considere que há a necessidade de implementar um novo tipo de device. Para isso será necessário modificar o código de \"Beamline\", que no nosso caso já está funcionando perfeitamente. Além disso será necessário criar uma nova classe de dispositivo.\n",
    "\n",
    "Isso ocorre pois nossas dependencias apontam no mesmo sentido do fluxo de controle. É possível inverter as dependências considerando uma classe intermediária:"
   ]
  },
  {
   "cell_type": "markdown",
   "id": "c8c127de-85e8-4ce4-bec8-9542c26c92d6",
   "metadata": {
    "slideshow": {
     "slide_type": "fragment"
    }
   },
   "source": [
    "#### Revertendo as dependencias"
   ]
  },
  {
   "cell_type": "code",
   "execution_count": null,
   "id": "492e0255-4cbb-4834-9d1c-93ce659b3b51",
   "metadata": {
    "slideshow": {
     "slide_type": "slide"
    }
   },
   "outputs": [],
   "source": [
    "class Device:   \n",
    "    def read(self):\n",
    "        raise NotImplementedError('Each device must implement its own method to read.')"
   ]
  },
  {
   "cell_type": "code",
   "execution_count": null,
   "id": "c21af4fa-d8dc-4c24-9124-b07608bf301a",
   "metadata": {
    "slideshow": {
     "slide_type": "fragment"
    }
   },
   "outputs": [],
   "source": [
    "class Photodiode(Device):\n",
    "    def __init__(self, name):\n",
    "        self.name = name\n",
    "    \n",
    "    def read(self):\n",
    "        print(0.9*2)\n",
    "\n",
    "class IonChamber(Device):\n",
    "    def __init__(self, name):\n",
    "        self.name = name\n",
    "        \n",
    "    def read(self):\n",
    "        print(0.7*5)"
   ]
  },
  {
   "cell_type": "code",
   "execution_count": null,
   "id": "142729f9-2ca2-44ab-9178-56731e60de49",
   "metadata": {
    "slideshow": {
     "slide_type": "slide"
    }
   },
   "outputs": [],
   "source": [
    "class MyBeamline:\n",
    "    def __init__(self, name):\n",
    "        self.name = name\n",
    "        self.devices = []\n",
    "    \n",
    "    def add_device(self, device):\n",
    "        self.devices.append(device)\n",
    "\n",
    "    def get_devices(self):\n",
    "        return self.devices\n",
    "\n",
    "    def acquire_all(self):\n",
    "        for device in self.get_devices():\n",
    "            device.read()\n",
    "            "
   ]
  },
  {
   "cell_type": "code",
   "execution_count": null,
   "id": "aaa768bc-6838-43d4-9857-ea94f22284d4",
   "metadata": {
    "slideshow": {
     "slide_type": "slide"
    }
   },
   "outputs": [],
   "source": [
    "my_beamline = MyBeamline('Quati')"
   ]
  },
  {
   "cell_type": "code",
   "execution_count": null,
   "id": "190df6e6-2a83-49ee-a3a5-2b9c8bdd9306",
   "metadata": {
    "slideshow": {
     "slide_type": "fragment"
    }
   },
   "outputs": [],
   "source": [
    "i0 = Photodiode('i0')\n",
    "i2 = IonChamber('i3')"
   ]
  },
  {
   "cell_type": "code",
   "execution_count": null,
   "id": "a5277403-003a-4215-b377-7ee68e014e8b",
   "metadata": {
    "slideshow": {
     "slide_type": "fragment"
    }
   },
   "outputs": [],
   "source": [
    "my_beamline.add_device(i0)\n",
    "my_beamline.add_device(i2)"
   ]
  },
  {
   "cell_type": "code",
   "execution_count": null,
   "id": "8c1ec20d-adfc-4eea-aaaa-fd4f1e9158ca",
   "metadata": {
    "slideshow": {
     "slide_type": "fragment"
    }
   },
   "outputs": [],
   "source": [
    "my_beamline.acquire_all()"
   ]
  },
  {
   "cell_type": "markdown",
   "id": "2169030f-b157-4890-949b-4608c90883d1",
   "metadata": {
    "slideshow": {
     "slide_type": "slide"
    }
   },
   "source": [
    "#### O mesmo vale para caso tenha uma função que utiliza devices, a implementação \"não sabe\" da existência de dispositivos como FluoDetector, IonChamber ou Photodiode. Apenas acredita que estes implementam a interface device."
   ]
  },
  {
   "cell_type": "code",
   "execution_count": null,
   "id": "7a8659ad-10c9-4ae8-bb0b-869995b0bca0",
   "metadata": {
    "slideshow": {
     "slide_type": "fragment"
    }
   },
   "outputs": [],
   "source": [
    "def acquire_devices(devices: Device):\n",
    "    for device in devices:\n",
    "        device.read()"
   ]
  },
  {
   "cell_type": "code",
   "execution_count": null,
   "id": "b8a48a45-4808-4f4c-b999-d155e2cd2039",
   "metadata": {
    "slideshow": {
     "slide_type": "fragment"
    }
   },
   "outputs": [],
   "source": [
    "acquire_devices([i0, i2])"
   ]
  },
  {
   "cell_type": "markdown",
   "id": "a9c4a0d6-3b2f-44da-b28e-e61dbcb14ef6",
   "metadata": {
    "slideshow": {
     "slide_type": "slide"
    }
   },
   "source": [
    "#### E se o dispositivo não implementar a interface?"
   ]
  },
  {
   "cell_type": "code",
   "execution_count": null,
   "id": "94479056-1e5e-4860-b269-2ef4db0c6ef2",
   "metadata": {
    "slideshow": {
     "slide_type": "fragment"
    }
   },
   "outputs": [],
   "source": [
    "class WrongDetector(Device):\n",
    "    def __init__(self, name):\n",
    "        self.name = name"
   ]
  },
  {
   "cell_type": "code",
   "execution_count": null,
   "id": "2a046480-cef1-44d9-8fcd-95f066a6891e",
   "metadata": {
    "slideshow": {
     "slide_type": "fragment"
    }
   },
   "outputs": [],
   "source": [
    "wrongdet = WrongDetector('Teste')\n",
    "acquire_devices([wrongdet])"
   ]
  },
  {
   "cell_type": "markdown",
   "id": "55b2d08d-7363-4eca-838f-c81f876c3d61",
   "metadata": {
    "slideshow": {
     "slide_type": "fragment"
    }
   },
   "source": [
    "#### Podemos prever excessões do tipo NotImplementedError no código do cliente (MyBeamline), caso necessário."
   ]
  },
  {
   "cell_type": "markdown",
   "id": "cedc318f-4b24-494f-a807-98fca91ac8a8",
   "metadata": {
    "jp-MarkdownHeadingCollapsed": true,
    "slideshow": {
     "slide_type": "slide"
    }
   },
   "source": [
    "Note que a implementação também se tornou muito mais simples, no início a classe Beamline precisava conhecer cada um dos tipos de dispositivos, como Photodiodes e IonChamber agora possuem uma interface o código de Beamline é completamente agnóstico a implementações de detectores. De fato, para um novo programador que está vendo esse código pela primeira vez, vai perceber que há uma interface que deve ser implementada, caso ele precise implementar um novo tipo de detector.\n",
    "\n",
    "Diagrama:\n",
    "\n",
    "<div align=\"center\">\n",
    "  <img src=\"images/case2.png\" alt=\"Diagrama de classes, a classe Beamline depende de Admins, Programmers e Designers\" title=\"Diagrama de classes em UML\">\n",
    "</div>"
   ]
  },
  {
   "cell_type": "markdown",
   "id": "9e7a2ff5-eb0b-455f-b580-6bad2d0effe2",
   "metadata": {
    "slideshow": {
     "slide_type": "fragment"
    }
   },
   "source": [
    "#### O que torna isso possível?\n",
    "#### O **polimorfismo**"
   ]
  },
  {
   "cell_type": "markdown",
   "id": "2a094f25-967c-4310-961d-1891fc3b5a79",
   "metadata": {
    "slideshow": {
     "slide_type": "slide"
    }
   },
   "source": [
    "<p style=\"text-align: center\">f(o)</p>\n",
    "\n",
    "<p style=\"text-align: center\">o.f()</p>\n",
    "\n",
    " Na expressão 1 uma função \"f\" sendo chamada sobre um objeto \"o\". Desse modo, assumimos que há apenas uma função chamada \"f\". Por outro lado, na expressão 2, um objeto \"o\" recebe uma chamada de \"f\". Nesse caso (2), podemos esperar que diferentes objetos aceitem a chamada \"f\", portanto, não sabemos exatamente qual comportamento específico de \"f\" está sendo invocado. Assim, o comportamento de \"f\" depende do tipo de \"o\", isto é, é polimórfico."
   ]
  },
  {
   "cell_type": "markdown",
   "id": "8385a24e-f2b8-4e14-ba67-e39fbdb47003",
   "metadata": {
    "slideshow": {
     "slide_type": "fragment"
    }
   },
   "source": [
    "#### No nosso exemplo os objetos \"Device\" se aproveitam do polimorfismo com o método read(), pois é responsabilidade de cada tipo de device realizar o print da aquisição.\n",
    "\n",
    "#### Como MyBeamline depende apenas de Device, a classe não se importa quem está implementando o método read, apenas espera que a classe implemente o método read."
   ]
  },
  {
   "cell_type": "code",
   "execution_count": null,
   "id": "92d0c547-8b7c-46b5-9311-4e849c387b1c",
   "metadata": {},
   "outputs": [],
   "source": []
  }
 ],
 "metadata": {
  "celltoolbar": "Slideshow",
  "kernelspec": {
   "display_name": "Python 3 (ipykernel)",
   "language": "python",
   "name": "python3"
  },
  "language_info": {
   "codemirror_mode": {
    "name": "ipython",
    "version": 3
   },
   "file_extension": ".py",
   "mimetype": "text/x-python",
   "name": "python",
   "nbconvert_exporter": "python",
   "pygments_lexer": "ipython3",
   "version": "3.12.5"
  },
  "rise": {
   "enable_chalkboard": true,
   "scroll": true,
   "start_slideshow_at": "beginning",
   "theme": "sky"
  }
 },
 "nbformat": 4,
 "nbformat_minor": 5
}
