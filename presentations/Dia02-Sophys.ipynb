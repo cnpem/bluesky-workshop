{
 "cells": [
  {
   "cell_type": "markdown",
   "id": "7a82ee19",
   "metadata": {},
   "source": [
    "### Razões para uso de pacotes"
   ]
  },
  {
   "cell_type": "markdown",
   "id": "89f0e69f",
   "metadata": {},
   "source": [
    "Desenvolver pacotes em Python traz uma série de benefícios, tanto para os programadores quanto para a comunidade. A criação de pacotes facilita o compartilhamento e reuso de código. Alguns motivos para o uso e desenvolvimento de pacotes:"
   ]
  },
  {
   "cell_type": "markdown",
   "id": "d9c2217b",
   "metadata": {},
   "source": [
    "- Distribuição facilitada, facilitando a instalação e integração com uso do __pip__;\n",
    "- Ajudam a reutilizar e manter seu código em vários projetos;\n",
    "- Forçam uma organização e documentação;\n",
    "- Isolam dependências;\n",
    "- Podem ser usados para agrupar casos de usos específicos."
   ]
  },
  {
   "cell_type": "markdown",
   "id": "296e84ab",
   "metadata": {},
   "source": [
    "Um exemplo de pacote é o:"
   ]
  },
  {
   "cell_type": "markdown",
   "id": "9c71fa6a",
   "metadata": {},
   "source": [
    "# Sophys-Common"
   ]
  },
  {
   "cell_type": "markdown",
   "id": "e28f46d0",
   "metadata": {},
   "source": [
    "Sophys: Common\n",
    "\n",
    "Sophys: Common is a collection of Bluesky and Ophyd utility code (plans, devices, and other useful stuff) for usage at LNLS/SIRIUS beamlines."
   ]
  },
  {
   "cell_type": "markdown",
   "id": "0695f56f",
   "metadata": {},
   "source": [
    "### Preciso implementar/desenvolver meus próprios dispositivos?\n",
    "\n",
    "Não necessariamente, se seu dispositivo for comum, como fendas, picoamperímetros, motores... É muito provável que esse dispositivo já esteja implementado no Sophys-Common"
   ]
  },
  {
   "cell_type": "code",
   "execution_count": null,
   "id": "b85779f8",
   "metadata": {},
   "outputs": [],
   "source": [
    "from sophys.common.devices import Slit"
   ]
  },
  {
   "cell_type": "code",
   "execution_count": null,
   "id": "8427c255",
   "metadata": {},
   "outputs": [],
   "source": [
    "prefix_slit = 'TEST:MOTORS:' \n",
    "slit_suffixes = {\n",
    "    'top':'m1', \n",
    "    'bottom':'m2', \n",
    "    'left': 'm3', \n",
    "    'right': 'm4', \n",
    "    'v_gap': 'm5',\n",
    "    'h_gap': 'm6',\n",
    "    'v_offset': 'm7',\n",
    "    'h_offset': 'm8'\n",
    "}\n",
    "slit_key = \"my_slit\"\n"
   ]
  },
  {
   "cell_type": "code",
   "execution_count": null,
   "id": "d3c77203",
   "metadata": {},
   "outputs": [],
   "source": [
    "my_slit = Slit(\n",
    "    prefix_slit, \n",
    "    name=slit_key, \n",
    "    **slit_suffixes\n",
    "    )\n"
   ]
  },
  {
   "cell_type": "code",
   "execution_count": null,
   "id": "d3863a17",
   "metadata": {},
   "outputs": [],
   "source": [
    "my_slit.summary()"
   ]
  },
  {
   "cell_type": "markdown",
   "id": "dab354a3",
   "metadata": {},
   "source": [
    "### E se meu device ou plano for específico da linha de luz?\n",
    "- [Sophys-EMA](https://gitlab.cnpem.br/BEAMLINES/EMA/bluesky/sophys-ema)\n",
    "- [Sophys-QUA](https://gitlab.cnpem.br/BEAMLINES/QUATI/bluesky/sophys-qua)\n",
    "- [Sophys-SPU](https://gitlab.cnpem.br/BEAMLINES/SAPUCAIA/bluesky/sophys-spu)\n",
    "- [Sophys-SAB](https://gitlab.cnpem.br/BEAMLINES/SABIA/bluesky/sophys-sab)\n",
    "- [Sophys-CED](https://gitlab.cnpem.br/BEAMLINES/CEDRO/bluesky/sophys-ced)\n",
    "- [Sophys-MNC](https://gitlab.cnpem.br/BEAMLINES/MANACA/bluesky/sophys-mnc)\n",
    "- [Sophys-CNB](https://gitlab.cnpem.br/BEAMLINES/carnauba/bluesky/sophys-cnb)"
   ]
  },
  {
   "cell_type": "code",
   "execution_count": null,
   "id": "89205344",
   "metadata": {},
   "outputs": [],
   "source": []
  }
 ],
 "metadata": {
  "kernelspec": {
   "display_name": "Python 3 (ipykernel)",
   "language": "python",
   "name": "python3"
  },
  "language_info": {
   "codemirror_mode": {
    "name": "ipython",
    "version": 3
   },
   "file_extension": ".py",
   "mimetype": "text/x-python",
   "name": "python",
   "nbconvert_exporter": "python",
   "pygments_lexer": "ipython3",
   "version": "3.12.5"
  }
 },
 "nbformat": 4,
 "nbformat_minor": 5
}
