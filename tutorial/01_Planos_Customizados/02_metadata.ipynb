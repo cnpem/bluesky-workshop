{
 "cells": [
  {
   "cell_type": "code",
   "execution_count": null,
   "id": "8a2a4682",
   "metadata": {
    "slideshow": {
     "slide_type": "slide"
    }
   },
   "outputs": [],
   "source": [
    "from bluesky import RunEngine\n",
    "from bluesky.callbacks import LiveTable\n",
    "from bluesky.plans import scan, count\n",
    "from bluesky.plan_stubs import mv, open_run, close_run, create, \\\n",
    "    save, drop, rd, trigger, trigger_and_read, declare_stream\n",
    "from ophyd.sim import det1, noisy_det, motor1, flyer1, flyer2\n",
    "from databroker import Broker\n",
    "from matplotlib.pyplot import ion\n",
    "from bluesky.utils import install_nb_kicker\n",
    "from bluesky.callbacks.best_effort import BestEffortCallback\n",
    "from pprint import pprint\n",
    "from IPython.display import display\n",
    "from bluesky.preprocessors import subs_decorator, baseline_decorator, monitor_during_decorator, fly_during_decorator\n",
    "install_nb_kicker()\n",
    "\n",
    "ion()\n",
    "RE = RunEngine()\n",
    "\n",
    "db = Broker.named('temp')\n",
    "RE.subscribe(db.insert)\n",
    "bec = BestEffortCallback()\n",
    "RE.subscribe(bec)\n",
    "bec.disable_plots()"
   ]
  },
  {
   "cell_type": "markdown",
   "id": "d2fc3d41",
   "metadata": {
    "slideshow": {
     "slide_type": "slide"
    }
   },
   "source": [
    "## Documents"
   ]
  },
  {
   "cell_type": "markdown",
   "id": "d44fc773-e900-4e59-a39a-cd38ce1dbdde",
   "metadata": {
    "slideshow": {
     "slide_type": "fragment"
    }
   },
   "source": [
    "Um dos principais objetivos do Bluesky é habilitar a coleta de dados e metadados. A meneira que ele faz isso é através dos **Documentos**."
   ]
  },
  {
   "cell_type": "markdown",
   "id": "3cb3aac4-7f6f-4593-991e-4ee3b65796c2",
   "metadata": {
    "slideshow": {
     "slide_type": "fragment"
    }
   },
   "source": [
    "Documentos são basicamente dicionários em Python com um esquema definido, ou seja, é um dicionário organizado de uma maneira específica e documentada. Esses **documentos** são gerados pela RunEngine durante a execução de planos e todos os dados e metadados estão organizados dentro dos **Documentos**."
   ]
  },
  {
   "cell_type": "markdown",
   "id": "a3c47ea9-aab1-4051-b58f-35bc025b7241",
   "metadata": {
    "slideshow": {
     "slide_type": "slide"
    }
   },
   "source": [
    "### Runs e eventos"
   ]
  },
  {
   "cell_type": "markdown",
   "id": "211bad62-6f4e-49b9-b8cf-05181ce8b485",
   "metadata": {
    "slideshow": {
     "slide_type": "fragment"
    }
   },
   "source": [
    "Planos podem gerar dados e metadados, porém como é possível organizar ou agrupar informações em Eventos e Runs?"
   ]
  },
  {
   "cell_type": "code",
   "execution_count": null,
   "id": "9b052f95-4660-48e7-8aab-9b8d75937240",
   "metadata": {
    "slideshow": {
     "slide_type": "fragment"
    }
   },
   "outputs": [],
   "source": [
    "def one_run_one_event():\n",
    "    yield from open_run()\n",
    "    yield from trigger_and_read([det1, noisy_det])\n",
    "    yield from close_run()"
   ]
  },
  {
   "cell_type": "code",
   "execution_count": null,
   "id": "ba4c14d1-084c-41e7-852c-03542ea4ffdd",
   "metadata": {
    "slideshow": {
     "slide_type": "slide"
    }
   },
   "outputs": [],
   "source": [
    "RE(one_run_one_event())"
   ]
  },
  {
   "cell_type": "markdown",
   "id": "7233b17c-f9a4-49ca-9857-ac022b443545",
   "metadata": {
    "slideshow": {
     "slide_type": "fragment"
    }
   },
   "source": [
    "Neste exemplo temos:\n",
    " - Uma tabela (uma Run)\n",
    " - Uma linha (um evento)\n",
    " - Duas colunas (além de seq_num e time), representando os dois detectores"
   ]
  },
  {
   "cell_type": "code",
   "execution_count": null,
   "id": "989c34b7-8b84-4c22-8e71-fd72b4a58150",
   "metadata": {
    "slideshow": {
     "slide_type": "slide"
    }
   },
   "outputs": [],
   "source": [
    "def one_run_n_events():\n",
    "    yield from open_run()\n",
    "    for i in range(4):\n",
    "        yield from trigger_and_read([det1, noisy_det])\n",
    "    yield from close_run()"
   ]
  },
  {
   "cell_type": "code",
   "execution_count": null,
   "id": "3075f353-e9cc-4064-8df9-7c5f7f3b1064",
   "metadata": {
    "slideshow": {
     "slide_type": "fragment"
    }
   },
   "outputs": [],
   "source": [
    "RE(one_run_n_events())"
   ]
  },
  {
   "cell_type": "markdown",
   "id": "15ceaf16-0404-47d0-ab76-7b4309f931ac",
   "metadata": {
    "slideshow": {
     "slide_type": "fragment"
    }
   },
   "source": [
    "Neste exemplo temos:\n",
    " - Uma tabela (uma Run)\n",
    " - Quatro linhas (quatro eventos)\n",
    " - Duas colunas (além de seq_num e time), representando os dois detectores"
   ]
  },
  {
   "cell_type": "code",
   "execution_count": null,
   "id": "ffa2beb2-fc64-4248-82ec-bb05f23165d5",
   "metadata": {
    "slideshow": {
     "slide_type": "slide"
    }
   },
   "outputs": [],
   "source": [
    "def multi_run():\n",
    "    for i in range(2):\n",
    "        yield from one_run_n_events()"
   ]
  },
  {
   "cell_type": "code",
   "execution_count": null,
   "id": "0bba8552-93fe-4135-8cde-232570f225b5",
   "metadata": {
    "slideshow": {
     "slide_type": "fragment"
    }
   },
   "outputs": [],
   "source": [
    "RE(multi_run())"
   ]
  },
  {
   "cell_type": "markdown",
   "id": "4c28f3b0-8491-4343-b8d0-c776217547f8",
   "metadata": {
    "slideshow": {
     "slide_type": "fragment"
    }
   },
   "source": [
    "Neste exemplo temos:\n",
    " - Duas tabelas (duas Runs)\n",
    " - Quatro linhas (quatro eventos por Run)\n",
    " - Duas colunas (além de seq_num e time), representando os dois detectores\n",
    "\n",
    "   \n",
    "Além disso, agora o retorno da função é uma tupla com multiplos uids, cada um relacionado com uma Run"
   ]
  },
  {
   "cell_type": "markdown",
   "id": "c50ae13f-da2c-4f0a-a660-41a3dae8a176",
   "metadata": {
    "slideshow": {
     "slide_type": "fragment"
    }
   },
   "source": [
    "A definição de uma Run é flexível, pois tudo depende de como você gostaria de organizar seus dados, seja para coleta ou análise."
   ]
  },
  {
   "cell_type": "markdown",
   "id": "75267edf-6ef3-4a34-a30c-652395decb18",
   "metadata": {
    "slideshow": {
     "slide_type": "slide"
    }
   },
   "source": [
    "#### Streams"
   ]
  },
  {
   "cell_type": "markdown",
   "id": "0dd58367-650d-4b21-9c4c-3474e6f6b3ed",
   "metadata": {
    "slideshow": {
     "slide_type": "fragment"
    }
   },
   "source": [
    "No bluesky, as streams são fluxos de dados gerados durante uma execução de um plano. De maneira geral, cada stream contém um conjunto de dados e metadados associados a fases específicas de um experimento, por exemplo. "
   ]
  },
  {
   "cell_type": "markdown",
   "id": "5c975401-aaa4-48df-8dab-76c3a0816f36",
   "metadata": {
    "slideshow": {
     "slide_type": "fragment"
    }
   },
   "source": [
    "Os fluxos de dados são organizados nos __event documents__ enviados pela RunEngine durante a execução de um plano"
   ]
  },
  {
   "cell_type": "markdown",
   "id": "2fcec4b4-16e0-414c-85f1-1b12e75a2cc8",
   "metadata": {
    "slideshow": {
     "slide_type": "slide"
    }
   },
   "source": [
    "### Documentos de uma Run"
   ]
  },
  {
   "cell_type": "markdown",
   "id": "a06df9e1-074c-40d4-a838-e59dd02a4421",
   "metadata": {
    "slideshow": {
     "slide_type": "fragment"
    }
   },
   "source": [
    "#### O Start Document\n",
    "O Start document contém informações de metadados no início da run:\n",
    "- time - Tempo de início do plano\n",
    "- plan_name - Nome do plano\n",
    "- uid - ID único de identificação da Run\n",
    "- scan_id - id \"mais amigável\", porém não é necessáriamente único\n",
    "- metadados"
   ]
  },
  {
   "cell_type": "code",
   "execution_count": null,
   "id": "6119c6b4-080d-487e-ac66-80dba4918882",
   "metadata": {
    "slideshow": {
     "slide_type": "slide"
    }
   },
   "outputs": [],
   "source": [
    "uid, = RE(scan([det1, noisy_det], motor1, 0, 10, 6))"
   ]
  },
  {
   "cell_type": "code",
   "execution_count": null,
   "id": "7a2d5775-f5c1-4199-82b8-c0da0fcc0a58",
   "metadata": {
    "slideshow": {
     "slide_type": "fragment"
    }
   },
   "outputs": [],
   "source": [
    "last_run = db[uid]"
   ]
  },
  {
   "cell_type": "code",
   "execution_count": null,
   "id": "fd65ef7e-b993-4c13-b4a8-dff75aec9b16",
   "metadata": {
    "slideshow": {
     "slide_type": "fragment"
    }
   },
   "outputs": [],
   "source": [
    "last_run.start"
   ]
  },
  {
   "cell_type": "markdown",
   "id": "a3c90377-3283-439a-a44a-09ba4f5da57b",
   "metadata": {
    "slideshow": {
     "slide_type": "slide"
    }
   },
   "source": [
    "#### O Event Document\n",
    "Vão guardar informações de um ou mais eventos:"
   ]
  },
  {
   "cell_type": "code",
   "execution_count": null,
   "id": "a4100236-56e1-4b86-8696-ad795183fcea",
   "metadata": {
    "slideshow": {
     "slide_type": "fragment"
    }
   },
   "outputs": [],
   "source": [
    "for event in last_run.events():\n",
    "    display(event)\n",
    "    break"
   ]
  },
  {
   "cell_type": "code",
   "execution_count": null,
   "id": "1c77ded8-c7a9-42f8-a30c-c49f2958f9a1",
   "metadata": {
    "slideshow": {
     "slide_type": "slide"
    }
   },
   "outputs": [],
   "source": [
    "pprint(event.to_name_dict_pair())"
   ]
  },
  {
   "cell_type": "markdown",
   "id": "f3397bf4-64ac-4e9a-a28c-16673af0c3a9",
   "metadata": {
    "slideshow": {
     "slide_type": "slide"
    }
   },
   "source": [
    "#### O Stop Document"
   ]
  },
  {
   "cell_type": "code",
   "execution_count": null,
   "id": "9cc3b19a-0222-4770-8e47-2f3d5a839193",
   "metadata": {
    "slideshow": {
     "slide_type": "fragment"
    }
   },
   "outputs": [],
   "source": [
    "last_run.stop"
   ]
  },
  {
   "cell_type": "markdown",
   "id": "b3942a2f-dcda-4377-b152-6d99a8a128cc",
   "metadata": {
    "slideshow": {
     "slide_type": "slide"
    }
   },
   "source": [
    "#### Event Descriptor"
   ]
  },
  {
   "cell_type": "markdown",
   "id": "f05af634-f625-440c-80a6-f370360c6043",
   "metadata": {
    "slideshow": {
     "slide_type": "fragment"
    }
   },
   "source": [
    "É um documento que descreve a estrutura dos dados colatados. Servem para organizar os dados e facilitar a interpretação de informações."
   ]
  },
  {
   "cell_type": "markdown",
   "id": "5aa90da3-1dfe-4fb3-8cb7-a4b6bf2441d8",
   "metadata": {
    "slideshow": {
     "slide_type": "slide"
    }
   },
   "source": [
    "##### Data Key\n",
    "Metadados de cada __data key__"
   ]
  },
  {
   "cell_type": "code",
   "execution_count": null,
   "id": "40bc4693-3719-4b50-973e-40a3e9a65c9e",
   "metadata": {
    "slideshow": {
     "slide_type": "fragment"
    }
   },
   "outputs": [],
   "source": [
    "last_run.descriptors[0]['data_keys']"
   ]
  },
  {
   "cell_type": "markdown",
   "id": "df524e8a-96e0-420e-8f0a-7169946b2c4e",
   "metadata": {
    "slideshow": {
     "slide_type": "slide"
    }
   },
   "source": [
    "##### Object Keys\n",
    "Object keys fornecem informações de como relacionar cada dispositivo com suas data keys. É útil quando uim dispositivo possui múltiplos data keys. Como no caso do **motor1**"
   ]
  },
  {
   "cell_type": "code",
   "execution_count": null,
   "id": "664eaaeb-3409-43cc-b99a-9bfb7b428035",
   "metadata": {
    "slideshow": {
     "slide_type": "fragment"
    }
   },
   "outputs": [],
   "source": [
    "last_run.descriptors[0]['object_keys']"
   ]
  },
  {
   "cell_type": "markdown",
   "id": "87515559-8879-4f9f-a539-c0e4b653eaa0",
   "metadata": {
    "slideshow": {
     "slide_type": "slide"
    }
   },
   "source": [
    "##### Configuration\n",
    "O configuration permite acessa informaçõe de configuração dos dispotivos, são informações que tipicamente não mudam entre Runs"
   ]
  },
  {
   "cell_type": "code",
   "execution_count": null,
   "id": "f3796ae4-9d0d-4758-ad18-10cec972600b",
   "metadata": {
    "slideshow": {
     "slide_type": "fragment"
    }
   },
   "outputs": [],
   "source": [
    "last_run.descriptors[0]['configuration']"
   ]
  },
  {
   "cell_type": "markdown",
   "id": "e708b2a8-a179-4552-b71e-35e008f309e4",
   "metadata": {
    "slideshow": {
     "slide_type": "slide"
    }
   },
   "source": [
    "### Metadados"
   ]
  },
  {
   "cell_type": "markdown",
   "id": "b0388e66-0980-4dd7-a805-b821655c3f78",
   "metadata": {
    "slideshow": {
     "slide_type": "fragment"
    }
   },
   "source": [
    "Metadados são completamente personalizáveis, dado que sua classificação como dado/metadado é sensível ao contexto da aplicação."
   ]
  },
  {
   "cell_type": "markdown",
   "id": "a20f2e1f-3b7c-4f42-b436-efa14e318c37",
   "metadata": {
    "slideshow": {
     "slide_type": "fragment"
    }
   },
   "source": [
    "Por exemplo, dados que precisamos saber apenas antes do experimento como:\n",
    "- Nome do usuário\n",
    "- Parâmaetros da amostra\n",
    "- Informações da medida\n",
    "\n",
    "Todas essas informações podem estar descritas no **Start Document**. Existem algumas maneiras de adicionar os metadados:"
   ]
  },
  {
   "cell_type": "code",
   "execution_count": null,
   "id": "8907b8db-06ee-487a-af83-fac62f1a42be",
   "metadata": {
    "slideshow": {
     "slide_type": "slide"
    }
   },
   "outputs": [],
   "source": [
    "uid, = RE(count([det1], num=10), sample_name='Agora vai', bl_operator='Alguém', minhas_informacoes='Só um teste...')"
   ]
  },
  {
   "cell_type": "code",
   "execution_count": null,
   "id": "da34ab66-dea2-4aa2-9626-55efbd5ea70c",
   "metadata": {
    "slideshow": {
     "slide_type": "fragment"
    }
   },
   "outputs": [],
   "source": [
    "last_run_with_metadata = db[uid]"
   ]
  },
  {
   "cell_type": "code",
   "execution_count": null,
   "id": "0f435c5e-be9f-4175-8589-9038ee69d738",
   "metadata": {
    "slideshow": {
     "slide_type": "fragment"
    }
   },
   "outputs": [],
   "source": [
    "last_run_with_metadata.start"
   ]
  },
  {
   "cell_type": "markdown",
   "id": "b4ad1259-dc7a-4263-89bb-9b34666ab7c7",
   "metadata": {
    "slideshow": {
     "slide_type": "slide"
    }
   },
   "source": [
    "Planos com múltiplas Runs também vão receber os mesmos metadados:"
   ]
  },
  {
   "cell_type": "code",
   "execution_count": null,
   "id": "d409b59f-732b-4100-ab34-bf115bf4d069",
   "metadata": {
    "slideshow": {
     "slide_type": "fragment"
    }
   },
   "outputs": [],
   "source": [
    "uid_run1, uid_run2, = RE(multi_run(), sample_name='Agora vai', bl_operator='Alguém', minhas_informacoes='Só um teste...')"
   ]
  },
  {
   "cell_type": "code",
   "execution_count": null,
   "id": "9fa9281e-64f5-48c3-bfaa-873c126831b6",
   "metadata": {
    "slideshow": {
     "slide_type": "slide"
    }
   },
   "outputs": [],
   "source": [
    "run1 = db[uid_run1]\n",
    "run2 = db[uid_run2]"
   ]
  },
  {
   "cell_type": "code",
   "execution_count": null,
   "id": "c8cd5a3b-84bc-485c-84dd-affaad2bb0c2",
   "metadata": {
    "slideshow": {
     "slide_type": "fragment"
    }
   },
   "outputs": [],
   "source": [
    "run1.start"
   ]
  },
  {
   "cell_type": "code",
   "execution_count": null,
   "id": "90458df6-653f-44a2-8247-edba70e8c27f",
   "metadata": {
    "slideshow": {
     "slide_type": "fragment"
    }
   },
   "outputs": [],
   "source": [
    "run2.start"
   ]
  },
  {
   "cell_type": "markdown",
   "id": "e1487983-692d-4bda-85f0-f9e6efe038ad",
   "metadata": {
    "slideshow": {
     "slide_type": "slide"
    }
   },
   "source": [
    "Também é possível definir metadados específicos para cada plano, utilizando o parâmetro **md**:"
   ]
  },
  {
   "cell_type": "code",
   "execution_count": null,
   "id": "f19f6ae1-0531-4c3a-a2ba-48a2aecf8e79",
   "metadata": {
    "slideshow": {
     "slide_type": "fragment"
    }
   },
   "outputs": [],
   "source": [
    "def my_multi_run_plan():\n",
    "    yield from scan([det1], motor1, 0, 5, 5, md={'idea': 'find the good region', 'ref': 'Ti'})\n",
    "    yield from count([det1], num=10, md={'purpose': 'stab'})"
   ]
  },
  {
   "cell_type": "code",
   "execution_count": null,
   "id": "48eaaeb9-a9f9-43c7-8258-c93aecfe8e3d",
   "metadata": {
    "slideshow": {
     "slide_type": "fragment"
    }
   },
   "outputs": [],
   "source": [
    "uid1, uid2, = RE(my_multi_run_plan(), RE_metadata={'operator': 'Alguém'}, more_meta={'meta': 'data'})"
   ]
  },
  {
   "cell_type": "code",
   "execution_count": null,
   "id": "37e7ce3f-3596-42d1-9cf7-20fa31ad9287",
   "metadata": {
    "slideshow": {
     "slide_type": "slide"
    }
   },
   "outputs": [],
   "source": [
    "multi1 = db[uid1]\n",
    "multi2 = db[uid2]"
   ]
  },
  {
   "cell_type": "code",
   "execution_count": null,
   "id": "f0b0019b-69ab-4959-a4dc-85caa451ac23",
   "metadata": {
    "slideshow": {
     "slide_type": "fragment"
    }
   },
   "outputs": [],
   "source": [
    "multi1.start"
   ]
  },
  {
   "cell_type": "code",
   "execution_count": null,
   "id": "b1ab4623-bc09-498f-a4d1-450320a4b5f7",
   "metadata": {
    "slideshow": {
     "slide_type": "fragment"
    }
   },
   "outputs": [],
   "source": [
    "multi2.start"
   ]
  },
  {
   "cell_type": "markdown",
   "id": "96842dff-61d2-416a-b496-c3420f154736",
   "metadata": {
    "slideshow": {
     "slide_type": "slide"
    }
   },
   "source": [
    "#### Adicionando metadados para uso repetitivo"
   ]
  },
  {
   "cell_type": "code",
   "execution_count": null,
   "id": "d9341067-2dfc-4fda-809b-a9c365e86f55",
   "metadata": {
    "slideshow": {
     "slide_type": "fragment"
    }
   },
   "outputs": [],
   "source": [
    "RE.md"
   ]
  },
  {
   "cell_type": "code",
   "execution_count": null,
   "id": "b442d433-b480-4de8-b92a-f51a7c48e0fd",
   "metadata": {
    "slideshow": {
     "slide_type": "fragment"
    }
   },
   "outputs": [],
   "source": [
    "RE.md['proposal'] = 20231320"
   ]
  },
  {
   "cell_type": "code",
   "execution_count": null,
   "id": "f089c53b-357b-41d2-9aab-d7a069d9f318",
   "metadata": {
    "slideshow": {
     "slide_type": "fragment"
    }
   },
   "outputs": [],
   "source": [
    "RE.md"
   ]
  },
  {
   "cell_type": "code",
   "execution_count": null,
   "id": "3513ff9c-5751-4547-9a16-b58e9e164076",
   "metadata": {
    "slideshow": {
     "slide_type": "slide"
    }
   },
   "outputs": [],
   "source": [
    "uid, = RE(count([det1], num=10))"
   ]
  },
  {
   "cell_type": "code",
   "execution_count": null,
   "id": "3180c533-64c6-4580-be99-4d6dbb301c31",
   "metadata": {
    "slideshow": {
     "slide_type": "fragment"
    }
   },
   "outputs": [],
   "source": [
    "my_run = db[uid]"
   ]
  },
  {
   "cell_type": "code",
   "execution_count": null,
   "id": "f19fcb1e-5fdf-440f-816b-0cc084fd1b65",
   "metadata": {
    "slideshow": {
     "slide_type": "fragment"
    }
   },
   "outputs": [],
   "source": [
    "my_run.start"
   ]
  },
  {
   "cell_type": "markdown",
   "id": "f3cd8d62-4526-4c5f-a125-af4122f33439",
   "metadata": {
    "slideshow": {
     "slide_type": "slide"
    }
   },
   "source": [
    "#### Configurar validações de presença de metadados"
   ]
  },
  {
   "cell_type": "code",
   "execution_count": null,
   "id": "030840dc-5c83-4e65-a9c0-d02d1726b2f6",
   "metadata": {
    "slideshow": {
     "slide_type": "fragment"
    }
   },
   "outputs": [],
   "source": [
    "def validate_proposal_number(md):\n",
    "    if 'proposal' not in md:\n",
    "        raise ValueError('No proposal number was set!')\n",
    "\n",
    "    if not isinstance(md['proposal'], int):\n",
    "        raise ValueError('Proposal must be int.')"
   ]
  },
  {
   "cell_type": "code",
   "execution_count": null,
   "id": "11ed9879-8605-485b-88d3-2afeb500b3dd",
   "metadata": {
    "slideshow": {
     "slide_type": "fragment"
    }
   },
   "outputs": [],
   "source": [
    "RE.md_validator = validate_proposal_number"
   ]
  },
  {
   "cell_type": "code",
   "execution_count": null,
   "id": "0b1c39a7-efee-4c3f-8452-e620a742db5f",
   "metadata": {
    "slideshow": {
     "slide_type": "fragment"
    }
   },
   "outputs": [],
   "source": [
    "del RE.md['proposal']"
   ]
  },
  {
   "cell_type": "code",
   "execution_count": null,
   "id": "617be807-717e-4c62-b489-dbb466c44836",
   "metadata": {
    "slideshow": {
     "slide_type": "slide"
    }
   },
   "outputs": [],
   "source": [
    "RE(count([det1], num=3))"
   ]
  },
  {
   "cell_type": "code",
   "execution_count": null,
   "id": "76b872ba-27d4-4d84-b8e9-408fa24cb33f",
   "metadata": {
    "slideshow": {
     "slide_type": "fragment"
    }
   },
   "outputs": [],
   "source": [
    "RE(count([det1]), proposal='opa')"
   ]
  },
  {
   "cell_type": "code",
   "execution_count": null,
   "id": "d766314d-32b9-4938-9745-0a57964d49ff",
   "metadata": {
    "slideshow": {
     "slide_type": "slide"
    }
   },
   "outputs": [],
   "source": [
    "RE.md['proposal'] = 20231320"
   ]
  },
  {
   "cell_type": "markdown",
   "id": "93e12f38-8fad-4d9a-aeb5-3184f88396f7",
   "metadata": {
    "slideshow": {
     "slide_type": "slide"
    }
   },
   "source": [
    "### Supplemental Data"
   ]
  },
  {
   "cell_type": "markdown",
   "id": "21498c77-81a0-4d12-8919-70b1a2448d40",
   "metadata": {
    "slideshow": {
     "slide_type": "fragment"
    }
   },
   "source": [
    "O Suplemental Data faz parte dos Blusky Preprocessors, basicamente preprocessors são funções que alteram planos antes de serem executados, permitindo adições de funcionalidades de maneira automática, sem que o usuário precise realizar interferências manuais em cada etapa"
   ]
  },
  {
   "cell_type": "code",
   "execution_count": null,
   "id": "2cbf1fa2-0374-4ac8-a2df-da828ee3f9ef",
   "metadata": {
    "slideshow": {
     "slide_type": "fragment"
    }
   },
   "outputs": [],
   "source": [
    "from bluesky.preprocessors import SupplementalData\n",
    "sd = SupplementalData()\n",
    "RE.preprocessors.append(sd)"
   ]
  },
  {
   "cell_type": "markdown",
   "id": "3d3c6a97-b5a8-4fb2-8834-15a148e00bc6",
   "metadata": {
    "slideshow": {
     "slide_type": "slide"
    }
   },
   "source": [
    "#### Baseline e Monitor"
   ]
  },
  {
   "cell_type": "markdown",
   "id": "a7bc0066-09a8-4442-a207-58b0d145284d",
   "metadata": {
    "slideshow": {
     "slide_type": "fragment"
    }
   },
   "source": [
    "É um conjunto de dispositivos cujas leituras são automaticamente registradas no início e no final de cada experimento. A função baseline serve para garantir a captura de parâmetros críticos (como temperatura, pressão, etc.), permitindo comparar essas variáveis ao longo do tempo e garantir a consistência dos experimentos."
   ]
  },
  {
   "cell_type": "code",
   "execution_count": null,
   "id": "1eb0e744-6826-4147-aed4-3b3ea401e323",
   "metadata": {
    "slideshow": {
     "slide_type": "fragment"
    }
   },
   "outputs": [],
   "source": [
    "sd.baseline = [det1, noisy_det, motor1]"
   ]
  },
  {
   "cell_type": "code",
   "execution_count": null,
   "id": "b2df0047-cfc9-49d7-8212-32220f3cd4fe",
   "metadata": {
    "slideshow": {
     "slide_type": "slide"
    }
   },
   "outputs": [],
   "source": [
    "RE(count([det1], num=3))"
   ]
  },
  {
   "cell_type": "code",
   "execution_count": null,
   "id": "9b4ff1dd-4945-430e-a662-8a0e5e33f330",
   "metadata": {
    "slideshow": {
     "slide_type": "slide"
    }
   },
   "outputs": [],
   "source": [
    "RE(multi_run())"
   ]
  },
  {
   "cell_type": "code",
   "execution_count": null,
   "id": "d640667b-a381-4872-93e7-c96b8547a1fa",
   "metadata": {
    "slideshow": {
     "slide_type": "slide"
    }
   },
   "outputs": [],
   "source": [
    "sd.monitors = [noisy_det]"
   ]
  },
  {
   "cell_type": "code",
   "execution_count": null,
   "id": "4a64dc08-2f1f-4458-aec1-c0d2b0cf42f7",
   "metadata": {
    "slideshow": {
     "slide_type": "fragment"
    }
   },
   "outputs": [],
   "source": [
    "uid_preprocessor, = RE(count([det1], num=6))"
   ]
  },
  {
   "cell_type": "code",
   "execution_count": null,
   "id": "1c3e1925-44c4-499c-a044-fb98e3e67c34",
   "metadata": {
    "slideshow": {
     "slide_type": "fragment"
    }
   },
   "outputs": [],
   "source": [
    "my_preprocessor_info = db[uid_preprocessor]"
   ]
  },
  {
   "cell_type": "code",
   "execution_count": null,
   "id": "56984cb3-2273-4db2-90b4-cb7cede079b3",
   "metadata": {
    "slideshow": {
     "slide_type": "fragment"
    }
   },
   "outputs": [],
   "source": [
    "my_preprocessor_info.stream_names"
   ]
  },
  {
   "cell_type": "code",
   "execution_count": null,
   "id": "c333148f-107b-49ae-a7aa-762a099b4832",
   "metadata": {
    "slideshow": {
     "slide_type": "slide"
    }
   },
   "outputs": [],
   "source": [
    "my_preprocessor_info.table('baseline')"
   ]
  },
  {
   "cell_type": "code",
   "execution_count": null,
   "id": "8eaa63ac-3628-49e5-acfd-4d260f4af2af",
   "metadata": {
    "slideshow": {
     "slide_type": "fragment"
    }
   },
   "outputs": [],
   "source": [
    "my_preprocessor_info.table('noisy_det_monitor')"
   ]
  },
  {
   "cell_type": "markdown",
   "id": "85f0b64f-7561-475a-b794-33267c001534",
   "metadata": {
    "slideshow": {
     "slide_type": "slide"
    }
   },
   "source": [
    "### Callbacks"
   ]
  },
  {
   "cell_type": "markdown",
   "id": "f26b1e39-f4cf-48bc-b4c1-a1c40f8d0b65",
   "metadata": {
    "slideshow": {
     "slide_type": "fragment"
    }
   },
   "source": [
    "A RunEngine, ao executar um plano, organiza dados em matadados em documentos. Cada vez que um documento é criado, a RE passa essa lista de documentos para uma lista de funções."
   ]
  },
  {
   "cell_type": "markdown",
   "id": "6b4ce811-7c78-481c-aa83-02e5374e50e6",
   "metadata": {
    "slideshow": {
     "slide_type": "fragment"
    }
   },
   "source": [
    "Cada função pode ter sua implementação específica, desde salvamento de dados até plots em tempo real."
   ]
  },
  {
   "cell_type": "code",
   "execution_count": null,
   "id": "7932b06e-5688-49dd-9cd0-1443e7ecfd1a",
   "metadata": {
    "slideshow": {
     "slide_type": "slide"
    }
   },
   "outputs": [],
   "source": [
    "RE(count([det1], num=3), print)"
   ]
  },
  {
   "cell_type": "code",
   "execution_count": null,
   "id": "1f6847af-a880-497f-b53b-94378925f3d8",
   "metadata": {
    "slideshow": {
     "slide_type": "fragment"
    }
   },
   "outputs": [],
   "source": [
    "def my_callback(name, doc):\n",
    "    print('From my callback:', name)\n",
    "    print('Docs', doc)"
   ]
  },
  {
   "cell_type": "code",
   "execution_count": null,
   "id": "a45ce831-0d00-4c91-88bb-f3ce9a753226",
   "metadata": {
    "scrolled": true,
    "slideshow": {
     "slide_type": "slide"
    }
   },
   "outputs": [],
   "source": [
    "RE(count([det1], num=3), my_callback)"
   ]
  },
  {
   "cell_type": "markdown",
   "id": "2975590f-b16f-4df8-abfa-dfeb0ca33dac",
   "metadata": {
    "slideshow": {
     "slide_type": "slide"
    }
   },
   "source": [
    "### Sidequest: Decorators e Wrappers"
   ]
  },
  {
   "cell_type": "markdown",
   "id": "fc2c5101-7bcd-4399-98a5-e0cbf0a6120f",
   "metadata": {
    "slideshow": {
     "slide_type": "fragment"
    }
   },
   "source": [
    "Em Python, decorators são funções que podem modificar o comportamento de outras funções e métodos de classes, sem necessáriamente modificar o código-fonte delas. Na prática são utilizados para adicionar funcionalidades antes e depois de uma função.\n",
    "\n",
    "Já um wrapper é uma função interna, como o __wrapper()__ no exemplo abaixo. Ele envolve a função original e permite a adição de comportamentos adicionais ao redor da execução da função decorada. Note que o decorator recebe a função como argumento e retorna uma nova função, isto é, decorator != wrapper!"
   ]
  },
  {
   "cell_type": "code",
   "execution_count": null,
   "id": "788e0cb8-d808-4551-890c-5c3a756b8ee1",
   "metadata": {
    "slideshow": {
     "slide_type": "slide"
    }
   },
   "outputs": [],
   "source": [
    "def my_decorator(function):\n",
    "    def wrapper():\n",
    "        print('Antes')\n",
    "        function()\n",
    "        print('Depois')\n",
    "    return wrapper"
   ]
  },
  {
   "cell_type": "code",
   "execution_count": null,
   "id": "1217e5a5-6d60-4334-ad47-ea66cb5b9845",
   "metadata": {
    "slideshow": {
     "slide_type": "fragment"
    }
   },
   "outputs": [],
   "source": [
    "@my_decorator\n",
    "def my_func():\n",
    "    print('Olá pessoal')"
   ]
  },
  {
   "cell_type": "code",
   "execution_count": null,
   "id": "e4341553-a792-4adb-8732-3f7700e3e329",
   "metadata": {
    "slideshow": {
     "slide_type": "fragment"
    }
   },
   "outputs": [],
   "source": [
    "my_func()"
   ]
  },
  {
   "cell_type": "markdown",
   "id": "d7f21fb4-ca25-4814-ab40-4b402018ce50",
   "metadata": {
    "slideshow": {
     "slide_type": "slide"
    }
   },
   "source": [
    "#### Callbacks"
   ]
  },
  {
   "cell_type": "markdown",
   "id": "d739d511-973c-4ce0-9c83-a1b5062dcdac",
   "metadata": {
    "slideshow": {
     "slide_type": "fragment"
    }
   },
   "source": [
    "Sabendo o que são decoradores e wrappers, podemos utilizar alguns decoradores disponibilizados pelo Bluesky. Por exemplo, para adicionar callbacks para planos específicos podemos utilizar o subs_decorator "
   ]
  },
  {
   "cell_type": "code",
   "execution_count": null,
   "id": "badefa8a-f4e8-468f-bcc7-b445cd6b0641",
   "metadata": {
    "slideshow": {
     "slide_type": "slide"
    }
   },
   "outputs": [],
   "source": [
    "@subs_decorator(print)\n",
    "def custom_plan():\n",
    "    yield from count([det1], num=10)"
   ]
  },
  {
   "cell_type": "code",
   "execution_count": null,
   "id": "06e1d2ac-07dc-47ad-a1ad-49715b67a9c5",
   "metadata": {
    "slideshow": {
     "slide_type": "fragment"
    }
   },
   "outputs": [],
   "source": [
    "RE(custom_plan())"
   ]
  },
  {
   "cell_type": "markdown",
   "id": "26bbf28a-add0-4efc-9893-3dc440861bad",
   "metadata": {
    "slideshow": {
     "slide_type": "slide"
    }
   },
   "source": [
    "#### Baseline"
   ]
  },
  {
   "cell_type": "code",
   "execution_count": null,
   "id": "09490c52-1266-4274-b962-a47768b9780d",
   "metadata": {
    "slideshow": {
     "slide_type": "fragment"
    }
   },
   "outputs": [],
   "source": [
    "sd.baseline = []\n",
    "sd.monitor = []"
   ]
  },
  {
   "cell_type": "code",
   "execution_count": null,
   "id": "746f5223-da26-4ebe-919e-845beb54b1f5",
   "metadata": {
    "slideshow": {
     "slide_type": "fragment"
    }
   },
   "outputs": [],
   "source": [
    "@baseline_decorator([noisy_det])\n",
    "def my_simple_plan():\n",
    "    yield from scan([det1], motor1, 0, 10, 10)"
   ]
  },
  {
   "cell_type": "code",
   "execution_count": null,
   "id": "bb606548-bc62-47bc-8a64-8914810f6c43",
   "metadata": {
    "slideshow": {
     "slide_type": "slide"
    }
   },
   "outputs": [],
   "source": [
    "RE(my_simple_plan())"
   ]
  },
  {
   "cell_type": "markdown",
   "id": "add19448-21fd-4903-8b51-682377e93d50",
   "metadata": {
    "slideshow": {
     "slide_type": "fragment"
    }
   },
   "source": [
    "Exemplo mais complexo"
   ]
  },
  {
   "cell_type": "code",
   "execution_count": null,
   "id": "4440dc82-7276-4225-8ba6-4cfa99fbdd66",
   "metadata": {
    "slideshow": {
     "slide_type": "fragment"
    }
   },
   "outputs": [],
   "source": [
    "def my_other_plan():\n",
    "    @baseline_decorator([noisy_det, motor1])\n",
    "    def inner():\n",
    "        yield from count([det1], num=2)\n",
    "        yield from scan([det1], motor1, 0, 10, 10)\n",
    "    yield from inner()"
   ]
  },
  {
   "cell_type": "code",
   "execution_count": null,
   "id": "a2b2921f-8d01-47f9-9372-54f06b5092d0",
   "metadata": {
    "slideshow": {
     "slide_type": "slide"
    }
   },
   "outputs": [],
   "source": [
    "RE(my_other_plan())"
   ]
  },
  {
   "cell_type": "markdown",
   "id": "78342215-8bfe-4305-9428-736459935b13",
   "metadata": {
    "slideshow": {
     "slide_type": "slide"
    }
   },
   "source": [
    "#### Monitor"
   ]
  },
  {
   "cell_type": "code",
   "execution_count": null,
   "id": "d0a308ce-5a5d-44b1-8fab-b816c61b769c",
   "metadata": {
    "slideshow": {
     "slide_type": "fragment"
    }
   },
   "outputs": [],
   "source": [
    "def my_monitor_plan():\n",
    "    \n",
    "    @monitor_during_decorator([det1])\n",
    "    def inner():\n",
    "        yield from scan([noisy_det], motor1, 0, 10, 10)\n",
    "        yield from mv(motor1, 20)\n",
    "    yield from inner()\n"
   ]
  },
  {
   "cell_type": "code",
   "execution_count": null,
   "id": "0dfcf9bd-0727-4dfa-a074-95e58e9d58f1",
   "metadata": {
    "slideshow": {
     "slide_type": "slide"
    }
   },
   "outputs": [],
   "source": [
    "uid, = RE(my_monitor_plan())"
   ]
  },
  {
   "cell_type": "code",
   "execution_count": null,
   "id": "69b07f2f-27e7-4a21-8c0b-b87384e3e36d",
   "metadata": {
    "slideshow": {
     "slide_type": "fragment"
    }
   },
   "outputs": [],
   "source": [
    "monitor = db[uid]"
   ]
  },
  {
   "cell_type": "code",
   "execution_count": null,
   "id": "4d313b46-7a21-49be-b952-46c541fcda3c",
   "metadata": {
    "slideshow": {
     "slide_type": "fragment"
    }
   },
   "outputs": [],
   "source": [
    "monitor.table('det1_monitor')"
   ]
  },
  {
   "cell_type": "markdown",
   "id": "d2491b9a-97a9-4f4d-8afe-c4bd4384ef29",
   "metadata": {
    "slideshow": {
     "slide_type": "slide"
    }
   },
   "source": [
    "#### Fly"
   ]
  },
  {
   "cell_type": "markdown",
   "id": "927e06cf-d4c6-4628-8832-8349cc76a142",
   "metadata": {
    "slideshow": {
     "slide_type": "fragment"
    }
   },
   "source": [
    "Executa o __kickoff__ durante uma Run"
   ]
  },
  {
   "cell_type": "code",
   "execution_count": null,
   "id": "a2274755-2048-4caf-98d1-2be49541992f",
   "metadata": {
    "slideshow": {
     "slide_type": "fragment"
    }
   },
   "outputs": [],
   "source": [
    "@fly_during_decorator([flyer1, flyer2])\n",
    "def fly_plan_with_scan():\n",
    "    yield from scan([noisy_det], motor1, 0, 10, 10)\n",
    "    yield from mv(motor1, 20)\n"
   ]
  },
  {
   "cell_type": "code",
   "execution_count": null,
   "id": "0ecd7aa9-a49e-423a-b2b3-b94dcae380db",
   "metadata": {
    "slideshow": {
     "slide_type": "slide"
    }
   },
   "outputs": [],
   "source": [
    "uid, = RE(fly_plan_with_scan())"
   ]
  },
  {
   "cell_type": "code",
   "execution_count": null,
   "id": "ec4067e8-cb8e-4efb-a5f5-53dd19b783f5",
   "metadata": {
    "slideshow": {
     "slide_type": "fragment"
    }
   },
   "outputs": [],
   "source": [
    "fly_run = db[uid]"
   ]
  },
  {
   "cell_type": "code",
   "execution_count": null,
   "id": "bd56da04-ed28-46a7-b8c9-b6a149ebc7f2",
   "metadata": {
    "slideshow": {
     "slide_type": "fragment"
    }
   },
   "outputs": [],
   "source": [
    "fly_run.table('flyer1')"
   ]
  },
  {
   "cell_type": "markdown",
   "id": "40e1e14d-43e6-4299-afd4-d13adf0d0345",
   "metadata": {},
   "source": [
    "('resource', {\n",
    "    'path_semantics': 'posix',\n",
    "    'resource_kwargs': {'frame_per_point': 1},\n",
    "    'resource_path': 'det.h5',\n",
    "    'root': '/tmp/tmpcvxbqctr/',\n",
    "    'spec': 'AD_HDF5',\n",
    "    'uid': '9123df61-a09f-49ae-9d23-41d4d6c6d78})\n",
    "('datum', {\n",
    "    'datum_id': '9123df61-a09f-49ae-9d23-41d4d6c6d788/0',\n",
    "    'datum_kwargs': {'point_number': 0},\n",
    "    'resource': '9123df61-a09f-49ae-9d23-41d4d6c6d788'}\n",
    "})"
   ]
  }
 ],
 "metadata": {
  "celltoolbar": "Slideshow",
  "kernelspec": {
   "display_name": "Python 3 (ipykernel)",
   "language": "python",
   "name": "python3"
  },
  "language_info": {
   "codemirror_mode": {
    "name": "ipython",
    "version": 3
   },
   "file_extension": ".py",
   "mimetype": "text/x-python",
   "name": "python",
   "nbconvert_exporter": "python",
   "pygments_lexer": "ipython3",
   "version": "3.12.5"
  },
  "rise": {
   "enable_chalkboard": true,
   "scroll": true,
   "start_slideshow_at": "beginning",
   "theme": "sky"
  }
 },
 "nbformat": 4,
 "nbformat_minor": 5
}
