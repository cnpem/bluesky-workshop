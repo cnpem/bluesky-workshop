{
 "cells": [
  {
   "cell_type": "code",
   "execution_count": null,
   "id": "8a2a4682",
   "metadata": {
    "slideshow": {
     "slide_type": "slide"
    }
   },
   "outputs": [],
   "source": [
    "%matplotlib qt\n",
    "from bluesky import RunEngine\n",
    "from bluesky.callbacks import LiveTable\n",
    "from bluesky.plans import scan\n",
    "from bluesky.plan_stubs import mv, open_run, close_run, create, \\\n",
    "    save, drop, rd, trigger, trigger_and_read, declare_stream\n",
    "from ophyd.sim import det1, noisy_det, motor1\n",
    "from databroker import Broker\n",
    "from matplotlib.pyplot import ion\n",
    "from bluesky.utils import install_nb_kicker\n",
    "from bluesky.callbacks.best_effort import BestEffortCallback\n",
    "from pprint import pprint\n",
    "from IPython.display import display\n",
    "install_nb_kicker()\n",
    "\n",
    "ion()\n",
    "RE = RunEngine()\n",
    "\n",
    "db = Broker.named('temp')\n",
    "RE.subscribe(db.insert)\n",
    "bec = BestEffortCallback()\n",
    "RE.subscribe(bec)"
   ]
  },
  {
   "cell_type": "markdown",
   "id": "d2fc3d41",
   "metadata": {
    "slideshow": {
     "slide_type": "slide"
    }
   },
   "source": [
    "## Documents"
   ]
  },
  {
   "cell_type": "markdown",
   "id": "d44fc773-e900-4e59-a39a-cd38ce1dbdde",
   "metadata": {},
   "source": [
    "Um dos principais objetivos do Bluesky é habilitar a coleta de dados e metadados. A meneira que ele faz isso é através dos **Documentos**nts."
   ]
  },
  {
   "cell_type": "markdown",
   "id": "3cb3aac4-7f6f-4593-991e-4ee3b65796c2",
   "metadata": {},
   "source": [
    "Documentos são basicamente dicionários em Python com um esquema definido, ou seja, é um dicionário organizado de uma maneira específica e documentada. Esses **documentos** são gerados pela RunEngine durante a execução de planos e todos os dados e metadados estão organizados dentro dos **Documentos**."
   ]
  },
  {
   "cell_type": "markdown",
   "id": "a3c47ea9-aab1-4051-b58f-35bc025b7241",
   "metadata": {},
   "source": [
    "### Runs e eventos"
   ]
  },
  {
   "cell_type": "markdown",
   "id": "211bad62-6f4e-49b9-b8cf-05181ce8b485",
   "metadata": {},
   "source": [
    "Planos podem gerar dados e metadados, porém como é possível organizar ou agrupar informações em Eventos e Runs?"
   ]
  },
  {
   "cell_type": "code",
   "execution_count": null,
   "id": "9b052f95-4660-48e7-8aab-9b8d75937240",
   "metadata": {},
   "outputs": [],
   "source": [
    "def one_run_one_event():\n",
    "    yield from open_run()\n",
    "    yield from trigger_and_read([det1, noisy_det])\n",
    "    yield from close_run()"
   ]
  },
  {
   "cell_type": "code",
   "execution_count": null,
   "id": "ba4c14d1-084c-41e7-852c-03542ea4ffdd",
   "metadata": {},
   "outputs": [],
   "source": [
    "RE(one_run_one_event())"
   ]
  },
  {
   "cell_type": "markdown",
   "id": "7233b17c-f9a4-49ca-9857-ac022b443545",
   "metadata": {},
   "source": [
    "Neste exemplo temos:\n",
    " - Uma tabela (uma Run)\n",
    " - Uma linha (um evento)\n",
    " - Duas colunas (além de seq_num e time), representando os dois detectores"
   ]
  },
  {
   "cell_type": "code",
   "execution_count": null,
   "id": "989c34b7-8b84-4c22-8e71-fd72b4a58150",
   "metadata": {},
   "outputs": [],
   "source": [
    "def one_run_n_events():\n",
    "    yield from open_run()\n",
    "    for i in range(4):\n",
    "        yield from trigger_and_read([det1, noisy_det])\n",
    "    yield from close_run()"
   ]
  },
  {
   "cell_type": "code",
   "execution_count": null,
   "id": "3075f353-e9cc-4064-8df9-7c5f7f3b1064",
   "metadata": {},
   "outputs": [],
   "source": [
    "RE(one_run_n_events())"
   ]
  },
  {
   "cell_type": "markdown",
   "id": "15ceaf16-0404-47d0-ab76-7b4309f931ac",
   "metadata": {},
   "source": [
    "Neste exemplo temos:\n",
    " - Uma tabela (uma Run)\n",
    " - Quatro linhas (quatro eventos)\n",
    " - Duas colunas (além de seq_num e time), representando os dois detectores"
   ]
  },
  {
   "cell_type": "code",
   "execution_count": null,
   "id": "ffa2beb2-fc64-4248-82ec-bb05f23165d5",
   "metadata": {},
   "outputs": [],
   "source": [
    "def multi_run():\n",
    "    for i in range(2):\n",
    "        yield from one_run_n_events()"
   ]
  },
  {
   "cell_type": "code",
   "execution_count": null,
   "id": "0bba8552-93fe-4135-8cde-232570f225b5",
   "metadata": {},
   "outputs": [],
   "source": [
    "RE(multi_run())"
   ]
  },
  {
   "cell_type": "markdown",
   "id": "4c28f3b0-8491-4343-b8d0-c776217547f8",
   "metadata": {},
   "source": [
    "Neste exemplo temos:\n",
    " - Duas tabelas (duas Runs)\n",
    " - Quatro linhas (quatro eventos por Run)\n",
    " - Duas colunas (além de seq_num e time), representando os dois detectores\n",
    "\n",
    "   \n",
    "Além disso, agora o retorno da função é uma tupla com multiplos uids, cada um relacionado com uma Run"
   ]
  },
  {
   "cell_type": "markdown",
   "id": "c50ae13f-da2c-4f0a-a660-41a3dae8a176",
   "metadata": {},
   "source": [
    "A definição de uma Run é flexível, pois tudo depende de como você gostaria de organizar seus dados, seja para coleta ou análise."
   ]
  },
  {
   "cell_type": "markdown",
   "id": "2fcec4b4-16e0-414c-85f1-1b12e75a2cc8",
   "metadata": {},
   "source": [
    "### Documentos de uma Run"
   ]
  },
  {
   "cell_type": "markdown",
   "id": "a06df9e1-074c-40d4-a838-e59dd02a4421",
   "metadata": {},
   "source": [
    "#### O Start Document\n",
    "O Start document contém informações de metadados no início da run:\n",
    "- time - Tempo de início do plano\n",
    "- plan_name - Nome do plano\n",
    "- uid - ID único de identificação da Run\n",
    "- scan_id - id \"mais amigável\", porém não é necessáriamente único\n",
    "- metadados"
   ]
  },
  {
   "cell_type": "code",
   "execution_count": null,
   "id": "6119c6b4-080d-487e-ac66-80dba4918882",
   "metadata": {},
   "outputs": [],
   "source": [
    "uid, = RE(scan([det1], motor1, 0, 10, 6))"
   ]
  },
  {
   "cell_type": "code",
   "execution_count": null,
   "id": "7a2d5775-f5c1-4199-82b8-c0da0fcc0a58",
   "metadata": {},
   "outputs": [],
   "source": [
    "last_run = db[uid]"
   ]
  },
  {
   "cell_type": "code",
   "execution_count": null,
   "id": "fd65ef7e-b993-4c13-b4a8-dff75aec9b16",
   "metadata": {},
   "outputs": [],
   "source": [
    "last_run.start"
   ]
  },
  {
   "cell_type": "markdown",
   "id": "a3c90377-3283-439a-a44a-09ba4f5da57b",
   "metadata": {},
   "source": [
    "### Eventos\n",
    "Vão guardar informações de um ou mais eventos:"
   ]
  },
  {
   "cell_type": "code",
   "execution_count": null,
   "id": "a4100236-56e1-4b86-8696-ad795183fcea",
   "metadata": {},
   "outputs": [],
   "source": [
    "for event in last_run.events():\n",
    "    display(event)\n",
    "    break"
   ]
  },
  {
   "cell_type": "code",
   "execution_count": null,
   "id": "1c77ded8-c7a9-42f8-a30c-c49f2958f9a1",
   "metadata": {},
   "outputs": [],
   "source": [
    "pprint(event.to_name_dict_pair())"
   ]
  },
  {
   "cell_type": "markdown",
   "id": "1bbb262c",
   "metadata": {
    "slideshow": {
     "slide_type": "subslide"
    }
   },
   "source": [
    "### Metadata on Standard Plans"
   ]
  },
  {
   "cell_type": "code",
   "execution_count": null,
   "id": "5040a8bf",
   "metadata": {
    "scrolled": true,
    "slideshow": {
     "slide_type": "fragment"
    }
   },
   "outputs": [],
   "source": [
    "(uid, ) = RE(scan([det1], motor1, -3, 3, 15, md={\n",
    "    \"motive\": \"Calibration\",\n",
    "    \"sample\": \"Standard Sample\"\n",
    "}))\n",
    "db[uid]"
   ]
  },
  {
   "cell_type": "code",
   "execution_count": null,
   "id": "31086a87",
   "metadata": {
    "scrolled": true,
    "slideshow": {
     "slide_type": "subslide"
    }
   },
   "outputs": [],
   "source": [
    "last_run = db[-1]\n",
    "last_run"
   ]
  },
  {
   "cell_type": "markdown",
   "id": "05d65745",
   "metadata": {
    "slideshow": {
     "slide_type": "subslide"
    }
   },
   "source": [
    "### Start Event"
   ]
  },
  {
   "cell_type": "markdown",
   "id": "32755a54",
   "metadata": {
    "slideshow": {
     "slide_type": "fragment"
    }
   },
   "source": [
    "- time: Horário de início do scan\n",
    "\n",
    "- plan_name: Nome do plano executado, como 'scan' ou 'grid_scan'\n",
    "\n",
    "- uid: ID único que identifica o scan realizado\n",
    "\n",
    "- scan_id: Número inteiro amigável ao usuário, mas não necessáriamente único \n",
    "\n",
    "- Outros metadados inseridos pelo usuário ou plano"
   ]
  },
  {
   "cell_type": "code",
   "execution_count": null,
   "id": "ce35ce4d",
   "metadata": {
    "scrolled": true,
    "slideshow": {
     "slide_type": "fragment"
    }
   },
   "outputs": [],
   "source": [
    "last_run.start"
   ]
  },
  {
   "cell_type": "markdown",
   "id": "18b2c022",
   "metadata": {
    "slideshow": {
     "slide_type": "subslide"
    }
   },
   "source": [
    "### Stop Event"
   ]
  },
  {
   "cell_type": "markdown",
   "id": "f9c1b4e5",
   "metadata": {
    "slideshow": {
     "slide_type": "fragment"
    }
   },
   "source": [
    "- time: Horário de fim do scan\n",
    "\n",
    "- exit_status: Status do plano ao final ('abort', 'fail', 'success')"
   ]
  },
  {
   "cell_type": "code",
   "execution_count": null,
   "id": "82ccbb23",
   "metadata": {
    "slideshow": {
     "slide_type": "fragment"
    }
   },
   "outputs": [],
   "source": [
    "last_run.stop"
   ]
  },
  {
   "cell_type": "markdown",
   "id": "e30dfe61",
   "metadata": {
    "slideshow": {
     "slide_type": "subslide"
    }
   },
   "source": [
    "### Descriptors"
   ]
  },
  {
   "cell_type": "code",
   "execution_count": null,
   "id": "1ad0ea30",
   "metadata": {
    "scrolled": true,
    "slideshow": {
     "slide_type": "fragment"
    }
   },
   "outputs": [],
   "source": [
    "last_run.descriptors[0]"
   ]
  },
  {
   "cell_type": "markdown",
   "id": "c1a343ef",
   "metadata": {
    "slideshow": {
     "slide_type": "subslide"
    }
   },
   "source": [
    "### Events"
   ]
  },
  {
   "cell_type": "code",
   "execution_count": null,
   "id": "e19b76eb",
   "metadata": {
    "slideshow": {
     "slide_type": "fragment"
    }
   },
   "outputs": [],
   "source": [
    "last_run.table()"
   ]
  },
  {
   "cell_type": "markdown",
   "id": "b6f0c14b",
   "metadata": {
    "slideshow": {
     "slide_type": "slide"
    }
   },
   "source": [
    "## Metadata Plan Stubs"
   ]
  },
  {
   "cell_type": "code",
   "execution_count": null,
   "id": "ce63d2b8",
   "metadata": {
    "slideshow": {
     "slide_type": "subslide"
    }
   },
   "outputs": [],
   "source": [
    "def plan_with_data():\n",
    "    yield from open_run(md={})\n",
    "    \n",
    "    # Plan procedures\n",
    "    yield from trigger_and_read([noisy_det])\n",
    "    \n",
    "    yield from close_run()\n",
    "\n",
    "uid = RE(plan_with_data(), LiveTable(['noisy_det']))\n",
    "db[-1].table()"
   ]
  },
  {
   "cell_type": "code",
   "execution_count": null,
   "id": "36bbf550",
   "metadata": {
    "scrolled": true,
    "slideshow": {
     "slide_type": "subslide"
    }
   },
   "outputs": [],
   "source": [
    "db[-1]"
   ]
  },
  {
   "cell_type": "code",
   "execution_count": null,
   "id": "b9b4b6fe",
   "metadata": {
    "scrolled": true,
    "slideshow": {
     "slide_type": "subslide"
    }
   },
   "outputs": [],
   "source": [
    "def plan_with_data():\n",
    "    yield from open_run(md={})\n",
    "    \n",
    "    # Plan procedures\n",
    "    yield from trigger_and_read([noisy_det])\n",
    "    yield from rd(motor1)\n",
    "    \n",
    "    yield from close_run()\n",
    "\n",
    "uid = RE(plan_with_data(), LiveTable(['noisy_det', 'motor1']))\n",
    "db[-1]"
   ]
  },
  {
   "cell_type": "code",
   "execution_count": null,
   "id": "eef6aea5",
   "metadata": {
    "scrolled": true,
    "slideshow": {
     "slide_type": "subslide"
    }
   },
   "outputs": [],
   "source": [
    "def plan_with_data():\n",
    "    yield from open_run(md={})\n",
    "    yield from create(name=\"custom_data_stream\")\n",
    "    \n",
    "    # Plan procedures\n",
    "    yield from trigger(noisy_det)\n",
    "    yield from rd(noisy_det)\n",
    "    yield from rd(motor1)\n",
    "\n",
    "    yield from save()\n",
    "    yield from close_run()\n",
    "\n",
    "uid = RE(plan_with_data(), LiveTable(['noisy_det']))\n",
    "db[-1]"
   ]
  },
  {
   "cell_type": "code",
   "execution_count": null,
   "id": "434ce300",
   "metadata": {
    "slideshow": {
     "slide_type": "subslide"
    }
   },
   "outputs": [],
   "source": [
    "db[-1].table(\"custom_data_stream\")"
   ]
  },
  {
   "cell_type": "markdown",
   "id": "22cc38fd",
   "metadata": {
    "slideshow": {
     "slide_type": "slide"
    }
   },
   "source": [
    "create: Bundle future readings into a new Event document.\n",
    "\n",
    "save: Close a bundle of readings and emit a completed Event document.\n",
    "\n",
    "drop: Drop a bundle of readings without emitting a completed Event document.\n",
    "\n",
    "subscribe: Subscribe the stream of emitted documents.\n",
    "\n",
    "unsubscribe: Remove a subscription.\n",
    "\n",
    "\n",
    "Plan Stubs\n",
    "\n",
    "trigger: Trigger and acquisition.\n",
    "\n",
    "read: Take a reading and add it to the current bundle of readings.\n",
    "\n",
    "rd: Reads a single-value non-triggered object"
   ]
  },
  {
   "cell_type": "markdown",
   "id": "6c157536",
   "metadata": {},
   "source": [
    "Preprocessors -> What is a decorator\n",
    "\n",
    "relative_set_decorator: Interpret 'set' messages on devices as relative to initial position.\n",
    "\n",
    "reset_positions_decorator: Return movable devices to their initial positions at the end.\n",
    "\n",
    "run_decorator: Enclose in 'open_run' and 'close_run' messages.\n",
    "\n",
    "stage_decorator: 'Stage' devices (i.e., prepare them for use, 'arm' them) and then unstage.\n",
    "\n",
    "finalize_decorator: try...finally helper"
   ]
  },
  {
   "cell_type": "markdown",
   "id": "fb339439",
   "metadata": {},
   "source": [
    "Suplemental Data\n",
    "\n",
    "\n",
    "\n",
    "baseline_wrapper()\n",
    "\n",
    "monitor_during_wrapper()\n",
    "\n",
    "fly_during_wrapper()"
   ]
  }
 ],
 "metadata": {
  "celltoolbar": "Slideshow",
  "kernelspec": {
   "display_name": "Python 3 (ipykernel)",
   "language": "python",
   "name": "python3"
  },
  "language_info": {
   "codemirror_mode": {
    "name": "ipython",
    "version": 3
   },
   "file_extension": ".py",
   "mimetype": "text/x-python",
   "name": "python",
   "nbconvert_exporter": "python",
   "pygments_lexer": "ipython3",
   "version": "3.12.4"
  },
  "rise": {
   "enable_chalkboard": true,
   "scroll": true,
   "start_slideshow_at": "beginning",
   "theme": "sky"
  }
 },
 "nbformat": 4,
 "nbformat_minor": 5
}
