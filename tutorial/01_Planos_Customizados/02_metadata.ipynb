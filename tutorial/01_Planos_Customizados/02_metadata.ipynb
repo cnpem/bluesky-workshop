{
 "cells": [
  {
   "cell_type": "code",
   "execution_count": 97,
   "id": "8a2a4682",
   "metadata": {
    "slideshow": {
     "slide_type": "slide"
    }
   },
   "outputs": [
    {
     "data": {
      "text/plain": [
       "1"
      ]
     },
     "execution_count": 97,
     "metadata": {},
     "output_type": "execute_result"
    }
   ],
   "source": [
    "%matplotlib qt\n",
    "from bluesky import RunEngine\n",
    "from bluesky.callbacks import LiveTable\n",
    "from bluesky.plans import scan, count\n",
    "from bluesky.plan_stubs import mv, open_run, close_run, create, \\\n",
    "    save, drop, rd, trigger, trigger_and_read, declare_stream\n",
    "from ophyd.sim import det1, noisy_det, motor1, flyer1, flyer2\n",
    "from databroker import Broker\n",
    "from matplotlib.pyplot import ion\n",
    "from bluesky.utils import install_nb_kicker\n",
    "from bluesky.callbacks.best_effort import BestEffortCallback\n",
    "from pprint import pprint\n",
    "from IPython.display import display\n",
    "from bluesky.preprocessors import subs_decorator, baseline_decorator, monitor_during_decorator, fly_during_decorator\n",
    "install_nb_kicker()\n",
    "\n",
    "ion()\n",
    "RE = RunEngine()\n",
    "\n",
    "db = Broker.named('temp')\n",
    "RE.subscribe(db.insert)\n",
    "bec = BestEffortCallback()\n",
    "RE.subscribe(bec)"
   ]
  },
  {
   "cell_type": "markdown",
   "id": "d2fc3d41",
   "metadata": {
    "slideshow": {
     "slide_type": "slide"
    }
   },
   "source": [
    "## Documents"
   ]
  },
  {
   "cell_type": "markdown",
   "id": "d44fc773-e900-4e59-a39a-cd38ce1dbdde",
   "metadata": {},
   "source": [
    "Um dos principais objetivos do Bluesky é habilitar a coleta de dados e metadados. A meneira que ele faz isso é através dos **Documentos**nts."
   ]
  },
  {
   "cell_type": "markdown",
   "id": "3cb3aac4-7f6f-4593-991e-4ee3b65796c2",
   "metadata": {},
   "source": [
    "Documentos são basicamente dicionários em Python com um esquema definido, ou seja, é um dicionário organizado de uma maneira específica e documentada. Esses **documentos** são gerados pela RunEngine durante a execução de planos e todos os dados e metadados estão organizados dentro dos **Documentos**."
   ]
  },
  {
   "cell_type": "markdown",
   "id": "a3c47ea9-aab1-4051-b58f-35bc025b7241",
   "metadata": {},
   "source": [
    "### Runs e eventos"
   ]
  },
  {
   "cell_type": "markdown",
   "id": "211bad62-6f4e-49b9-b8cf-05181ce8b485",
   "metadata": {},
   "source": [
    "Planos podem gerar dados e metadados, porém como é possível organizar ou agrupar informações em Eventos e Runs?"
   ]
  },
  {
   "cell_type": "code",
   "execution_count": null,
   "id": "9b052f95-4660-48e7-8aab-9b8d75937240",
   "metadata": {},
   "outputs": [],
   "source": [
    "def one_run_one_event():\n",
    "    yield from open_run()\n",
    "    yield from trigger_and_read([det1, noisy_det])\n",
    "    yield from close_run()"
   ]
  },
  {
   "cell_type": "code",
   "execution_count": null,
   "id": "ba4c14d1-084c-41e7-852c-03542ea4ffdd",
   "metadata": {},
   "outputs": [],
   "source": [
    "RE(one_run_one_event())"
   ]
  },
  {
   "cell_type": "markdown",
   "id": "7233b17c-f9a4-49ca-9857-ac022b443545",
   "metadata": {},
   "source": [
    "Neste exemplo temos:\n",
    " - Uma tabela (uma Run)\n",
    " - Uma linha (um evento)\n",
    " - Duas colunas (além de seq_num e time), representando os dois detectores"
   ]
  },
  {
   "cell_type": "code",
   "execution_count": null,
   "id": "989c34b7-8b84-4c22-8e71-fd72b4a58150",
   "metadata": {},
   "outputs": [],
   "source": [
    "def one_run_n_events():\n",
    "    yield from open_run()\n",
    "    for i in range(4):\n",
    "        yield from trigger_and_read([det1, noisy_det])\n",
    "    yield from close_run()"
   ]
  },
  {
   "cell_type": "code",
   "execution_count": null,
   "id": "3075f353-e9cc-4064-8df9-7c5f7f3b1064",
   "metadata": {},
   "outputs": [],
   "source": [
    "RE(one_run_n_events())"
   ]
  },
  {
   "cell_type": "markdown",
   "id": "15ceaf16-0404-47d0-ab76-7b4309f931ac",
   "metadata": {},
   "source": [
    "Neste exemplo temos:\n",
    " - Uma tabela (uma Run)\n",
    " - Quatro linhas (quatro eventos)\n",
    " - Duas colunas (além de seq_num e time), representando os dois detectores"
   ]
  },
  {
   "cell_type": "code",
   "execution_count": null,
   "id": "ffa2beb2-fc64-4248-82ec-bb05f23165d5",
   "metadata": {},
   "outputs": [],
   "source": [
    "def multi_run():\n",
    "    for i in range(2):\n",
    "        yield from one_run_n_events()"
   ]
  },
  {
   "cell_type": "code",
   "execution_count": null,
   "id": "0bba8552-93fe-4135-8cde-232570f225b5",
   "metadata": {},
   "outputs": [],
   "source": [
    "RE(multi_run())"
   ]
  },
  {
   "cell_type": "markdown",
   "id": "4c28f3b0-8491-4343-b8d0-c776217547f8",
   "metadata": {},
   "source": [
    "Neste exemplo temos:\n",
    " - Duas tabelas (duas Runs)\n",
    " - Quatro linhas (quatro eventos por Run)\n",
    " - Duas colunas (além de seq_num e time), representando os dois detectores\n",
    "\n",
    "   \n",
    "Além disso, agora o retorno da função é uma tupla com multiplos uids, cada um relacionado com uma Run"
   ]
  },
  {
   "cell_type": "markdown",
   "id": "c50ae13f-da2c-4f0a-a660-41a3dae8a176",
   "metadata": {},
   "source": [
    "A definição de uma Run é flexível, pois tudo depende de como você gostaria de organizar seus dados, seja para coleta ou análise."
   ]
  },
  {
   "cell_type": "markdown",
   "id": "75267edf-6ef3-4a34-a30c-652395decb18",
   "metadata": {},
   "source": [
    "#### Streams"
   ]
  },
  {
   "cell_type": "markdown",
   "id": "0dd58367-650d-4b21-9c4c-3474e6f6b3ed",
   "metadata": {},
   "source": [
    "No bluesky, as streams são fluxos de dados gerados durante uma execução de um plano. De maneira geral, cada stream contém um conjunto de dados e metadados associados a fases específicas de um experimento, por exemplo. "
   ]
  },
  {
   "cell_type": "markdown",
   "id": "5c975401-aaa4-48df-8dab-76c3a0816f36",
   "metadata": {},
   "source": [
    "Os fluxos de dados são organizados nos __event documents_ enviados pela RunEngine durante a execução de um plano"
   ]
  },
  {
   "cell_type": "markdown",
   "id": "2fcec4b4-16e0-414c-85f1-1b12e75a2cc8",
   "metadata": {},
   "source": [
    "### Documentos de uma Run"
   ]
  },
  {
   "cell_type": "markdown",
   "id": "a06df9e1-074c-40d4-a838-e59dd02a4421",
   "metadata": {},
   "source": [
    "#### O Start Document\n",
    "O Start document contém informações de metadados no início da run:\n",
    "- time - Tempo de início do plano\n",
    "- plan_name - Nome do plano\n",
    "- uid - ID único de identificação da Run\n",
    "- scan_id - id \"mais amigável\", porém não é necessáriamente único\n",
    "- metadados"
   ]
  },
  {
   "cell_type": "code",
   "execution_count": null,
   "id": "6119c6b4-080d-487e-ac66-80dba4918882",
   "metadata": {},
   "outputs": [],
   "source": [
    "uid, = RE(scan([det1, noisy_det], motor1, 0, 10, 6))"
   ]
  },
  {
   "cell_type": "code",
   "execution_count": null,
   "id": "7a2d5775-f5c1-4199-82b8-c0da0fcc0a58",
   "metadata": {},
   "outputs": [],
   "source": [
    "last_run = db[uid]"
   ]
  },
  {
   "cell_type": "code",
   "execution_count": null,
   "id": "fd65ef7e-b993-4c13-b4a8-dff75aec9b16",
   "metadata": {},
   "outputs": [],
   "source": [
    "last_run.start"
   ]
  },
  {
   "cell_type": "markdown",
   "id": "a3c90377-3283-439a-a44a-09ba4f5da57b",
   "metadata": {},
   "source": [
    "#### O Event Document\n",
    "Vão guardar informações de um ou mais eventos:"
   ]
  },
  {
   "cell_type": "code",
   "execution_count": null,
   "id": "a4100236-56e1-4b86-8696-ad795183fcea",
   "metadata": {},
   "outputs": [],
   "source": [
    "for event in last_run.events():\n",
    "    display(event)\n",
    "    break"
   ]
  },
  {
   "cell_type": "code",
   "execution_count": null,
   "id": "1c77ded8-c7a9-42f8-a30c-c49f2958f9a1",
   "metadata": {},
   "outputs": [],
   "source": [
    "pprint(event.to_name_dict_pair())"
   ]
  },
  {
   "cell_type": "markdown",
   "id": "f3397bf4-64ac-4e9a-a28c-16673af0c3a9",
   "metadata": {},
   "source": [
    "#### O Stop Document"
   ]
  },
  {
   "cell_type": "code",
   "execution_count": null,
   "id": "9cc3b19a-0222-4770-8e47-2f3d5a839193",
   "metadata": {},
   "outputs": [],
   "source": [
    "last_run.stop"
   ]
  },
  {
   "cell_type": "markdown",
   "id": "b3942a2f-dcda-4377-b152-6d99a8a128cc",
   "metadata": {},
   "source": [
    "#### Event Descriptor"
   ]
  },
  {
   "cell_type": "markdown",
   "id": "f05af634-f625-440c-80a6-f370360c6043",
   "metadata": {},
   "source": [
    "É um documento que descreve a estrutura dos dados colatados. Servem para organizar os dados e facilitar a interpretação de informações."
   ]
  },
  {
   "cell_type": "markdown",
   "id": "5aa90da3-1dfe-4fb3-8cb7-a4b6bf2441d8",
   "metadata": {},
   "source": [
    "##### Data Key\n",
    "Metadados de cada __data key__"
   ]
  },
  {
   "cell_type": "code",
   "execution_count": null,
   "id": "40bc4693-3719-4b50-973e-40a3e9a65c9e",
   "metadata": {},
   "outputs": [],
   "source": [
    "last_run.descriptors[0]['data_keys']"
   ]
  },
  {
   "cell_type": "markdown",
   "id": "df524e8a-96e0-420e-8f0a-7169946b2c4e",
   "metadata": {},
   "source": [
    "##### Object Keys\n",
    "Object keys fornecem informações de como relacionar cada dispositivo com suas data keys. É útil quando uim dispositivo possui múltiplos data keys. Como no caso do **motor1**"
   ]
  },
  {
   "cell_type": "code",
   "execution_count": null,
   "id": "664eaaeb-3409-43cc-b99a-9bfb7b428035",
   "metadata": {},
   "outputs": [],
   "source": [
    "last_run.descriptors[0]['object_keys']"
   ]
  },
  {
   "cell_type": "markdown",
   "id": "87515559-8879-4f9f-a539-c0e4b653eaa0",
   "metadata": {},
   "source": [
    "##### Configuration\n",
    "O configuration permite acessa informaçõe de configuração dos dispotivos, são informações que tipicamente não mudam entre Runs"
   ]
  },
  {
   "cell_type": "code",
   "execution_count": null,
   "id": "f3796ae4-9d0d-4758-ad18-10cec972600b",
   "metadata": {},
   "outputs": [],
   "source": [
    "last_run.descriptors[0]['configuration']"
   ]
  },
  {
   "cell_type": "markdown",
   "id": "e708b2a8-a179-4552-b71e-35e008f309e4",
   "metadata": {},
   "source": [
    "### Metadados"
   ]
  },
  {
   "cell_type": "markdown",
   "id": "b0388e66-0980-4dd7-a805-b821655c3f78",
   "metadata": {},
   "source": [
    "Metadados são completamente personalizáveis, dado que sua classificação como dado/metadado é sensível ao contexto da aplicação."
   ]
  },
  {
   "cell_type": "markdown",
   "id": "a20f2e1f-3b7c-4f42-b436-efa14e318c37",
   "metadata": {},
   "source": [
    "Por exemplo, dados que precisamos saber apenas antes do experimento como:\n",
    "- Nome do usuário\n",
    "- Parâmaetros da amostra\n",
    "- Informações da medida\n",
    "\n",
    "Todas essas informações podem estar descritas no **Start Document**. Existem algumas maneiras de adicionar os metadados:"
   ]
  },
  {
   "cell_type": "code",
   "execution_count": null,
   "id": "8907b8db-06ee-487a-af83-fac62f1a42be",
   "metadata": {},
   "outputs": [],
   "source": [
    "uid, = RE(count([det1], num=10), sample_name='Agora vai', bl_operator='Alguém', minhas_informacoes='Só um teste...')"
   ]
  },
  {
   "cell_type": "code",
   "execution_count": null,
   "id": "da34ab66-dea2-4aa2-9626-55efbd5ea70c",
   "metadata": {},
   "outputs": [],
   "source": [
    "last_run_with_metadata = db[uid]"
   ]
  },
  {
   "cell_type": "code",
   "execution_count": null,
   "id": "0f435c5e-be9f-4175-8589-9038ee69d738",
   "metadata": {},
   "outputs": [],
   "source": [
    "last_run_with_metadata.start"
   ]
  },
  {
   "cell_type": "markdown",
   "id": "b4ad1259-dc7a-4263-89bb-9b34666ab7c7",
   "metadata": {},
   "source": [
    "Planos com múltiplas Runs também vão receber os mesmos metadados:"
   ]
  },
  {
   "cell_type": "code",
   "execution_count": null,
   "id": "d409b59f-732b-4100-ab34-bf115bf4d069",
   "metadata": {},
   "outputs": [],
   "source": [
    "uid_run1, uid_run2, = RE(multi_run(), sample_name='Agora vai', bl_operator='Alguém', minhas_informacoes='Só um teste...')"
   ]
  },
  {
   "cell_type": "code",
   "execution_count": null,
   "id": "9fa9281e-64f5-48c3-bfaa-873c126831b6",
   "metadata": {},
   "outputs": [],
   "source": [
    "run1 = db[uid_run1]\n",
    "run2 = db[uid_run2]"
   ]
  },
  {
   "cell_type": "code",
   "execution_count": null,
   "id": "c8cd5a3b-84bc-485c-84dd-affaad2bb0c2",
   "metadata": {},
   "outputs": [],
   "source": [
    "run1.start"
   ]
  },
  {
   "cell_type": "code",
   "execution_count": null,
   "id": "90458df6-653f-44a2-8247-edba70e8c27f",
   "metadata": {},
   "outputs": [],
   "source": [
    "run2.start"
   ]
  },
  {
   "cell_type": "markdown",
   "id": "e1487983-692d-4bda-85f0-f9e6efe038ad",
   "metadata": {},
   "source": [
    "Também é possível definir metadados específicos para cada plano, utilizando o parâmetro **md**:"
   ]
  },
  {
   "cell_type": "code",
   "execution_count": null,
   "id": "f19f6ae1-0531-4c3a-a2ba-48a2aecf8e79",
   "metadata": {},
   "outputs": [],
   "source": [
    "def my_multi_run_plan():\n",
    "    yield from scan([det1], motor1, 0, 5, 5, md={'idea': 'find the good region', 'ref': 'Ti'})\n",
    "    yield from count([det1], num=10, md={'purpose': 'stab'})"
   ]
  },
  {
   "cell_type": "code",
   "execution_count": null,
   "id": "48eaaeb9-a9f9-43c7-8258-c93aecfe8e3d",
   "metadata": {},
   "outputs": [],
   "source": [
    "uid1, uid2, = RE(my_multi_run_plan(), RE_metadata={'operator': 'Alguém'}, more_meta={'meta': 'data'})"
   ]
  },
  {
   "cell_type": "code",
   "execution_count": null,
   "id": "37e7ce3f-3596-42d1-9cf7-20fa31ad9287",
   "metadata": {},
   "outputs": [],
   "source": [
    "multi1 = db[uid1]\n",
    "multi2 = db[uid2]"
   ]
  },
  {
   "cell_type": "code",
   "execution_count": null,
   "id": "f0b0019b-69ab-4959-a4dc-85caa451ac23",
   "metadata": {},
   "outputs": [],
   "source": [
    "multi1.start"
   ]
  },
  {
   "cell_type": "code",
   "execution_count": null,
   "id": "b1ab4623-bc09-498f-a4d1-450320a4b5f7",
   "metadata": {},
   "outputs": [],
   "source": [
    "multi2.start"
   ]
  },
  {
   "cell_type": "markdown",
   "id": "96842dff-61d2-416a-b496-c3420f154736",
   "metadata": {},
   "source": [
    "#### Adicionando metadados para uso repetitivo"
   ]
  },
  {
   "cell_type": "code",
   "execution_count": null,
   "id": "d9341067-2dfc-4fda-809b-a9c365e86f55",
   "metadata": {},
   "outputs": [],
   "source": [
    "RE.md"
   ]
  },
  {
   "cell_type": "code",
   "execution_count": null,
   "id": "b442d433-b480-4de8-b92a-f51a7c48e0fd",
   "metadata": {},
   "outputs": [],
   "source": [
    "RE.md['proposal'] = 20231320"
   ]
  },
  {
   "cell_type": "code",
   "execution_count": null,
   "id": "f089c53b-357b-41d2-9aab-d7a069d9f318",
   "metadata": {},
   "outputs": [],
   "source": [
    "RE.md"
   ]
  },
  {
   "cell_type": "code",
   "execution_count": null,
   "id": "3513ff9c-5751-4547-9a16-b58e9e164076",
   "metadata": {},
   "outputs": [],
   "source": [
    "uid, = RE(count([det1], num=10))"
   ]
  },
  {
   "cell_type": "code",
   "execution_count": null,
   "id": "3180c533-64c6-4580-be99-4d6dbb301c31",
   "metadata": {},
   "outputs": [],
   "source": [
    "my_run = db[uid]"
   ]
  },
  {
   "cell_type": "code",
   "execution_count": null,
   "id": "f19fcb1e-5fdf-440f-816b-0cc084fd1b65",
   "metadata": {},
   "outputs": [],
   "source": [
    "my_run.start"
   ]
  },
  {
   "cell_type": "markdown",
   "id": "f3cd8d62-4526-4c5f-a125-af4122f33439",
   "metadata": {},
   "source": [
    "#### Configurar validações de presença de metadados"
   ]
  },
  {
   "cell_type": "code",
   "execution_count": null,
   "id": "030840dc-5c83-4e65-a9c0-d02d1726b2f6",
   "metadata": {},
   "outputs": [],
   "source": [
    "def validate_proposal_number(md):\n",
    "    if 'proposal' not in md:\n",
    "        raise ValueError('No proposal number was set!')\n",
    "\n",
    "    if not isinstance(md['proposal'], int):\n",
    "        raise ValueError('Proposal must be int.')"
   ]
  },
  {
   "cell_type": "code",
   "execution_count": null,
   "id": "11ed9879-8605-485b-88d3-2afeb500b3dd",
   "metadata": {},
   "outputs": [],
   "source": [
    "RE.md_validator = validate_proposal_number"
   ]
  },
  {
   "cell_type": "code",
   "execution_count": null,
   "id": "0b1c39a7-efee-4c3f-8452-e620a742db5f",
   "metadata": {},
   "outputs": [],
   "source": [
    "del RE.md['proposal']"
   ]
  },
  {
   "cell_type": "code",
   "execution_count": null,
   "id": "617be807-717e-4c62-b489-dbb466c44836",
   "metadata": {},
   "outputs": [],
   "source": [
    "RE(count([det1], num=3))"
   ]
  },
  {
   "cell_type": "code",
   "execution_count": null,
   "id": "76b872ba-27d4-4d84-b8e9-408fa24cb33f",
   "metadata": {},
   "outputs": [],
   "source": [
    "RE(count([det1]), proposal='opa')"
   ]
  },
  {
   "cell_type": "code",
   "execution_count": null,
   "id": "d766314d-32b9-4938-9745-0a57964d49ff",
   "metadata": {},
   "outputs": [],
   "source": [
    "RE.md['proposal'] = 20231320"
   ]
  },
  {
   "cell_type": "markdown",
   "id": "93e12f38-8fad-4d9a-aeb5-3184f88396f7",
   "metadata": {},
   "source": [
    "### Supplemental Data"
   ]
  },
  {
   "cell_type": "markdown",
   "id": "21498c77-81a0-4d12-8919-70b1a2448d40",
   "metadata": {},
   "source": [
    "O Suplemental Data faz parte dos Blusky Preprocessors, basicamente preprocessors são funções que alteram planos antes de serem executados, permitindo adições de funcionalidades de maneira automática, sem que o usuário precise realizar interferências manuais em cada etapa"
   ]
  },
  {
   "cell_type": "code",
   "execution_count": null,
   "id": "2cbf1fa2-0374-4ac8-a2df-da828ee3f9ef",
   "metadata": {},
   "outputs": [],
   "source": [
    "from bluesky.preprocessors import SupplementalData\n",
    "sd = SupplementalData()\n",
    "RE.preprocessors.append(sd)"
   ]
  },
  {
   "cell_type": "markdown",
   "id": "3d3c6a97-b5a8-4fb2-8834-15a148e00bc6",
   "metadata": {},
   "source": [
    "#### Baseline e Monitor"
   ]
  },
  {
   "cell_type": "markdown",
   "id": "a7bc0066-09a8-4442-a207-58b0d145284d",
   "metadata": {},
   "source": [
    "É um conjunto de dispositivos cujas leituras são automaticamente registradas no início e no final de cada experimento. A função baseline serve para garantir a captura de parâmetros críticos (como temperatura, pressão, etc.), permitindo comparar essas variáveis ao longo do tempo e garantir a consistência dos experimentos."
   ]
  },
  {
   "cell_type": "code",
   "execution_count": 84,
   "id": "1eb0e744-6826-4147-aed4-3b3ea401e323",
   "metadata": {},
   "outputs": [],
   "source": [
    "sd.baseline = [det1, noisy_det, motor1]"
   ]
  },
  {
   "cell_type": "code",
   "execution_count": 85,
   "id": "b2df0047-cfc9-49d7-8212-32220f3cd4fe",
   "metadata": {},
   "outputs": [
    {
     "name": "stdout",
     "output_type": "stream",
     "text": [
      "\n",
      "\n",
      "Transient Scan ID: 32     Time: 2024-09-10 14:46:45\n",
      "Persistent Unique Scan ID: 'bcdbfdad-569e-45f8-8267-1b8c0fb99f3a'\n",
      "New stream: 'baseline'\n",
      "Start-of-run baseline readings:\n",
      "+--------------------------------+--------------------------------+\n",
      "|                           det1 | 0.0                            |\n",
      "|                      noisy_det | 0.04273390768255553            |\n",
      "|                         motor1 | 20.0                           |\n",
      "+--------------------------------+--------------------------------+\n",
      "New stream: 'noisy_det_monitor'\n",
      "New stream: 'primary'\n",
      "+-----------+------------+------------+\n",
      "|   seq_num |       time |       det1 |\n",
      "+-----------+------------+------------+\n",
      "|         1 | 14:46:45.1 |      0.000 |\n",
      "|         2 | 14:46:45.1 |      0.000 |\n",
      "|         3 | 14:46:45.1 |      0.000 |\n",
      "+-----------+------------+------------+\n",
      "generator count ['bcdbfdad'] (scan num: 32)\n",
      "End-of-run baseline readings:\n",
      "+--------------------------------+--------------------------------+\n",
      "|                           det1 | 0.0                            |\n",
      "|                      noisy_det | -0.08764163605943512           |\n",
      "|                         motor1 | 20.0                           |\n",
      "+--------------------------------+--------------------------------+\n",
      "\n",
      "\n",
      "\n"
     ]
    },
    {
     "data": {
      "text/plain": [
       "('bcdbfdad-569e-45f8-8267-1b8c0fb99f3a',)"
      ]
     },
     "execution_count": 85,
     "metadata": {},
     "output_type": "execute_result"
    }
   ],
   "source": [
    "RE(count([det1], num=3))"
   ]
  },
  {
   "cell_type": "code",
   "execution_count": 86,
   "id": "9b4ff1dd-4945-430e-a662-8a0e5e33f330",
   "metadata": {},
   "outputs": [
    {
     "name": "stdout",
     "output_type": "stream",
     "text": [
      "\n",
      "\n",
      "Transient Scan ID: 33     Time: 2024-09-10 14:46:45\n",
      "Persistent Unique Scan ID: 'fbbe3c33-6e65-4e1d-8b26-058140da1ffb'\n",
      "New stream: 'baseline'\n",
      "Start-of-run baseline readings:\n",
      "+--------------------------------+--------------------------------+\n",
      "|                           det1 | 0.0                            |\n",
      "|                      noisy_det | 0.017144532531248417           |\n",
      "|                         motor1 | 20.0                           |\n",
      "+--------------------------------+--------------------------------+\n",
      "New stream: 'noisy_det_monitor'\n",
      "New stream: 'primary'\n",
      "+-----------+------------+------------+------------+\n",
      "|   seq_num |       time |       det1 |  noisy_det |\n",
      "+-----------+------------+------------+------------+\n",
      "|         1 | 14:46:45.9 |      0.000 |     -0.040 |\n",
      "|         2 | 14:46:45.9 |      0.000 |     -0.063 |\n",
      "|         3 | 14:46:45.9 |      0.000 |      0.100 |\n",
      "|         4 | 14:46:45.9 |      0.000 |      0.044 |\n",
      "+-----------+------------+------------+------------+\n",
      "generator multi_run ['fbbe3c33'] (scan num: 33)\n",
      "End-of-run baseline readings:\n",
      "+--------------------------------+--------------------------------+\n",
      "|                           det1 | 0.0                            |\n",
      "|                      noisy_det | -0.06988632128140686           |\n",
      "|                         motor1 | 20.0                           |\n",
      "+--------------------------------+--------------------------------+\n",
      "\n",
      "\n",
      "\n",
      "\n",
      "\n",
      "Transient Scan ID: 34     Time: 2024-09-10 14:46:46\n",
      "Persistent Unique Scan ID: 'd487109c-9ee3-416b-b7ac-212dba661e8e'\n",
      "New stream: 'baseline'\n",
      "Start-of-run baseline readings:\n",
      "+--------------------------------+--------------------------------+\n",
      "|                           det1 | 0.0                            |\n",
      "|                      noisy_det | 0.011388082204508801           |\n",
      "|                         motor1 | 20.0                           |\n",
      "+--------------------------------+--------------------------------+\n",
      "New stream: 'noisy_det_monitor'\n",
      "New stream: 'primary'\n",
      "+-----------+------------+------------+------------+\n",
      "|   seq_num |       time |       det1 |  noisy_det |\n",
      "+-----------+------------+------------+------------+\n",
      "|         1 | 14:46:46.0 |      0.000 |     -0.049 |\n",
      "|         2 | 14:46:46.0 |      0.000 |     -0.035 |\n",
      "|         3 | 14:46:46.0 |      0.000 |     -0.011 |\n",
      "|         4 | 14:46:46.1 |      0.000 |      0.064 |\n",
      "+-----------+------------+------------+------------+\n",
      "generator multi_run ['d487109c'] (scan num: 34)\n",
      "End-of-run baseline readings:\n",
      "+--------------------------------+--------------------------------+\n",
      "|                           det1 | 0.0                            |\n",
      "|                      noisy_det | 0.09858842278548653            |\n",
      "|                         motor1 | 20.0                           |\n",
      "+--------------------------------+--------------------------------+\n",
      "\n",
      "\n",
      "\n"
     ]
    },
    {
     "data": {
      "text/plain": [
       "('fbbe3c33-6e65-4e1d-8b26-058140da1ffb',\n",
       " 'd487109c-9ee3-416b-b7ac-212dba661e8e')"
      ]
     },
     "execution_count": 86,
     "metadata": {},
     "output_type": "execute_result"
    }
   ],
   "source": [
    "RE(multi_run())"
   ]
  },
  {
   "cell_type": "code",
   "execution_count": 87,
   "id": "d640667b-a381-4872-93e7-c96b8547a1fa",
   "metadata": {},
   "outputs": [],
   "source": [
    "sd.monitors = [noisy_det]"
   ]
  },
  {
   "cell_type": "code",
   "execution_count": 88,
   "id": "4a64dc08-2f1f-4458-aec1-c0d2b0cf42f7",
   "metadata": {},
   "outputs": [
    {
     "name": "stdout",
     "output_type": "stream",
     "text": [
      "\n",
      "\n",
      "Transient Scan ID: 35     Time: 2024-09-10 14:46:47\n",
      "Persistent Unique Scan ID: 'd3ef21af-541b-4854-85ff-226619c03efe'\n",
      "New stream: 'baseline'\n",
      "Start-of-run baseline readings:\n",
      "+--------------------------------+--------------------------------+\n",
      "|                           det1 | 0.0                            |\n",
      "|                      noisy_det | 0.054446485867038895           |\n",
      "|                         motor1 | 20.0                           |\n",
      "+--------------------------------+--------------------------------+\n",
      "New stream: 'noisy_det_monitor'\n",
      "New stream: 'primary'\n",
      "+-----------+------------+------------+\n",
      "|   seq_num |       time |       det1 |\n",
      "+-----------+------------+------------+\n",
      "|         1 | 14:46:47.9 |      0.000 |\n",
      "|         2 | 14:46:47.9 |      0.000 |\n",
      "|         3 | 14:46:47.9 |      0.000 |\n",
      "|         4 | 14:46:47.9 |      0.000 |\n",
      "|         5 | 14:46:47.9 |      0.000 |\n",
      "|         6 | 14:46:47.9 |      0.000 |\n",
      "+-----------+------------+------------+\n",
      "generator count ['d3ef21af'] (scan num: 35)\n",
      "End-of-run baseline readings:\n",
      "+--------------------------------+--------------------------------+\n",
      "|                           det1 | 0.0                            |\n",
      "|                      noisy_det | 0.05040194119638038            |\n",
      "|                         motor1 | 20.0                           |\n",
      "+--------------------------------+--------------------------------+\n",
      "\n",
      "\n",
      "\n"
     ]
    }
   ],
   "source": [
    "uid_preprocessor, = RE(count([det1], num=6))"
   ]
  },
  {
   "cell_type": "code",
   "execution_count": 89,
   "id": "1c3e1925-44c4-499c-a044-fb98e3e67c34",
   "metadata": {},
   "outputs": [],
   "source": [
    "my_preprocessor_info = db[uid_preprocessor]"
   ]
  },
  {
   "cell_type": "code",
   "execution_count": 90,
   "id": "56984cb3-2273-4db2-90b4-cb7cede079b3",
   "metadata": {},
   "outputs": [
    {
     "data": {
      "text/plain": [
       "['primary', 'baseline', 'noisy_det_monitor']"
      ]
     },
     "execution_count": 90,
     "metadata": {},
     "output_type": "execute_result"
    }
   ],
   "source": [
    "my_preprocessor_info.stream_names"
   ]
  },
  {
   "cell_type": "code",
   "execution_count": 91,
   "id": "c333148f-107b-49ae-a7aa-762a099b4832",
   "metadata": {},
   "outputs": [
    {
     "data": {
      "text/html": [
       "<div>\n",
       "<style scoped>\n",
       "    .dataframe tbody tr th:only-of-type {\n",
       "        vertical-align: middle;\n",
       "    }\n",
       "\n",
       "    .dataframe tbody tr th {\n",
       "        vertical-align: top;\n",
       "    }\n",
       "\n",
       "    .dataframe thead th {\n",
       "        text-align: right;\n",
       "    }\n",
       "</style>\n",
       "<table border=\"1\" class=\"dataframe\">\n",
       "  <thead>\n",
       "    <tr style=\"text-align: right;\">\n",
       "      <th></th>\n",
       "      <th>time</th>\n",
       "      <th>motor1</th>\n",
       "      <th>motor1_setpoint</th>\n",
       "      <th>det1</th>\n",
       "      <th>noisy_det</th>\n",
       "    </tr>\n",
       "    <tr>\n",
       "      <th>seq_num</th>\n",
       "      <th></th>\n",
       "      <th></th>\n",
       "      <th></th>\n",
       "      <th></th>\n",
       "      <th></th>\n",
       "    </tr>\n",
       "  </thead>\n",
       "  <tbody>\n",
       "    <tr>\n",
       "      <th>1</th>\n",
       "      <td>2024-09-10 17:46:47.930067778</td>\n",
       "      <td>20.0</td>\n",
       "      <td>20</td>\n",
       "      <td>0.0</td>\n",
       "      <td>0.054446</td>\n",
       "    </tr>\n",
       "    <tr>\n",
       "      <th>2</th>\n",
       "      <td>2024-09-10 17:46:47.984065533</td>\n",
       "      <td>20.0</td>\n",
       "      <td>20</td>\n",
       "      <td>0.0</td>\n",
       "      <td>0.050402</td>\n",
       "    </tr>\n",
       "  </tbody>\n",
       "</table>\n",
       "</div>"
      ],
      "text/plain": [
       "                                 time  motor1  motor1_setpoint  det1  \\\n",
       "seq_num                                                                \n",
       "1       2024-09-10 17:46:47.930067778    20.0               20   0.0   \n",
       "2       2024-09-10 17:46:47.984065533    20.0               20   0.0   \n",
       "\n",
       "         noisy_det  \n",
       "seq_num             \n",
       "1         0.054446  \n",
       "2         0.050402  "
      ]
     },
     "execution_count": 91,
     "metadata": {},
     "output_type": "execute_result"
    }
   ],
   "source": [
    "my_preprocessor_info.table('baseline')"
   ]
  },
  {
   "cell_type": "code",
   "execution_count": 92,
   "id": "8eaa63ac-3628-49e5-acfd-4d260f4af2af",
   "metadata": {},
   "outputs": [
    {
     "data": {
      "text/html": [
       "<div>\n",
       "<style scoped>\n",
       "    .dataframe tbody tr th:only-of-type {\n",
       "        vertical-align: middle;\n",
       "    }\n",
       "\n",
       "    .dataframe tbody tr th {\n",
       "        vertical-align: top;\n",
       "    }\n",
       "\n",
       "    .dataframe thead th {\n",
       "        text-align: right;\n",
       "    }\n",
       "</style>\n",
       "<table border=\"1\" class=\"dataframe\">\n",
       "  <thead>\n",
       "    <tr style=\"text-align: right;\">\n",
       "      <th></th>\n",
       "      <th>time</th>\n",
       "      <th>noisy_det</th>\n",
       "    </tr>\n",
       "    <tr>\n",
       "      <th>seq_num</th>\n",
       "      <th></th>\n",
       "      <th></th>\n",
       "    </tr>\n",
       "  </thead>\n",
       "  <tbody>\n",
       "    <tr>\n",
       "      <th>1</th>\n",
       "      <td>2024-09-10 17:46:47.935066700</td>\n",
       "      <td>0.054446</td>\n",
       "    </tr>\n",
       "  </tbody>\n",
       "</table>\n",
       "</div>"
      ],
      "text/plain": [
       "                                 time  noisy_det\n",
       "seq_num                                         \n",
       "1       2024-09-10 17:46:47.935066700   0.054446"
      ]
     },
     "execution_count": 92,
     "metadata": {},
     "output_type": "execute_result"
    }
   ],
   "source": [
    "my_preprocessor_info.table('noisy_det_monitor')"
   ]
  },
  {
   "cell_type": "markdown",
   "id": "85f0b64f-7561-475a-b794-33267c001534",
   "metadata": {},
   "source": [
    "### Callbacks"
   ]
  },
  {
   "cell_type": "markdown",
   "id": "f26b1e39-f4cf-48bc-b4c1-a1c40f8d0b65",
   "metadata": {},
   "source": [
    "A RunEngine, ao executar um plano, organiza dados em matadados em documentos. Cada vez que um documento é criado a RE passa essa lista de documentos para uma lista de funções."
   ]
  },
  {
   "cell_type": "markdown",
   "id": "6b4ce811-7c78-481c-aa83-02e5374e50e6",
   "metadata": {},
   "source": [
    "Cada função pode ter sua implementação específica, desde salvamento de dados até plots em tempo real."
   ]
  },
  {
   "cell_type": "code",
   "execution_count": null,
   "id": "7932b06e-5688-49dd-9cd0-1443e7ecfd1a",
   "metadata": {},
   "outputs": [],
   "source": [
    "RE(count([det1], num=3), print)"
   ]
  },
  {
   "cell_type": "code",
   "execution_count": null,
   "id": "1f6847af-a880-497f-b53b-94378925f3d8",
   "metadata": {},
   "outputs": [],
   "source": [
    "def my_callback(name, doc):\n",
    "    print('From my callback:', name)\n",
    "    print('Docs', doc)"
   ]
  },
  {
   "cell_type": "code",
   "execution_count": null,
   "id": "a45ce831-0d00-4c91-88bb-f3ce9a753226",
   "metadata": {
    "scrolled": true
   },
   "outputs": [],
   "source": [
    "RE(count([det1], num=3), my_callback)"
   ]
  },
  {
   "cell_type": "markdown",
   "id": "2975590f-b16f-4df8-abfa-dfeb0ca33dac",
   "metadata": {},
   "source": [
    "### Sidequest: Decorators e Wrappers"
   ]
  },
  {
   "cell_type": "markdown",
   "id": "fc2c5101-7bcd-4399-98a5-e0cbf0a6120f",
   "metadata": {},
   "source": [
    "Em Python, decorators são funções que podem modificar o comportamento de outras funções e métodos de classes, sem necessáriamente modificar o código-fonte delas. Na prática são utilizados para adicionar funcionalidades antes e depois de uma função.\n",
    "\n",
    "Já um wrapper é uma função interna, como o __wrapper()__ no exemplo abaixo. Ele envolve a função original e permite a adição de comportamentos adicionais ao redor da execução da função decorada. Note que o decorator recebe a função como argumento e retorna uma nova função, isto é, decorator != wrapper!"
   ]
  },
  {
   "cell_type": "code",
   "execution_count": null,
   "id": "788e0cb8-d808-4551-890c-5c3a756b8ee1",
   "metadata": {},
   "outputs": [],
   "source": [
    "def my_decorator(function):\n",
    "    def wrapper():\n",
    "        print('Antes')\n",
    "        function()\n",
    "        print('Depois')\n",
    "    return wrapper"
   ]
  },
  {
   "cell_type": "code",
   "execution_count": null,
   "id": "1217e5a5-6d60-4334-ad47-ea66cb5b9845",
   "metadata": {},
   "outputs": [],
   "source": [
    "@my_decorator\n",
    "def my_func():\n",
    "    print('Olá pessoal')"
   ]
  },
  {
   "cell_type": "code",
   "execution_count": null,
   "id": "e4341553-a792-4adb-8732-3f7700e3e329",
   "metadata": {},
   "outputs": [],
   "source": [
    "my_func()"
   ]
  },
  {
   "cell_type": "markdown",
   "id": "d7f21fb4-ca25-4814-ab40-4b402018ce50",
   "metadata": {},
   "source": [
    "#### Callbacks"
   ]
  },
  {
   "cell_type": "markdown",
   "id": "d739d511-973c-4ce0-9c83-a1b5062dcdac",
   "metadata": {},
   "source": [
    "Sabendo o que são decoradores e wrappers, podemos utilizar alguns decoradores disponibilizados pelo Bluesky. Por exemplo, para adicionar callbacks para planos específicos podemos utilizar o subs_decorator "
   ]
  },
  {
   "cell_type": "code",
   "execution_count": null,
   "id": "badefa8a-f4e8-468f-bcc7-b445cd6b0641",
   "metadata": {},
   "outputs": [],
   "source": [
    "@subs_decorator(print)\n",
    "def custom_plan():\n",
    "    yield from count([det1], num=10)"
   ]
  },
  {
   "cell_type": "code",
   "execution_count": null,
   "id": "06e1d2ac-07dc-47ad-a1ad-49715b67a9c5",
   "metadata": {},
   "outputs": [],
   "source": [
    "RE(custom_plan())"
   ]
  },
  {
   "cell_type": "markdown",
   "id": "26bbf28a-add0-4efc-9893-3dc440861bad",
   "metadata": {},
   "source": [
    "#### Baseline"
   ]
  },
  {
   "cell_type": "code",
   "execution_count": null,
   "id": "09490c52-1266-4274-b962-a47768b9780d",
   "metadata": {},
   "outputs": [],
   "source": [
    "sd.baseline = []\n",
    "sd.monitor = []"
   ]
  },
  {
   "cell_type": "code",
   "execution_count": null,
   "id": "746f5223-da26-4ebe-919e-845beb54b1f5",
   "metadata": {},
   "outputs": [],
   "source": [
    "@baseline_decorator([noisy_det])\n",
    "def my_simple_plan():\n",
    "    yield from scan([det1], motor1, 0, 10, 10)"
   ]
  },
  {
   "cell_type": "code",
   "execution_count": null,
   "id": "bb606548-bc62-47bc-8a64-8914810f6c43",
   "metadata": {},
   "outputs": [],
   "source": [
    "RE(my_simple_plan())"
   ]
  },
  {
   "cell_type": "markdown",
   "id": "add19448-21fd-4903-8b51-682377e93d50",
   "metadata": {},
   "source": [
    "Exemplo mais complexo"
   ]
  },
  {
   "cell_type": "code",
   "execution_count": 80,
   "id": "4440dc82-7276-4225-8ba6-4cfa99fbdd66",
   "metadata": {},
   "outputs": [],
   "source": [
    "def my_other_plan():\n",
    "    @baseline_decorator([noisy_det, motor1])\n",
    "    def inner():\n",
    "        yield from count([det1], num=2)\n",
    "        yield from scan([det1], motor1, 0, 10, 10)\n",
    "    yield from inner()"
   ]
  },
  {
   "cell_type": "code",
   "execution_count": 81,
   "id": "a2b2921f-8d01-47f9-9372-54f06b5092d0",
   "metadata": {},
   "outputs": [
    {
     "name": "stdout",
     "output_type": "stream",
     "text": [
      "\n",
      "\n",
      "Transient Scan ID: 29     Time: 2024-09-10 14:46:23\n",
      "Persistent Unique Scan ID: '881230ce-9fca-4121-b3c2-02fd63318e1d'\n",
      "New stream: 'noisy_det_monitor'\n",
      "New stream: 'baseline'\n",
      "Start-of-run baseline readings:\n",
      "+--------------------------------+--------------------------------+\n",
      "|                      noisy_det | 0.01996364750803175            |\n",
      "|                         motor1 | 20.0                           |\n",
      "+--------------------------------+--------------------------------+\n",
      "New stream: 'primary'\n",
      "+-----------+------------+------------+\n",
      "|   seq_num |       time |       det1 |\n",
      "+-----------+------------+------------+\n",
      "|         1 | 14:46:24.0 |      0.000 |\n",
      "|         2 | 14:46:24.0 |      0.000 |\n",
      "+-----------+------------+------------+\n",
      "generator count ['881230ce'] (scan num: 29)\n",
      "End-of-run baseline readings:\n",
      "+--------------------------------+--------------------------------+\n",
      "|                      noisy_det | 0.09475579556298318            |\n",
      "|                         motor1 | 20.0                           |\n",
      "+--------------------------------+--------------------------------+\n",
      "\n",
      "\n",
      "\n",
      "\n",
      "\n",
      "Transient Scan ID: 30     Time: 2024-09-10 14:46:24\n",
      "Persistent Unique Scan ID: '9ef00270-0b5b-4baf-81b4-fa1e32f7bf54'\n",
      "New stream: 'noisy_det_monitor'\n",
      "New stream: 'baseline'\n",
      "Start-of-run baseline readings:\n",
      "+--------------------------------+--------------------------------+\n",
      "|                      noisy_det | -0.097595425666239             |\n",
      "|                         motor1 | 20.0                           |\n",
      "+--------------------------------+--------------------------------+\n",
      "New stream: 'primary'\n",
      "+-----------+------------+------------+------------+\n",
      "|   seq_num |       time |     motor1 |       det1 |\n",
      "+-----------+------------+------------+------------+\n",
      "|         1 | 14:46:24.1 |      0.000 |      5.000 |\n",
      "|         2 | 14:46:24.1 |      1.111 |      0.423 |\n",
      "|         3 | 14:46:24.1 |      2.222 |      0.000 |\n",
      "|         4 | 14:46:24.1 |      3.333 |      0.000 |\n",
      "|         5 | 14:46:24.1 |      4.444 |      0.000 |\n",
      "|         6 | 14:46:24.1 |      5.556 |      0.000 |\n",
      "|         7 | 14:46:24.2 |      6.667 |      0.000 |\n",
      "|         8 | 14:46:24.2 |      7.778 |      0.000 |\n",
      "|         9 | 14:46:24.2 |      8.889 |      0.000 |\n",
      "|        10 | 14:46:24.2 |     10.000 |      0.000 |\n",
      "+-----------+------------+------------+------------+\n",
      "generator scan ['9ef00270'] (scan num: 30)\n",
      "End-of-run baseline readings:\n",
      "+--------------------------------+--------------------------------+\n",
      "|                      noisy_det | -0.07012433105262281           |\n",
      "|                         motor1 | 10.0                           |\n",
      "+--------------------------------+--------------------------------+\n",
      "\n",
      "\n",
      "\n"
     ]
    },
    {
     "data": {
      "text/plain": [
       "('881230ce-9fca-4121-b3c2-02fd63318e1d',\n",
       " '9ef00270-0b5b-4baf-81b4-fa1e32f7bf54')"
      ]
     },
     "execution_count": 81,
     "metadata": {},
     "output_type": "execute_result"
    }
   ],
   "source": [
    "RE(my_other_plan())"
   ]
  },
  {
   "cell_type": "markdown",
   "id": "78342215-8bfe-4305-9428-736459935b13",
   "metadata": {},
   "source": [
    "#### Monitor"
   ]
  },
  {
   "cell_type": "code",
   "execution_count": 106,
   "id": "d0a308ce-5a5d-44b1-8fab-b816c61b769c",
   "metadata": {},
   "outputs": [],
   "source": [
    "def my_monitor_plan():\n",
    "    \n",
    "    @monitor_during_decorator([det1])\n",
    "    def inner():\n",
    "        yield from scan([noisy_det], motor1, 0, 10, 10)\n",
    "        yield from mv(motor1, 20)\n",
    "    yield from inner()\n"
   ]
  },
  {
   "cell_type": "code",
   "execution_count": 107,
   "id": "0dfcf9bd-0727-4dfa-a074-95e58e9d58f1",
   "metadata": {},
   "outputs": [
    {
     "name": "stdout",
     "output_type": "stream",
     "text": [
      "\n",
      "\n",
      "Transient Scan ID: 2     Time: 2024-09-10 14:50:10\n",
      "Persistent Unique Scan ID: '0ea9c878-0996-4094-bc9e-e78f3b7d10da'\n",
      "New stream: 'det1_monitor'\n",
      "New stream: 'primary'\n",
      "+-----------+------------+------------+------------+\n",
      "|   seq_num |       time |     motor1 |  noisy_det |\n",
      "+-----------+------------+------------+------------+\n",
      "|         1 | 14:50:10.4 |      0.000 |     -0.049 |\n",
      "|         2 | 14:50:10.4 |      1.111 |     -0.036 |\n",
      "|         3 | 14:50:10.5 |      2.222 |     -0.080 |\n",
      "|         4 | 14:50:10.5 |      3.333 |      0.049 |\n",
      "|         5 | 14:50:10.5 |      4.444 |      0.095 |\n",
      "|         6 | 14:50:10.5 |      5.556 |      0.011 |\n",
      "|         7 | 14:50:10.5 |      6.667 |     -0.009 |\n",
      "|         8 | 14:50:10.5 |      7.778 |      0.082 |\n",
      "|         9 | 14:50:10.5 |      8.889 |     -0.050 |\n",
      "|        10 | 14:50:10.6 |     10.000 |      0.091 |\n",
      "+-----------+------------+------------+------------+\n",
      "generator scan ['0ea9c878'] (scan num: 2)\n",
      "\n",
      "\n",
      "\n"
     ]
    }
   ],
   "source": [
    "uid, = RE(my_monitor_plan())"
   ]
  },
  {
   "cell_type": "code",
   "execution_count": null,
   "id": "69b07f2f-27e7-4a21-8c0b-b87384e3e36d",
   "metadata": {},
   "outputs": [],
   "source": [
    "monitor = db[uid]"
   ]
  },
  {
   "cell_type": "code",
   "execution_count": null,
   "id": "4d313b46-7a21-49be-b952-46c541fcda3c",
   "metadata": {},
   "outputs": [],
   "source": [
    "monitor.table('det1_monitor')"
   ]
  },
  {
   "cell_type": "markdown",
   "id": "d2491b9a-97a9-4f4d-8afe-c4bd4384ef29",
   "metadata": {},
   "source": [
    "#### Fly"
   ]
  },
  {
   "cell_type": "markdown",
   "id": "927e06cf-d4c6-4628-8832-8349cc76a142",
   "metadata": {},
   "source": [
    "Executa o __kickoff__ durante uma Run"
   ]
  },
  {
   "cell_type": "code",
   "execution_count": null,
   "id": "a2274755-2048-4caf-98d1-2be49541992f",
   "metadata": {},
   "outputs": [],
   "source": [
    "@fly_during_decorator([flyer1, flyer2])\n",
    "def fly_plan_with_scan():\n",
    "    yield from scan([noisy_det], motor1, 0, 10, 10)\n",
    "    yield from mv(motor1, 20)\n"
   ]
  },
  {
   "cell_type": "code",
   "execution_count": null,
   "id": "0ecd7aa9-a49e-423a-b2b3-b94dcae380db",
   "metadata": {},
   "outputs": [],
   "source": [
    "uid, = RE(fly_plan_with_scan())"
   ]
  },
  {
   "cell_type": "code",
   "execution_count": null,
   "id": "ec4067e8-cb8e-4efb-a5f5-53dd19b783f5",
   "metadata": {},
   "outputs": [],
   "source": [
    "fly_run = db[uid]"
   ]
  },
  {
   "cell_type": "code",
   "execution_count": null,
   "id": "bd56da04-ed28-46a7-b8c9-b6a149ebc7f2",
   "metadata": {},
   "outputs": [],
   "source": [
    "fly_run.table('flyer1')"
   ]
  },
  {
   "cell_type": "code",
   "execution_count": null,
   "id": "09a56a31-02d7-4701-8e8d-382a22626ca6",
   "metadata": {},
   "outputs": [],
   "source": [
    "uid, = RE(scan([det1], motor1, 0, 10, 10))"
   ]
  },
  {
   "cell_type": "code",
   "execution_count": null,
   "id": "4ed4fc6e-1e4b-444e-aa27-b4ab46081ba0",
   "metadata": {},
   "outputs": [],
   "source": [
    "my_run = db[uid]"
   ]
  },
  {
   "cell_type": "code",
   "execution_count": null,
   "id": "fd87e48b-c720-49ab-a4e5-4c15ae71b603",
   "metadata": {},
   "outputs": [],
   "source": [
    "my_run.descriptors"
   ]
  },
  {
   "cell_type": "code",
   "execution_count": null,
   "id": "a3c54a5e-baeb-4b4d-9563-00132769fe9d",
   "metadata": {},
   "outputs": [],
   "source": [
    "my_run.descriptors[0]['data_keys']"
   ]
  },
  {
   "cell_type": "code",
   "execution_count": null,
   "id": "5e13ddbc-daa7-4b8a-bf1e-350190a978d0",
   "metadata": {},
   "outputs": [],
   "source": [
    "my_run.descriptors[0]['object_keys']"
   ]
  },
  {
   "cell_type": "code",
   "execution_count": null,
   "id": "9cad565f-96b3-4963-905c-235fe2bcc821",
   "metadata": {},
   "outputs": [],
   "source": [
    "my_run.descriptors[0]['configuration']"
   ]
  },
  {
   "cell_type": "code",
   "execution_count": null,
   "id": "9aebfa6c-1b07-40ec-8d9e-aebf3133415e",
   "metadata": {},
   "outputs": [],
   "source": [
    "my_run.descriptors[0]['hints']"
   ]
  },
  {
   "cell_type": "code",
   "execution_count": null,
   "id": "a964603a-7f75-4804-b397-01b0836a8526",
   "metadata": {},
   "outputs": [],
   "source": []
  },
  {
   "cell_type": "code",
   "execution_count": null,
   "id": "af96703c-7111-4c22-aeed-d8d9b47538bf",
   "metadata": {},
   "outputs": [],
   "source": []
  },
  {
   "cell_type": "code",
   "execution_count": null,
   "id": "650d356f-bbd3-421d-8d69-2db5d9681007",
   "metadata": {},
   "outputs": [],
   "source": []
  },
  {
   "cell_type": "code",
   "execution_count": null,
   "id": "af62a6d1-7cff-4eb4-8323-3e31f23a9388",
   "metadata": {},
   "outputs": [],
   "source": []
  },
  {
   "cell_type": "markdown",
   "id": "22cc38fd",
   "metadata": {
    "slideshow": {
     "slide_type": "slide"
    }
   },
   "source": [
    "create: Bundle future readings into a new Event document.\n",
    "\n",
    "save: Close a bundle of readings and emit a completed Event document.\n",
    "\n",
    "drop: Drop a bundle of readings without emitting a completed Event document.\n",
    "\n",
    "subscribe: Subscribe the stream of emitted documents.\n",
    "\n",
    "unsubscribe: Remove a subscription.\n",
    "\n",
    "\n",
    "Plan Stubs\n",
    "\n",
    "trigger: Trigger and acquisition.\n",
    "\n",
    "read: Take a reading and add it to the current bundle of readings.\n",
    "\n",
    "rd: Reads a single-value non-triggered object"
   ]
  },
  {
   "cell_type": "markdown",
   "id": "6c157536",
   "metadata": {},
   "source": [
    "Preprocessors -> What is a decorator\n",
    "\n",
    "relative_set_decorator: Interpret 'set' messages on devices as relative to initial position.\n",
    "\n",
    "reset_positions_decorator: Return movable devices to their initial positions at the end.\n",
    "\n",
    "run_decorator: Enclose in 'open_run' and 'close_run' messages.\n",
    "\n",
    "stage_decorator: 'Stage' devices (i.e., prepare them for use, 'arm' them) and then unstage.\n",
    "\n",
    "finalize_decorator: try...finally helper"
   ]
  },
  {
   "cell_type": "markdown",
   "id": "fb339439",
   "metadata": {},
   "source": [
    "Suplemental Data\n",
    "\n",
    "\n",
    "\n",
    "baseline_wrapper()\n",
    "\n",
    "monitor_during_wrapper()\n",
    "\n",
    "fly_during_wrapper()"
   ]
  }
 ],
 "metadata": {
  "celltoolbar": "Slideshow",
  "kernelspec": {
   "display_name": "Python 3 (ipykernel)",
   "language": "python",
   "name": "python3"
  },
  "language_info": {
   "codemirror_mode": {
    "name": "ipython",
    "version": 3
   },
   "file_extension": ".py",
   "mimetype": "text/x-python",
   "name": "python",
   "nbconvert_exporter": "python",
   "pygments_lexer": "ipython3",
   "version": "3.12.4"
  },
  "rise": {
   "enable_chalkboard": true,
   "scroll": true,
   "start_slideshow_at": "beginning",
   "theme": "sky"
  }
 },
 "nbformat": 4,
 "nbformat_minor": 5
}
