{
 "cells": [
  {
   "cell_type": "code",
   "execution_count": null,
   "id": "8a2a4682",
   "metadata": {
    "slideshow": {
     "slide_type": "slide"
    }
   },
   "outputs": [],
   "source": [
    "%matplotlib qt\n",
    "from bluesky import RunEngine\n",
    "from bluesky.plans import scan\n",
    "from bluesky.plan_stubs import open_run, close_run, mv\n",
    "from ophyd.sim import det1, motor1\n",
    "from databroker import Broker\n",
    "from matplotlib.pyplot import ion\n",
    "from bluesky.utils import install_nb_kicker\n",
    "install_nb_kicker()\n",
    "\n",
    "ion()\n",
    "RE = RunEngine()\n",
    "\n",
    "db = Broker.named('temp')\n",
    "RE.subscribe(db.insert)"
   ]
  },
  {
   "cell_type": "code",
   "execution_count": null,
   "id": "a0c697a0",
   "metadata": {
    "slideshow": {
     "slide_type": "subslide"
    }
   },
   "outputs": [],
   "source": [
    "def plan_without_data():\n",
    "    # Plan procedures\n",
    "    yield from mv(motor1, 10)\n",
    "\n",
    "uid = RE(plan_without_data())\n",
    "print(uid)"
   ]
  },
  {
   "cell_type": "code",
   "execution_count": null,
   "id": "8565c9ba",
   "metadata": {
    "slideshow": {
     "slide_type": "fragment"
    }
   },
   "outputs": [],
   "source": [
    "def plan_with_data():\n",
    "    yield from open_run(md={'content': 'Start Document Additional Metadata'})\n",
    "    \n",
    "    # Plan procedures\n",
    "    yield from mv(motor1, 10)\n",
    "    \n",
    "    yield from close_run()\n",
    "\n",
    "uid = RE(plan_with_data())\n",
    "print(uid)"
   ]
  },
  {
   "cell_type": "markdown",
   "id": "d2fc3d41",
   "metadata": {
    "slideshow": {
     "slide_type": "slide"
    }
   },
   "source": [
    "## Documents"
   ]
  },
  {
   "cell_type": "markdown",
   "id": "1bbb262c",
   "metadata": {
    "slideshow": {
     "slide_type": "subslide"
    }
   },
   "source": [
    "### Metadata on Standard Plans"
   ]
  },
  {
   "cell_type": "code",
   "execution_count": null,
   "id": "5040a8bf",
   "metadata": {
    "scrolled": true,
    "slideshow": {
     "slide_type": "fragment"
    }
   },
   "outputs": [],
   "source": [
    "(uid, ) = RE(scan([det1], motor1, -3, 3, 15, md={\n",
    "    \"motive\": \"Calibration\",\n",
    "    \"sample\": \"Standard Sample\"\n",
    "}))\n",
    "db[uid]"
   ]
  },
  {
   "cell_type": "code",
   "execution_count": null,
   "id": "31086a87",
   "metadata": {
    "scrolled": true,
    "slideshow": {
     "slide_type": "subslide"
    }
   },
   "outputs": [],
   "source": [
    "last_run = db[-1]\n",
    "last_run"
   ]
  },
  {
   "cell_type": "markdown",
   "id": "05d65745",
   "metadata": {
    "slideshow": {
     "slide_type": "subslide"
    }
   },
   "source": [
    "### Start Event"
   ]
  },
  {
   "cell_type": "markdown",
   "id": "32755a54",
   "metadata": {
    "slideshow": {
     "slide_type": "fragment"
    }
   },
   "source": [
    "- time: Horário de início do scan\n",
    "\n",
    "- plan_name: Nome do plano executado, como 'scan' ou 'grid_scan'\n",
    "\n",
    "- uid: ID único que identifica o scan realizado\n",
    "\n",
    "- scan_id: Número inteiro amigável ao usuário, mas não necessáriamente único \n",
    "\n",
    "- Outros metadados inseridos pelo usuário ou plano"
   ]
  },
  {
   "cell_type": "code",
   "execution_count": null,
   "id": "ce35ce4d",
   "metadata": {
    "scrolled": true,
    "slideshow": {
     "slide_type": "fragment"
    }
   },
   "outputs": [],
   "source": [
    "last_run.start"
   ]
  },
  {
   "cell_type": "markdown",
   "id": "18b2c022",
   "metadata": {
    "slideshow": {
     "slide_type": "subslide"
    }
   },
   "source": [
    "### Stop Event"
   ]
  },
  {
   "cell_type": "markdown",
   "id": "f9c1b4e5",
   "metadata": {
    "slideshow": {
     "slide_type": "fragment"
    }
   },
   "source": [
    "- time: Horário de fim do scan\n",
    "\n",
    "- exit_status: Status do plano ao final ('abort', 'fail', 'success')"
   ]
  },
  {
   "cell_type": "code",
   "execution_count": null,
   "id": "82ccbb23",
   "metadata": {
    "slideshow": {
     "slide_type": "fragment"
    }
   },
   "outputs": [],
   "source": [
    "last_run.stop"
   ]
  },
  {
   "cell_type": "markdown",
   "id": "e30dfe61",
   "metadata": {
    "slideshow": {
     "slide_type": "subslide"
    }
   },
   "source": [
    "### Descriptors"
   ]
  },
  {
   "cell_type": "code",
   "execution_count": null,
   "id": "1ad0ea30",
   "metadata": {
    "scrolled": true,
    "slideshow": {
     "slide_type": "fragment"
    }
   },
   "outputs": [],
   "source": [
    "last_run.descriptors[0]"
   ]
  },
  {
   "cell_type": "markdown",
   "id": "c1a343ef",
   "metadata": {
    "slideshow": {
     "slide_type": "subslide"
    }
   },
   "source": [
    "### Events"
   ]
  },
  {
   "cell_type": "code",
   "execution_count": null,
   "id": "e19b76eb",
   "metadata": {
    "slideshow": {
     "slide_type": "fragment"
    }
   },
   "outputs": [],
   "source": [
    "last_run.table()"
   ]
  },
  {
   "cell_type": "markdown",
   "id": "22cc38fd",
   "metadata": {
    "slideshow": {
     "slide_type": "slide"
    }
   },
   "source": [
    "create: Bundle future readings into a new Event document.\n",
    "\n",
    "save: Close a bundle of readings and emit a completed Event document.\n",
    "\n",
    "drop: Drop a bundle of readings without emitting a completed Event document.\n",
    "\n",
    "subscribe: Subscribe the stream of emitted documents.\n",
    "\n",
    "unsubscribe: Remove a subscription.\n",
    "\n",
    "\n",
    "Plan Stubs\n",
    "\n",
    "trigger: Trigger and acquisition.\n",
    "\n",
    "read: Take a reading and add it to the current bundle of readings.\n",
    "\n",
    "rd: Reads a single-value non-triggered object"
   ]
  },
  {
   "cell_type": "markdown",
   "id": "6c157536",
   "metadata": {},
   "source": [
    "Preprocessors -> What is a decorator\n",
    "\n",
    "relative_set_decorator: Interpret 'set' messages on devices as relative to initial position.\n",
    "\n",
    "reset_positions_decorator: Return movable devices to their initial positions at the end.\n",
    "\n",
    "run_decorator: Enclose in 'open_run' and 'close_run' messages.\n",
    "\n",
    "stage_decorator: 'Stage' devices (i.e., prepare them for use, 'arm' them) and then unstage.\n",
    "\n",
    "finalize_decorator: try...finally helper"
   ]
  },
  {
   "cell_type": "markdown",
   "id": "fb339439",
   "metadata": {},
   "source": [
    "Suplemental Data\n",
    "\n",
    "\n",
    "\n",
    "baseline_wrapper()\n",
    "\n",
    "monitor_during_wrapper()\n",
    "\n",
    "fly_during_wrapper()"
   ]
  }
 ],
 "metadata": {
  "celltoolbar": "Slideshow",
  "kernelspec": {
   "display_name": "Python 3 (ipykernel)",
   "language": "python",
   "name": "python3"
  },
  "language_info": {
   "codemirror_mode": {
    "name": "ipython",
    "version": 3
   },
   "file_extension": ".py",
   "mimetype": "text/x-python",
   "name": "python",
   "nbconvert_exporter": "python",
   "pygments_lexer": "ipython3",
   "version": "3.9.2"
  },
  "rise": {
   "enable_chalkboard": true,
   "start_slideshow_at": "beginning",
   "theme": "sky"
  }
 },
 "nbformat": 4,
 "nbformat_minor": 5
}
