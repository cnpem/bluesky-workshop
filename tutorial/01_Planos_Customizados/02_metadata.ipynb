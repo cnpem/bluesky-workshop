{
 "cells": [
  {
   "cell_type": "code",
   "execution_count": 76,
   "id": "8a2a4682",
   "metadata": {
    "slideshow": {
     "slide_type": "slide"
    }
   },
   "outputs": [
    {
     "name": "stderr",
     "output_type": "stream",
     "text": [
      "Tiled version 0.1.0b5\n"
     ]
    },
    {
     "data": {
      "text/plain": [
       "0"
      ]
     },
     "execution_count": 76,
     "metadata": {},
     "output_type": "execute_result"
    }
   ],
   "source": [
    "%matplotlib qt\n",
    "from bluesky import RunEngine\n",
    "from bluesky.callbacks import LiveTable\n",
    "from bluesky.plans import scan\n",
    "from bluesky.plan_stubs import mv, open_run, close_run, create, \\\n",
    "    save, drop, rd, trigger, trigger_and_read\n",
    "from ophyd.sim import det1, noisy_det, motor1\n",
    "from databroker import Broker\n",
    "from matplotlib.pyplot import ion\n",
    "from bluesky.utils import install_nb_kicker\n",
    "install_nb_kicker()\n",
    "\n",
    "ion()\n",
    "RE = RunEngine()\n",
    "\n",
    "db = Broker.named('temp')\n",
    "RE.subscribe(db.insert)"
   ]
  },
  {
   "cell_type": "code",
   "execution_count": null,
   "id": "a0c697a0",
   "metadata": {
    "slideshow": {
     "slide_type": "subslide"
    }
   },
   "outputs": [],
   "source": [
    "def plan_without_data():\n",
    "    # Plan procedures\n",
    "    yield from mv(motor1, 10)\n",
    "\n",
    "uid = RE(plan_without_data())\n",
    "print(uid)"
   ]
  },
  {
   "cell_type": "code",
   "execution_count": null,
   "id": "9a4b2825",
   "metadata": {
    "slideshow": {
     "slide_type": "fragment"
    }
   },
   "outputs": [],
   "source": [
    "def plan_with_data():\n",
    "    yield from open_run(md={'content': 'Start Document Additional Metadata'})\n",
    "    \n",
    "    # Plan procedures\n",
    "    yield from mv(motor1, 10)\n",
    "    \n",
    "    yield from close_run()\n",
    "\n",
    "uid = RE(plan_with_data())\n",
    "print(uid)"
   ]
  },
  {
   "cell_type": "markdown",
   "id": "d2fc3d41",
   "metadata": {
    "slideshow": {
     "slide_type": "slide"
    }
   },
   "source": [
    "## Documents"
   ]
  },
  {
   "cell_type": "markdown",
   "id": "1bbb262c",
   "metadata": {
    "slideshow": {
     "slide_type": "subslide"
    }
   },
   "source": [
    "### Metadata on Standard Plans"
   ]
  },
  {
   "cell_type": "code",
   "execution_count": null,
   "id": "5040a8bf",
   "metadata": {
    "scrolled": true,
    "slideshow": {
     "slide_type": "fragment"
    }
   },
   "outputs": [],
   "source": [
    "(uid, ) = RE(scan([det1], motor1, -3, 3, 15, md={\n",
    "    \"motive\": \"Calibration\",\n",
    "    \"sample\": \"Standard Sample\"\n",
    "}))\n",
    "db[uid]"
   ]
  },
  {
   "cell_type": "code",
   "execution_count": null,
   "id": "31086a87",
   "metadata": {
    "scrolled": true,
    "slideshow": {
     "slide_type": "subslide"
    }
   },
   "outputs": [],
   "source": [
    "last_run = db[-1]\n",
    "last_run"
   ]
  },
  {
   "cell_type": "markdown",
   "id": "05d65745",
   "metadata": {
    "slideshow": {
     "slide_type": "subslide"
    }
   },
   "source": [
    "### Start Event"
   ]
  },
  {
   "cell_type": "markdown",
   "id": "32755a54",
   "metadata": {
    "slideshow": {
     "slide_type": "fragment"
    }
   },
   "source": [
    "- time: Horário de início do scan\n",
    "\n",
    "- plan_name: Nome do plano executado, como 'scan' ou 'grid_scan'\n",
    "\n",
    "- uid: ID único que identifica o scan realizado\n",
    "\n",
    "- scan_id: Número inteiro amigável ao usuário, mas não necessáriamente único \n",
    "\n",
    "- Outros metadados inseridos pelo usuário ou plano"
   ]
  },
  {
   "cell_type": "code",
   "execution_count": null,
   "id": "ce35ce4d",
   "metadata": {
    "scrolled": true,
    "slideshow": {
     "slide_type": "fragment"
    }
   },
   "outputs": [],
   "source": [
    "last_run.start"
   ]
  },
  {
   "cell_type": "markdown",
   "id": "18b2c022",
   "metadata": {
    "slideshow": {
     "slide_type": "subslide"
    }
   },
   "source": [
    "### Stop Event"
   ]
  },
  {
   "cell_type": "markdown",
   "id": "f9c1b4e5",
   "metadata": {
    "slideshow": {
     "slide_type": "fragment"
    }
   },
   "source": [
    "- time: Horário de fim do scan\n",
    "\n",
    "- exit_status: Status do plano ao final ('abort', 'fail', 'success')"
   ]
  },
  {
   "cell_type": "code",
   "execution_count": null,
   "id": "82ccbb23",
   "metadata": {
    "slideshow": {
     "slide_type": "fragment"
    }
   },
   "outputs": [],
   "source": [
    "last_run.stop"
   ]
  },
  {
   "cell_type": "markdown",
   "id": "e30dfe61",
   "metadata": {
    "slideshow": {
     "slide_type": "subslide"
    }
   },
   "source": [
    "### Descriptors"
   ]
  },
  {
   "cell_type": "code",
   "execution_count": null,
   "id": "1ad0ea30",
   "metadata": {
    "scrolled": true,
    "slideshow": {
     "slide_type": "fragment"
    }
   },
   "outputs": [],
   "source": [
    "last_run.descriptors[0]"
   ]
  },
  {
   "cell_type": "markdown",
   "id": "c1a343ef",
   "metadata": {
    "slideshow": {
     "slide_type": "subslide"
    }
   },
   "source": [
    "### Events"
   ]
  },
  {
   "cell_type": "code",
   "execution_count": null,
   "id": "e19b76eb",
   "metadata": {
    "slideshow": {
     "slide_type": "fragment"
    }
   },
   "outputs": [],
   "source": [
    "last_run.table()"
   ]
  },
  {
   "cell_type": "markdown",
   "id": "b6f0c14b",
   "metadata": {
    "slideshow": {
     "slide_type": "slide"
    }
   },
   "source": [
    "## Metadata Plan Stubs"
   ]
  },
  {
   "cell_type": "code",
   "execution_count": 74,
   "id": "ce63d2b8",
   "metadata": {
    "slideshow": {
     "slide_type": "subslide"
    }
   },
   "outputs": [
    {
     "name": "stdout",
     "output_type": "stream",
     "text": [
      "\n",
      "\n",
      "+-----------+------------+------------+\n",
      "|   seq_num |       time |  noisy_det |\n",
      "+-----------+------------+------------+\n",
      "|         1 | 16:58:09.3 |      0.961 |\n",
      "+-----------+------------+------------+\n",
      "generator plan_with_data ['e38627ce'] (scan num: 6)\n",
      "\n",
      "\n"
     ]
    },
    {
     "data": {
      "text/html": [
       "<div>\n",
       "<style scoped>\n",
       "    .dataframe tbody tr th:only-of-type {\n",
       "        vertical-align: middle;\n",
       "    }\n",
       "\n",
       "    .dataframe tbody tr th {\n",
       "        vertical-align: top;\n",
       "    }\n",
       "\n",
       "    .dataframe thead th {\n",
       "        text-align: right;\n",
       "    }\n",
       "</style>\n",
       "<table border=\"1\" class=\"dataframe\">\n",
       "  <thead>\n",
       "    <tr style=\"text-align: right;\">\n",
       "      <th></th>\n",
       "      <th>noisy_det</th>\n",
       "      <th>time</th>\n",
       "    </tr>\n",
       "    <tr>\n",
       "      <th>seq_num</th>\n",
       "      <th></th>\n",
       "      <th></th>\n",
       "    </tr>\n",
       "  </thead>\n",
       "  <tbody>\n",
       "    <tr>\n",
       "      <th>1</th>\n",
       "      <td>0.961416</td>\n",
       "      <td>2024-09-03 19:58:09.306817770</td>\n",
       "    </tr>\n",
       "  </tbody>\n",
       "</table>\n",
       "</div>"
      ],
      "text/plain": [
       "         noisy_det                          time\n",
       "seq_num                                         \n",
       "1         0.961416 2024-09-03 19:58:09.306817770"
      ]
     },
     "execution_count": 74,
     "metadata": {},
     "output_type": "execute_result"
    }
   ],
   "source": [
    "def plan_with_data():\n",
    "    yield from open_run(md={})\n",
    "    \n",
    "    # Plan procedures\n",
    "    yield from trigger_and_read([noisy_det])\n",
    "    \n",
    "    yield from close_run()\n",
    "\n",
    "uid = RE(plan_with_data(), LiveTable(['noisy_det']))\n",
    "db[-1].table()"
   ]
  },
  {
   "cell_type": "code",
   "execution_count": 75,
   "id": "36bbf550",
   "metadata": {
    "scrolled": true,
    "slideshow": {
     "slide_type": "subslide"
    }
   },
   "outputs": [
    {
     "data": {
      "text/html": [
       "\n",
       "\n",
       "\n",
       "<table>\n",
       "  <tr>\n",
       "    <td><table>\n",
       "<caption> Start </caption><tr>\n",
       "    <th> plan_name </th>\n",
       "    <td>plan_with_data</td>\n",
       "  </tr><tr>\n",
       "    <th> plan_type </th>\n",
       "    <td>generator</td>\n",
       "  </tr><tr>\n",
       "    <th> scan_id </th>\n",
       "    <td>6</td>\n",
       "  </tr><tr>\n",
       "    <th> time </th>\n",
       "    <td>9 seconds ago (2024-09-03T16:58:09.265515)</td>\n",
       "  </tr><tr>\n",
       "    <th> uid </th>\n",
       "    <td>e38627ce-1886-4cf7-a648-e697d726d34f</td>\n",
       "  </tr><tr>\n",
       "    <th> versions </th>\n",
       "    <td><table>\n",
       "          <tr>\n",
       "    <th> bluesky </th>\n",
       "    <td>1.13.0a4</td>\n",
       "  </tr><tr>\n",
       "    <th> ophyd </th>\n",
       "    <td>1.9.0</td>\n",
       "  </tr>\n",
       "        </table></td>\n",
       "  </tr></table></td>\n",
       "  </tr\n",
       "  <tr>\n",
       "    <td><table>\n",
       "<caption> Stop </caption><tr>\n",
       "    <th> exit_status </th>\n",
       "    <td>success</td>\n",
       "  </tr><tr>\n",
       "    <th> num_events </th>\n",
       "    <td><table>\n",
       "          <tr>\n",
       "    <th> primary </th>\n",
       "    <td>1</td>\n",
       "  </tr>\n",
       "        </table></td>\n",
       "  </tr><tr>\n",
       "    <th> reason </th>\n",
       "    <td></td>\n",
       "  </tr><tr>\n",
       "    <th> run_start </th>\n",
       "    <td>e38627ce-1886-4cf7-a648-e697d726d34f</td>\n",
       "  </tr><tr>\n",
       "    <th> time </th>\n",
       "    <td>9 seconds ago (2024-09-03T16:58:09.328249)</td>\n",
       "  </tr><tr>\n",
       "    <th> uid </th>\n",
       "    <td>1828f20b-41d1-45b5-a861-5d2ff7188ccd</td>\n",
       "  </tr></table></td>\n",
       "  </tr>\n",
       "  <tr>\n",
       "  <td>\n",
       "      <table>\n",
       "      <caption>Descriptors</caption><tr>\n",
       "         <td> <table>\n",
       "<caption> primary </caption><tr>\n",
       "    <th> configuration </th>\n",
       "    <td><table>\n",
       "          <tr>\n",
       "    <th> noisy_det </th>\n",
       "    <td><table>\n",
       "          <tr>\n",
       "    <th> data </th>\n",
       "    <td><table>\n",
       "          <tr>\n",
       "    <th> noisy_det_center </th>\n",
       "    <td>0</td>\n",
       "  </tr><tr>\n",
       "    <th> noisy_det_Imax </th>\n",
       "    <td>1</td>\n",
       "  </tr><tr>\n",
       "    <th> noisy_det_noise </th>\n",
       "    <td>uniform</td>\n",
       "  </tr><tr>\n",
       "    <th> noisy_det_noise_multiplier </th>\n",
       "    <td>0.1</td>\n",
       "  </tr><tr>\n",
       "    <th> noisy_det_sigma </th>\n",
       "    <td>1</td>\n",
       "  </tr>\n",
       "        </table></td>\n",
       "  </tr><tr>\n",
       "    <th> data_keys </th>\n",
       "    <td><table>\n",
       "          <tr>\n",
       "    <th> noisy_det_center </th>\n",
       "    <td><table>\n",
       "          <tr>\n",
       "    <th> dtype </th>\n",
       "    <td>integer</td>\n",
       "  </tr><tr>\n",
       "    <th> shape </th>\n",
       "    <td><table></table></td>\n",
       "  </tr><tr>\n",
       "    <th> source </th>\n",
       "    <td>SIM:noisy_det_center</td>\n",
       "  </tr>\n",
       "        </table></td>\n",
       "  </tr><tr>\n",
       "    <th> noisy_det_Imax </th>\n",
       "    <td><table>\n",
       "          <tr>\n",
       "    <th> dtype </th>\n",
       "    <td>integer</td>\n",
       "  </tr><tr>\n",
       "    <th> shape </th>\n",
       "    <td><table></table></td>\n",
       "  </tr><tr>\n",
       "    <th> source </th>\n",
       "    <td>SIM:noisy_det_Imax</td>\n",
       "  </tr>\n",
       "        </table></td>\n",
       "  </tr><tr>\n",
       "    <th> noisy_det_noise </th>\n",
       "    <td><table>\n",
       "          <tr>\n",
       "    <th> dtype </th>\n",
       "    <td>integer</td>\n",
       "  </tr><tr>\n",
       "    <th> enum_strs </th>\n",
       "    <td><table><tr><td>none</td></tr><tr><td>poisson</td></tr><tr><td>uniform</td></tr></table></td>\n",
       "  </tr><tr>\n",
       "    <th> shape </th>\n",
       "    <td><table></table></td>\n",
       "  </tr><tr>\n",
       "    <th> source </th>\n",
       "    <td>SIM:noisy_det_noise</td>\n",
       "  </tr>\n",
       "        </table></td>\n",
       "  </tr><tr>\n",
       "    <th> noisy_det_noise_multiplier </th>\n",
       "    <td><table>\n",
       "          <tr>\n",
       "    <th> dtype </th>\n",
       "    <td>number</td>\n",
       "  </tr><tr>\n",
       "    <th> shape </th>\n",
       "    <td><table></table></td>\n",
       "  </tr><tr>\n",
       "    <th> source </th>\n",
       "    <td>SIM:noisy_det_noise_multiplier</td>\n",
       "  </tr>\n",
       "        </table></td>\n",
       "  </tr><tr>\n",
       "    <th> noisy_det_sigma </th>\n",
       "    <td><table>\n",
       "          <tr>\n",
       "    <th> dtype </th>\n",
       "    <td>integer</td>\n",
       "  </tr><tr>\n",
       "    <th> shape </th>\n",
       "    <td><table></table></td>\n",
       "  </tr><tr>\n",
       "    <th> source </th>\n",
       "    <td>SIM:noisy_det_sigma</td>\n",
       "  </tr>\n",
       "        </table></td>\n",
       "  </tr>\n",
       "        </table></td>\n",
       "  </tr><tr>\n",
       "    <th> timestamps </th>\n",
       "    <td><table>\n",
       "          <tr>\n",
       "    <th> noisy_det_center </th>\n",
       "    <td>1725392649.8209827</td>\n",
       "  </tr><tr>\n",
       "    <th> noisy_det_Imax </th>\n",
       "    <td>1725392649.8209894</td>\n",
       "  </tr><tr>\n",
       "    <th> noisy_det_noise </th>\n",
       "    <td>1725392649.821001</td>\n",
       "  </tr><tr>\n",
       "    <th> noisy_det_noise_multiplier </th>\n",
       "    <td>1725392649.8210056</td>\n",
       "  </tr><tr>\n",
       "    <th> noisy_det_sigma </th>\n",
       "    <td>1725392649.820996</td>\n",
       "  </tr>\n",
       "        </table></td>\n",
       "  </tr>\n",
       "        </table></td>\n",
       "  </tr>\n",
       "        </table></td>\n",
       "  </tr><tr>\n",
       "    <th> data_keys </th>\n",
       "    <td><table>\n",
       "          <tr>\n",
       "    <th> noisy_det </th>\n",
       "    <td><table>\n",
       "          <tr>\n",
       "    <th> dtype </th>\n",
       "    <td>number</td>\n",
       "  </tr><tr>\n",
       "    <th> object_name </th>\n",
       "    <td>noisy_det</td>\n",
       "  </tr><tr>\n",
       "    <th> precision </th>\n",
       "    <td>3</td>\n",
       "  </tr><tr>\n",
       "    <th> shape </th>\n",
       "    <td><table></table></td>\n",
       "  </tr><tr>\n",
       "    <th> source </th>\n",
       "    <td>SIM:noisy_det</td>\n",
       "  </tr>\n",
       "        </table></td>\n",
       "  </tr>\n",
       "        </table></td>\n",
       "  </tr><tr>\n",
       "    <th> hints </th>\n",
       "    <td><table>\n",
       "          <tr>\n",
       "    <th> noisy_det </th>\n",
       "    <td><table>\n",
       "          <tr>\n",
       "    <th> fields </th>\n",
       "    <td><table><tr><td>noisy_det</td></tr></table></td>\n",
       "  </tr>\n",
       "        </table></td>\n",
       "  </tr>\n",
       "        </table></td>\n",
       "  </tr><tr>\n",
       "    <th> name </th>\n",
       "    <td>primary</td>\n",
       "  </tr><tr>\n",
       "    <th> object_keys </th>\n",
       "    <td><table>\n",
       "          <tr>\n",
       "    <th> noisy_det </th>\n",
       "    <td><table><tr><td>noisy_det</td></tr></table></td>\n",
       "  </tr>\n",
       "        </table></td>\n",
       "  </tr><tr>\n",
       "    <th> run_start </th>\n",
       "    <td>e38627ce-1886-4cf7-a648-e697d726d34f</td>\n",
       "  </tr><tr>\n",
       "    <th> time </th>\n",
       "    <td>9 seconds ago (2024-09-03T16:58:09.282679)</td>\n",
       "  </tr><tr>\n",
       "    <th> uid </th>\n",
       "    <td>e38a7e88-33ca-478f-aa7b-5beba08abf51</td>\n",
       "  </tr></table> </td>\n",
       "         </tr></table>\n",
       "    </td>\n",
       "</tr>\n",
       "</table>"
      ],
      "text/plain": [
       "<databroker.v1.Header at 0x79c92e6a0be0>"
      ]
     },
     "execution_count": 75,
     "metadata": {},
     "output_type": "execute_result"
    }
   ],
   "source": [
    "db[-1]"
   ]
  },
  {
   "cell_type": "code",
   "execution_count": 80,
   "id": "b9b4b6fe",
   "metadata": {
    "scrolled": true,
    "slideshow": {
     "slide_type": "subslide"
    }
   },
   "outputs": [
    {
     "name": "stdout",
     "output_type": "stream",
     "text": [
      "generator plan_with_data ['7f438b1d'] (scan num: 4)\n",
      "\n",
      "\n"
     ]
    },
    {
     "data": {
      "text/html": [
       "\n",
       "\n",
       "\n",
       "<table>\n",
       "  <tr>\n",
       "    <td><table>\n",
       "<caption> Start </caption><tr>\n",
       "    <th> plan_name </th>\n",
       "    <td>plan_with_data</td>\n",
       "  </tr><tr>\n",
       "    <th> plan_type </th>\n",
       "    <td>generator</td>\n",
       "  </tr><tr>\n",
       "    <th> scan_id </th>\n",
       "    <td>4</td>\n",
       "  </tr><tr>\n",
       "    <th> time </th>\n",
       "    <td>now (2024-09-03T17:02:09.544902)</td>\n",
       "  </tr><tr>\n",
       "    <th> uid </th>\n",
       "    <td>7f438b1d-dc8a-4d59-a063-29aac2e7be91</td>\n",
       "  </tr><tr>\n",
       "    <th> versions </th>\n",
       "    <td><table>\n",
       "          <tr>\n",
       "    <th> bluesky </th>\n",
       "    <td>1.13.0a4</td>\n",
       "  </tr><tr>\n",
       "    <th> ophyd </th>\n",
       "    <td>1.9.0</td>\n",
       "  </tr>\n",
       "        </table></td>\n",
       "  </tr></table></td>\n",
       "  </tr\n",
       "  <tr>\n",
       "    <td><table>\n",
       "<caption> Stop </caption><tr>\n",
       "    <th> exit_status </th>\n",
       "    <td>success</td>\n",
       "  </tr><tr>\n",
       "    <th> num_events </th>\n",
       "    <td><table>\n",
       "          \n",
       "        </table></td>\n",
       "  </tr><tr>\n",
       "    <th> reason </th>\n",
       "    <td></td>\n",
       "  </tr><tr>\n",
       "    <th> run_start </th>\n",
       "    <td>7f438b1d-dc8a-4d59-a063-29aac2e7be91</td>\n",
       "  </tr><tr>\n",
       "    <th> time </th>\n",
       "    <td>now (2024-09-03T17:02:09.564344)</td>\n",
       "  </tr><tr>\n",
       "    <th> uid </th>\n",
       "    <td>f2b6f6b4-bcc6-4784-871a-cf9c4fedc3b6</td>\n",
       "  </tr></table></td>\n",
       "  </tr>\n",
       "  <tr>\n",
       "  <td>\n",
       "      <table>\n",
       "      <caption>Descriptors</caption></table>\n",
       "    </td>\n",
       "</tr>\n",
       "</table>"
      ],
      "text/plain": [
       "<databroker.v1.Header at 0x79c92ddd79a0>"
      ]
     },
     "execution_count": 80,
     "metadata": {},
     "output_type": "execute_result"
    }
   ],
   "source": [
    "def plan_with_data():\n",
    "    yield from open_run(md={})\n",
    "    \n",
    "    # Plan procedures\n",
    "    yield from trigger(noisy_det)\n",
    "    yield from rd(motor1)\n",
    "\n",
    "    yield from close_run()\n",
    "\n",
    "uid = RE(plan_with_data(), LiveTable(['noisy_det']))\n",
    "db[-1]"
   ]
  },
  {
   "cell_type": "code",
   "execution_count": 81,
   "id": "eef6aea5",
   "metadata": {
    "scrolled": true,
    "slideshow": {
     "slide_type": "subslide"
    }
   },
   "outputs": [
    {
     "name": "stdout",
     "output_type": "stream",
     "text": [
      "generator plan_with_data ['f5d19204'] (scan num: 5)\n",
      "\n",
      "\n"
     ]
    },
    {
     "data": {
      "text/html": [
       "\n",
       "\n",
       "\n",
       "<table>\n",
       "  <tr>\n",
       "    <td><table>\n",
       "<caption> Start </caption><tr>\n",
       "    <th> plan_name </th>\n",
       "    <td>plan_with_data</td>\n",
       "  </tr><tr>\n",
       "    <th> plan_type </th>\n",
       "    <td>generator</td>\n",
       "  </tr><tr>\n",
       "    <th> scan_id </th>\n",
       "    <td>5</td>\n",
       "  </tr><tr>\n",
       "    <th> time </th>\n",
       "    <td>now (2024-09-03T17:03:20.037057)</td>\n",
       "  </tr><tr>\n",
       "    <th> uid </th>\n",
       "    <td>f5d19204-dd4d-4f35-bc60-614d128a3b43</td>\n",
       "  </tr><tr>\n",
       "    <th> versions </th>\n",
       "    <td><table>\n",
       "          <tr>\n",
       "    <th> bluesky </th>\n",
       "    <td>1.13.0a4</td>\n",
       "  </tr><tr>\n",
       "    <th> ophyd </th>\n",
       "    <td>1.9.0</td>\n",
       "  </tr>\n",
       "        </table></td>\n",
       "  </tr></table></td>\n",
       "  </tr\n",
       "  <tr>\n",
       "    <td><table>\n",
       "<caption> Stop </caption><tr>\n",
       "    <th> exit_status </th>\n",
       "    <td>success</td>\n",
       "  </tr><tr>\n",
       "    <th> num_events </th>\n",
       "    <td><table>\n",
       "          <tr>\n",
       "    <th> custom_data_stream </th>\n",
       "    <td>1</td>\n",
       "  </tr>\n",
       "        </table></td>\n",
       "  </tr><tr>\n",
       "    <th> reason </th>\n",
       "    <td></td>\n",
       "  </tr><tr>\n",
       "    <th> run_start </th>\n",
       "    <td>f5d19204-dd4d-4f35-bc60-614d128a3b43</td>\n",
       "  </tr><tr>\n",
       "    <th> time </th>\n",
       "    <td>now (2024-09-03T17:03:20.082581)</td>\n",
       "  </tr><tr>\n",
       "    <th> uid </th>\n",
       "    <td>28815dac-e739-44ff-9cf8-2303795ae930</td>\n",
       "  </tr></table></td>\n",
       "  </tr>\n",
       "  <tr>\n",
       "  <td>\n",
       "      <table>\n",
       "      <caption>Descriptors</caption><tr>\n",
       "         <td> <table>\n",
       "<caption> custom_data_stream </caption><tr>\n",
       "    <th> configuration </th>\n",
       "    <td><table>\n",
       "          <tr>\n",
       "    <th> motor1 </th>\n",
       "    <td><table>\n",
       "          <tr>\n",
       "    <th> data </th>\n",
       "    <td><table>\n",
       "          <tr>\n",
       "    <th> motor1_acceleration </th>\n",
       "    <td>1</td>\n",
       "  </tr><tr>\n",
       "    <th> motor1_velocity </th>\n",
       "    <td>1</td>\n",
       "  </tr>\n",
       "        </table></td>\n",
       "  </tr><tr>\n",
       "    <th> data_keys </th>\n",
       "    <td><table>\n",
       "          <tr>\n",
       "    <th> motor1_acceleration </th>\n",
       "    <td><table>\n",
       "          <tr>\n",
       "    <th> dtype </th>\n",
       "    <td>integer</td>\n",
       "  </tr><tr>\n",
       "    <th> shape </th>\n",
       "    <td><table></table></td>\n",
       "  </tr><tr>\n",
       "    <th> source </th>\n",
       "    <td>SIM:motor1_acceleration</td>\n",
       "  </tr>\n",
       "        </table></td>\n",
       "  </tr><tr>\n",
       "    <th> motor1_velocity </th>\n",
       "    <td><table>\n",
       "          <tr>\n",
       "    <th> dtype </th>\n",
       "    <td>integer</td>\n",
       "  </tr><tr>\n",
       "    <th> shape </th>\n",
       "    <td><table></table></td>\n",
       "  </tr><tr>\n",
       "    <th> source </th>\n",
       "    <td>SIM:motor1_velocity</td>\n",
       "  </tr>\n",
       "        </table></td>\n",
       "  </tr>\n",
       "        </table></td>\n",
       "  </tr><tr>\n",
       "    <th> timestamps </th>\n",
       "    <td><table>\n",
       "          <tr>\n",
       "    <th> motor1_acceleration </th>\n",
       "    <td>1725392649.8204532</td>\n",
       "  </tr><tr>\n",
       "    <th> motor1_velocity </th>\n",
       "    <td>1725392649.820441</td>\n",
       "  </tr>\n",
       "        </table></td>\n",
       "  </tr>\n",
       "        </table></td>\n",
       "  </tr>\n",
       "        </table></td>\n",
       "  </tr><tr>\n",
       "    <th> data_keys </th>\n",
       "    <td><table>\n",
       "          <tr>\n",
       "    <th> motor1 </th>\n",
       "    <td><table>\n",
       "          <tr>\n",
       "    <th> dtype </th>\n",
       "    <td>number</td>\n",
       "  </tr><tr>\n",
       "    <th> object_name </th>\n",
       "    <td>motor1</td>\n",
       "  </tr><tr>\n",
       "    <th> precision </th>\n",
       "    <td>3</td>\n",
       "  </tr><tr>\n",
       "    <th> shape </th>\n",
       "    <td><table></table></td>\n",
       "  </tr><tr>\n",
       "    <th> source </th>\n",
       "    <td>SIM:motor1</td>\n",
       "  </tr>\n",
       "        </table></td>\n",
       "  </tr><tr>\n",
       "    <th> motor1_setpoint </th>\n",
       "    <td><table>\n",
       "          <tr>\n",
       "    <th> dtype </th>\n",
       "    <td>integer</td>\n",
       "  </tr><tr>\n",
       "    <th> object_name </th>\n",
       "    <td>motor1</td>\n",
       "  </tr><tr>\n",
       "    <th> precision </th>\n",
       "    <td>3</td>\n",
       "  </tr><tr>\n",
       "    <th> shape </th>\n",
       "    <td><table></table></td>\n",
       "  </tr><tr>\n",
       "    <th> source </th>\n",
       "    <td>SIM:motor1_setpoint</td>\n",
       "  </tr>\n",
       "        </table></td>\n",
       "  </tr>\n",
       "        </table></td>\n",
       "  </tr><tr>\n",
       "    <th> hints </th>\n",
       "    <td><table>\n",
       "          <tr>\n",
       "    <th> motor1 </th>\n",
       "    <td><table>\n",
       "          <tr>\n",
       "    <th> fields </th>\n",
       "    <td><table><tr><td>motor1</td></tr></table></td>\n",
       "  </tr>\n",
       "        </table></td>\n",
       "  </tr>\n",
       "        </table></td>\n",
       "  </tr><tr>\n",
       "    <th> name </th>\n",
       "    <td>custom_data_stream</td>\n",
       "  </tr><tr>\n",
       "    <th> object_keys </th>\n",
       "    <td><table>\n",
       "          <tr>\n",
       "    <th> motor1 </th>\n",
       "    <td><table><tr><td>motor1</td></tr><tr><td>motor1_setpoint</td></tr></table></td>\n",
       "  </tr>\n",
       "        </table></td>\n",
       "  </tr><tr>\n",
       "    <th> run_start </th>\n",
       "    <td>f5d19204-dd4d-4f35-bc60-614d128a3b43</td>\n",
       "  </tr><tr>\n",
       "    <th> time </th>\n",
       "    <td>now (2024-09-03T17:03:20.052048)</td>\n",
       "  </tr><tr>\n",
       "    <th> uid </th>\n",
       "    <td>67b8a7ac-c98a-4da1-aa41-33c549e89c25</td>\n",
       "  </tr></table> </td>\n",
       "         </tr></table>\n",
       "    </td>\n",
       "</tr>\n",
       "</table>"
      ],
      "text/plain": [
       "<databroker.v1.Header at 0x79c981d260a0>"
      ]
     },
     "execution_count": 81,
     "metadata": {},
     "output_type": "execute_result"
    }
   ],
   "source": [
    "def plan_with_data():\n",
    "    yield from open_run(md={})\n",
    "    yield from create(name=\"custom_data_stream\")\n",
    "    \n",
    "    # Plan procedures\n",
    "    yield from trigger(noisy_det)\n",
    "    yield from rd(motor1)\n",
    "\n",
    "    yield from save()\n",
    "    yield from close_run()\n",
    "\n",
    "uid = RE(plan_with_data(), LiveTable(['noisy_det']))\n",
    "db[-1]"
   ]
  },
  {
   "cell_type": "code",
   "execution_count": 83,
   "id": "434ce300",
   "metadata": {
    "slideshow": {
     "slide_type": "subslide"
    }
   },
   "outputs": [
    {
     "data": {
      "text/html": [
       "<div>\n",
       "<style scoped>\n",
       "    .dataframe tbody tr th:only-of-type {\n",
       "        vertical-align: middle;\n",
       "    }\n",
       "\n",
       "    .dataframe tbody tr th {\n",
       "        vertical-align: top;\n",
       "    }\n",
       "\n",
       "    .dataframe thead th {\n",
       "        text-align: right;\n",
       "    }\n",
       "</style>\n",
       "<table border=\"1\" class=\"dataframe\">\n",
       "  <thead>\n",
       "    <tr style=\"text-align: right;\">\n",
       "      <th></th>\n",
       "      <th>motor1</th>\n",
       "      <th>motor1_setpoint</th>\n",
       "      <th>time</th>\n",
       "    </tr>\n",
       "    <tr>\n",
       "      <th>seq_num</th>\n",
       "      <th></th>\n",
       "      <th></th>\n",
       "      <th></th>\n",
       "    </tr>\n",
       "  </thead>\n",
       "  <tbody>\n",
       "    <tr>\n",
       "      <th>1</th>\n",
       "      <td>10.0</td>\n",
       "      <td>10</td>\n",
       "      <td>2024-09-03 20:03:20.070881367</td>\n",
       "    </tr>\n",
       "  </tbody>\n",
       "</table>\n",
       "</div>"
      ],
      "text/plain": [
       "         motor1  motor1_setpoint                          time\n",
       "seq_num                                                       \n",
       "1          10.0               10 2024-09-03 20:03:20.070881367"
      ]
     },
     "execution_count": 83,
     "metadata": {},
     "output_type": "execute_result"
    }
   ],
   "source": [
    "db[-1].table(\"custom_data_stream\")"
   ]
  },
  {
   "cell_type": "markdown",
   "id": "22cc38fd",
   "metadata": {
    "slideshow": {
     "slide_type": "slide"
    }
   },
   "source": [
    "create: Bundle future readings into a new Event document.\n",
    "\n",
    "save: Close a bundle of readings and emit a completed Event document.\n",
    "\n",
    "drop: Drop a bundle of readings without emitting a completed Event document.\n",
    "\n",
    "subscribe: Subscribe the stream of emitted documents.\n",
    "\n",
    "unsubscribe: Remove a subscription.\n",
    "\n",
    "\n",
    "Plan Stubs\n",
    "\n",
    "trigger: Trigger and acquisition.\n",
    "\n",
    "read: Take a reading and add it to the current bundle of readings.\n",
    "\n",
    "rd: Reads a single-value non-triggered object"
   ]
  },
  {
   "cell_type": "markdown",
   "id": "6c157536",
   "metadata": {},
   "source": [
    "Preprocessors -> What is a decorator\n",
    "\n",
    "relative_set_decorator: Interpret 'set' messages on devices as relative to initial position.\n",
    "\n",
    "reset_positions_decorator: Return movable devices to their initial positions at the end.\n",
    "\n",
    "run_decorator: Enclose in 'open_run' and 'close_run' messages.\n",
    "\n",
    "stage_decorator: 'Stage' devices (i.e., prepare them for use, 'arm' them) and then unstage.\n",
    "\n",
    "finalize_decorator: try...finally helper"
   ]
  },
  {
   "cell_type": "markdown",
   "id": "fb339439",
   "metadata": {},
   "source": [
    "Suplemental Data\n",
    "\n",
    "\n",
    "\n",
    "baseline_wrapper()\n",
    "\n",
    "monitor_during_wrapper()\n",
    "\n",
    "fly_during_wrapper()"
   ]
  }
 ],
 "metadata": {
  "celltoolbar": "Slideshow",
  "kernelspec": {
   "display_name": "Python 3 (ipykernel)",
   "language": "python",
   "name": "python3"
  },
  "language_info": {
   "codemirror_mode": {
    "name": "ipython",
    "version": 3
   },
   "file_extension": ".py",
   "mimetype": "text/x-python",
   "name": "python",
   "nbconvert_exporter": "python",
   "pygments_lexer": "ipython3",
   "version": "3.9.2"
  },
  "rise": {
   "enable_chalkboard": true,
   "start_slideshow_at": "beginning",
   "theme": "sky"
  }
 },
 "nbformat": 4,
 "nbformat_minor": 5
}
