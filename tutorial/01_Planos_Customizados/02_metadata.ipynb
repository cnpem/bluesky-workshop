{
 "cells": [
  {
   "cell_type": "code",
   "execution_count": 102,
   "id": "8a2a4682",
   "metadata": {
    "slideshow": {
     "slide_type": "slide"
    }
   },
   "outputs": [
    {
     "data": {
      "text/plain": [
       "1"
      ]
     },
     "execution_count": 102,
     "metadata": {},
     "output_type": "execute_result"
    }
   ],
   "source": [
    "%matplotlib qt\n",
    "from bluesky import RunEngine\n",
    "from bluesky.callbacks import LiveTable\n",
    "from bluesky.plans import scan\n",
    "from bluesky.plan_stubs import mv, open_run, close_run, create, \\\n",
    "    save, drop, rd, trigger, trigger_and_read, declare_stream\n",
    "from ophyd.sim import det1, noisy_det, motor1\n",
    "from databroker import Broker\n",
    "from matplotlib.pyplot import ion\n",
    "from bluesky.utils import install_nb_kicker\n",
    "from bluesky.callbacks.best_effort import BestEffortCallback\n",
    "from pprint import pprint\n",
    "from IPython.display import display\n",
    "install_nb_kicker()\n",
    "\n",
    "ion()\n",
    "RE = RunEngine()\n",
    "\n",
    "db = Broker.named('temp')\n",
    "RE.subscribe(db.insert)\n",
    "bec = BestEffortCallback()\n",
    "RE.subscribe(bec)"
   ]
  },
  {
   "cell_type": "markdown",
   "id": "d2fc3d41",
   "metadata": {
    "slideshow": {
     "slide_type": "slide"
    }
   },
   "source": [
    "## Documents"
   ]
  },
  {
   "cell_type": "markdown",
   "id": "d44fc773-e900-4e59-a39a-cd38ce1dbdde",
   "metadata": {},
   "source": [
    "Um dos principais objetivos do Bluesky é habilitar a coleta de dados e metadados. A meneira que ele faz isso é através dos **Documentos**nts."
   ]
  },
  {
   "cell_type": "markdown",
   "id": "3cb3aac4-7f6f-4593-991e-4ee3b65796c2",
   "metadata": {},
   "source": [
    "Documentos são basicamente dicionários em Python com um esquema definido, ou seja, é um dicionário organizado de uma maneira específica e documentada. Esses **documentos** são gerados pela RunEngine durante a execução de planos e todos os dados e metadados estão organizados dentro dos **Documentos**."
   ]
  },
  {
   "cell_type": "markdown",
   "id": "a3c47ea9-aab1-4051-b58f-35bc025b7241",
   "metadata": {},
   "source": [
    "### Runs e eventos"
   ]
  },
  {
   "cell_type": "markdown",
   "id": "211bad62-6f4e-49b9-b8cf-05181ce8b485",
   "metadata": {},
   "source": [
    "Planos podem gerar dados e metadados, porém como é possível organizar ou agrupar informações em Eventos e Runs?"
   ]
  },
  {
   "cell_type": "code",
   "execution_count": 45,
   "id": "9b052f95-4660-48e7-8aab-9b8d75937240",
   "metadata": {},
   "outputs": [],
   "source": [
    "def one_run_one_event():\n",
    "    yield from open_run()\n",
    "    yield from trigger_and_read([det1, noisy_det])\n",
    "    yield from close_run()"
   ]
  },
  {
   "cell_type": "code",
   "execution_count": 46,
   "id": "ba4c14d1-084c-41e7-852c-03542ea4ffdd",
   "metadata": {},
   "outputs": [
    {
     "name": "stdout",
     "output_type": "stream",
     "text": [
      "\n",
      "\n",
      "Transient Scan ID: 7     Time: 2024-09-10 10:26:20\n",
      "Persistent Unique Scan ID: '0bb92f4f-11e7-4b50-a4e6-951b8e3afa37'\n",
      "New stream: 'primary'\n",
      "+-----------+------------+------------+------------+\n",
      "|   seq_num |       time |       det1 |  noisy_det |\n",
      "+-----------+------------+------------+------------+\n",
      "|         1 | 10:26:20.8 |      0.000 |      0.937 |\n",
      "+-----------+------------+------------+------------+\n",
      "generator one_run_one_event ['0bb92f4f'] (scan num: 7)\n",
      "\n",
      "\n",
      "\n"
     ]
    },
    {
     "data": {
      "text/plain": [
       "('0bb92f4f-11e7-4b50-a4e6-951b8e3afa37',)"
      ]
     },
     "execution_count": 46,
     "metadata": {},
     "output_type": "execute_result"
    }
   ],
   "source": [
    "RE(one_run_one_event())"
   ]
  },
  {
   "cell_type": "markdown",
   "id": "7233b17c-f9a4-49ca-9857-ac022b443545",
   "metadata": {},
   "source": [
    "Neste exemplo temos:\n",
    " - Uma tabela (uma Run)\n",
    " - Uma linha (um evento)\n",
    " - Duas colunas (além de seq_num e time), representando os dois detectores"
   ]
  },
  {
   "cell_type": "code",
   "execution_count": 48,
   "id": "989c34b7-8b84-4c22-8e71-fd72b4a58150",
   "metadata": {},
   "outputs": [],
   "source": [
    "def one_run_n_events():\n",
    "    yield from open_run()\n",
    "    for i in range(4):\n",
    "        yield from trigger_and_read([det1, noisy_det])\n",
    "    yield from close_run()"
   ]
  },
  {
   "cell_type": "code",
   "execution_count": 49,
   "id": "3075f353-e9cc-4064-8df9-7c5f7f3b1064",
   "metadata": {},
   "outputs": [
    {
     "name": "stdout",
     "output_type": "stream",
     "text": [
      "\n",
      "\n",
      "Transient Scan ID: 8     Time: 2024-09-10 10:28:05\n",
      "Persistent Unique Scan ID: '25f47d38-0437-4744-931e-648050894f41'\n",
      "New stream: 'primary'\n",
      "+-----------+------------+------------+------------+\n",
      "|   seq_num |       time |       det1 |  noisy_det |\n",
      "+-----------+------------+------------+------------+\n",
      "|         1 | 10:28:05.9 |      0.000 |      1.028 |\n",
      "|         2 | 10:28:05.9 |      0.000 |      0.997 |\n",
      "|         3 | 10:28:05.9 |      0.000 |      0.974 |\n",
      "|         4 | 10:28:05.9 |      0.000 |      0.975 |\n",
      "+-----------+------------+------------+------------+\n",
      "generator one_run_n_events ['25f47d38'] (scan num: 8)\n",
      "\n",
      "\n",
      "\n"
     ]
    },
    {
     "data": {
      "text/plain": [
       "('25f47d38-0437-4744-931e-648050894f41',)"
      ]
     },
     "execution_count": 49,
     "metadata": {},
     "output_type": "execute_result"
    }
   ],
   "source": [
    "RE(one_run_n_events())"
   ]
  },
  {
   "cell_type": "markdown",
   "id": "15ceaf16-0404-47d0-ab76-7b4309f931ac",
   "metadata": {},
   "source": [
    "Neste exemplo temos:\n",
    " - Uma tabela (uma Run)\n",
    " - Quatro linhas (quatro eventos)\n",
    " - Duas colunas (além de seq_num e time), representando os dois detectores"
   ]
  },
  {
   "cell_type": "code",
   "execution_count": 50,
   "id": "ffa2beb2-fc64-4248-82ec-bb05f23165d5",
   "metadata": {},
   "outputs": [],
   "source": [
    "def multi_run():\n",
    "    for i in range(2):\n",
    "        yield from one_run_n_events()"
   ]
  },
  {
   "cell_type": "code",
   "execution_count": 52,
   "id": "0bba8552-93fe-4135-8cde-232570f225b5",
   "metadata": {},
   "outputs": [
    {
     "name": "stdout",
     "output_type": "stream",
     "text": [
      "\n",
      "\n",
      "Transient Scan ID: 9     Time: 2024-09-10 10:29:25\n",
      "Persistent Unique Scan ID: '132f12bf-6bb0-47d8-b552-d951d04274d4'\n",
      "New stream: 'primary'\n",
      "+-----------+------------+------------+------------+\n",
      "|   seq_num |       time |       det1 |  noisy_det |\n",
      "+-----------+------------+------------+------------+\n",
      "|         1 | 10:29:25.1 |      0.000 |      1.028 |\n",
      "|         2 | 10:29:25.1 |      0.000 |      0.933 |\n",
      "|         3 | 10:29:25.1 |      0.000 |      1.088 |\n",
      "|         4 | 10:29:25.1 |      0.000 |      0.922 |\n",
      "+-----------+------------+------------+------------+\n",
      "generator multi_run ['132f12bf'] (scan num: 9)\n",
      "\n",
      "\n",
      "\n",
      "\n",
      "\n",
      "Transient Scan ID: 10     Time: 2024-09-10 10:29:25\n",
      "Persistent Unique Scan ID: '2412d7e8-f48c-4de4-a1ed-925adfc0867a'\n",
      "New stream: 'primary'\n",
      "+-----------+------------+------------+------------+\n",
      "|   seq_num |       time |       det1 |  noisy_det |\n",
      "+-----------+------------+------------+------------+\n",
      "|         1 | 10:29:25.2 |      0.000 |      1.061 |\n",
      "|         2 | 10:29:25.2 |      0.000 |      1.054 |\n",
      "|         3 | 10:29:25.2 |      0.000 |      0.910 |\n",
      "|         4 | 10:29:25.2 |      0.000 |      1.068 |\n",
      "+-----------+------------+------------+------------+\n",
      "generator multi_run ['2412d7e8'] (scan num: 10)\n",
      "\n",
      "\n",
      "\n"
     ]
    },
    {
     "data": {
      "text/plain": [
       "('132f12bf-6bb0-47d8-b552-d951d04274d4',\n",
       " '2412d7e8-f48c-4de4-a1ed-925adfc0867a')"
      ]
     },
     "execution_count": 52,
     "metadata": {},
     "output_type": "execute_result"
    }
   ],
   "source": [
    "RE(multi_run())"
   ]
  },
  {
   "cell_type": "markdown",
   "id": "4c28f3b0-8491-4343-b8d0-c776217547f8",
   "metadata": {},
   "source": [
    "Neste exemplo temos:\n",
    " - Duas tabelas (duas Runs)\n",
    " - Quatro linhas (quatro eventos por Run)\n",
    " - Duas colunas (além de seq_num e time), representando os dois detectores\n",
    "\n",
    "   \n",
    "Além disso, agora o retorno da função é uma tupla com multiplos uids, cada um relacionado com uma Run"
   ]
  },
  {
   "cell_type": "markdown",
   "id": "c50ae13f-da2c-4f0a-a660-41a3dae8a176",
   "metadata": {},
   "source": [
    "A definição de uma Run é flexível, pois tudo depende de como você gostaria de organizar seus dados, seja para coleta ou análise."
   ]
  },
  {
   "cell_type": "markdown",
   "id": "2fcec4b4-16e0-414c-85f1-1b12e75a2cc8",
   "metadata": {},
   "source": [
    "### Documentos de uma Run"
   ]
  },
  {
   "cell_type": "markdown",
   "id": "a06df9e1-074c-40d4-a838-e59dd02a4421",
   "metadata": {},
   "source": [
    "#### O Start Document\n",
    "O Start document contém informações de metadados no início da run:\n",
    "- time - Tempo de início do plano\n",
    "- plan_name - Nome do plano\n",
    "- uid - ID único de identificação da Run\n",
    "- scan_id - id \"mais amigável\", porém não é necessáriamente único\n",
    "- metadados"
   ]
  },
  {
   "cell_type": "code",
   "execution_count": 56,
   "id": "6119c6b4-080d-487e-ac66-80dba4918882",
   "metadata": {},
   "outputs": [
    {
     "name": "stdout",
     "output_type": "stream",
     "text": [
      "\n",
      "\n",
      "Transient Scan ID: 12     Time: 2024-09-10 10:40:58\n",
      "Persistent Unique Scan ID: 'ec1f89aa-e10f-463e-8d91-e97e0a9e76f7'\n",
      "New stream: 'primary'\n",
      "+-----------+------------+------------+------------+\n",
      "|   seq_num |       time |     motor1 |       det1 |\n",
      "+-----------+------------+------------+------------+\n",
      "|         1 | 10:40:58.2 |      0.000 |      5.000 |\n",
      "|         2 | 10:40:58.2 |      2.000 |      0.002 |\n",
      "|         3 | 10:40:58.3 |      4.000 |      0.000 |\n",
      "|         4 | 10:40:58.3 |      6.000 |      0.000 |\n",
      "|         5 | 10:40:58.3 |      8.000 |      0.000 |\n",
      "|         6 | 10:40:58.3 |     10.000 |      0.000 |\n",
      "+-----------+------------+------------+------------+\n",
      "generator scan ['ec1f89aa'] (scan num: 12)\n",
      "\n",
      "\n",
      "\n"
     ]
    }
   ],
   "source": [
    "uid, = RE(scan([det1], motor1, 0, 10, 6))"
   ]
  },
  {
   "cell_type": "code",
   "execution_count": 72,
   "id": "7a2d5775-f5c1-4199-82b8-c0da0fcc0a58",
   "metadata": {},
   "outputs": [],
   "source": [
    "last_run = db[uid]"
   ]
  },
  {
   "cell_type": "code",
   "execution_count": 90,
   "id": "fd65ef7e-b993-4c13-b4a8-dff75aec9b16",
   "metadata": {},
   "outputs": [
    {
     "data": {
      "text/html": [
       "\n",
       "<table>\n",
       "\n",
       "  <tr>\n",
       "    <th> detectors </th>\n",
       "    <td>\n",
       "      \n",
       "          \n",
       "            ['det1']\n",
       "          \n",
       "        \n",
       "    </td>\n",
       "  </tr>\n",
       "\n",
       "  <tr>\n",
       "    <th> hints </th>\n",
       "    <td>\n",
       "      \n",
       "        <table>\n",
       "          \n",
       "  <tr>\n",
       "    <th> dimensions </th>\n",
       "    <td>\n",
       "      \n",
       "          \n",
       "            [[['motor1'], 'primary']]\n",
       "          \n",
       "        \n",
       "    </td>\n",
       "  </tr>\n",
       "\n",
       "        </table>\n",
       "        \n",
       "    </td>\n",
       "  </tr>\n",
       "\n",
       "  <tr>\n",
       "    <th> motors </th>\n",
       "    <td>\n",
       "      \n",
       "          \n",
       "            ['motor1']\n",
       "          \n",
       "        \n",
       "    </td>\n",
       "  </tr>\n",
       "\n",
       "  <tr>\n",
       "    <th> num_intervals </th>\n",
       "    <td>\n",
       "      \n",
       "          \n",
       "            5\n",
       "          \n",
       "        \n",
       "    </td>\n",
       "  </tr>\n",
       "\n",
       "  <tr>\n",
       "    <th> num_points </th>\n",
       "    <td>\n",
       "      \n",
       "          \n",
       "            6\n",
       "          \n",
       "        \n",
       "    </td>\n",
       "  </tr>\n",
       "\n",
       "  <tr>\n",
       "    <th> plan_args </th>\n",
       "    <td>\n",
       "      \n",
       "        <table>\n",
       "          \n",
       "  <tr>\n",
       "    <th> args </th>\n",
       "    <td>\n",
       "      \n",
       "          \n",
       "            [\"SynAxis(prefix='', name='motor1', read_attrs=['readback', 'setpoint'], configuration_attrs=['velocity', 'acceleration'])\", 0, 10]\n",
       "          \n",
       "        \n",
       "    </td>\n",
       "  </tr>\n",
       "\n",
       "  <tr>\n",
       "    <th> detectors </th>\n",
       "    <td>\n",
       "      \n",
       "          \n",
       "            [\"SynGauss(prefix='', name='det1', read_attrs=['val'], configuration_attrs=['Imax', 'center', 'sigma', 'noise', 'noise_multiplier'])\"]\n",
       "          \n",
       "        \n",
       "    </td>\n",
       "  </tr>\n",
       "\n",
       "  <tr>\n",
       "    <th> num </th>\n",
       "    <td>\n",
       "      \n",
       "          \n",
       "            6\n",
       "          \n",
       "        \n",
       "    </td>\n",
       "  </tr>\n",
       "\n",
       "  <tr>\n",
       "    <th> per_step </th>\n",
       "    <td>\n",
       "      \n",
       "          \n",
       "            None\n",
       "          \n",
       "        \n",
       "    </td>\n",
       "  </tr>\n",
       "\n",
       "        </table>\n",
       "        \n",
       "    </td>\n",
       "  </tr>\n",
       "\n",
       "  <tr>\n",
       "    <th> plan_name </th>\n",
       "    <td>\n",
       "      \n",
       "          \n",
       "            scan\n",
       "          \n",
       "        \n",
       "    </td>\n",
       "  </tr>\n",
       "\n",
       "  <tr>\n",
       "    <th> plan_pattern </th>\n",
       "    <td>\n",
       "      \n",
       "          \n",
       "            inner_product\n",
       "          \n",
       "        \n",
       "    </td>\n",
       "  </tr>\n",
       "\n",
       "  <tr>\n",
       "    <th> plan_pattern_args </th>\n",
       "    <td>\n",
       "      \n",
       "        <table>\n",
       "          \n",
       "  <tr>\n",
       "    <th> args </th>\n",
       "    <td>\n",
       "      \n",
       "          \n",
       "            [\"SynAxis(prefix='', name='motor1', read_attrs=['readback', 'setpoint'], configuration_attrs=['velocity', 'acceleration'])\", 0, 10]\n",
       "          \n",
       "        \n",
       "    </td>\n",
       "  </tr>\n",
       "\n",
       "  <tr>\n",
       "    <th> num </th>\n",
       "    <td>\n",
       "      \n",
       "          \n",
       "            6\n",
       "          \n",
       "        \n",
       "    </td>\n",
       "  </tr>\n",
       "\n",
       "        </table>\n",
       "        \n",
       "    </td>\n",
       "  </tr>\n",
       "\n",
       "  <tr>\n",
       "    <th> plan_pattern_module </th>\n",
       "    <td>\n",
       "      \n",
       "          \n",
       "            bluesky.plan_patterns\n",
       "          \n",
       "        \n",
       "    </td>\n",
       "  </tr>\n",
       "\n",
       "  <tr>\n",
       "    <th> plan_type </th>\n",
       "    <td>\n",
       "      \n",
       "          \n",
       "            generator\n",
       "          \n",
       "        \n",
       "    </td>\n",
       "  </tr>\n",
       "\n",
       "  <tr>\n",
       "    <th> scan_id </th>\n",
       "    <td>\n",
       "      \n",
       "          \n",
       "            12\n",
       "          \n",
       "        \n",
       "    </td>\n",
       "  </tr>\n",
       "\n",
       "  <tr>\n",
       "    <th> time </th>\n",
       "    <td>\n",
       "      \n",
       "          \n",
       "            6 minutes ago (2024-09-10T10:40:58.226195)\n",
       "          \n",
       "        \n",
       "    </td>\n",
       "  </tr>\n",
       "\n",
       "  <tr>\n",
       "    <th> uid </th>\n",
       "    <td>\n",
       "      \n",
       "          \n",
       "            ec1f89aa-e10f-463e-8d91-e97e0a9e76f7\n",
       "          \n",
       "        \n",
       "    </td>\n",
       "  </tr>\n",
       "\n",
       "  <tr>\n",
       "    <th> versions </th>\n",
       "    <td>\n",
       "      \n",
       "        <table>\n",
       "          \n",
       "  <tr>\n",
       "    <th> bluesky </th>\n",
       "    <td>\n",
       "      \n",
       "          \n",
       "            1.12.0\n",
       "          \n",
       "        \n",
       "    </td>\n",
       "  </tr>\n",
       "\n",
       "  <tr>\n",
       "    <th> ophyd </th>\n",
       "    <td>\n",
       "      \n",
       "          \n",
       "            1.9.0\n",
       "          \n",
       "        \n",
       "    </td>\n",
       "  </tr>\n",
       "\n",
       "        </table>\n",
       "        \n",
       "    </td>\n",
       "  </tr>\n",
       "\n",
       "</table>"
      ],
      "text/plain": [
       "{'uid': 'ec1f89aa-e10f-463e-8d91-e97e0a9e76f7',\n",
       " 'time': 1725975658.226195,\n",
       " 'versions': {'ophyd': '1.9.0', 'bluesky': '1.12.0'},\n",
       " 'scan_id': 12,\n",
       " 'plan_type': 'generator',\n",
       " 'plan_name': 'scan',\n",
       " 'detectors': ['det1'],\n",
       " 'motors': ['motor1'],\n",
       " 'num_points': 6,\n",
       " 'num_intervals': 5,\n",
       " 'plan_args': {'detectors': [\"SynGauss(prefix='', name='det1', read_attrs=['val'], configuration_attrs=['Imax', 'center', 'sigma', 'noise', 'noise_multiplier'])\"],\n",
       "  'num': 6,\n",
       "  'args': [\"SynAxis(prefix='', name='motor1', read_attrs=['readback', 'setpoint'], configuration_attrs=['velocity', 'acceleration'])\",\n",
       "   0,\n",
       "   10],\n",
       "  'per_step': 'None'},\n",
       " 'hints': {'dimensions': [[['motor1'], 'primary']]},\n",
       " 'plan_pattern': 'inner_product',\n",
       " 'plan_pattern_module': 'bluesky.plan_patterns',\n",
       " 'plan_pattern_args': {'num': 6,\n",
       "  'args': [\"SynAxis(prefix='', name='motor1', read_attrs=['readback', 'setpoint'], configuration_attrs=['velocity', 'acceleration'])\",\n",
       "   0,\n",
       "   10]}}"
      ]
     },
     "execution_count": 90,
     "metadata": {},
     "output_type": "execute_result"
    }
   ],
   "source": [
    "last_run.start"
   ]
  },
  {
   "cell_type": "markdown",
   "id": "a3c90377-3283-439a-a44a-09ba4f5da57b",
   "metadata": {},
   "source": [
    "### Eventos\n",
    "Vão guardar informações de um ou mais eventos:"
   ]
  },
  {
   "cell_type": "code",
   "execution_count": 105,
   "id": "a4100236-56e1-4b86-8696-ad795183fcea",
   "metadata": {},
   "outputs": [
    {
     "data": {
      "text/html": [
       "\n",
       "<table>\n",
       "\n",
       "  <tr>\n",
       "    <th> data </th>\n",
       "    <td>\n",
       "      \n",
       "        <table>\n",
       "          \n",
       "  <tr>\n",
       "    <th> det1 </th>\n",
       "    <td>\n",
       "      \n",
       "          \n",
       "            5.0\n",
       "          \n",
       "        \n",
       "    </td>\n",
       "  </tr>\n",
       "\n",
       "  <tr>\n",
       "    <th> motor1 </th>\n",
       "    <td>\n",
       "      \n",
       "          \n",
       "            0.0\n",
       "          \n",
       "        \n",
       "    </td>\n",
       "  </tr>\n",
       "\n",
       "  <tr>\n",
       "    <th> motor1_setpoint </th>\n",
       "    <td>\n",
       "      \n",
       "          \n",
       "            0.0\n",
       "          \n",
       "        \n",
       "    </td>\n",
       "  </tr>\n",
       "\n",
       "        </table>\n",
       "        \n",
       "    </td>\n",
       "  </tr>\n",
       "\n",
       "  <tr>\n",
       "    <th> descriptor </th>\n",
       "    <td>\n",
       "      \n",
       "          \n",
       "            5fed8be9-d522-498a-9fe3-6df176d1d51b\n",
       "          \n",
       "        \n",
       "    </td>\n",
       "  </tr>\n",
       "\n",
       "  <tr>\n",
       "    <th> filled </th>\n",
       "    <td>\n",
       "      \n",
       "        <table>\n",
       "          \n",
       "        </table>\n",
       "        \n",
       "    </td>\n",
       "  </tr>\n",
       "\n",
       "  <tr>\n",
       "    <th> seq_num </th>\n",
       "    <td>\n",
       "      \n",
       "          \n",
       "            1\n",
       "          \n",
       "        \n",
       "    </td>\n",
       "  </tr>\n",
       "\n",
       "  <tr>\n",
       "    <th> time </th>\n",
       "    <td>\n",
       "      \n",
       "          \n",
       "            9 minutes ago (2024-09-10T10:40:58.260192)\n",
       "          \n",
       "        \n",
       "    </td>\n",
       "  </tr>\n",
       "\n",
       "  <tr>\n",
       "    <th> timestamps </th>\n",
       "    <td>\n",
       "      \n",
       "        <table>\n",
       "          \n",
       "  <tr>\n",
       "    <th> det1 </th>\n",
       "    <td>\n",
       "      \n",
       "          \n",
       "            1725975658.240192\n",
       "          \n",
       "        \n",
       "    </td>\n",
       "  </tr>\n",
       "\n",
       "  <tr>\n",
       "    <th> motor1 </th>\n",
       "    <td>\n",
       "      \n",
       "          \n",
       "            1725975658.2361913\n",
       "          \n",
       "        \n",
       "    </td>\n",
       "  </tr>\n",
       "\n",
       "  <tr>\n",
       "    <th> motor1_setpoint </th>\n",
       "    <td>\n",
       "      \n",
       "          \n",
       "            1725975658.2331889\n",
       "          \n",
       "        \n",
       "    </td>\n",
       "  </tr>\n",
       "\n",
       "        </table>\n",
       "        \n",
       "    </td>\n",
       "  </tr>\n",
       "\n",
       "  <tr>\n",
       "    <th> uid </th>\n",
       "    <td>\n",
       "      \n",
       "          \n",
       "            b1464a2c-38e9-4491-8037-8718ffdcbbb6\n",
       "          \n",
       "        \n",
       "    </td>\n",
       "  </tr>\n",
       "\n",
       "</table>"
      ],
      "text/plain": [
       "{'descriptor': '5fed8be9-d522-498a-9fe3-6df176d1d51b',\n",
       " 'uid': 'b1464a2c-38e9-4491-8037-8718ffdcbbb6',\n",
       " 'time': 1725975658.2601922,\n",
       " 'seq_num': 1,\n",
       " 'data': {'det1': 5.0, 'motor1': 0.0, 'motor1_setpoint': 0.0},\n",
       " 'timestamps': {'det1': 1725975658.240192,\n",
       "  'motor1': 1725975658.2361913,\n",
       "  'motor1_setpoint': 1725975658.2331889},\n",
       " 'filled': {}}"
      ]
     },
     "metadata": {},
     "output_type": "display_data"
    }
   ],
   "source": [
    "for event in last_run.events():\n",
    "    display(event)\n",
    "    break"
   ]
  },
  {
   "cell_type": "code",
   "execution_count": 106,
   "id": "1c77ded8-c7a9-42f8-a30c-c49f2958f9a1",
   "metadata": {},
   "outputs": [
    {
     "name": "stderr",
     "output_type": "stream",
     "text": [
      "C:\\Users\\HOME\\anaconda\\Lib\\site-packages\\databroker\\utils.py:208: UserWarning: Dot access may be removed in a future version. Use ['to_name_dict_pair'] instead of .to_name_dict_pair\n",
      "  warnings.warn(\"Dot access may be removed in a future version. \"\n",
      "C:\\Users\\HOME\\anaconda\\Lib\\site-packages\\databroker\\utils.py:211: UserWarning: In a future version of databroker, plain dicts without a '_name' attribute may be returned. Do not rely on '_name'.\n",
      "  warnings.warn(\"In a future version of databroker, plain dicts \"\n"
     ]
    },
    {
     "name": "stdout",
     "output_type": "stream",
     "text": [
      "('Event',\n",
      " {'data': {'det1': 5.0, 'motor1': 0.0, 'motor1_setpoint': 0.0},\n",
      "  'descriptor': '5fed8be9-d522-498a-9fe3-6df176d1d51b',\n",
      "  'filled': {},\n",
      "  'seq_num': 1,\n",
      "  'time': 1725975658.2601922,\n",
      "  'timestamps': {'det1': 1725975658.240192,\n",
      "                 'motor1': 1725975658.2361913,\n",
      "                 'motor1_setpoint': 1725975658.2331889},\n",
      "  'uid': 'b1464a2c-38e9-4491-8037-8718ffdcbbb6'})\n"
     ]
    }
   ],
   "source": [
    "pprint(event.to_name_dict_pair())"
   ]
  },
  {
   "cell_type": "markdown",
   "id": "1bbb262c",
   "metadata": {
    "slideshow": {
     "slide_type": "subslide"
    }
   },
   "source": [
    "### Metadata on Standard Plans"
   ]
  },
  {
   "cell_type": "code",
   "execution_count": null,
   "id": "5040a8bf",
   "metadata": {
    "scrolled": true,
    "slideshow": {
     "slide_type": "fragment"
    }
   },
   "outputs": [],
   "source": [
    "(uid, ) = RE(scan([det1], motor1, -3, 3, 15, md={\n",
    "    \"motive\": \"Calibration\",\n",
    "    \"sample\": \"Standard Sample\"\n",
    "}))\n",
    "db[uid]"
   ]
  },
  {
   "cell_type": "code",
   "execution_count": null,
   "id": "31086a87",
   "metadata": {
    "scrolled": true,
    "slideshow": {
     "slide_type": "subslide"
    }
   },
   "outputs": [],
   "source": [
    "last_run = db[-1]\n",
    "last_run"
   ]
  },
  {
   "cell_type": "markdown",
   "id": "05d65745",
   "metadata": {
    "slideshow": {
     "slide_type": "subslide"
    }
   },
   "source": [
    "### Start Event"
   ]
  },
  {
   "cell_type": "markdown",
   "id": "32755a54",
   "metadata": {
    "slideshow": {
     "slide_type": "fragment"
    }
   },
   "source": [
    "- time: Horário de início do scan\n",
    "\n",
    "- plan_name: Nome do plano executado, como 'scan' ou 'grid_scan'\n",
    "\n",
    "- uid: ID único que identifica o scan realizado\n",
    "\n",
    "- scan_id: Número inteiro amigável ao usuário, mas não necessáriamente único \n",
    "\n",
    "- Outros metadados inseridos pelo usuário ou plano"
   ]
  },
  {
   "cell_type": "code",
   "execution_count": null,
   "id": "ce35ce4d",
   "metadata": {
    "scrolled": true,
    "slideshow": {
     "slide_type": "fragment"
    }
   },
   "outputs": [],
   "source": [
    "last_run.start"
   ]
  },
  {
   "cell_type": "markdown",
   "id": "18b2c022",
   "metadata": {
    "slideshow": {
     "slide_type": "subslide"
    }
   },
   "source": [
    "### Stop Event"
   ]
  },
  {
   "cell_type": "markdown",
   "id": "f9c1b4e5",
   "metadata": {
    "slideshow": {
     "slide_type": "fragment"
    }
   },
   "source": [
    "- time: Horário de fim do scan\n",
    "\n",
    "- exit_status: Status do plano ao final ('abort', 'fail', 'success')"
   ]
  },
  {
   "cell_type": "code",
   "execution_count": null,
   "id": "82ccbb23",
   "metadata": {
    "slideshow": {
     "slide_type": "fragment"
    }
   },
   "outputs": [],
   "source": [
    "last_run.stop"
   ]
  },
  {
   "cell_type": "markdown",
   "id": "e30dfe61",
   "metadata": {
    "slideshow": {
     "slide_type": "subslide"
    }
   },
   "source": [
    "### Descriptors"
   ]
  },
  {
   "cell_type": "code",
   "execution_count": null,
   "id": "1ad0ea30",
   "metadata": {
    "scrolled": true,
    "slideshow": {
     "slide_type": "fragment"
    }
   },
   "outputs": [],
   "source": [
    "last_run.descriptors[0]"
   ]
  },
  {
   "cell_type": "markdown",
   "id": "c1a343ef",
   "metadata": {
    "slideshow": {
     "slide_type": "subslide"
    }
   },
   "source": [
    "### Events"
   ]
  },
  {
   "cell_type": "code",
   "execution_count": null,
   "id": "e19b76eb",
   "metadata": {
    "slideshow": {
     "slide_type": "fragment"
    }
   },
   "outputs": [],
   "source": [
    "last_run.table()"
   ]
  },
  {
   "cell_type": "markdown",
   "id": "b6f0c14b",
   "metadata": {
    "slideshow": {
     "slide_type": "slide"
    }
   },
   "source": [
    "## Metadata Plan Stubs"
   ]
  },
  {
   "cell_type": "code",
   "execution_count": null,
   "id": "ce63d2b8",
   "metadata": {
    "slideshow": {
     "slide_type": "subslide"
    }
   },
   "outputs": [],
   "source": [
    "def plan_with_data():\n",
    "    yield from open_run(md={})\n",
    "    \n",
    "    # Plan procedures\n",
    "    yield from trigger_and_read([noisy_det])\n",
    "    \n",
    "    yield from close_run()\n",
    "\n",
    "uid = RE(plan_with_data(), LiveTable(['noisy_det']))\n",
    "db[-1].table()"
   ]
  },
  {
   "cell_type": "code",
   "execution_count": null,
   "id": "36bbf550",
   "metadata": {
    "scrolled": true,
    "slideshow": {
     "slide_type": "subslide"
    }
   },
   "outputs": [],
   "source": [
    "db[-1]"
   ]
  },
  {
   "cell_type": "code",
   "execution_count": null,
   "id": "b9b4b6fe",
   "metadata": {
    "scrolled": true,
    "slideshow": {
     "slide_type": "subslide"
    }
   },
   "outputs": [],
   "source": [
    "def plan_with_data():\n",
    "    yield from open_run(md={})\n",
    "    \n",
    "    # Plan procedures\n",
    "    yield from trigger_and_read([noisy_det])\n",
    "    yield from rd(motor1)\n",
    "    \n",
    "    yield from close_run()\n",
    "\n",
    "uid = RE(plan_with_data(), LiveTable(['noisy_det', 'motor1']))\n",
    "db[-1]"
   ]
  },
  {
   "cell_type": "code",
   "execution_count": null,
   "id": "eef6aea5",
   "metadata": {
    "scrolled": true,
    "slideshow": {
     "slide_type": "subslide"
    }
   },
   "outputs": [],
   "source": [
    "def plan_with_data():\n",
    "    yield from open_run(md={})\n",
    "    yield from create(name=\"custom_data_stream\")\n",
    "    \n",
    "    # Plan procedures\n",
    "    yield from trigger(noisy_det)\n",
    "    yield from rd(noisy_det)\n",
    "    yield from rd(motor1)\n",
    "\n",
    "    yield from save()\n",
    "    yield from close_run()\n",
    "\n",
    "uid = RE(plan_with_data(), LiveTable(['noisy_det']))\n",
    "db[-1]"
   ]
  },
  {
   "cell_type": "code",
   "execution_count": null,
   "id": "434ce300",
   "metadata": {
    "slideshow": {
     "slide_type": "subslide"
    }
   },
   "outputs": [],
   "source": [
    "db[-1].table(\"custom_data_stream\")"
   ]
  },
  {
   "cell_type": "markdown",
   "id": "22cc38fd",
   "metadata": {
    "slideshow": {
     "slide_type": "slide"
    }
   },
   "source": [
    "create: Bundle future readings into a new Event document.\n",
    "\n",
    "save: Close a bundle of readings and emit a completed Event document.\n",
    "\n",
    "drop: Drop a bundle of readings without emitting a completed Event document.\n",
    "\n",
    "subscribe: Subscribe the stream of emitted documents.\n",
    "\n",
    "unsubscribe: Remove a subscription.\n",
    "\n",
    "\n",
    "Plan Stubs\n",
    "\n",
    "trigger: Trigger and acquisition.\n",
    "\n",
    "read: Take a reading and add it to the current bundle of readings.\n",
    "\n",
    "rd: Reads a single-value non-triggered object"
   ]
  },
  {
   "cell_type": "markdown",
   "id": "6c157536",
   "metadata": {},
   "source": [
    "Preprocessors -> What is a decorator\n",
    "\n",
    "relative_set_decorator: Interpret 'set' messages on devices as relative to initial position.\n",
    "\n",
    "reset_positions_decorator: Return movable devices to their initial positions at the end.\n",
    "\n",
    "run_decorator: Enclose in 'open_run' and 'close_run' messages.\n",
    "\n",
    "stage_decorator: 'Stage' devices (i.e., prepare them for use, 'arm' them) and then unstage.\n",
    "\n",
    "finalize_decorator: try...finally helper"
   ]
  },
  {
   "cell_type": "markdown",
   "id": "fb339439",
   "metadata": {},
   "source": [
    "Suplemental Data\n",
    "\n",
    "\n",
    "\n",
    "baseline_wrapper()\n",
    "\n",
    "monitor_during_wrapper()\n",
    "\n",
    "fly_during_wrapper()"
   ]
  }
 ],
 "metadata": {
  "celltoolbar": "Slideshow",
  "kernelspec": {
   "display_name": "Python 3 (ipykernel)",
   "language": "python",
   "name": "python3"
  },
  "language_info": {
   "codemirror_mode": {
    "name": "ipython",
    "version": 3
   },
   "file_extension": ".py",
   "mimetype": "text/x-python",
   "name": "python",
   "nbconvert_exporter": "python",
   "pygments_lexer": "ipython3",
   "version": "3.12.4"
  },
  "rise": {
   "enable_chalkboard": true,
   "scroll": true,
   "start_slideshow_at": "beginning",
   "theme": "sky"
  }
 },
 "nbformat": 4,
 "nbformat_minor": 5
}
