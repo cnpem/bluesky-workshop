{
 "cells": [
  {
   "cell_type": "markdown",
   "metadata": {
    "slideshow": {
     "slide_type": "slide"
    }
   },
   "source": [
    "## Stub Plans "
   ]
  },
  {
   "cell_type": "markdown",
   "metadata": {
    "slideshow": {
     "slide_type": "fragment"
    }
   },
   "source": [
    "### Links Úteis\n",
    "\n",
    "- Documentação dos plan stubs: https://blueskyproject.io/bluesky/main/plans.html#stub-plans\n",
    "\n",
    "- Documentação da customização de planos com per_step: https://blueskyproject.io/bluesky/main/plans.html#customize-step-scans-with-per-step\n",
    "\n",
    "- Documentação da utilização de metadados: https://blueskyproject.io/bluesky/main/metadata.html\n",
    "\n",
    "- Documentação dos preprocessors: https://blueskyproject.io/bluesky/main/plans.html#plan-preprocessors"
   ]
  },
  {
   "cell_type": "code",
   "execution_count": 136,
   "metadata": {
    "slideshow": {
     "slide_type": "subslide"
    }
   },
   "outputs": [],
   "source": [
    "%matplotlib qt\n",
    "from time import time\n",
    "from bluesky import RunEngine\n",
    "from bluesky.plans import count\n",
    "from bluesky.callbacks import LiveTable\n",
    "from bluesky.plan_stubs import abs_set, rel_set, mv, mvr, \\\n",
    "    stage, unstage, stop, pause, deferred_pause, sleep, \\\n",
    "    checkpoint, clear_checkpoint, repeat, trigger_and_read, \\\n",
    "    open_run, close_run\n",
    "from ophyd import Device, Component, ADComponent\n",
    "from ophyd.sim import noisy_det, motor1, motor2, SynGauss, FakeEpicsSignalWithRBV\n",
    "from matplotlib.pyplot import ion\n",
    "from bluesky.utils import install_nb_kicker\n",
    "install_nb_kicker()\n",
    "\n",
    "ion()\n",
    "RE = RunEngine()"
   ]
  },
  {
   "cell_type": "markdown",
   "metadata": {
    "slideshow": {
     "slide_type": "subslide"
    }
   },
   "source": [
    "#### Getting values from ophyd objects"
   ]
  },
  {
   "cell_type": "code",
   "execution_count": null,
   "metadata": {
    "slideshow": {
     "slide_type": "fragment"
    }
   },
   "outputs": [],
   "source": [
    "print(f\"Read: {motor1.read()}\")\n",
    "print()\n",
    "print(f\"Configuration: {motor1.read_configuration()}\")\n",
    "print()\n",
    "print(f\"Get Device: {motor1.get()}\")\n",
    "print()\n",
    "print(f\"Get Readback: {motor1.readback.get()}\")"
   ]
  },
  {
   "cell_type": "markdown",
   "metadata": {
    "slideshow": {
     "slide_type": "slide"
    }
   },
   "source": [
    "## mv and abs_set"
   ]
  },
  {
   "cell_type": "code",
   "execution_count": null,
   "metadata": {
    "slideshow": {
     "slide_type": "fragment"
    }
   },
   "outputs": [],
   "source": [
    "#help(abs_set)\n",
    "#help(mv)"
   ]
  },
  {
   "cell_type": "code",
   "execution_count": null,
   "metadata": {
    "slideshow": {
     "slide_type": "subslide"
    }
   },
   "outputs": [],
   "source": [
    "RE(mv(motor1, 0))\n",
    "motor1.delay = 2\n",
    "print(f\"Before: {motor1.read()}\")\n",
    "RE(abs_set(motor1, 15))\n",
    "print(f\"After: {motor1.read()}\")\n",
    "motor1.delay = 0"
   ]
  },
  {
   "cell_type": "code",
   "execution_count": null,
   "metadata": {
    "slideshow": {
     "slide_type": "fragment"
    }
   },
   "outputs": [],
   "source": [
    "RE(mv(motor1, 0))\n",
    "motor1.delay = 2\n",
    "print(f\"Before: {motor1.read()}\")\n",
    "RE(abs_set(motor1, 15, wait=True))\n",
    "print(f\"After: {motor1.read()}\")\n",
    "motor1.delay = 0"
   ]
  },
  {
   "cell_type": "code",
   "execution_count": null,
   "metadata": {
    "slideshow": {
     "slide_type": "subslide"
    }
   },
   "outputs": [],
   "source": [
    "RE(mv(motor1, 0, motor2, 0))\n",
    "motor1.delay = 2\n",
    "motor2.delay = 4\n",
    "print(f\"Before : {motor1.readback.get()}\")\n",
    "print(f\"Before motor2: {motor1.readback.get()}\")\n",
    "start = time()\n",
    "RE(mv(motor1, 4, motor2, 15))\n",
    "end = time()\n",
    "print(f\"After motor1: {motor1.readback.get()}\")\n",
    "print(f\"After motor2: {motor2.readback.get()}\")\n",
    "print(f\"Duration: {end - start}\")\n",
    "motor1.delay = 0\n",
    "motor2.delay = 0"
   ]
  },
  {
   "cell_type": "code",
   "execution_count": 128,
   "metadata": {
    "slideshow": {
     "slide_type": "fragment"
    }
   },
   "outputs": [],
   "source": [
    "class SimPimegaCam(Device):\n",
    "    \n",
    "    value = ADComponent(SynGauss, motor=motor1, motor_field=\"motor1\", center=160, \n",
    "        Imax=20, sigma=100, noise=\"uniform\", noise_multiplier=0.1, kind=\"hinted\")\n",
    "    trigger_mode = ADComponent(FakeEpicsSignalWithRBV, \"TriggerMode\", string=True, kind=\"config\")\n",
    "    file_name = ADComponent(FakeEpicsSignalWithRBV, \"FileName\", string=True, kind=\"config\")\n",
    "    file_path = ADComponent(FakeEpicsSignalWithRBV, \"FilePath\", string=True, kind=\"config\")\n",
    "\n",
    "    file_template = ADComponent(FakeEpicsSignalWithRBV, \"FileTemplate\", string=True, kind=\"config\")\n",
    "    auto_increment = ADComponent(FakeEpicsSignalWithRBV, \"AutoIncrement\", string=True, kind=\"config\")\n",
    "    auto_save = ADComponent(FakeEpicsSignalWithRBV, \"AutoSave\", string=True, kind=\"config\")\n",
    "    \n",
    "    num_capture = ADComponent(FakeEpicsSignalWithRBV, \"NumCapture\", kind=\"config\")\n",
    "    num_exposures = ADComponent(FakeEpicsSignalWithRBV, \"NumExposures\", kind=\"config\")\n",
    "    \n",
    "    acquire_time = ADComponent(FakeEpicsSignalWithRBV, \"AcquireTime\", kind=\"config\")\n",
    "    acquire_period = ADComponent(FakeEpicsSignalWithRBV, \"AcquirePeriod\", kind=\"config\")"
   ]
  },
  {
   "cell_type": "code",
   "execution_count": 113,
   "metadata": {
    "slideshow": {
     "slide_type": "subslide"
    }
   },
   "outputs": [],
   "source": [
    "def pimega_configuration(\n",
    "        pimega_cam: any, acquire_time: float, num_exposures: int,\n",
    "        file_name: str, file_path: str, det_readout: float = 0.01):\n",
    "    \n",
    "    yield from mv(pimega_cam.auto_save, \"Yes\")\n",
    "    yield from mv(pimega_cam.auto_increment, \"Yes\")\n",
    "    yield from mv(pimega_cam.file_template, \"%s%s_%3.3d.hdf5\")\n",
    "    yield from mv(pimega_cam.trigger_mode, \"External\")\n",
    "\n",
    "    yield from mv(pimega_cam.num_capture, num_exposures)\n",
    "    yield from mv(pimega_cam.num_exposures, num_exposures)\n",
    "    \n",
    "    yield from mv(pimega_cam.num_capture, num_exposures)\n",
    "    yield from mv(pimega_cam.num_exposures, num_exposures)\n",
    "        \n",
    "    yield from mv(pimega_cam.acquire_time, acquire_time)\n",
    "    yield from mv(pimega_cam.acquire_period, acquire_time + det_readout)\n",
    "    \n",
    "    yield from mv(pimega_cam.file_name, file_name)\n",
    "    yield from mv(pimega_cam.file_path, file_path)"
   ]
  },
  {
   "cell_type": "code",
   "execution_count": 114,
   "metadata": {
    "slideshow": {
     "slide_type": "subslide"
    }
   },
   "outputs": [
    {
     "name": "stdout",
     "output_type": "stream",
     "text": [
      "pimega_trigger_mode: 0 -> External\n",
      "pimega_file_name: 0 -> acquisiton_test\n",
      "pimega_file_path: 0 -> /ibira/test\n",
      "pimega_file_template: 0 -> %s%s_%3.3d.hdf5\n",
      "pimega_auto_increment: 0 -> Yes\n",
      "pimega_auto_save: 0 -> Yes\n",
      "pimega_num_capture: 0 -> 15\n",
      "pimega_num_exposures: 0 -> 15\n",
      "pimega_acquire_time: 0 -> 0.1\n",
      "pimega_acquire_period: 0 -> 0.11\n"
     ]
    }
   ],
   "source": [
    "def get_values():\n",
    "    attr_dict = {}\n",
    "    for attr_name, values in pimega_cam.read_configuration().items():\n",
    "        attr_dict[attr_name] = values[\"value\"]\n",
    "    return attr_dict\n",
    "\n",
    "pimega_cam = SimPimegaCam(\"SIM:\", name=\"pimega\")\n",
    "\n",
    "before_config = get_values()\n",
    "RE(pimega_configuration(pimega_cam, 0.1, 15, \"acquisiton_test\", \"/ibira/test\"))\n",
    "after_config = get_values()\n",
    "\n",
    "for key in after_config.keys():\n",
    "    print(f\"{key}: {before_config[key]} -> {after_config[key]}\")"
   ]
  },
  {
   "cell_type": "markdown",
   "metadata": {
    "slideshow": {
     "slide_type": "slide"
    }
   },
   "source": [
    "## mvr and rel_set"
   ]
  },
  {
   "cell_type": "code",
   "execution_count": null,
   "metadata": {
    "slideshow": {
     "slide_type": "fragment"
    }
   },
   "outputs": [],
   "source": [
    "#help(mvr)\n",
    "#help(rel_set)"
   ]
  },
  {
   "cell_type": "code",
   "execution_count": null,
   "metadata": {
    "slideshow": {
     "slide_type": "subslide"
    }
   },
   "outputs": [],
   "source": [
    "RE(mv(motor1, 14))\n",
    "motor1.delay = 2\n",
    "print(f\"Before: {motor1.readback.get()}\")\n",
    "RE(rel_set(motor1, 15))\n",
    "print(f\"After: {motor1.readback.get()}\")\n",
    "motor1.delay = 0"
   ]
  },
  {
   "cell_type": "code",
   "execution_count": null,
   "metadata": {
    "slideshow": {
     "slide_type": "fragment"
    }
   },
   "outputs": [],
   "source": [
    "RE(mv(motor1, 14))\n",
    "motor1.delay = 2\n",
    "print(f\"Before: {motor1.readback.get()}\")\n",
    "RE(mvr(motor1, 15))\n",
    "print(f\"After +15: {motor1.readback.get()}\")\n",
    "RE(mvr(motor1, -10))\n",
    "print(f\"After -10: {motor1.readback.get()}\")\n",
    "RE(mvr(motor1, 2.5))\n",
    "print(f\"After +2.5: {motor1.readback.get()}\")\n",
    "motor1.delay = 0"
   ]
  },
  {
   "cell_type": "code",
   "execution_count": 131,
   "metadata": {
    "slideshow": {
     "slide_type": "subslide"
    }
   },
   "outputs": [],
   "source": [
    "def count_and_rotate(detector: any, rx: any, ux: any):\n",
    "    yield from mv(rx, 0)\n",
    "    \n",
    "    for delta_angle in range(0, 10):\n",
    "        yield from scan([pimega_cam.value], ux, -1, 1, 5)\n",
    "        yield from mvr(rx, 36)\n",
    "        \n",
    "        print(f\"Motor Rx: {rx.readback.read()}\")"
   ]
  },
  {
   "cell_type": "code",
   "execution_count": 135,
   "metadata": {
    "slideshow": {
     "slide_type": "fragment"
    }
   },
   "outputs": [
    {
     "name": "stdout",
     "output_type": "stream",
     "text": [
      "\n",
      "\n",
      "+-----------+------------+--------------+\n",
      "|   seq_num |       time | pimega_value |\n",
      "+-----------+------------+--------------+\n",
      "|         1 | 15:02:36.5 |        5.489 |\n",
      "|         2 | 15:02:36.5 |        5.626 |\n",
      "|         3 | 15:02:36.6 |        5.479 |\n",
      "|         4 | 15:02:36.6 |        5.657 |\n",
      "|         5 | 15:02:36.6 |        5.633 |\n",
      "+-----------+------------+--------------+\n",
      "generator scan ['70d10a90'] (scan num: 31)\n",
      "\n",
      "\n",
      "Motor Rx: {'motor1': {'value': 36.0, 'timestamp': 1725645756.793538}}\n",
      "\n",
      "\n",
      "+-----------+------------+--------------+\n",
      "|   seq_num |       time | pimega_value |\n",
      "+-----------+------------+--------------+\n",
      "|         1 | 15:02:36.8 |        9.304 |\n",
      "|         2 | 15:02:36.9 |        9.180 |\n",
      "|         3 | 15:02:36.9 |        9.307 |\n",
      "|         4 | 15:02:36.9 |        9.254 |\n",
      "|         5 | 15:02:37.0 |        9.202 |\n",
      "+-----------+------------+--------------+\n",
      "generator scan ['2e18acf8'] (scan num: 32)\n",
      "\n",
      "\n",
      "Motor Rx: {'motor1': {'value': 72.0, 'timestamp': 1725645757.1499088}}\n",
      "\n",
      "\n",
      "+-----------+------------+--------------+\n",
      "|   seq_num |       time | pimega_value |\n",
      "+-----------+------------+--------------+\n",
      "|         1 | 15:02:37.2 |       13.511 |\n",
      "|         2 | 15:02:37.2 |       13.631 |\n",
      "|         3 | 15:02:37.3 |       13.536 |\n",
      "|         4 | 15:02:37.3 |       13.597 |\n",
      "|         5 | 15:02:37.3 |       13.621 |\n",
      "+-----------+------------+--------------+\n",
      "generator scan ['adcbc326'] (scan num: 33)\n",
      "\n",
      "\n",
      "Motor Rx: {'motor1': {'value': 108.0, 'timestamp': 1725645757.5116642}}\n",
      "\n",
      "\n",
      "+-----------+------------+--------------+\n",
      "|   seq_num |       time | pimega_value |\n",
      "+-----------+------------+--------------+\n",
      "|         1 | 15:02:37.6 |       17.511 |\n",
      "|         2 | 15:02:37.6 |       17.418 |\n",
      "|         3 | 15:02:37.6 |       17.489 |\n",
      "|         4 | 15:02:37.6 |       17.402 |\n",
      "|         5 | 15:02:37.7 |       17.455 |\n",
      "+-----------+------------+--------------+\n",
      "generator scan ['a52c7fdb'] (scan num: 34)\n",
      "\n",
      "\n",
      "Motor Rx: {'motor1': {'value': 144.0, 'timestamp': 1725645757.8573012}}\n",
      "\n",
      "\n",
      "+-----------+------------+--------------+\n",
      "|   seq_num |       time | pimega_value |\n",
      "+-----------+------------+--------------+\n",
      "|         1 | 15:02:37.8 |       19.774 |\n",
      "|         2 | 15:02:37.8 |       19.718 |\n",
      "|         3 | 15:02:37.9 |       19.767 |\n",
      "|         4 | 15:02:37.9 |       19.776 |\n",
      "|         5 | 15:02:37.9 |       19.797 |\n",
      "+-----------+------------+--------------+\n",
      "generator scan ['e4806b16'] (scan num: 35)\n",
      "\n",
      "\n",
      "Motor Rx: {'motor1': {'value': 180.0, 'timestamp': 1725645758.0699544}}\n",
      "\n",
      "\n",
      "+-----------+------------+--------------+\n",
      "|   seq_num |       time | pimega_value |\n",
      "+-----------+------------+--------------+\n",
      "|         1 | 15:02:38.1 |       19.517 |\n",
      "|         2 | 15:02:38.1 |       19.653 |\n",
      "|         3 | 15:02:38.2 |       19.610 |\n",
      "|         4 | 15:02:38.2 |       19.513 |\n",
      "|         5 | 15:02:38.2 |       19.631 |\n",
      "+-----------+------------+--------------+\n",
      "generator scan ['1466a452'] (scan num: 36)\n",
      "\n",
      "\n",
      "Motor Rx: {'motor1': {'value': 216.0, 'timestamp': 1725645758.4358702}}\n",
      "\n",
      "\n",
      "+-----------+------------+--------------+\n",
      "|   seq_num |       time | pimega_value |\n",
      "+-----------+------------+--------------+\n",
      "|         1 | 15:02:38.5 |       17.117 |\n",
      "|         2 | 15:02:38.5 |       17.070 |\n",
      "|         3 | 15:02:38.5 |       17.062 |\n",
      "|         4 | 15:02:38.6 |       17.179 |\n",
      "|         5 | 15:02:38.6 |       17.007 |\n",
      "+-----------+------------+--------------+\n",
      "generator scan ['dcd07b5f'] (scan num: 37)\n",
      "\n",
      "\n",
      "Motor Rx: {'motor1': {'value': 252.0, 'timestamp': 1725645758.7813892}}\n",
      "\n",
      "\n",
      "+-----------+------------+--------------+\n",
      "|   seq_num |       time | pimega_value |\n",
      "+-----------+------------+--------------+\n",
      "|         1 | 15:02:38.8 |       13.140 |\n",
      "|         2 | 15:02:38.9 |       13.041 |\n",
      "|         3 | 15:02:38.9 |       13.141 |\n",
      "|         4 | 15:02:38.9 |       13.173 |\n",
      "|         5 | 15:02:38.9 |       13.079 |\n",
      "+-----------+------------+--------------+\n",
      "generator scan ['e835f2ec'] (scan num: 38)\n",
      "\n",
      "\n",
      "Motor Rx: {'motor1': {'value': 288.0, 'timestamp': 1725645759.1270883}}\n",
      "\n",
      "\n",
      "+-----------+------------+--------------+\n",
      "|   seq_num |       time | pimega_value |\n",
      "+-----------+------------+--------------+\n",
      "|         1 | 15:02:39.2 |        8.806 |\n",
      "|         2 | 15:02:39.2 |        8.900 |\n",
      "|         3 | 15:02:39.2 |        8.754 |\n",
      "|         4 | 15:02:39.2 |        8.875 |\n",
      "|         5 | 15:02:39.3 |        8.886 |\n",
      "+-----------+------------+--------------+\n",
      "generator scan ['a4b89a1a'] (scan num: 39)\n",
      "\n",
      "\n",
      "Motor Rx: {'motor1': {'value': 324.0, 'timestamp': 1725645759.4616725}}\n",
      "\n",
      "\n",
      "+-----------+------------+--------------+\n",
      "|   seq_num |       time | pimega_value |\n",
      "+-----------+------------+--------------+\n",
      "|         1 | 15:02:39.5 |        5.207 |\n",
      "|         2 | 15:02:39.5 |        5.200 |\n",
      "|         3 | 15:02:39.6 |        5.265 |\n",
      "|         4 | 15:02:39.6 |        5.226 |\n",
      "|         5 | 15:02:39.6 |        5.138 |\n",
      "+-----------+------------+--------------+\n",
      "generator scan ['1b243374'] (scan num: 40)\n",
      "\n",
      "\n",
      "Motor Rx: {'motor1': {'value': 360.0, 'timestamp': 1725645759.8040643}}\n"
     ]
    },
    {
     "data": {
      "text/plain": [
       "('70d10a90-fa0b-4bb4-aaaf-0805cc87ecb3',\n",
       " '2e18acf8-5909-49e0-b909-9a5f267c4e13',\n",
       " 'adcbc326-8642-4925-84fa-ef4aeaaafca7',\n",
       " 'a52c7fdb-f6be-439c-b140-32fcceac2506',\n",
       " 'e4806b16-0745-49d5-a300-ac910368d987',\n",
       " '1466a452-b82b-4064-be23-d53e3eb8a6d2',\n",
       " 'dcd07b5f-84d2-4509-9c48-88f3158308f9',\n",
       " 'e835f2ec-d6bf-4c5d-a5cc-eeb23000f2bf',\n",
       " 'a4b89a1a-5c26-4e77-b699-3ffdef4d4490',\n",
       " '1b243374-39e0-4083-a474-650df7e8d6a2')"
      ]
     },
     "execution_count": 135,
     "metadata": {},
     "output_type": "execute_result"
    }
   ],
   "source": [
    "pimega_cam = SimPimegaCam(\"SIM:\", name=\"pimega\")\n",
    "\n",
    "RE(count_and_rotate(pimega_cam, motor1, motor2), LiveTable(['pimega_value']))"
   ]
  },
  {
   "cell_type": "markdown",
   "metadata": {
    "slideshow": {
     "slide_type": "slide"
    }
   },
   "source": [
    "## sleep and stop"
   ]
  },
  {
   "cell_type": "code",
   "execution_count": null,
   "metadata": {
    "slideshow": {
     "slide_type": "fragment"
    }
   },
   "outputs": [],
   "source": [
    "#help(sleep)\n",
    "#help(stop)"
   ]
  },
  {
   "cell_type": "code",
   "execution_count": null,
   "metadata": {
    "slideshow": {
     "slide_type": "subslide"
    }
   },
   "outputs": [],
   "source": [
    "class StopDevice(Device):\n",
    "\n",
    "    def stop(self):\n",
    "        super().stop()\n",
    "        print(\"This Device has been stopped\")"
   ]
  },
  {
   "cell_type": "code",
   "execution_count": null,
   "metadata": {
    "slideshow": {
     "slide_type": "fragment"
    }
   },
   "outputs": [],
   "source": [
    "stop_device = StopDevice(name=\"stop_device\")\n",
    "RE(stop(stop_device))"
   ]
  },
  {
   "cell_type": "code",
   "execution_count": null,
   "metadata": {
    "slideshow": {
     "slide_type": "fragment"
    }
   },
   "outputs": [],
   "source": [
    "start = time()\n",
    "RE(sleep(1))\n",
    "end = time()\n",
    "print(f\"Duration: {end - start}\")"
   ]
  },
  {
   "cell_type": "markdown",
   "metadata": {
    "slideshow": {
     "slide_type": "slide"
    }
   },
   "source": [
    "## stage and unstage"
   ]
  },
  {
   "cell_type": "code",
   "execution_count": null,
   "metadata": {
    "slideshow": {
     "slide_type": "fragment"
    }
   },
   "outputs": [],
   "source": [
    "#help(stage)\n",
    "#help(unstage)"
   ]
  },
  {
   "cell_type": "code",
   "execution_count": 137,
   "metadata": {
    "slideshow": {
     "slide_type": "subslide"
    }
   },
   "outputs": [],
   "source": [
    "class StagedDevice(Device):\n",
    "\n",
    "    def stage(self):\n",
    "        super().stage()\n",
    "        print(\"This Device is being armed\")\n",
    "\n",
    "    def unstage(self):\n",
    "        super().unstage()\n",
    "        print(\"This Device is being restored to a safe idle state\")"
   ]
  },
  {
   "cell_type": "code",
   "execution_count": null,
   "metadata": {
    "scrolled": true,
    "slideshow": {
     "slide_type": "fragment"
    }
   },
   "outputs": [],
   "source": [
    "exampleDevice = StagedDevice(name=\"staged_device\")\n",
    "\n",
    "def stage_unstage_plan():\n",
    "    yield from stage(exampleDevice)\n",
    "    \n",
    "    # Custom plan\n",
    "    print(\"Custom plan\")\n",
    "    \n",
    "    yield from unstage(exampleDevice)\n",
    "\n",
    "RE(stage_unstage_plan())"
   ]
  },
  {
   "cell_type": "markdown",
   "metadata": {
    "slideshow": {
     "slide_type": "slide"
    }
   },
   "source": [
    "## Controlling the Run Engine "
   ]
  },
  {
   "cell_type": "code",
   "execution_count": null,
   "metadata": {
    "slideshow": {
     "slide_type": "subslide"
    }
   },
   "outputs": [],
   "source": [
    "#help(checkpoint)\n",
    "#help(clear_checkpoint)\n",
    "#help(pause)\n",
    "#help(deferred_pause)\n",
    "#help(open_run)\n",
    "#help(close_run)"
   ]
  },
  {
   "cell_type": "markdown",
   "metadata": {
    "slideshow": {
     "slide_type": "subslide"
    }
   },
   "source": [
    "### Pause"
   ]
  },
  {
   "cell_type": "code",
   "execution_count": null,
   "metadata": {
    "scrolled": true,
    "slideshow": {
     "slide_type": "fragment"
    }
   },
   "outputs": [],
   "source": [
    "def pause_plan():\n",
    "    yield from open_run()\n",
    "    yield from mv(motor1, 5)\n",
    "    yield from trigger_and_read([noisy_det])\n",
    "    yield from checkpoint()\n",
    "    \n",
    "    yield from pause()\n",
    "    \n",
    "    yield from mv(motor1, 4)\n",
    "    yield from trigger_and_read([noisy_det])\n",
    "    yield from checkpoint()\n",
    "    \n",
    "    yield from mv(motor1, 14)\n",
    "    yield from trigger_and_read([noisy_det])\n",
    "    yield from checkpoint()\n",
    "    \n",
    "    yield from close_run()"
   ]
  },
  {
   "cell_type": "code",
   "execution_count": null,
   "metadata": {
    "scrolled": true,
    "slideshow": {
     "slide_type": "subslide"
    }
   },
   "outputs": [],
   "source": [
    "RE(pause_plan(), LiveTable([\"noisy_det\"]))"
   ]
  },
  {
   "cell_type": "code",
   "execution_count": null,
   "metadata": {
    "slideshow": {
     "slide_type": "subslide"
    }
   },
   "outputs": [],
   "source": [
    "print(RE.state)\n",
    "RE.resume()"
   ]
  },
  {
   "cell_type": "markdown",
   "metadata": {
    "slideshow": {
     "slide_type": "subslide"
    }
   },
   "source": [
    "### Deferred Pause"
   ]
  },
  {
   "cell_type": "code",
   "execution_count": null,
   "metadata": {
    "slideshow": {
     "slide_type": "fragment"
    }
   },
   "outputs": [],
   "source": [
    "def deferred_pause_plan():\n",
    "    yield from open_run()\n",
    "    yield from mv(motor1, 5)\n",
    "    yield from trigger_and_read([noisy_det])\n",
    "    yield from checkpoint()\n",
    "    \n",
    "    yield from deferred_pause()\n",
    "    \n",
    "    yield from mv(motor1, 4)\n",
    "    yield from trigger_and_read([noisy_det])\n",
    "    yield from checkpoint()\n",
    "    \n",
    "    yield from mv(motor1, 14)\n",
    "    yield from trigger_and_read([noisy_det])\n",
    "    yield from checkpoint()\n",
    "    \n",
    "    yield from close_run()"
   ]
  },
  {
   "cell_type": "code",
   "execution_count": null,
   "metadata": {
    "slideshow": {
     "slide_type": "subslide"
    }
   },
   "outputs": [],
   "source": [
    "RE(deferred_pause_plan(), LiveTable([\"noisy_det\"]))"
   ]
  },
  {
   "cell_type": "code",
   "execution_count": null,
   "metadata": {
    "slideshow": {
     "slide_type": "subslide"
    }
   },
   "outputs": [],
   "source": [
    "print(RE.state)\n",
    "RE.resume()"
   ]
  },
  {
   "cell_type": "markdown",
   "metadata": {
    "slideshow": {
     "slide_type": "subslide"
    }
   },
   "source": [
    "### clear_checkpoint"
   ]
  },
  {
   "cell_type": "code",
   "execution_count": null,
   "metadata": {
    "slideshow": {
     "slide_type": "fragment"
    }
   },
   "outputs": [],
   "source": [
    "def clear_checkpoint_plan():\n",
    "    yield from open_run()\n",
    "    yield from mv(motor1, 5)\n",
    "    yield from trigger_and_read([noisy_det])\n",
    "    yield from clear_checkpoint()\n",
    "    \n",
    "    yield from pause()\n",
    "    \n",
    "    yield from mv(motor1, 4)\n",
    "    yield from trigger_and_read([noisy_det])\n",
    "    yield from checkpoint()\n",
    "    \n",
    "    yield from mv(motor1, 14)\n",
    "    yield from trigger_and_read([noisy_det])\n",
    "    yield from checkpoint()\n",
    "    \n",
    "    yield from close_run()"
   ]
  },
  {
   "cell_type": "code",
   "execution_count": null,
   "metadata": {
    "scrolled": true,
    "slideshow": {
     "slide_type": "subslide"
    }
   },
   "outputs": [],
   "source": [
    "RE(clear_checkpoint_plan(), LiveTable([\"noisy_det\"]))"
   ]
  },
  {
   "cell_type": "code",
   "execution_count": null,
   "metadata": {
    "slideshow": {
     "slide_type": "subslide"
    }
   },
   "outputs": [],
   "source": [
    "RE.state"
   ]
  },
  {
   "cell_type": "markdown",
   "metadata": {
    "slideshow": {
     "slide_type": "slide"
    }
   },
   "source": [
    "## repeat"
   ]
  },
  {
   "cell_type": "code",
   "execution_count": null,
   "metadata": {
    "slideshow": {
     "slide_type": "fragment"
    }
   },
   "outputs": [],
   "source": [
    "help(repeat)"
   ]
  },
  {
   "cell_type": "code",
   "execution_count": null,
   "metadata": {
    "scrolled": true,
    "slideshow": {
     "slide_type": "subslide"
    }
   },
   "outputs": [],
   "source": [
    "def repeat_count():\n",
    "    yield from count([noisy_det], num=5, delay=0.25)\n",
    "RE(repeat(repeat_count, num=3, delay=3), LiveTable([\"noisy_det\"]))"
   ]
  }
 ],
 "metadata": {
  "celltoolbar": "Slideshow",
  "kernelspec": {
   "display_name": "Python 3 (ipykernel)",
   "language": "python",
   "name": "python3"
  },
  "language_info": {
   "codemirror_mode": {
    "name": "ipython",
    "version": 3
   },
   "file_extension": ".py",
   "mimetype": "text/x-python",
   "name": "python",
   "nbconvert_exporter": "python",
   "pygments_lexer": "ipython3",
   "version": "3.9.2"
  },
  "rise": {
   "enable_chalkboard": true,
   "start_slideshow_at": "beginning",
   "theme": "sky"
  }
 },
 "nbformat": 4,
 "nbformat_minor": 2
}
