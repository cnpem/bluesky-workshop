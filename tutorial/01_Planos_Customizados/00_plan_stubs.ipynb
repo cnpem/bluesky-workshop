{
 "cells": [
  {
   "cell_type": "markdown",
   "metadata": {
    "slideshow": {
     "slide_type": "slide"
    }
   },
   "source": [
    "## Stub Plans "
   ]
  },
  {
   "cell_type": "markdown",
   "metadata": {
    "slideshow": {
     "slide_type": "fragment"
    }
   },
   "source": [
    "### Links Úteis\n",
    "\n",
    "- Documentação dos plan stubs: https://blueskyproject.io/bluesky/main/plans.html#stub-plans\n",
    "\n",
    "- Documentação da customização de planos com per_step: https://blueskyproject.io/bluesky/main/plans.html#customize-step-scans-with-per-step\n",
    "\n",
    "- Documentação da utilização de metadados: https://blueskyproject.io/bluesky/main/metadata.html\n",
    "\n",
    "- Documentação dos preprocessors: https://blueskyproject.io/bluesky/main/plans.html#plan-preprocessors"
   ]
  },
  {
   "cell_type": "code",
   "execution_count": 136,
   "metadata": {
    "slideshow": {
     "slide_type": "subslide"
    }
   },
   "outputs": [],
   "source": [
    "%matplotlib qt\n",
    "from time import time\n",
    "from bluesky import RunEngine\n",
    "from bluesky.plans import count\n",
    "from bluesky.callbacks import LiveTable\n",
    "from bluesky.plan_stubs import abs_set, rel_set, mv, mvr, \\\n",
    "    stage, unstage, stop, pause, deferred_pause, sleep, \\\n",
    "    checkpoint, clear_checkpoint, repeat, trigger_and_read, \\\n",
    "    open_run, close_run\n",
    "from ophyd import Device, Component, ADComponent\n",
    "from ophyd.sim import noisy_det, motor1, motor2, SynGauss, FakeEpicsSignalWithRBV\n",
    "from matplotlib.pyplot import ion\n",
    "from bluesky.utils import install_nb_kicker\n",
    "install_nb_kicker()\n",
    "\n",
    "ion()\n",
    "RE = RunEngine()"
   ]
  },
  {
   "cell_type": "markdown",
   "metadata": {
    "slideshow": {
     "slide_type": "subslide"
    }
   },
   "source": [
    "#### Getting values from ophyd objects"
   ]
  },
  {
   "cell_type": "code",
   "execution_count": null,
   "metadata": {
    "slideshow": {
     "slide_type": "fragment"
    }
   },
   "outputs": [],
   "source": [
    "print(f\"Read: {motor1.read()}\")\n",
    "print()\n",
    "print(f\"Configuration: {motor1.read_configuration()}\")\n",
    "print()\n",
    "print(f\"Get Device: {motor1.get()}\")\n",
    "print()\n",
    "print(f\"Get Readback: {motor1.readback.get()}\")"
   ]
  },
  {
   "cell_type": "markdown",
   "metadata": {
    "slideshow": {
     "slide_type": "slide"
    }
   },
   "source": [
    "## mv and abs_set"
   ]
  },
  {
   "cell_type": "code",
   "execution_count": null,
   "metadata": {
    "slideshow": {
     "slide_type": "fragment"
    }
   },
   "outputs": [],
   "source": [
    "#help(abs_set)\n",
    "#help(mv)"
   ]
  },
  {
   "cell_type": "code",
   "execution_count": null,
   "metadata": {
    "slideshow": {
     "slide_type": "subslide"
    }
   },
   "outputs": [],
   "source": [
    "RE(mv(motor1, 0))\n",
    "motor1.delay = 2\n",
    "print(f\"Before: {motor1.read()}\")\n",
    "RE(abs_set(motor1, 15))\n",
    "print(f\"After: {motor1.read()}\")\n",
    "motor1.delay = 0"
   ]
  },
  {
   "cell_type": "code",
   "execution_count": null,
   "metadata": {
    "slideshow": {
     "slide_type": "fragment"
    }
   },
   "outputs": [],
   "source": [
    "RE(mv(motor1, 0))\n",
    "motor1.delay = 2\n",
    "print(f\"Before: {motor1.read()}\")\n",
    "RE(abs_set(motor1, 15, wait=True))\n",
    "print(f\"After: {motor1.read()}\")\n",
    "motor1.delay = 0"
   ]
  },
  {
   "cell_type": "code",
   "execution_count": null,
   "metadata": {
    "slideshow": {
     "slide_type": "subslide"
    }
   },
   "outputs": [],
   "source": [
    "RE(mv(motor1, 0, motor2, 0))\n",
    "motor1.delay = 2\n",
    "motor2.delay = 4\n",
    "print(f\"Before : {motor1.readback.get()}\")\n",
    "print(f\"Before motor2: {motor1.readback.get()}\")\n",
    "start = time()\n",
    "RE(mv(motor1, 4, motor2, 15))\n",
    "end = time()\n",
    "print(f\"After motor1: {motor1.readback.get()}\")\n",
    "print(f\"After motor2: {motor2.readback.get()}\")\n",
    "print(f\"Duration: {end - start}\")\n",
    "motor1.delay = 0\n",
    "motor2.delay = 0"
   ]
  },
  {
   "cell_type": "code",
   "execution_count": 142,
   "metadata": {
    "slideshow": {
     "slide_type": "fragment"
    }
   },
   "outputs": [],
   "source": [
    "class SimAreaDetector(Device):\n",
    "    \n",
    "    value = ADComponent(SynGauss, motor=motor1, motor_field=\"motor1\", center=160, \n",
    "        Imax=20, sigma=100, noise=\"uniform\", noise_multiplier=0.1, kind=\"hinted\")\n",
    "    trigger_mode = ADComponent(FakeEpicsSignalWithRBV, \"TriggerMode\", string=True, kind=\"config\")\n",
    "    file_name = ADComponent(FakeEpicsSignalWithRBV, \"FileName\", string=True, kind=\"config\")\n",
    "    file_path = ADComponent(FakeEpicsSignalWithRBV, \"FilePath\", string=True, kind=\"config\")\n",
    "\n",
    "    file_template = ADComponent(FakeEpicsSignalWithRBV, \"FileTemplate\", string=True, kind=\"config\")\n",
    "    auto_increment = ADComponent(FakeEpicsSignalWithRBV, \"AutoIncrement\", string=True, kind=\"config\")\n",
    "    auto_save = ADComponent(FakeEpicsSignalWithRBV, \"AutoSave\", string=True, kind=\"config\")\n",
    "    \n",
    "    num_capture = ADComponent(FakeEpicsSignalWithRBV, \"NumCapture\", kind=\"config\")\n",
    "    num_exposures = ADComponent(FakeEpicsSignalWithRBV, \"NumExposures\", kind=\"config\")\n",
    "    \n",
    "    acquire_time = ADComponent(FakeEpicsSignalWithRBV, \"AcquireTime\", kind=\"config\")\n",
    "    acquire_period = ADComponent(FakeEpicsSignalWithRBV, \"AcquirePeriod\", kind=\"config\")"
   ]
  },
  {
   "cell_type": "code",
   "execution_count": 143,
   "metadata": {
    "slideshow": {
     "slide_type": "subslide"
    }
   },
   "outputs": [],
   "source": [
    "def area_detector_configuration(\n",
    "        cam: any, acquire_time: float, num_exposures: int,\n",
    "        file_name: str, file_path: str, det_readout: float = 0.01):\n",
    "    \n",
    "    yield from mv(cam.auto_save, \"Yes\")\n",
    "    yield from mv(cam.auto_increment, \"Yes\")\n",
    "    yield from mv(cam.file_template, \"%s%s_%3.3d.hdf5\")\n",
    "    yield from mv(cam.trigger_mode, \"External\")\n",
    "\n",
    "    yield from mv(cam.num_capture, num_exposures)\n",
    "    yield from mv(cam.num_exposures, num_exposures)\n",
    "        \n",
    "    yield from mv(cam.acquire_time, acquire_time)\n",
    "    yield from mv(cam.acquire_period, acquire_time + det_readout)\n",
    "    \n",
    "    yield from mv(cam.file_name, file_name)\n",
    "    yield from mv(cam.file_path, file_path)"
   ]
  },
  {
   "cell_type": "code",
   "execution_count": 145,
   "metadata": {
    "slideshow": {
     "slide_type": "subslide"
    }
   },
   "outputs": [
    {
     "name": "stdout",
     "output_type": "stream",
     "text": [
      "pimega_trigger_mode: 0 -> External\n",
      "pimega_file_name: 0 -> acquisiton_test\n",
      "pimega_file_path: 0 -> /ibira/test\n",
      "pimega_file_template: 0 -> %s%s_%3.3d.hdf5\n",
      "pimega_auto_increment: 0 -> Yes\n",
      "pimega_auto_save: 0 -> Yes\n",
      "pimega_num_capture: 0 -> 15\n",
      "pimega_num_exposures: 0 -> 15\n",
      "pimega_acquire_time: 0 -> 0.1\n",
      "pimega_acquire_period: 0 -> 0.11\n"
     ]
    }
   ],
   "source": [
    "def get_values():\n",
    "    attr_dict = {}\n",
    "    for attr_name, values in pimega_cam.read_configuration().items():\n",
    "        attr_dict[attr_name] = values[\"value\"]\n",
    "    return attr_dict\n",
    "\n",
    "pimega_cam = SimAreaDetector(\"SIM:\", name=\"pimega\")\n",
    "\n",
    "before_config = get_values()\n",
    "RE(pimega_configuration(pimega_cam, 0.1, 15, \"acquisiton_test\", \"/ibira/test\"))\n",
    "after_config = get_values()\n",
    "\n",
    "for key in after_config.keys():\n",
    "    print(f\"{key}: {before_config[key]} -> {after_config[key]}\")"
   ]
  },
  {
   "cell_type": "markdown",
   "metadata": {
    "slideshow": {
     "slide_type": "slide"
    }
   },
   "source": [
    "## mvr and rel_set"
   ]
  },
  {
   "cell_type": "code",
   "execution_count": null,
   "metadata": {
    "slideshow": {
     "slide_type": "fragment"
    }
   },
   "outputs": [],
   "source": [
    "#help(mvr)\n",
    "#help(rel_set)"
   ]
  },
  {
   "cell_type": "code",
   "execution_count": null,
   "metadata": {
    "slideshow": {
     "slide_type": "subslide"
    }
   },
   "outputs": [],
   "source": [
    "RE(mv(motor1, 14))\n",
    "motor1.delay = 2\n",
    "print(f\"Before: {motor1.readback.get()}\")\n",
    "RE(rel_set(motor1, 15))\n",
    "print(f\"After: {motor1.readback.get()}\")\n",
    "motor1.delay = 0"
   ]
  },
  {
   "cell_type": "code",
   "execution_count": null,
   "metadata": {
    "slideshow": {
     "slide_type": "fragment"
    }
   },
   "outputs": [],
   "source": [
    "RE(mv(motor1, 14))\n",
    "motor1.delay = 2\n",
    "print(f\"Before: {motor1.readback.get()}\")\n",
    "RE(mvr(motor1, 15))\n",
    "print(f\"After +15: {motor1.readback.get()}\")\n",
    "RE(mvr(motor1, -10))\n",
    "print(f\"After -10: {motor1.readback.get()}\")\n",
    "RE(mvr(motor1, 2.5))\n",
    "print(f\"After +2.5: {motor1.readback.get()}\")\n",
    "motor1.delay = 0"
   ]
  },
  {
   "cell_type": "code",
   "execution_count": 131,
   "metadata": {
    "slideshow": {
     "slide_type": "subslide"
    }
   },
   "outputs": [],
   "source": [
    "def count_and_rotate(detector: any, rx: any, ux: any):\n",
    "    yield from mv(rx, 0)\n",
    "    \n",
    "    for delta_angle in range(0, 10):\n",
    "        yield from scan([pimega_cam.value], ux, -1, 1, 5)\n",
    "        yield from mvr(rx, 36)\n",
    "        \n",
    "        print(f\"Motor Rx: {rx.readback.read()}\")"
   ]
  },
  {
   "cell_type": "code",
   "execution_count": 146,
   "metadata": {
    "slideshow": {
     "slide_type": "fragment"
    }
   },
   "outputs": [
    {
     "name": "stdout",
     "output_type": "stream",
     "text": [
      "\n",
      "\n",
      "+-----------+------------+--------------+\n",
      "|   seq_num |       time | pimega_value |\n",
      "+-----------+------------+--------------+\n",
      "|         1 | 15:36:37.5 |        5.550 |\n",
      "|         2 | 15:36:37.6 |        5.490 |\n",
      "|         3 | 15:36:37.6 |        5.608 |\n",
      "|         4 | 15:36:37.6 |        5.496 |\n",
      "|         5 | 15:36:37.6 |        5.556 |\n",
      "+-----------+------------+--------------+\n",
      "generator scan ['928aac06'] (scan num: 1)\n",
      "\n",
      "\n",
      "Motor Rx: {'motor1': {'value': 36.0, 'timestamp': 1725647797.8328795}}\n",
      "\n",
      "\n",
      "+-----------+------------+--------------+\n",
      "|   seq_num |       time | pimega_value |\n",
      "+-----------+------------+--------------+\n",
      "|         1 | 15:36:37.9 |        9.279 |\n",
      "|         2 | 15:36:37.9 |        9.349 |\n",
      "|         3 | 15:36:37.9 |        9.361 |\n",
      "|         4 | 15:36:38.0 |        9.240 |\n",
      "|         5 | 15:36:38.0 |        9.236 |\n",
      "+-----------+------------+--------------+\n",
      "generator scan ['b09260ef'] (scan num: 2)\n",
      "\n",
      "\n",
      "Motor Rx: {'motor1': {'value': 72.0, 'timestamp': 1725647798.2060902}}\n",
      "\n",
      "\n",
      "+-----------+------------+--------------+\n",
      "|   seq_num |       time | pimega_value |\n",
      "+-----------+------------+--------------+\n",
      "|         1 | 15:36:38.2 |       13.656 |\n",
      "|         2 | 15:36:38.3 |       13.486 |\n",
      "|         3 | 15:36:38.3 |       13.678 |\n",
      "|         4 | 15:36:38.3 |       13.588 |\n",
      "|         5 | 15:36:38.4 |       13.605 |\n",
      "+-----------+------------+--------------+\n",
      "generator scan ['edfbfca5'] (scan num: 3)\n",
      "\n",
      "\n",
      "Motor Rx: {'motor1': {'value': 108.0, 'timestamp': 1725647798.5456576}}\n",
      "\n",
      "\n",
      "+-----------+------------+--------------+\n",
      "|   seq_num |       time | pimega_value |\n",
      "+-----------+------------+--------------+\n",
      "|         1 | 15:36:38.6 |       17.502 |\n",
      "|         2 | 15:36:38.6 |       17.467 |\n",
      "|         3 | 15:36:38.7 |       17.404 |\n",
      "|         4 | 15:36:38.7 |       17.529 |\n",
      "|         5 | 15:36:38.7 |       17.412 |\n",
      "+-----------+------------+--------------+\n",
      "generator scan ['663a9abd'] (scan num: 4)\n",
      "\n",
      "\n",
      "Motor Rx: {'motor1': {'value': 144.0, 'timestamp': 1725647798.901584}}\n",
      "\n",
      "\n",
      "+-----------+------------+--------------+\n",
      "|   seq_num |       time | pimega_value |\n",
      "+-----------+------------+--------------+\n",
      "|         1 | 15:36:39.0 |       19.703 |\n",
      "|         2 | 15:36:39.0 |       19.702 |\n",
      "|         3 | 15:36:39.0 |       19.751 |\n",
      "|         4 | 15:36:39.1 |       19.649 |\n",
      "|         5 | 15:36:39.1 |       19.735 |\n",
      "+-----------+------------+--------------+\n",
      "generator scan ['f1679a1c'] (scan num: 5)\n",
      "\n",
      "\n",
      "Motor Rx: {'motor1': {'value': 180.0, 'timestamp': 1725647799.281907}}\n",
      "\n",
      "\n",
      "+-----------+------------+--------------+\n",
      "|   seq_num |       time | pimega_value |\n",
      "+-----------+------------+--------------+\n",
      "|         1 | 15:36:39.3 |       19.592 |\n",
      "|         2 | 15:36:39.4 |       19.594 |\n",
      "|         3 | 15:36:39.4 |       19.566 |\n",
      "|         4 | 15:36:39.4 |       19.703 |\n",
      "|         5 | 15:36:39.4 |       19.507 |\n",
      "+-----------+------------+--------------+\n",
      "generator scan ['f81025cf'] (scan num: 6)\n",
      "\n",
      "\n",
      "Motor Rx: {'motor1': {'value': 216.0, 'timestamp': 1725647799.6288812}}\n",
      "\n",
      "\n",
      "+-----------+------------+--------------+\n",
      "|   seq_num |       time | pimega_value |\n",
      "+-----------+------------+--------------+\n",
      "|         1 | 15:36:39.7 |       17.161 |\n",
      "|         2 | 15:36:39.7 |       17.062 |\n",
      "|         3 | 15:36:39.7 |       17.106 |\n",
      "|         4 | 15:36:39.8 |       17.066 |\n",
      "|         5 | 15:36:39.8 |       17.165 |\n",
      "+-----------+------------+--------------+\n",
      "generator scan ['b84e291d'] (scan num: 7)\n",
      "\n",
      "\n",
      "Motor Rx: {'motor1': {'value': 252.0, 'timestamp': 1725647799.993523}}\n",
      "\n",
      "\n",
      "+-----------+------------+--------------+\n",
      "|   seq_num |       time | pimega_value |\n",
      "+-----------+------------+--------------+\n",
      "|         1 | 15:36:40.0 |       13.026 |\n",
      "|         2 | 15:36:40.1 |       13.055 |\n",
      "|         3 | 15:36:40.1 |       13.034 |\n",
      "|         4 | 15:36:40.1 |       13.015 |\n",
      "|         5 | 15:36:40.1 |       13.077 |\n",
      "+-----------+------------+--------------+\n",
      "generator scan ['91d2f824'] (scan num: 8)\n",
      "\n",
      "\n",
      "Motor Rx: {'motor1': {'value': 288.0, 'timestamp': 1725647800.3338795}}\n",
      "\n",
      "\n",
      "+-----------+------------+--------------+\n",
      "|   seq_num |       time | pimega_value |\n",
      "+-----------+------------+--------------+\n",
      "|         1 | 15:36:40.4 |        8.730 |\n",
      "|         2 | 15:36:40.4 |        8.826 |\n",
      "|         3 | 15:36:40.4 |        8.786 |\n",
      "|         4 | 15:36:40.5 |        8.834 |\n",
      "|         5 | 15:36:40.5 |        8.886 |\n",
      "+-----------+------------+--------------+\n",
      "generator scan ['08d8ad05'] (scan num: 9)\n",
      "\n",
      "\n",
      "Motor Rx: {'motor1': {'value': 324.0, 'timestamp': 1725647800.6685927}}\n",
      "\n",
      "\n",
      "+-----------+------------+--------------+\n",
      "|   seq_num |       time | pimega_value |\n",
      "+-----------+------------+--------------+\n",
      "|         1 | 15:36:40.7 |        5.299 |\n",
      "|         2 | 15:36:40.7 |        5.168 |\n",
      "|         3 | 15:36:40.8 |        5.269 |\n",
      "|         4 | 15:36:40.8 |        5.197 |\n",
      "|         5 | 15:36:40.8 |        5.129 |\n",
      "+-----------+------------+--------------+\n",
      "generator scan ['187930f7'] (scan num: 10)\n",
      "\n",
      "\n",
      "Motor Rx: {'motor1': {'value': 360.0, 'timestamp': 1725647801.0025537}}\n"
     ]
    },
    {
     "data": {
      "text/plain": [
       "('928aac06-2965-4c6a-8550-2b52c70dfc2a',\n",
       " 'b09260ef-31e4-42f8-8d47-2b1070458285',\n",
       " 'edfbfca5-5f1e-4dcf-a828-fcf1c46372aa',\n",
       " '663a9abd-85ff-44da-b294-f0b1100972d5',\n",
       " 'f1679a1c-3ee4-47e6-84a4-f8f083039925',\n",
       " 'f81025cf-0049-4cdf-b7aa-ffee82eb2917',\n",
       " 'b84e291d-4f32-42d8-b4b8-bfe38a15950c',\n",
       " '91d2f824-bbde-4ff3-a661-ebb694e33b4a',\n",
       " '08d8ad05-c9ee-4e02-a27e-f0e9f0bc97f1',\n",
       " '187930f7-adf1-478e-894b-62c1e0f1e906')"
      ]
     },
     "execution_count": 146,
     "metadata": {},
     "output_type": "execute_result"
    }
   ],
   "source": [
    "pimega_cam = SimAreaDetector(\"SIM:\", name=\"pimega\")\n",
    "\n",
    "RE(count_and_rotate(pimega_cam, motor1, motor2), LiveTable(['pimega_value']))"
   ]
  },
  {
   "cell_type": "markdown",
   "metadata": {
    "slideshow": {
     "slide_type": "slide"
    }
   },
   "source": [
    "## sleep and stop"
   ]
  },
  {
   "cell_type": "code",
   "execution_count": null,
   "metadata": {
    "slideshow": {
     "slide_type": "fragment"
    }
   },
   "outputs": [],
   "source": [
    "#help(sleep)\n",
    "#help(stop)"
   ]
  },
  {
   "cell_type": "code",
   "execution_count": null,
   "metadata": {
    "slideshow": {
     "slide_type": "subslide"
    }
   },
   "outputs": [],
   "source": [
    "class StopDevice(Device):\n",
    "\n",
    "    def stop(self):\n",
    "        super().stop()\n",
    "        print(\"This Device has been stopped\")"
   ]
  },
  {
   "cell_type": "code",
   "execution_count": null,
   "metadata": {
    "slideshow": {
     "slide_type": "fragment"
    }
   },
   "outputs": [],
   "source": [
    "stop_device = StopDevice(name=\"stop_device\")\n",
    "RE(stop(stop_device))"
   ]
  },
  {
   "cell_type": "code",
   "execution_count": null,
   "metadata": {
    "slideshow": {
     "slide_type": "fragment"
    }
   },
   "outputs": [],
   "source": [
    "start = time()\n",
    "RE(sleep(1))\n",
    "end = time()\n",
    "print(f\"Duration: {end - start}\")"
   ]
  },
  {
   "cell_type": "markdown",
   "metadata": {
    "slideshow": {
     "slide_type": "slide"
    }
   },
   "source": [
    "## stage and unstage"
   ]
  },
  {
   "cell_type": "code",
   "execution_count": null,
   "metadata": {
    "slideshow": {
     "slide_type": "fragment"
    }
   },
   "outputs": [],
   "source": [
    "#help(stage)\n",
    "#help(unstage)"
   ]
  },
  {
   "cell_type": "code",
   "execution_count": 137,
   "metadata": {
    "slideshow": {
     "slide_type": "subslide"
    }
   },
   "outputs": [],
   "source": [
    "class StagedDevice(Device):\n",
    "\n",
    "    def stage(self):\n",
    "        super().stage()\n",
    "        print(\"This Device is being armed\")\n",
    "\n",
    "    def unstage(self):\n",
    "        super().unstage()\n",
    "        print(\"This Device is being restored to a safe idle state\")"
   ]
  },
  {
   "cell_type": "code",
   "execution_count": null,
   "metadata": {
    "scrolled": true,
    "slideshow": {
     "slide_type": "fragment"
    }
   },
   "outputs": [],
   "source": [
    "exampleDevice = StagedDevice(name=\"staged_device\")\n",
    "\n",
    "def stage_unstage_plan():\n",
    "    yield from stage(exampleDevice)\n",
    "    \n",
    "    # Custom plan\n",
    "    print(\"Custom plan\")\n",
    "    \n",
    "    yield from unstage(exampleDevice)\n",
    "\n",
    "RE(stage_unstage_plan())"
   ]
  },
  {
   "cell_type": "markdown",
   "metadata": {
    "slideshow": {
     "slide_type": "slide"
    }
   },
   "source": [
    "## Controlling the Run Engine "
   ]
  },
  {
   "cell_type": "code",
   "execution_count": null,
   "metadata": {
    "slideshow": {
     "slide_type": "subslide"
    }
   },
   "outputs": [],
   "source": [
    "#help(checkpoint)\n",
    "#help(clear_checkpoint)\n",
    "#help(pause)\n",
    "#help(deferred_pause)\n",
    "#help(open_run)\n",
    "#help(close_run)"
   ]
  },
  {
   "cell_type": "markdown",
   "metadata": {
    "slideshow": {
     "slide_type": "subslide"
    }
   },
   "source": [
    "### Pause"
   ]
  },
  {
   "cell_type": "code",
   "execution_count": null,
   "metadata": {
    "scrolled": true,
    "slideshow": {
     "slide_type": "fragment"
    }
   },
   "outputs": [],
   "source": [
    "def pause_plan():\n",
    "    yield from open_run()\n",
    "    yield from mv(motor1, 5)\n",
    "    yield from trigger_and_read([noisy_det])\n",
    "    yield from checkpoint()\n",
    "    \n",
    "    yield from pause()\n",
    "    \n",
    "    yield from mv(motor1, 4)\n",
    "    yield from trigger_and_read([noisy_det])\n",
    "    yield from checkpoint()\n",
    "    \n",
    "    yield from mv(motor1, 14)\n",
    "    yield from trigger_and_read([noisy_det])\n",
    "    yield from checkpoint()\n",
    "    \n",
    "    yield from close_run()"
   ]
  },
  {
   "cell_type": "code",
   "execution_count": null,
   "metadata": {
    "scrolled": true,
    "slideshow": {
     "slide_type": "subslide"
    }
   },
   "outputs": [],
   "source": [
    "RE(pause_plan(), LiveTable([\"noisy_det\"]))"
   ]
  },
  {
   "cell_type": "code",
   "execution_count": null,
   "metadata": {
    "slideshow": {
     "slide_type": "subslide"
    }
   },
   "outputs": [],
   "source": [
    "print(RE.state)\n",
    "RE.resume()"
   ]
  },
  {
   "cell_type": "markdown",
   "metadata": {
    "slideshow": {
     "slide_type": "subslide"
    }
   },
   "source": [
    "### Deferred Pause"
   ]
  },
  {
   "cell_type": "code",
   "execution_count": null,
   "metadata": {
    "slideshow": {
     "slide_type": "fragment"
    }
   },
   "outputs": [],
   "source": [
    "def deferred_pause_plan():\n",
    "    yield from open_run()\n",
    "    yield from mv(motor1, 5)\n",
    "    yield from trigger_and_read([noisy_det])\n",
    "    yield from checkpoint()\n",
    "    \n",
    "    yield from deferred_pause()\n",
    "    \n",
    "    yield from mv(motor1, 4)\n",
    "    yield from trigger_and_read([noisy_det])\n",
    "    yield from checkpoint()\n",
    "    \n",
    "    yield from mv(motor1, 14)\n",
    "    yield from trigger_and_read([noisy_det])\n",
    "    yield from checkpoint()\n",
    "    \n",
    "    yield from close_run()"
   ]
  },
  {
   "cell_type": "code",
   "execution_count": null,
   "metadata": {
    "slideshow": {
     "slide_type": "subslide"
    }
   },
   "outputs": [],
   "source": [
    "RE(deferred_pause_plan(), LiveTable([\"noisy_det\"]))"
   ]
  },
  {
   "cell_type": "code",
   "execution_count": null,
   "metadata": {
    "slideshow": {
     "slide_type": "subslide"
    }
   },
   "outputs": [],
   "source": [
    "print(RE.state)\n",
    "RE.resume()"
   ]
  },
  {
   "cell_type": "markdown",
   "metadata": {
    "slideshow": {
     "slide_type": "subslide"
    }
   },
   "source": [
    "### clear_checkpoint"
   ]
  },
  {
   "cell_type": "code",
   "execution_count": null,
   "metadata": {
    "slideshow": {
     "slide_type": "fragment"
    }
   },
   "outputs": [],
   "source": [
    "def clear_checkpoint_plan():\n",
    "    yield from open_run()\n",
    "    yield from mv(motor1, 5)\n",
    "    yield from trigger_and_read([noisy_det])\n",
    "    yield from clear_checkpoint()\n",
    "    \n",
    "    yield from pause()\n",
    "    \n",
    "    yield from mv(motor1, 4)\n",
    "    yield from trigger_and_read([noisy_det])\n",
    "    yield from checkpoint()\n",
    "    \n",
    "    yield from mv(motor1, 14)\n",
    "    yield from trigger_and_read([noisy_det])\n",
    "    yield from checkpoint()\n",
    "    \n",
    "    yield from close_run()"
   ]
  },
  {
   "cell_type": "code",
   "execution_count": null,
   "metadata": {
    "scrolled": true,
    "slideshow": {
     "slide_type": "subslide"
    }
   },
   "outputs": [],
   "source": [
    "RE(clear_checkpoint_plan(), LiveTable([\"noisy_det\"]))"
   ]
  },
  {
   "cell_type": "code",
   "execution_count": null,
   "metadata": {
    "slideshow": {
     "slide_type": "subslide"
    }
   },
   "outputs": [],
   "source": [
    "RE.state"
   ]
  },
  {
   "cell_type": "markdown",
   "metadata": {
    "slideshow": {
     "slide_type": "slide"
    }
   },
   "source": [
    "## repeat"
   ]
  },
  {
   "cell_type": "code",
   "execution_count": null,
   "metadata": {
    "slideshow": {
     "slide_type": "fragment"
    }
   },
   "outputs": [],
   "source": [
    "help(repeat)"
   ]
  },
  {
   "cell_type": "code",
   "execution_count": null,
   "metadata": {
    "scrolled": true,
    "slideshow": {
     "slide_type": "subslide"
    }
   },
   "outputs": [],
   "source": [
    "def repeat_count():\n",
    "    yield from count([noisy_det], num=5, delay=0.25)\n",
    "RE(repeat(repeat_count, num=3, delay=3), LiveTable([\"noisy_det\"]))"
   ]
  }
 ],
 "metadata": {
  "celltoolbar": "Slideshow",
  "kernelspec": {
   "display_name": "Python 3 (ipykernel)",
   "language": "python",
   "name": "python3"
  },
  "language_info": {
   "codemirror_mode": {
    "name": "ipython",
    "version": 3
   },
   "file_extension": ".py",
   "mimetype": "text/x-python",
   "name": "python",
   "nbconvert_exporter": "python",
   "pygments_lexer": "ipython3",
   "version": "3.9.2"
  },
  "rise": {
   "enable_chalkboard": true,
   "start_slideshow_at": "beginning",
   "theme": "sky"
  }
 },
 "nbformat": 4,
 "nbformat_minor": 2
}
