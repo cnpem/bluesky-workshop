{
 "cells": [
  {
   "cell_type": "markdown",
   "metadata": {
    "slideshow": {
     "slide_type": "slide"
    }
   },
   "source": [
    "## Stub Plans "
   ]
  },
  {
   "cell_type": "markdown",
   "metadata": {
    "slideshow": {
     "slide_type": "fragment"
    }
   },
   "source": [
    "### Links Úteis\n",
    "\n",
    "- Documentação dos plan stubs: https://blueskyproject.io/bluesky/main/plans.html#stub-plans\n",
    "\n",
    "- Documentação da customização de planos com per_step: https://blueskyproject.io/bluesky/main/plans.html#customize-step-scans-with-per-step\n",
    "\n",
    "- Documentação da utilização de metadados: https://blueskyproject.io/bluesky/main/metadata.html\n",
    "\n",
    "- Documentação dos preprocessors: https://blueskyproject.io/bluesky/main/plans.html#plan-preprocessors"
   ]
  },
  {
   "cell_type": "code",
   "execution_count": null,
   "metadata": {
    "slideshow": {
     "slide_type": "subslide"
    }
   },
   "outputs": [],
   "source": [
    "from threading import Thread\n",
    "import time\n",
    "from bluesky import RunEngine\n",
    "from bluesky.plans import count, scan\n",
    "from bluesky.callbacks import LiveTable\n",
    "from bluesky.plan_stubs import abs_set, rel_set, mv, mvr, \\\n",
    "    stage, unstage, stop, pause, deferred_pause, sleep, \\\n",
    "    checkpoint, clear_checkpoint, repeat, trigger_and_read, \\\n",
    "    open_run, close_run, install_suspender, remove_suspender\n",
    "from bluesky.suspenders import SuspendFloor\n",
    "from ophyd import Device, Component, ADComponent\n",
    "from ophyd.sim import noisy_det, motor1, motor2, SynGauss, \\\n",
    "    FakeEpicsSignalWithRBV, FakeEpicsSignal, SynAxis\n",
    "from matplotlib.pyplot import ion\n",
    "\n",
    "RE = RunEngine()"
   ]
  },
  {
   "cell_type": "markdown",
   "metadata": {
    "slideshow": {
     "slide_type": "subslide"
    }
   },
   "source": [
    "#### Getting values from ophyd objects"
   ]
  },
  {
   "cell_type": "code",
   "execution_count": null,
   "metadata": {
    "slideshow": {
     "slide_type": "fragment"
    }
   },
   "outputs": [],
   "source": [
    "print(f\"Read: {motor1.read()}\")\n",
    "print()\n",
    "print(f\"Configuration: {motor1.read_configuration()}\")\n",
    "print()\n",
    "print(f\"Get Device: {motor1.get()}\")\n",
    "print()\n",
    "print(f\"Get Readback: {motor1.readback.get()}\")"
   ]
  },
  {
   "cell_type": "markdown",
   "metadata": {
    "slideshow": {
     "slide_type": "slide"
    }
   },
   "source": [
    "## mv and abs_set"
   ]
  },
  {
   "cell_type": "code",
   "execution_count": null,
   "metadata": {
    "slideshow": {
     "slide_type": "fragment"
    }
   },
   "outputs": [],
   "source": [
    "#help(abs_set)\n",
    "#help(mv)"
   ]
  },
  {
   "cell_type": "code",
   "execution_count": null,
   "metadata": {
    "slideshow": {
     "slide_type": "subslide"
    }
   },
   "outputs": [],
   "source": [
    "RE(mv(motor1, 0))\n",
    "motor1.delay = 2\n",
    "print(f\"Before: {motor1.read()}\")\n",
    "RE(abs_set(motor1, 15))\n",
    "print(f\"After: {motor1.read()}\")\n",
    "motor1.delay = 0"
   ]
  },
  {
   "cell_type": "code",
   "execution_count": null,
   "metadata": {
    "slideshow": {
     "slide_type": "fragment"
    }
   },
   "outputs": [],
   "source": [
    "RE(mv(motor1, 0))\n",
    "motor1.delay = 2\n",
    "print(f\"Before: {motor1.read()}\")\n",
    "RE(abs_set(motor1, 15, wait=True))\n",
    "print(f\"After: {motor1.read()}\")\n",
    "motor1.delay = 0"
   ]
  },
  {
   "cell_type": "code",
   "execution_count": null,
   "metadata": {
    "slideshow": {
     "slide_type": "subslide"
    }
   },
   "outputs": [],
   "source": [
    "RE(mv(motor1, 0, motor2, 0))\n",
    "motor1.delay = 2\n",
    "motor2.delay = 4\n",
    "print(f\"Before : {motor1.readback.get()}\")\n",
    "print(f\"Before motor2: {motor1.readback.get()}\")\n",
    "start = time.time()\n",
    "RE(mv(motor1, 4, motor2, 15))\n",
    "end = time.time()\n",
    "print(f\"After motor1: {motor1.readback.get()}\")\n",
    "print(f\"After motor2: {motor2.readback.get()}\")\n",
    "print(f\"Duration: {end - start}\")\n",
    "motor1.delay = 0\n",
    "motor2.delay = 0"
   ]
  },
  {
   "cell_type": "code",
   "execution_count": null,
   "metadata": {
    "slideshow": {
     "slide_type": "subslide"
    }
   },
   "outputs": [],
   "source": [
    "class SimAreaDetector(Device):\n",
    "    \n",
    "    value = ADComponent(SynGauss, motor=motor1, motor_field=\"motor1\", center=160, \n",
    "        Imax=20, sigma=100, noise=\"uniform\", noise_multiplier=0.1, kind=\"hinted\")\n",
    "    \n",
    "    trigger_mode = ADComponent(FakeEpicsSignalWithRBV, \"TriggerMode\", string=True, kind=\"config\")\n",
    "    file_name = ADComponent(FakeEpicsSignalWithRBV, \"FileName\", string=True, kind=\"config\")\n",
    "    file_path = ADComponent(FakeEpicsSignalWithRBV, \"FilePath\", string=True, kind=\"config\")\n",
    "\n",
    "    file_template = ADComponent(FakeEpicsSignalWithRBV, \"FileTemplate\", string=True, kind=\"config\")\n",
    "    auto_increment = ADComponent(FakeEpicsSignalWithRBV, \"AutoIncrement\", string=True, kind=\"config\")\n",
    "    auto_save = ADComponent(FakeEpicsSignalWithRBV, \"AutoSave\", string=True, kind=\"config\")\n",
    "    \n",
    "    num_capture = ADComponent(FakeEpicsSignalWithRBV, \"NumCapture\", kind=\"config\")\n",
    "    num_exposures = ADComponent(FakeEpicsSignalWithRBV, \"NumExposures\", kind=\"config\")\n",
    "    \n",
    "    acquire_time = ADComponent(FakeEpicsSignalWithRBV, \"AcquireTime\", kind=\"config\")\n",
    "    acquire_period = ADComponent(FakeEpicsSignalWithRBV, \"AcquirePeriod\", kind=\"config\")"
   ]
  },
  {
   "cell_type": "code",
   "execution_count": null,
   "metadata": {
    "slideshow": {
     "slide_type": "subslide"
    }
   },
   "outputs": [],
   "source": [
    "def area_detector_configuration(\n",
    "        cam: any, acquire_time: float, num_exposures: int,\n",
    "        file_name: str, file_path: str, det_readout: float = 0.01):\n",
    "    \n",
    "    yield from mv(cam.auto_save, \"Yes\")\n",
    "    yield from mv(cam.auto_increment, \"Yes\")\n",
    "    yield from mv(cam.file_template, \"%s%s_%3.3d.hdf5\")\n",
    "    yield from mv(cam.trigger_mode, \"External\")\n",
    "\n",
    "    yield from mv(cam.num_capture, num_exposures)\n",
    "    yield from mv(cam.num_exposures, num_exposures)\n",
    "        \n",
    "    yield from mv(cam.acquire_time, acquire_time)\n",
    "    yield from mv(cam.acquire_period, acquire_time + det_readout)\n",
    "    \n",
    "    yield from mv(cam.file_name, file_name)\n",
    "    yield from mv(cam.file_path, file_path)"
   ]
  },
  {
   "cell_type": "code",
   "execution_count": null,
   "metadata": {
    "slideshow": {
     "slide_type": "subslide"
    }
   },
   "outputs": [],
   "source": [
    "def get_values():\n",
    "    attr_dict = {}\n",
    "    for attr_name, values in area_detector_cam.read_configuration().items():\n",
    "        attr_dict[attr_name] = values[\"value\"]\n",
    "    return attr_dict"
   ]
  },
  {
   "cell_type": "code",
   "execution_count": null,
   "metadata": {
    "slideshow": {
     "slide_type": "subslide"
    }
   },
   "outputs": [],
   "source": [
    "area_detector_cam = SimAreaDetector(\"SIM:\", name=\"area_detector_cam\")\n",
    "\n",
    "before_config = get_values()\n",
    "RE(area_detector_configuration(area_detector_cam, 0.1, 15, \"acquisiton_test\", \"/ibira/test\"))\n",
    "after_config = get_values()\n",
    "\n",
    "for key in after_config.keys():\n",
    "    print(f\"{key}: {before_config[key]} -> {after_config[key]}\")"
   ]
  },
  {
   "cell_type": "code",
   "execution_count": null,
   "metadata": {
    "slideshow": {
     "slide_type": "subslide"
    }
   },
   "outputs": [],
   "source": [
    "def area_detector_configuration_simplified(\n",
    "        cam: any, acquire_time: float, num_exposures: int,\n",
    "        file_name: str, file_path: str, det_readout: float = 0.01):\n",
    "    \n",
    "    yield from mv(\n",
    "        cam.auto_save, \"Yes\",\n",
    "        cam.auto_increment, \"Yes\",\n",
    "        cam.file_template, \"%s%s_%3.3d.hdf5\",\n",
    "        cam.trigger_mode, \"External\",\n",
    "        cam.num_capture, num_exposures,\n",
    "        cam.num_exposures, num_exposures,\n",
    "        cam.file_name, file_name,\n",
    "        cam.file_path, file_path,\n",
    "        cam.acquire_time, acquire_time\n",
    "    )\n",
    "    \n",
    "    yield from mv(cam.acquire_period, acquire_time + det_readout)"
   ]
  },
  {
   "cell_type": "code",
   "execution_count": null,
   "metadata": {
    "slideshow": {
     "slide_type": "subslide"
    }
   },
   "outputs": [],
   "source": [
    "area_detector_cam = SimAreaDetector(\"SIM:\", name=\"area_detector_cam\")\n",
    "\n",
    "before_config = get_values()\n",
    "RE(area_detector_configuration_simplified(area_detector_cam, 0.1, 15, \"acquisiton_test\", \"/ibira/test\"))\n",
    "after_config = get_values()\n",
    "\n",
    "for key in after_config.keys():\n",
    "    print(f\"{key}: {before_config[key]} -> {after_config[key]}\")"
   ]
  },
  {
   "cell_type": "code",
   "execution_count": null,
   "metadata": {
    "slideshow": {
     "slide_type": "subslide"
    }
   },
   "outputs": [],
   "source": [
    "def custom_scan_with_configuration(\n",
    "    cam: any, acquire_time: float, num_exposures: int,\n",
    "    file_name: str, file_path: str):\n",
    "    \n",
    "    yield from area_detector_configuration_simplified(\n",
    "        cam, acquire_time, num_exposures, file_name, file_path)\n",
    "    yield from scan([cam.value], motor1, -1, 1, 10)"
   ]
  },
  {
   "cell_type": "code",
   "execution_count": null,
   "metadata": {
    "slideshow": {
     "slide_type": "subslide"
    }
   },
   "outputs": [],
   "source": [
    "area_detector_cam = SimAreaDetector(\"SIM:\", name=\"area_detector_cam\")\n",
    "\n",
    "before_config = get_values()\n",
    "RE(custom_scan_with_configuration(area_detector_cam, 0.1, 15, \"acquisiton_test\", \"/ibira/test\"),\n",
    "  LiveTable(['area_detector_cam_value', 'motor1']))\n",
    "after_config = get_values()\n",
    "\n",
    "for key in before_config.keys():\n",
    "    print(f\"{key}: {before_config[key]} -> {after_config[key]}\")"
   ]
  },
  {
   "cell_type": "markdown",
   "metadata": {
    "slideshow": {
     "slide_type": "slide"
    }
   },
   "source": [
    "## mvr"
   ]
  },
  {
   "cell_type": "code",
   "execution_count": null,
   "metadata": {
    "slideshow": {
     "slide_type": "fragment"
    }
   },
   "outputs": [],
   "source": [
    "#help(mvr)"
   ]
  },
  {
   "cell_type": "code",
   "execution_count": null,
   "metadata": {
    "slideshow": {
     "slide_type": "subslide"
    }
   },
   "outputs": [],
   "source": [
    "RE(mv(motor1, 14))\n",
    "motor1.delay = 2\n",
    "print(f\"Before: {motor1.readback.get()}\")\n",
    "RE(mvr(motor1, 15))\n",
    "print(f\"After +15: {motor1.readback.get()}\")\n",
    "RE(mvr(motor1, -10))\n",
    "print(f\"After -10: {motor1.readback.get()}\")\n",
    "RE(mvr(motor1, 2.5))\n",
    "print(f\"After +2.5: {motor1.readback.get()}\")\n",
    "motor1.delay = 0"
   ]
  },
  {
   "cell_type": "code",
   "execution_count": null,
   "metadata": {
    "slideshow": {
     "slide_type": "subslide"
    }
   },
   "outputs": [],
   "source": [
    "def scan_and_rotate(detector: any, rx: any, ux: any):\n",
    "    yield from mv(rx, 0)\n",
    "    \n",
    "    for delta_angle in range(0, 10):\n",
    "        yield from scan([detector.value], ux, -1, 1, 5)\n",
    "        yield from mvr(rx, 36)\n",
    "        \n",
    "        print(f\"Motor Rx: {rx.readback.read()}\")"
   ]
  },
  {
   "cell_type": "code",
   "execution_count": null,
   "metadata": {
    "slideshow": {
     "slide_type": "fragment"
    }
   },
   "outputs": [],
   "source": [
    "area_detector_cam = SimAreaDetector(\"SIM:\", name=\"area_detector_cam\")\n",
    "\n",
    "RE(scan_and_rotate(area_detector_cam, motor1, motor2), LiveTable(['area_detector_cam_value']))"
   ]
  },
  {
   "cell_type": "markdown",
   "metadata": {
    "slideshow": {
     "slide_type": "slide"
    }
   },
   "source": [
    "## sleep and stop"
   ]
  },
  {
   "cell_type": "code",
   "execution_count": null,
   "metadata": {
    "slideshow": {
     "slide_type": "fragment"
    }
   },
   "outputs": [],
   "source": [
    "#help(sleep)\n",
    "#help(stop)"
   ]
  },
  {
   "cell_type": "code",
   "execution_count": null,
   "metadata": {
    "slideshow": {
     "slide_type": "subslide"
    }
   },
   "outputs": [],
   "source": [
    "class StopDevice(Device):\n",
    "\n",
    "    def stop(self):\n",
    "        super().stop()\n",
    "        print(\"This Device has been stopped\")"
   ]
  },
  {
   "cell_type": "code",
   "execution_count": null,
   "metadata": {
    "slideshow": {
     "slide_type": "fragment"
    }
   },
   "outputs": [],
   "source": [
    "stop_device = StopDevice(name=\"stop_device\")\n",
    "RE(stop(stop_device))"
   ]
  },
  {
   "cell_type": "code",
   "execution_count": null,
   "metadata": {
    "slideshow": {
     "slide_type": "fragment"
    }
   },
   "outputs": [],
   "source": [
    "start = time.time()\n",
    "RE(sleep(1))\n",
    "end = time.time()\n",
    "print(f\"Duration: {end - start}\")"
   ]
  },
  {
   "cell_type": "code",
   "execution_count": null,
   "metadata": {
    "slideshow": {
     "slide_type": "subslide"
    }
   },
   "outputs": [],
   "source": [
    "class SimTatu(Device):\n",
    "\n",
    "    tatu_stop = Component(FakeEpicsSignal, \"Stop\", kind=\"config\")\n",
    "    \n",
    "    def stop(self):\n",
    "        print(\"Stopping TATU!\")\n",
    "        self.tatu_stop.set(1).wait()\n",
    "        print(\"TATU has been stopped!\")\n",
    "        \n",
    "tatu = SimTatu(\"SIM:\", name=\"tatu\")\n",
    "print(tatu.tatu_stop.get())\n",
    "RE(stop(tatu))\n",
    "print(tatu.tatu_stop.get())"
   ]
  },
  {
   "cell_type": "markdown",
   "metadata": {
    "slideshow": {
     "slide_type": "slide"
    }
   },
   "source": [
    "## stage and unstage"
   ]
  },
  {
   "cell_type": "code",
   "execution_count": null,
   "metadata": {
    "slideshow": {
     "slide_type": "fragment"
    }
   },
   "outputs": [],
   "source": [
    "#help(stage)\n",
    "#help(unstage)"
   ]
  },
  {
   "cell_type": "code",
   "execution_count": null,
   "metadata": {
    "slideshow": {
     "slide_type": "subslide"
    }
   },
   "outputs": [],
   "source": [
    "class StagedDevice(Device):\n",
    "\n",
    "    def stage(self):\n",
    "        super().stage()\n",
    "        print(\"This Device is being armed\")\n",
    "\n",
    "    def unstage(self):\n",
    "        super().unstage()\n",
    "        print(\"This Device is being restored to a safe idle state\")"
   ]
  },
  {
   "cell_type": "code",
   "execution_count": null,
   "metadata": {
    "scrolled": true,
    "slideshow": {
     "slide_type": "fragment"
    }
   },
   "outputs": [],
   "source": [
    "staged_device = StagedDevice(name=\"staged_device\")\n",
    "\n",
    "def stage_unstage_plan():\n",
    "    yield from stage(staged_device)\n",
    "    \n",
    "    # Custom plan\n",
    "    print(\"Custom plan\")\n",
    "    \n",
    "    yield from unstage(staged_device)\n",
    "\n",
    "RE(stage_unstage_plan())"
   ]
  },
  {
   "cell_type": "code",
   "execution_count": null,
   "metadata": {
    "slideshow": {
     "slide_type": "subslide"
    }
   },
   "outputs": [],
   "source": [
    "class KinematicMotor(SynAxis):\n",
    "        \n",
    "    enable_real_motor1 = Component(FakeEpicsSignal, \"m1.CNEN\", kind=\"config\", auto_monitor=True)\n",
    "    enable_real_motor2 = Component(FakeEpicsSignal, \"m2.CNEN\", kind=\"config\", auto_monitor=True)\n",
    "\n",
    "    def stage(self):\n",
    "        super().stage()\n",
    "        print(\"The real motors are being enabled for the kinematic motion\")\n",
    "        self.enable_real_motor1.set(1).wait()\n",
    "        self.enable_real_motor2.set(1).wait()\n",
    "        print(self.read_configuration())\n",
    "\n",
    "    def unstage(self):\n",
    "        super().unstage()\n",
    "        print(\"The real motors are being disabled for the kinematic motion\")\n",
    "        self.enable_real_motor1.set(0).wait()\n",
    "        self.enable_real_motor2.set(0).wait()\n",
    "        print(self.read_configuration())"
   ]
  },
  {
   "cell_type": "code",
   "execution_count": null,
   "metadata": {
    "slideshow": {
     "slide_type": "subslide"
    }
   },
   "outputs": [],
   "source": [
    "kin_motor = KinematicMotor(name=\"kin_motor\")\n",
    "area_detector_cam = SimAreaDetector(\"SIM:\", name=\"area_detector_cam\")\n",
    "\n",
    "def stage_unstage_plan():\n",
    "    yield from stage(kin_motor)\n",
    "    \n",
    "    # Custom plan\n",
    "    yield from mv(kin_motor, 10)\n",
    "    \n",
    "    yield from unstage(kin_motor)\n",
    "\n",
    "RE(stage_unstage_plan())"
   ]
  },
  {
   "cell_type": "markdown",
   "metadata": {
    "slideshow": {
     "slide_type": "slide"
    }
   },
   "source": [
    "## Controlling the Run Engine "
   ]
  },
  {
   "cell_type": "markdown",
   "metadata": {
    "slideshow": {
     "slide_type": "fragment"
    }
   },
   "source": [
    "| Comando         | Ação                                         | Resultado |\n",
    "| -------         | ----                                         | ------- |\n",
    "| Pause           | Duas vezes (CTRL+C ou Interrupção do kernel) | Pausa o plano imediatamente e volta até o último checkpoint |\n",
    "| Deferred Pause  | CTRL+C ou Interrupção do kernel              | Espera o plano chegar até o próximo checkpoint e então pausa ele |"
   ]
  },
  {
   "cell_type": "markdown",
   "metadata": {
    "slideshow": {
     "slide_type": "fragment"
    }
   },
   "source": [
    "| Comando      | Resultado |\n",
    "| -------      | ------- |\n",
    "| RE.resume()  | Retoma o plano do último checkpoint |\n",
    "| RE.stop()    | Termina o plano e realiza um procedimento de cleanup, possui o exit_status como 'success' |\n",
    "| RE.abort()   | Termina o plano e realiza um procedimento de cleanup, possui o exit_status como 'aborted' |\n",
    "| RE.halt()    | Termina o plano imediatamente sem a realização de um procedimento de cleanup |\n",
    "| RE.state     | Verifica se a Run Engine nos estados 'idle' ou 'paused' |"
   ]
  },
  {
   "cell_type": "markdown",
   "metadata": {
    "slideshow": {
     "slide_type": "subslide"
    }
   },
   "source": [
    "### Pause"
   ]
  },
  {
   "cell_type": "code",
   "execution_count": null,
   "metadata": {
    "slideshow": {
     "slide_type": "fragment"
    }
   },
   "outputs": [],
   "source": [
    "#help(checkpoint)\n",
    "#help(pause)"
   ]
  },
  {
   "cell_type": "code",
   "execution_count": null,
   "metadata": {
    "scrolled": true,
    "slideshow": {
     "slide_type": "subslide"
    }
   },
   "outputs": [],
   "source": [
    "def pause_plan():\n",
    "    yield from open_run()\n",
    "    yield from mv(motor1, 5)\n",
    "    yield from trigger_and_read([noisy_det])\n",
    "    yield from checkpoint()\n",
    "    \n",
    "    yield from pause()\n",
    "    \n",
    "    yield from mv(motor1, 4)\n",
    "    yield from trigger_and_read([noisy_det])\n",
    "    yield from checkpoint()\n",
    "    \n",
    "    yield from mv(motor1, 14)\n",
    "    yield from trigger_and_read([noisy_det])\n",
    "    yield from checkpoint()\n",
    "    \n",
    "    yield from close_run()"
   ]
  },
  {
   "cell_type": "code",
   "execution_count": null,
   "metadata": {
    "scrolled": true,
    "slideshow": {
     "slide_type": "subslide"
    }
   },
   "outputs": [],
   "source": [
    "RE(pause_plan(), LiveTable([\"noisy_det\"]))"
   ]
  },
  {
   "cell_type": "code",
   "execution_count": null,
   "metadata": {
    "slideshow": {
     "slide_type": "subslide"
    }
   },
   "outputs": [],
   "source": [
    "print(RE.state)\n",
    "RE.resume()"
   ]
  },
  {
   "cell_type": "markdown",
   "metadata": {
    "slideshow": {
     "slide_type": "subslide"
    }
   },
   "source": [
    "### Deferred Pause"
   ]
  },
  {
   "cell_type": "code",
   "execution_count": null,
   "metadata": {
    "slideshow": {
     "slide_type": "fragment"
    }
   },
   "outputs": [],
   "source": [
    "#help(deferred_pause)"
   ]
  },
  {
   "cell_type": "code",
   "execution_count": null,
   "metadata": {
    "slideshow": {
     "slide_type": "subslide"
    }
   },
   "outputs": [],
   "source": [
    "def deferred_pause_plan():\n",
    "    yield from open_run()\n",
    "    yield from mv(motor1, 5)\n",
    "    yield from trigger_and_read([noisy_det])\n",
    "    yield from checkpoint()\n",
    "    \n",
    "    yield from deferred_pause()\n",
    "    \n",
    "    yield from mv(motor1, 4)\n",
    "    yield from trigger_and_read([noisy_det])\n",
    "    yield from checkpoint()\n",
    "    \n",
    "    yield from mv(motor1, 14)\n",
    "    yield from trigger_and_read([noisy_det])\n",
    "    yield from checkpoint()\n",
    "    \n",
    "    yield from close_run()"
   ]
  },
  {
   "cell_type": "code",
   "execution_count": null,
   "metadata": {
    "slideshow": {
     "slide_type": "subslide"
    }
   },
   "outputs": [],
   "source": [
    "RE(deferred_pause_plan(), LiveTable([\"noisy_det\"]))"
   ]
  },
  {
   "cell_type": "code",
   "execution_count": null,
   "metadata": {
    "slideshow": {
     "slide_type": "subslide"
    }
   },
   "outputs": [],
   "source": [
    "print(RE.state)\n",
    "RE.resume()"
   ]
  },
  {
   "cell_type": "markdown",
   "metadata": {
    "slideshow": {
     "slide_type": "subslide"
    }
   },
   "source": [
    "### clear_checkpoint"
   ]
  },
  {
   "cell_type": "code",
   "execution_count": null,
   "metadata": {
    "slideshow": {
     "slide_type": "fragment"
    }
   },
   "outputs": [],
   "source": [
    "#help(clear_checkpoint)"
   ]
  },
  {
   "cell_type": "code",
   "execution_count": null,
   "metadata": {
    "slideshow": {
     "slide_type": "fragment"
    }
   },
   "outputs": [],
   "source": [
    "def clear_checkpoint_plan():\n",
    "    yield from open_run()\n",
    "    yield from mv(motor1, 5)\n",
    "    yield from trigger_and_read([noisy_det])\n",
    "    yield from clear_checkpoint()\n",
    "    \n",
    "    yield from pause()\n",
    "    \n",
    "    yield from mv(motor1, 4)\n",
    "    yield from trigger_and_read([noisy_det])\n",
    "    yield from checkpoint()\n",
    "    \n",
    "    yield from mv(motor1, 14)\n",
    "    yield from trigger_and_read([noisy_det])\n",
    "    yield from checkpoint()\n",
    "    \n",
    "    yield from close_run()"
   ]
  },
  {
   "cell_type": "code",
   "execution_count": null,
   "metadata": {
    "scrolled": true,
    "slideshow": {
     "slide_type": "subslide"
    }
   },
   "outputs": [],
   "source": [
    "RE(clear_checkpoint_plan(), LiveTable([\"noisy_det\"]))"
   ]
  },
  {
   "cell_type": "code",
   "execution_count": null,
   "metadata": {
    "slideshow": {
     "slide_type": "subslide"
    }
   },
   "outputs": [],
   "source": [
    "RE.state"
   ]
  },
  {
   "cell_type": "markdown",
   "metadata": {
    "slideshow": {
     "slide_type": "slide"
    }
   },
   "source": [
    "## repeat"
   ]
  },
  {
   "cell_type": "code",
   "execution_count": null,
   "metadata": {
    "slideshow": {
     "slide_type": "fragment"
    }
   },
   "outputs": [],
   "source": [
    "help(repeat)"
   ]
  },
  {
   "cell_type": "code",
   "execution_count": null,
   "metadata": {
    "scrolled": true,
    "slideshow": {
     "slide_type": "subslide"
    }
   },
   "outputs": [],
   "source": [
    "def repeat_count():\n",
    "    yield from count([noisy_det], num=5, delay=0.25)\n",
    "RE(repeat(repeat_count, num=3, delay=3), LiveTable([\"noisy_det\"]))"
   ]
  },
  {
   "cell_type": "markdown",
   "metadata": {
    "slideshow": {
     "slide_type": "slide"
    }
   },
   "source": [
    "## Suspenders"
   ]
  },
  {
   "cell_type": "markdown",
   "metadata": {
    "slideshow": {
     "slide_type": "fragment"
    }
   },
   "source": [
    "| Suspender              | Ação | \n",
    "| ---------              | ---- | \n",
    "| SuspendBoolHigh        | Suspende o plano quando o sinal for True | \n",
    "| SuspendBoolLow         | Suspende o plano quando o sinal for False | \n",
    "| SuspendFloor           | Suspende o plano quando o valor for menor que o threshold estipulado | \n",
    "| SuspendCeil            | Suspende o plano quando o valor for maior que o threshold estipulado | \n",
    "| SuspendWhenOutsideBand | Suspende o plano quando o valor sair de um intervalo estipulado | \n",
    "| SuspendWhenChanged     | Suspende o plano quando o valor desviar do valor esperado |  "
   ]
  },
  {
   "cell_type": "code",
   "execution_count": null,
   "metadata": {
    "slideshow": {
     "slide_type": "subslide"
    }
   },
   "outputs": [],
   "source": [
    "class StorageRing(Device):\n",
    "    value = Component(FakeEpicsSignal, \"Current-Mon\")\n",
    "\n",
    "storage_ring = StorageRing(\"SIM:\", name=\"storage_ring\")"
   ]
  },
  {
   "cell_type": "code",
   "execution_count": null,
   "metadata": {
    "slideshow": {
     "slide_type": "fragment"
    }
   },
   "outputs": [],
   "source": [
    "def current_simulation(storage_ring):\n",
    "    storage_ring.value.set(85).wait()\n",
    "    print(f\"Current Value {storage_ring.value.get()}\")\n",
    "    time.sleep(2.5)\n",
    "    storage_ring.value.set(100).wait()  \n",
    "    print(f\"Current Value {storage_ring.value.get()}\")"
   ]
  },
  {
   "cell_type": "code",
   "execution_count": null,
   "metadata": {
    "slideshow": {
     "slide_type": "fragment"
    }
   },
   "outputs": [],
   "source": [
    "def plan_with_suspension():\n",
    "    current_suspender = SuspendFloor(storage_ring.value, 90, resume_thresh=95)\n",
    "    yield from install_suspender(current_suspender)\n",
    "    current_simulation_thread = Thread(\n",
    "        target=current_simulation, kwargs={\"storage_ring\": storage_ring})\n",
    "    simulation_count = 0\n",
    "    while simulation_count < 5:\n",
    "        print(simulation_count)\n",
    "        yield from sleep(1)\n",
    "        if simulation_count == 1:    \n",
    "            current_simulation_thread.start()\n",
    "        simulation_count += 1\n",
    "    yield from remove_suspender(current_suspender)"
   ]
  },
  {
   "cell_type": "code",
   "execution_count": null,
   "metadata": {
    "slideshow": {
     "slide_type": "subslide"
    }
   },
   "outputs": [],
   "source": [
    "RE(mv(storage_ring.value, 100))\n",
    "RE(plan_with_suspension())"
   ]
  }
 ],
 "metadata": {
  "celltoolbar": "Slideshow",
  "kernelspec": {
   "display_name": "Python 3 (ipykernel)",
   "language": "python",
   "name": "python3"
  },
  "language_info": {
   "codemirror_mode": {
    "name": "ipython",
    "version": 3
   },
   "file_extension": ".py",
   "mimetype": "text/x-python",
   "name": "python",
   "nbconvert_exporter": "python",
   "pygments_lexer": "ipython3",
   "version": "3.9.2"
  },
  "rise": {
   "enable_chalkboard": true,
   "scroll": true,
   "start_slideshow_at": "beginning",
   "theme": "sky"
  }
 },
 "nbformat": 4,
 "nbformat_minor": 2
}
