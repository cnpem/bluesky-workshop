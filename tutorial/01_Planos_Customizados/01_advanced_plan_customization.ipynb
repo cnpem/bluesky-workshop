{
 "cells": [
  {
   "cell_type": "code",
   "execution_count": null,
   "metadata": {
    "slideshow": {
     "slide_type": "slide"
    }
   },
   "outputs": [],
   "source": [
    "%matplotlib qt\n",
    "from threading import Thread\n",
    "from random import randint\n",
    "from time import sleep, time\n",
    "from bluesky import RunEngine\n",
    "from bluesky.callbacks import LiveGrid\n",
    "from bluesky.plans import grid_scan\n",
    "from bluesky.plan_stubs import kickoff, complete, collect, \\\n",
    "    open_run, close_run, mv, one_nd_step, trigger_and_read, move_per_step, \\\n",
    "    create, save\n",
    "from ophyd import Device, ADComponent, Component\n",
    "from ophyd.flyers import FlyerInterface\n",
    "from ophyd.status import AndStatus, SubscriptionStatus\n",
    "from ophyd.sim import motor1, motor2, rand, det4, FakeEpicsSignalWithRBV, \\\n",
    "    FakeEpicsSignal, FakeEpicsSignalRO\n",
    "from matplotlib.pyplot import ion\n",
    "from bluesky.utils import install_nb_kicker\n",
    "install_nb_kicker()\n",
    "\n",
    "ion()\n",
    "RE = RunEngine()"
   ]
  },
  {
   "cell_type": "markdown",
   "metadata": {
    "slideshow": {
     "slide_type": "slide"
    }
   },
   "source": [
    "## Fly Scan"
   ]
  },
  {
   "cell_type": "code",
   "execution_count": null,
   "metadata": {
    "slideshow": {
     "slide_type": "subslide"
    }
   },
   "outputs": [],
   "source": [
    "class SimAreaDetectorAcquire(Device):\n",
    "    det = ADComponent(FakeEpicsSignalWithRBV, \"Value\")\n",
    "    acquire = ADComponent(FakeEpicsSignalWithRBV, \"Acquire\")\n",
    "    capture = ADComponent(FakeEpicsSignalWithRBV, \"Capture\")\n",
    "    data_array = []\n",
    "\n",
    "area_detector_cam = SimAreaDetectorAcquire(\"SIM:\", name=\"area_detector_cam\")"
   ]
  },
  {
   "cell_type": "code",
   "execution_count": null,
   "metadata": {
    "slideshow": {
     "slide_type": "fragment"
    }
   },
   "outputs": [],
   "source": [
    "class SimTatu(Device):\n",
    "    activate = Component(FakeEpicsSignalWithRBV, \"Activate\")\n",
    "    steps = Component(FakeEpicsSignalWithRBV, \"Steps\")\n",
    "    \n",
    "tatu = SimTatu(\"SIM:\", name=\"tatu\")"
   ]
  },
  {
   "cell_type": "code",
   "execution_count": null,
   "metadata": {
    "slideshow": {
     "slide_type": "fragment"
    }
   },
   "outputs": [],
   "source": [
    "def fly_scan_simulation(tatu, detector):\n",
    "    step = tatu.steps.get()\n",
    "    while step < 5:\n",
    "        new_step = tatu.steps.get() + 1\n",
    "        tatu.steps.set(new_step).wait()\n",
    "        det_val = randint(-10, 10)\n",
    "        area_detector_cam.data_array.append({\n",
    "            'time': time(),\n",
    "            'data': {'det': det_val}, \n",
    "            'timestamps': {'det': time()}\n",
    "        })\n",
    "        \n",
    "        sleep(1)\n",
    "        step = new_step"
   ]
  },
  {
   "cell_type": "code",
   "execution_count": null,
   "metadata": {
    "slideshow": {
     "slide_type": "fragment"
    }
   },
   "outputs": [],
   "source": [
    "class FlyerDevice(FlyerInterface, Device):\n",
    "    \n",
    "    def kickoff(self):\n",
    "        print(\"Start asynchronous task\")\n",
    "        area_detector_cam.capture.set(1).wait()\n",
    "        area_detector_cam.acquire.set(1).wait()\n",
    "        tatu.steps.set(0).wait()\n",
    "        \n",
    "        fly_scan_thread = Thread(\n",
    "            target=fly_scan_simulation, kwargs={\"tatu\": tatu, \"detector\": area_detector_cam})\n",
    "        fly_scan_thread.start()\n",
    "        \n",
    "        return tatu.activate.set(1)\n",
    "            \n",
    "\n",
    "    def tatu_monitor(self, **kwargs):\n",
    "        tatu_steps = kwargs['obj']\n",
    "        curr_step = tatu_steps.get()\n",
    "        print(f\"Monitoring: {curr_step}\")\n",
    "        \n",
    "        if curr_step == 5:\n",
    "            return True\n",
    "        return False\n",
    "\n",
    "    def complete(self):\n",
    "        print(\"Waiting for fly scan to complete\")\n",
    "        return SubscriptionStatus(tatu.steps, callback=self.tatu_monitor)\n",
    "    \n",
    "    def describe_collect(self):\n",
    "        return {\"decription\": {}}\n",
    "    \n",
    "    def collect(self):\n",
    "        print(\"Collecting data after scan\")\n",
    "        return [{\"data\": {}, \"timestamps\": {}, \"time\": 0, \"seq_num\": 0}]"
   ]
  },
  {
   "cell_type": "code",
   "execution_count": null,
   "metadata": {
    "scrolled": true,
    "slideshow": {
     "slide_type": "fragment"
    }
   },
   "outputs": [],
   "source": [
    "def flyscan(flyer):\n",
    "    yield from open_run()\n",
    "    yield from kickoff(flyer, wait=True)\n",
    "    yield from complete(flyer, wait=True)\n",
    "    yield from close_run()\n",
    "\n",
    "flyer_device = FlyerDevice(name=\"flyer_device\")\n",
    "RE(flyscan(flyer_device))"
   ]
  },
  {
   "cell_type": "markdown",
   "metadata": {
    "slideshow": {
     "slide_type": "slide"
    }
   },
   "source": [
    "## per_step"
   ]
  },
  {
   "cell_type": "code",
   "execution_count": null,
   "metadata": {
    "slideshow": {
     "slide_type": "subslide"
    }
   },
   "outputs": [],
   "source": [
    "def custom_step(detectors, step, pos_cache):\n",
    "    print(\"--------------------------\")\n",
    "    print(f\"Grid step: {step.values()}\")\n",
    "    print(\"Before plan step\")\n",
    "    yield from one_nd_step(detectors, step, pos_cache)\n",
    "    print(\"After plan step\")"
   ]
  },
  {
   "cell_type": "code",
   "execution_count": null,
   "metadata": {
    "scrolled": true,
    "slideshow": {
     "slide_type": "fragment"
    }
   },
   "outputs": [],
   "source": [
    "RE(\n",
    "    grid_scan([det4], motor1, -1, 1, 5, motor2, -2, 2, 5, per_step=custom_step),\n",
    "    LiveGrid((5, 5), 'det4'))"
   ]
  },
  {
   "cell_type": "markdown",
   "metadata": {
    "slideshow": {
     "slide_type": "subslide"
    }
   },
   "source": [
    "- trigger_and_read: Triggera e lê uma lista de detectores e motores e armazena seus valores.\n",
    "- move_per_step: Envia setpoints para vários dispositivos que permitem ser setados e espera eles chegaram na posição.\n",
    "- one_shot: Step para o plano 'count'\n",
    "- one_1d_step: Step para planos com 1 Dimensão\n",
    "- one_nd_step: Step para planos com N Dimensões"
   ]
  },
  {
   "cell_type": "code",
   "execution_count": null,
   "metadata": {
    "slideshow": {
     "slide_type": "fragment"
    }
   },
   "outputs": [],
   "source": [
    "def one_shot(detectors, motor, step):\n",
    "    yield from trigger_and_read(list(detectors) + [motor])"
   ]
  },
  {
   "cell_type": "code",
   "execution_count": null,
   "metadata": {
    "slideshow": {
     "slide_type": "fragment"
    }
   },
   "outputs": [],
   "source": [
    "def one_1d_step(detectors, motor, step):\n",
    "    yield from move()\n",
    "    yield from trigger_and_read(list(detectors) + [motor])"
   ]
  },
  {
   "cell_type": "code",
   "execution_count": null,
   "metadata": {
    "slideshow": {
     "slide_type": "fragment"
    }
   },
   "outputs": [],
   "source": [
    "def one_nd_step(detectors, step, pos_cache):\n",
    "    yield from move_per_step(step, pos_cache)\n",
    "    yield from trigger_and_read(list(detectors) + list(motors))"
   ]
  }
 ],
 "metadata": {
  "celltoolbar": "Slideshow",
  "kernelspec": {
   "display_name": "Python 3 (ipykernel)",
   "language": "python",
   "name": "python3"
  },
  "language_info": {
   "codemirror_mode": {
    "name": "ipython",
    "version": 3
   },
   "file_extension": ".py",
   "mimetype": "text/x-python",
   "name": "python",
   "nbconvert_exporter": "python",
   "pygments_lexer": "ipython3",
   "version": "3.9.2"
  },
  "rise": {
   "enable_chalkboard": true,
   "start_slideshow_at": "beginning",
   "theme": "sky"
  }
 },
 "nbformat": 4,
 "nbformat_minor": 2
}
