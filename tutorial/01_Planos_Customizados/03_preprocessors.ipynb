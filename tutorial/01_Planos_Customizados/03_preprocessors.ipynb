{
 "cells": [
  {
   "cell_type": "code",
   "execution_count": null,
   "metadata": {
    "slideshow": {
     "slide_type": "slide"
    }
   },
   "outputs": [],
   "source": [
    "from bluesky import RunEngine\n",
    "from bluesky.plans import scan\n",
    "from bluesky.plan_stubs import mv, open_run, close_run\n",
    "from bluesky.callbacks import LiveTable\n",
    "from bluesky.preprocessors import relative_set_decorator, \\\n",
    "    reset_positions_decorator\n",
    "from ophyd.sim import motor1, motor2, det1\n",
    "\n",
    "RE = RunEngine()"
   ]
  },
  {
   "cell_type": "markdown",
   "metadata": {
    "slideshow": {
     "slide_type": "subslide"
    }
   },
   "source": [
    "## Decorators"
   ]
  },
  {
   "cell_type": "code",
   "execution_count": null,
   "metadata": {
    "slideshow": {
     "slide_type": "fragment"
    }
   },
   "outputs": [],
   "source": [
    "@bluesky_decorator\n",
    "def custom_plan(*args):\n",
    "    # Customized plan\n",
    "    pass\n",
    "\n",
    "custom_plan(*args)"
   ]
  },
  {
   "cell_type": "code",
   "execution_count": null,
   "metadata": {
    "slideshow": {
     "slide_type": "fragment"
    }
   },
   "outputs": [],
   "source": [
    "bluesky_decorator(custom_plan)(*args)\n",
    "\n",
    "def bluesky_decorator(*args):\n",
    "    yield from decorator_before()\n",
    "    \n",
    "    yield from custom_plan(*args)\n",
    "    \n",
    "    yield from decorator_after()"
   ]
  },
  {
   "cell_type": "markdown",
   "metadata": {
    "slideshow": {
     "slide_type": "slide"
    }
   },
   "source": [
    "## relative_set_decorator"
   ]
  },
  {
   "cell_type": "code",
   "execution_count": null,
   "metadata": {
    "slideshow": {
     "slide_type": "fragment"
    }
   },
   "outputs": [],
   "source": [
    "help(relative_set_decorator)"
   ]
  },
  {
   "cell_type": "code",
   "execution_count": null,
   "metadata": {
    "slideshow": {
     "slide_type": "subslide"
    }
   },
   "outputs": [],
   "source": [
    "@relative_set_decorator([motor1])\n",
    "def relative_movement():\n",
    "    yield from open_run()\n",
    "    \n",
    "    yield from mv(motor1, -2)\n",
    "    print(motor1.readback.get())\n",
    "    \n",
    "    yield from mv(motor1, 3)\n",
    "    print(motor1.readback.get())\n",
    "    \n",
    "    yield from mv(motor1, 1.5)\n",
    "    print(motor1.readback.get())\n",
    "    \n",
    "    yield from close_run()\n",
    "\n",
    "RE(mv(motor1, 5))\n",
    "RE(relative_movement(), LiveTable(['motor1']))"
   ]
  },
  {
   "cell_type": "code",
   "execution_count": null,
   "metadata": {
    "slideshow": {
     "slide_type": "subslide"
    }
   },
   "outputs": [],
   "source": [
    "@relative_set_decorator()\n",
    "def relative_scan():\n",
    "    yield from scan([det1], motor1, -5, 2, 10)\n",
    "\n",
    "RE(mv(motor1, 5))\n",
    "RE(relative_scan(), LiveTable(['motor1']))"
   ]
  },
  {
   "cell_type": "markdown",
   "metadata": {
    "slideshow": {
     "slide_type": "slide"
    }
   },
   "source": [
    "## reset_positions_decorator"
   ]
  },
  {
   "cell_type": "code",
   "execution_count": null,
   "metadata": {
    "slideshow": {
     "slide_type": "fragment"
    }
   },
   "outputs": [],
   "source": [
    "help(reset_positions_decorator)"
   ]
  },
  {
   "cell_type": "code",
   "execution_count": null,
   "metadata": {
    "slideshow": {
     "slide_type": "subslide"
    }
   },
   "outputs": [],
   "source": [
    "@reset_positions_decorator([motor1])\n",
    "def reset_m1_position_scan():\n",
    "    yield from scan([det1], motor1, -10, 10, 10)\n",
    "    yield from mv(motor2, 5)"
   ]
  },
  {
   "cell_type": "code",
   "execution_count": null,
   "metadata": {
    "slideshow": {
     "slide_type": "fragment"
    }
   },
   "outputs": [],
   "source": [
    "RE(mv(motor1, 0, motor2, 0))\n",
    "RE(reset_m1_position_scan())\n",
    "print(f\"Motor 1: {motor1.readback.get()}\")\n",
    "print(f\"Motor 2: {motor2.readback.get()}\")"
   ]
  },
  {
   "cell_type": "code",
   "execution_count": null,
   "metadata": {
    "slideshow": {
     "slide_type": "subslide"
    }
   },
   "outputs": [],
   "source": [
    "@reset_positions_decorator([motor1, motor2])\n",
    "def reset_m1_and_m2_position_scan():\n",
    "    yield from scan([det1], motor1, -10, 10, 10)\n",
    "    yield from mv(motor2, 5)"
   ]
  },
  {
   "cell_type": "code",
   "execution_count": null,
   "metadata": {
    "slideshow": {
     "slide_type": "fragment"
    }
   },
   "outputs": [],
   "source": [
    "RE(mv(motor1, 0, motor2, 0))\n",
    "RE(reset_m2_position_scan())\n",
    "print(f\"Motor 1: {motor1.readback.get()}\")\n",
    "print(f\"Motor 2: {motor2.readback.get()}\")"
   ]
  },
  {
   "cell_type": "markdown",
   "metadata": {
    "slideshow": {
     "slide_type": "slide"
    }
   },
   "source": [
    "## run_decorator"
   ]
  },
  {
   "cell_type": "code",
   "execution_count": null,
   "metadata": {
    "slideshow": {
     "slide_type": "fragment"
    }
   },
   "outputs": [],
   "source": [
    "help(run_decorator)"
   ]
  },
  {
   "cell_type": "code",
   "execution_count": null,
   "metadata": {
    "slideshow": {
     "slide_type": "subslide"
    }
   },
   "outputs": [],
   "source": [
    "@run_decorator()\n",
    "def plan_run():\n",
    "    yield from mv(motor1, -10)\n",
    "    yield from trigger_and_read([det1, motor1])\n",
    "    \n",
    "    yield from mv(motor1, 0)\n",
    "    yield from trigger_and_read([det1, motor1])\n",
    "    \n",
    "    yield from mv(motor1, 10)\n",
    "    yield from trigger_and_read([det1, motor1])\n",
    "    \n",
    "RE(\n",
    "    plan_run(), LiveTable(['det1', 'motor1']))"
   ]
  },
  {
   "cell_type": "code",
   "execution_count": null,
   "metadata": {},
   "outputs": [],
   "source": [
    "finalize_decorator: try...finally helper"
   ]
  }
 ],
 "metadata": {
  "celltoolbar": "Slideshow",
  "kernelspec": {
   "display_name": "Python 3 (ipykernel)",
   "language": "python",
   "name": "python3"
  },
  "language_info": {
   "codemirror_mode": {
    "name": "ipython",
    "version": 3
   },
   "file_extension": ".py",
   "mimetype": "text/x-python",
   "name": "python",
   "nbconvert_exporter": "python",
   "pygments_lexer": "ipython3",
   "version": "3.9.2"
  },
  "rise": {
   "enable_chalkboard": true,
   "scroll": true,
   "start_slideshow_at": "beginning",
   "theme": "sky"
  }
 },
 "nbformat": 4,
 "nbformat_minor": 2
}
