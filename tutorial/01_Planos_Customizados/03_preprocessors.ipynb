{
 "cells": [
  {
   "cell_type": "code",
   "execution_count": null,
   "metadata": {
    "slideshow": {
     "slide_type": "slide"
    }
   },
   "outputs": [],
   "source": [
    "from bluesky import RunEngine\n",
    "from bluesky.plans import scan, grid_scan\n",
    "from bluesky.plan_stubs import mv, open_run, close_run, \\\n",
    "    trigger_and_read\n",
    "from bluesky.callbacks import LiveTable\n",
    "from bluesky.preprocessors import relative_set_decorator, \\\n",
    "    reset_positions_decorator, run_decorator, stage_decorator, \\\n",
    "    finalize_decorator, inject_md_decorator\n",
    "from ophyd import Device, Component\n",
    "from ophyd.sim import motor1, motor2, motor3, det1, det4, FakeEpicsSignal\n",
    "from databroker import Broker\n",
    "\n",
    "RE = RunEngine()\n",
    "\n",
    "db = Broker.named('temp')\n",
    "RE.subscribe(db.insert)"
   ]
  },
  {
   "cell_type": "markdown",
   "metadata": {
    "slideshow": {
     "slide_type": "subslide"
    }
   },
   "source": [
    "## Decorators"
   ]
  },
  {
   "cell_type": "code",
   "execution_count": null,
   "metadata": {
    "slideshow": {
     "slide_type": "fragment"
    }
   },
   "outputs": [],
   "source": [
    "@bluesky_decorator\n",
    "def custom_plan(*args):\n",
    "    # Customized plan\n",
    "    pass\n",
    "\n",
    "custom_plan(*args)"
   ]
  },
  {
   "cell_type": "code",
   "execution_count": null,
   "metadata": {
    "slideshow": {
     "slide_type": "fragment"
    }
   },
   "outputs": [],
   "source": [
    "bluesky_decorator(custom_plan)(*args)\n",
    "\n",
    "def bluesky_decorator(*args):\n",
    "    yield from decorator_before()\n",
    "    \n",
    "    yield from custom_plan(*args)\n",
    "    \n",
    "    yield from decorator_after()"
   ]
  },
  {
   "cell_type": "markdown",
   "metadata": {
    "slideshow": {
     "slide_type": "slide"
    }
   },
   "source": [
    "## relative_set_decorator"
   ]
  },
  {
   "cell_type": "code",
   "execution_count": null,
   "metadata": {
    "slideshow": {
     "slide_type": "fragment"
    }
   },
   "outputs": [],
   "source": [
    "help(relative_set_decorator)"
   ]
  },
  {
   "cell_type": "code",
   "execution_count": null,
   "metadata": {
    "slideshow": {
     "slide_type": "subslide"
    }
   },
   "outputs": [],
   "source": [
    "@relative_set_decorator()\n",
    "def relative_movement():\n",
    "    yield from open_run()\n",
    "    \n",
    "    yield from mv(motor1, -2)\n",
    "    print(f\"Motor 1 -2: {motor1.readback.get()}\")\n",
    "    \n",
    "    yield from mv(motor2, 3)\n",
    "    print(f\"Motor 2 +3: {motor2.readback.get()}\")\n",
    "    \n",
    "    yield from mv(motor1, 1.5)\n",
    "    print(f\"Motor 1 +1.5: {motor1.readback.get()}\")\n",
    "    \n",
    "    yield from close_run()\n",
    "\n",
    "RE(mv(motor1, 1, motor2, 2))\n",
    "print(f\"Motor 1: {motor1.readback.get()} | Motor 2: {motor2.readback.get()}\")\n",
    "RE(relative_movement(), LiveTable(['motor1']))"
   ]
  },
  {
   "cell_type": "code",
   "execution_count": null,
   "metadata": {
    "slideshow": {
     "slide_type": "subslide"
    }
   },
   "outputs": [],
   "source": [
    "@relative_set_decorator([motor1])\n",
    "def relative_grid_scan():\n",
    "    yield from grid_scan(\n",
    "        [det4], motor1, -5, 1, 5, motor2, -3, 2, 5)\n",
    "\n",
    "RE(mv(\n",
    "    motor1, 1.5,\n",
    "    motor2, 2\n",
    "))\n",
    "RE(relative_grid_scan(), LiveTable(['det4', 'motor1', 'motor2']))"
   ]
  },
  {
   "cell_type": "markdown",
   "metadata": {
    "slideshow": {
     "slide_type": "slide"
    }
   },
   "source": [
    "## reset_positions_decorator"
   ]
  },
  {
   "cell_type": "code",
   "execution_count": null,
   "metadata": {
    "slideshow": {
     "slide_type": "fragment"
    }
   },
   "outputs": [],
   "source": [
    "help(reset_positions_decorator)"
   ]
  },
  {
   "cell_type": "code",
   "execution_count": null,
   "metadata": {
    "slideshow": {
     "slide_type": "subslide"
    }
   },
   "outputs": [],
   "source": [
    "@reset_positions_decorator([motor1])\n",
    "def reset_m1_position_scan():\n",
    "    yield from scan([det1], motor1, -10, 10, 10)\n",
    "    yield from mv(motor2, 5)"
   ]
  },
  {
   "cell_type": "code",
   "execution_count": null,
   "metadata": {
    "slideshow": {
     "slide_type": "fragment"
    }
   },
   "outputs": [],
   "source": [
    "RE(mv(motor1, 0, motor2, 0))\n",
    "RE(reset_m1_position_scan())\n",
    "print(f\"Motor 1: {motor1.readback.get()}\")\n",
    "print(f\"Motor 2: {motor2.readback.get()}\")"
   ]
  },
  {
   "cell_type": "code",
   "execution_count": null,
   "metadata": {
    "slideshow": {
     "slide_type": "subslide"
    }
   },
   "outputs": [],
   "source": [
    "def print_motor_positions():\n",
    "    print(f\"Motor 1: {motor1.readback.get()}\")\n",
    "    print(f\"Motor 2: {motor2.readback.get()}\")\n",
    "    print(f\"Motor 3: {motor3.readback.get()}\")"
   ]
  },
  {
   "cell_type": "code",
   "execution_count": null,
   "metadata": {
    "slideshow": {
     "slide_type": "fragment"
    }
   },
   "outputs": [],
   "source": [
    "@reset_positions_decorator([motor1, motor2])\n",
    "def reset_several_motor_position():\n",
    "    yield from mv(motor3, 12.5)\n",
    "    yield from scan([det1], motor1, -10, 10, 10)\n",
    "    yield from mv(motor2, 5)\n",
    "    print_motor_positions()\n",
    "    print(\"The plan has ended\")"
   ]
  },
  {
   "cell_type": "code",
   "execution_count": null,
   "metadata": {
    "slideshow": {
     "slide_type": "fragment"
    }
   },
   "outputs": [],
   "source": [
    "RE(mv(motor, 0, motor1, 1, motor2, 2))\n",
    "RE(reset_several_motor_position())\n",
    "print_motor_positions()"
   ]
  },
  {
   "cell_type": "markdown",
   "metadata": {
    "slideshow": {
     "slide_type": "slide"
    }
   },
   "source": [
    "## finalize_decorator"
   ]
  },
  {
   "cell_type": "code",
   "execution_count": null,
   "metadata": {
    "scrolled": false,
    "slideshow": {
     "slide_type": "fragment"
    }
   },
   "outputs": [],
   "source": [
    "help(finalize_decorator)"
   ]
  },
  {
   "cell_type": "code",
   "execution_count": null,
   "metadata": {
    "slideshow": {
     "slide_type": "subslide"
    }
   },
   "outputs": [],
   "source": [
    "class NoLiquidAgentError(Exception):\n",
    "    pass\n",
    "\n",
    "class LiquidAgent(Device):\n",
    "     active = Component(FakeEpicsSignal, \"Active\", kind=\"omitted\")\n",
    "\n",
    "def print_agent_states():\n",
    "    print(f\"Agent 1: {agent1.active.get()}\")\n",
    "    print(f\"Agent 2: {agent2.active.get()}\")\n",
    "    print()\n",
    "        \n",
    "def safe_plan_stop():\n",
    "    yield from mv(agent1.active, False)\n",
    "    yield from mv(agent2.active, False)\n",
    "    print(\"The plan has ended safely\")\n",
    "    \n",
    "agent1 = LiquidAgent(\"SIM:\", name=\"agent1\")\n",
    "agent2 = LiquidAgent(\"SIM:\", name=\"agent2\")"
   ]
  },
  {
   "cell_type": "code",
   "execution_count": null,
   "metadata": {
    "scrolled": true,
    "slideshow": {
     "slide_type": "subslide"
    }
   },
   "outputs": [],
   "source": [
    "@finalize_decorator(safe_plan_stop)\n",
    "def plan_with_exception():\n",
    "    yield from mv(agent1.active, True)\n",
    "    print(\"Agent 1 activated\")\n",
    "    print_agent_states()\n",
    "    \n",
    "    raise NoLiquidAgentError()\n",
    "    \n",
    "    yield from mv(agent2.active, True)\n",
    "    print(\"Agent 2 activated\")\n",
    "    print_agent_states()\n",
    "    \n",
    "try:\n",
    "    RE(plan_with_exception())\n",
    "except:\n",
    "    print(f\"Run Engine State: {RE.state}\")\n",
    "    print_agent_states()"
   ]
  },
  {
   "cell_type": "markdown",
   "metadata": {
    "slideshow": {
     "slide_type": "slide"
    }
   },
   "source": [
    "## Metadados"
   ]
  },
  {
   "cell_type": "code",
   "execution_count": null,
   "metadata": {
    "slideshow": {
     "slide_type": "fragment"
    }
   },
   "outputs": [],
   "source": [
    "def plan_without_data():\n",
    "    # Plan procedures\n",
    "    yield from mv(motor1, 10)\n",
    "    #yield from trigger_and_read([det1, motor1])\n",
    "\n",
    "uid = RE(scan([det4], motor1, -2, 2, 5))\n",
    "print(uid)\n",
    "\n",
    "uid = RE(plan_without_data())\n",
    "print(uid)"
   ]
  },
  {
   "cell_type": "code",
   "execution_count": null,
   "metadata": {
    "slideshow": {
     "slide_type": "subslide"
    }
   },
   "outputs": [],
   "source": [
    "def plan_with_data():\n",
    "    yield from open_run(md={\"content\": \"Start Document Additional Metadata\"})\n",
    "    \n",
    "    # Plan procedures\n",
    "    yield from mv(motor1, 10)\n",
    "    yield from trigger_and_read([det1, motor1])\n",
    "    \n",
    "    yield from close_run()\n",
    "\n",
    "(uid, ) = RE(plan_with_data(), LiveTable(['det1', 'motor1']))\n",
    "print(uid)\n",
    "db[uid].start"
   ]
  },
  {
   "cell_type": "markdown",
   "metadata": {
    "slideshow": {
     "slide_type": "slide"
    }
   },
   "source": [
    "## run_decorator"
   ]
  },
  {
   "cell_type": "code",
   "execution_count": null,
   "metadata": {
    "slideshow": {
     "slide_type": "fragment"
    }
   },
   "outputs": [],
   "source": [
    "help(run_decorator)"
   ]
  },
  {
   "cell_type": "code",
   "execution_count": null,
   "metadata": {
    "slideshow": {
     "slide_type": "subslide"
    }
   },
   "outputs": [],
   "source": [
    "@run_decorator()\n",
    "def custom_plan_with_data():\n",
    "    yield from mv(motor1, -10)\n",
    "    yield from trigger_and_read([det1, motor1])\n",
    "    \n",
    "    yield from mv(motor1, 0)\n",
    "    yield from trigger_and_read([det1, motor1])\n",
    "    \n",
    "    yield from mv(motor1, 10)\n",
    "    yield from trigger_and_read([det1, motor1])\n",
    "    \n",
    "(md,) = RE(\n",
    "    custom_plan_with_data(), LiveTable(['det1', 'motor1']))\n",
    "db[md].start"
   ]
  },
  {
   "cell_type": "markdown",
   "metadata": {
    "slideshow": {
     "slide_type": "slide"
    }
   },
   "source": [
    "## inject_md_decorator"
   ]
  },
  {
   "cell_type": "code",
   "execution_count": null,
   "metadata": {
    "slideshow": {
     "slide_type": "fragment"
    }
   },
   "outputs": [],
   "source": [
    "help(inject_md_decorator)"
   ]
  },
  {
   "cell_type": "code",
   "execution_count": null,
   "metadata": {
    "slideshow": {
     "slide_type": "subslide"
    }
   },
   "outputs": [],
   "source": [
    "@inject_md_decorator({\n",
    "    \"content\": \"Start Document Additional Metadata\",\n",
    "    \"motive\": \"Calibration\",\n",
    "    \"sample_name\": \"Standard Sample\",\n",
    "    \"acquisition_time\": 0.1\n",
    "})\n",
    "@run_decorator()\n",
    "def custom_plan_with_metadata():\n",
    "    yield from mv(motor1, -10)\n",
    "    yield from trigger_and_read([det1, motor1])\n",
    "    \n",
    "(md,) = RE(custom_plan_with_metadata())\n",
    "db[md].start"
   ]
  }
 ],
 "metadata": {
  "celltoolbar": "Slideshow",
  "kernelspec": {
   "display_name": "Python 3 (ipykernel)",
   "language": "python",
   "name": "python3"
  },
  "language_info": {
   "codemirror_mode": {
    "name": "ipython",
    "version": 3
   },
   "file_extension": ".py",
   "mimetype": "text/x-python",
   "name": "python",
   "nbconvert_exporter": "python",
   "pygments_lexer": "ipython3",
   "version": "3.9.2"
  },
  "rise": {
   "enable_chalkboard": true,
   "scroll": true,
   "start_slideshow_at": "beginning",
   "theme": "sky"
  }
 },
 "nbformat": 4,
 "nbformat_minor": 2
}
