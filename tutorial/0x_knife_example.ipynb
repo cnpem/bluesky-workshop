{
 "cells": [
  {
   "cell_type": "code",
   "execution_count": null,
   "metadata": {},
   "outputs": [],
   "source": [
    "%matplotlib qt\n",
    "import numpy as np\n",
    "import lmfit\n",
    "from bluesky import RunEngine\n",
    "from ophyd.sim import SynGauss, SynAxis, motor1\n",
    "from bluesky.callbacks.best_effort import BestEffortCallback\n",
    "from bluesky.callbacks import LiveFitPlot, LiveFit, LivePlot\n",
    "from bluesky.plans import scan\n",
    "from matplotlib.pyplot import ion, subplots\n",
    "from bluesky.utils import install_nb_kicker\n",
    "from scipy.special import erf\n",
    "install_nb_kicker()\n",
    "ion()"
   ]
  },
  {
   "cell_type": "markdown",
   "metadata": {},
   "source": [
    "## RunEngine"
   ]
  },
  {
   "cell_type": "code",
   "execution_count": null,
   "metadata": {},
   "outputs": [],
   "source": [
    "RE = RunEngine({})\n",
    "bec = BestEffortCallback()\n",
    "RE.subscribe(bec)"
   ]
  },
  {
   "cell_type": "markdown",
   "metadata": {},
   "source": [
    "## Device simulado"
   ]
  },
  {
   "cell_type": "markdown",
   "metadata": {},
   "source": [
    "##### É possível criar devices que simulam o comportamento de algum detector ou fenômeno específico, nesse caso há um modelo de um detector que realiza a integral de um sinal com perfil gaussiano. Na prática, qualquer tipo de device pode ser implementado para simular experimentos ou scans na linha de luz."
   ]
  },
  {
   "cell_type": "code",
   "execution_count": null,
   "metadata": {},
   "outputs": [],
   "source": [
    "import numpy as np #Hide this import here just for now\n",
    "\n",
    "def gaussian_integral(x, peak, sigma, center):\n",
    "    return peak * sigma * np.sqrt(np.pi / 2) * (erf((x - center) / (np.sqrt(2) * sigma)) - erf((-5 - center) / (np.sqrt(2) * sigma)))\n",
    "\n",
    "class SynKnifeDetector(SynGauss):\n",
    "    \n",
    "    def __init__(self, name, motor, motor_field, center, Imax, *, random_state=None, **kwargs):\n",
    "        super().__init__(name, motor, motor_field, center, Imax, **kwargs)\n",
    "\n",
    "    def _compute(self):\n",
    "        m = self._motor.read()[self._motor_field][\"value\"]\n",
    "        Imax = self.Imax.get()\n",
    "        center = self.center.get()\n",
    "        sigma = self.sigma.get()\n",
    "        noise = self.noise.get()\n",
    "        noise_multiplier = self.noise_multiplier.get()\n",
    "        \n",
    "        return gaussian_integral(m, Imax, sigma, center)\n",
    "        \n"
   ]
  },
  {
   "cell_type": "markdown",
   "metadata": {},
   "source": [
    "## Instância dos devices simulados\n",
    "\n",
    "#### É possível definir os parâmetros na inicialização do device **detector**"
   ]
  },
  {
   "cell_type": "code",
   "execution_count": null,
   "metadata": {},
   "outputs": [],
   "source": [
    "motor1.delay = 0.15\n",
    "detector = SynKnifeDetector('detector', motor1, 'motor1', center=2, Imax=9, sigma=1)"
   ]
  },
  {
   "cell_type": "markdown",
   "metadata": {},
   "source": [
    "### Plot fitting\n",
    "\n",
    "\n",
    "#### Nesse caso, podemos testar funções como o LiveFitPlot e obter o resultado do fit ao final da run"
   ]
  },
  {
   "cell_type": "code",
   "execution_count": null,
   "metadata": {
    "scrolled": true
   },
   "outputs": [],
   "source": [
    "fig, ax = subplots()\n",
    "bec.disable_plots()\n",
    "\n",
    "    \n",
    "model = lmfit.Model(gaussian_integral)\n",
    "\n",
    "init_guess = {'peak': 5, 'sigma': 1.5, 'center': 3}\n",
    "\n",
    "\n",
    "live_fit = LiveFit(model, 'detector', {'x': 'motor1'}, init_guess)\n",
    "live_fit_plot = LiveFitPlot(live_fit, color='r', ax=ax, label='Fit')\n",
    "live_plot = LivePlot('detector', 'motor1', marker='x', linestyle='none', ax=ax, label='Scan')\n",
    "\n",
    "RE(\n",
    "    scan([detector], motor1, -10, 10, num=40),\n",
    "    [live_fit_plot, live_plot]\n",
    ")"
   ]
  },
  {
   "cell_type": "code",
   "execution_count": null,
   "metadata": {},
   "outputs": [],
   "source": [
    "live_fit.result"
   ]
  },
  {
   "cell_type": "code",
   "execution_count": null,
   "metadata": {},
   "outputs": [],
   "source": [
    "data = db[-1].table() #Should we use databroker now?"
   ]
  },
  {
   "cell_type": "code",
   "execution_count": null,
   "metadata": {},
   "outputs": [],
   "source": []
  }
 ],
 "metadata": {
  "kernelspec": {
   "display_name": "Python 3 (ipykernel)",
   "language": "python",
   "name": "python3"
  },
  "language_info": {
   "codemirror_mode": {
    "name": "ipython",
    "version": 3
   },
   "file_extension": ".py",
   "mimetype": "text/x-python",
   "name": "python",
   "nbconvert_exporter": "python",
   "pygments_lexer": "ipython3",
   "version": "3.12.5"
  }
 },
 "nbformat": 4,
 "nbformat_minor": 4
}
