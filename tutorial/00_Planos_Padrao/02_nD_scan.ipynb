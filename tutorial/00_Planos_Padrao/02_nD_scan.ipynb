{
 "cells": [
  {
   "cell_type": "code",
   "execution_count": null,
   "metadata": {
    "slideshow": {
     "slide_type": "slide"
    },
    "tags": []
   },
   "outputs": [],
   "source": [
    "%matplotlib inline\n",
    "from bluesky import RunEngine\n",
    "from bluesky.plan_stubs import mv\n",
    "from bluesky.plans import scan, list_scan, grid_scan, list_grid_scan, \\\n",
    "    spiral, spiral_square, rel_spiral\n",
    "from ophyd.sim import det, det4, motor, motor1, motor2\n",
    "from matplotlib.pyplot import ion\n",
    "from bluesky.utils import install_nb_kicker\n",
    "install_nb_kicker()\n",
    "\n",
    "ion()\n",
    "\n",
    "from jupyter_plot import JupyterLivePlot, JupyterLiveScatter, JupyterLiveGrid"
   ]
  },
  {
   "cell_type": "code",
   "execution_count": null,
   "metadata": {
    "slideshow": {
     "slide_type": "fragment"
    },
    "tags": []
   },
   "outputs": [],
   "source": [
    "RE = RunEngine()\n",
    "\n",
    "motor.delay = 0.25\n",
    "motor1.delay = 0.25\n",
    "motor2.delay = 0.25"
   ]
  },
  {
   "cell_type": "markdown",
   "metadata": {
    "slideshow": {
     "slide_type": "slide"
    },
    "tags": []
   },
   "source": [
    "## Scan"
   ]
  },
  {
   "cell_type": "code",
   "execution_count": null,
   "metadata": {
    "slideshow": {
     "slide_type": "fragment"
    }
   },
   "outputs": [],
   "source": [
    "help(scan)"
   ]
  },
  {
   "cell_type": "code",
   "execution_count": null,
   "metadata": {
    "scrolled": true,
    "slideshow": {
     "slide_type": "subslide"
    },
    "tags": []
   },
   "outputs": [],
   "source": [
    "RE(\n",
    "    scan([det4], motor1, -1.5, 2, motor2, 1.3, -0.75, num=20), [JupyterLiveScatter('motor1', 'motor2', 'det4', xlim=(-1.75, 2.25), ylim=(-1, 1.5))]\n",
    ")"
   ]
  },
  {
   "cell_type": "markdown",
   "metadata": {
    "slideshow": {
     "slide_type": "slide"
    },
    "tags": []
   },
   "source": [
    "## List Scan"
   ]
  },
  {
   "cell_type": "code",
   "execution_count": null,
   "metadata": {
    "slideshow": {
     "slide_type": "fragment"
    }
   },
   "outputs": [],
   "source": [
    "help(list_scan)"
   ]
  },
  {
   "cell_type": "code",
   "execution_count": null,
   "metadata": {
    "slideshow": {
     "slide_type": "subslide"
    }
   },
   "outputs": [],
   "source": [
    "RE(\n",
    "    list_scan([det], motor, [-1.3, -1.2, 0, 1.8, 2], motor1, [1.3, 1.2, -0.2, -1.3, -1.4]), [JupyterLiveScatter(motor.name, motor1.name, det.name)]\n",
    ")"
   ]
  },
  {
   "cell_type": "markdown",
   "metadata": {
    "slideshow": {
     "slide_type": "slide"
    }
   },
   "source": [
    "## Grid Scan"
   ]
  },
  {
   "cell_type": "code",
   "execution_count": null,
   "metadata": {
    "slideshow": {
     "slide_type": "fragment"
    }
   },
   "outputs": [],
   "source": [
    "help(grid_scan)"
   ]
  },
  {
   "cell_type": "code",
   "execution_count": null,
   "metadata": {
    "slideshow": {
     "slide_type": "subslide"
    }
   },
   "outputs": [],
   "source": [
    "motor1.delay = 0.1\n",
    "motor2.delay = 0.1\n",
    "RE(\n",
    "    grid_scan([det4], motor1, -1, 1, 10, motor2, -1, 1, 10), [JupyterLiveGrid((10, 10), det4.name)]\n",
    ")\n",
    "motor1.delay = 0.25\n",
    "motor2.delay = 0.25"
   ]
  },
  {
   "cell_type": "code",
   "execution_count": null,
   "metadata": {
    "slideshow": {
     "slide_type": "subslide"
    }
   },
   "outputs": [],
   "source": [
    "motor1.delay = 0.05\n",
    "motor2.delay = 0.05\n",
    "RE(\n",
    "    grid_scan([det4], motor1, -5, 5, 20, motor2, -5, 5, 20, snake_axes=True), [JupyterLiveGrid((20, 20), det4.name)]\n",
    ")\n",
    "motor1.delay = 0.25\n",
    "motor2.delay = 0.25"
   ]
  },
  {
   "cell_type": "markdown",
   "metadata": {
    "slideshow": {
     "slide_type": "slide"
    }
   },
   "source": [
    "## List Grid Scan"
   ]
  },
  {
   "cell_type": "code",
   "execution_count": null,
   "metadata": {
    "slideshow": {
     "slide_type": "fragment"
    }
   },
   "outputs": [],
   "source": [
    "help(list_grid_scan)"
   ]
  },
  {
   "cell_type": "code",
   "execution_count": null,
   "metadata": {
    "slideshow": {
     "slide_type": "subslide"
    }
   },
   "outputs": [],
   "source": [
    "RE(\n",
    "    list_grid_scan([det4], motor1, [-1, -0.5, 0, 0.5, 1, 1.5], motor2, [-1.5, -1, -0.5, 0, 0.5, 1]), [JupyterLiveGrid((6, 6), det4.name, extent=[-1.75, 1.25, -1.25, 1.75])]\n",
    ")"
   ]
  },
  {
   "cell_type": "markdown",
   "metadata": {
    "slideshow": {
     "slide_type": "slide"
    }
   },
   "source": [
    "## Spiral Scans"
   ]
  },
  {
   "cell_type": "code",
   "execution_count": null,
   "metadata": {
    "slideshow": {
     "slide_type": "fragment"
    }
   },
   "outputs": [],
   "source": [
    "help(spiral)"
   ]
  },
  {
   "cell_type": "code",
   "execution_count": null,
   "metadata": {
    "scrolled": true,
    "slideshow": {
     "slide_type": "subslide"
    }
   },
   "outputs": [],
   "source": [
    "RE(\n",
    "    spiral(\n",
    "        detectors=[det4],\n",
    "        x_motor=motor1,\n",
    "        y_motor=motor2,\n",
    "        x_start=1,\n",
    "        y_start=0,\n",
    "        x_range=10,\n",
    "        y_range=10,\n",
    "        dr=5,\n",
    "        dr_y=5,\n",
    "        nth=36\n",
    "    ), [JupyterLiveScatter(motor1.name, motor2.name, det4.name, xlim=(-10, 10), ylim=(-10, 10))]\n",
    ")"
   ]
  },
  {
   "cell_type": "code",
   "execution_count": null,
   "metadata": {
    "slideshow": {
     "slide_type": "subslide"
    }
   },
   "outputs": [
    {
     "data": {
      "image/png": "[encoded data removed]",
      "text/plain": [
       "<Figure size 640x480 with 2 Axes>"
      ]
     },
     "metadata": {},
     "output_type": "display_data"
    }
   ],
   "source": [
    "RE(\n",
    "    spiral(\n",
    "        detectors=[det4],\n",
    "        x_motor=motor1,\n",
    "        y_motor=motor2,\n",
    "        x_start=0,\n",
    "        y_start=0,\n",
    "        x_range=10,\n",
    "        y_range=10,\n",
    "        dr=1,\n",
    "        dr_y=1,\n",
    "        nth=5\n",
    "    ), [JupyterLiveScatter(motor1.name, motor2.name, det4.name, xlim=(-10, 10), ylim=(-10, 10))]\n",
    ")"
   ]
  },
  {
   "cell_type": "markdown",
   "metadata": {
    "slideshow": {
     "slide_type": "slide"
    }
   },
   "source": [
    "## Square Spiral Scan"
   ]
  },
  {
   "cell_type": "code",
   "execution_count": null,
   "metadata": {
    "slideshow": {
     "slide_type": "fragment"
    }
   },
   "outputs": [],
   "source": [
    "help(spiral_square)"
   ]
  },
  {
   "cell_type": "code",
   "execution_count": null,
   "metadata": {
    "slideshow": {
     "slide_type": "subslide"
    }
   },
   "outputs": [],
   "source": [
    "motor1.delay = 0.1\n",
    "motor2.delay = 0.1\n",
    "RE(\n",
    "    spiral_square(\n",
    "        detectors=[det4],\n",
    "        x_motor=motor1,\n",
    "        y_motor=motor2,\n",
    "        x_center=-2,\n",
    "        y_center=-2,\n",
    "        x_range=8,\n",
    "        y_range=8,\n",
    "        x_num=20,\n",
    "        y_num=20\n",
    "    ), [JupyterLiveScatter(motor1.name, motor2.name, det4.name, xlim=(-6, 2), ylim=(-6, 2))]\n",
    ")\n",
    "\n",
    "motor1.delay = 0.25\n",
    "motor2.delay = 0.25"
   ]
  },
  {
   "cell_type": "markdown",
   "metadata": {
    "slideshow": {
     "slide_type": "slide"
    }
   },
   "source": [
    "## Relative Spiral"
   ]
  },
  {
   "cell_type": "code",
   "execution_count": null,
   "metadata": {
    "slideshow": {
     "slide_type": "fragment"
    }
   },
   "outputs": [],
   "source": [
    "help(rel_spiral)"
   ]
  },
  {
   "cell_type": "code",
   "execution_count": null,
   "metadata": {
    "slideshow": {
     "slide_type": "subslide"
    }
   },
   "outputs": [],
   "source": [
    "RE(mv(motor1, 3))\n",
    "RE(mv(motor2, -1))\n",
    "RE(\n",
    "    rel_spiral(\n",
    "        detectors=[det4],\n",
    "        x_motor=motor1,\n",
    "        y_motor=motor2,\n",
    "        x_range=10,\n",
    "        y_range=10,\n",
    "        dr=1.5,\n",
    "        dr_y=1.5,\n",
    "        nth=10\n",
    "    ), [JupyterLiveScatter(motor1.name, motor2.name, det4.name, xlim=(-5, 10), ylim=(-7.5, 7.5))]\n",
    ")"
   ]
  },
  {
   "cell_type": "markdown",
   "metadata": {
    "slideshow": {
     "slide_type": "slide"
    }
   },
   "source": [
    "### Exercícios"
   ]
  },
  {
   "cell_type": "markdown",
   "metadata": {
    "slideshow": {
     "slide_type": "fragment"
    }
   },
   "source": [
    "1. Obtenha um heatmap dos dados do detector 'det5' no intervalo\t-4 mm até 8 mm no motor 'jittery_motor1' e no intervalo -6mm até 13mm no motor 'jittery_motor2'. \t\n",
    "\n",
    "2. Faça 15 aquisições com o detector 'det5' com ponto inicial (-2, -7) e com ponto final (3.5, 5.2).  \n",
    "\n",
    "3. Faça três scans circulares com raio 4, 8 e 12 milimetros com centro -3 mm no motor 'jittery_motor1' e -2 mm no motor 'jittery_motor2', faça cada aquisição com 20º graus de difereça entre os pontos. \n",
    "\n",
    "4. Faça aquisições com o detector 'det5' nos pontos (-1, 4), (0, 0.5), (-3, 0.2), (0.4, -1.2) e (-1.3, 0.85) e plote ele com um ScatterPlot.\n",
    "\n",
    "> Considere os motores correspondentes aos pontos como: ('jittery_motor1', 'jittery_motor2')"
   ]
  }
 ],
 "metadata": {
  "celltoolbar": "Slideshow",
  "kernelspec": {
   "display_name": "Python 3 (ipykernel)",
   "language": "python",
   "name": "python3"
  },
  "language_info": {
   "codemirror_mode": {
    "name": "ipython",
    "version": 3
   },
   "file_extension": ".py",
   "mimetype": "text/x-python",
   "name": "python",
   "nbconvert_exporter": "python",
   "pygments_lexer": "ipython3",
   "version": "3.12.5"
  },
  "rise": {
   "enable_chalkboard": true,
   "scroll": true,
   "start_slideshow_at": "beginning",
   "theme": "sky"
  }
 },
 "nbformat": 4,
 "nbformat_minor": 4
}
