{
 "cells": [
  {
   "cell_type": "markdown",
   "metadata": {
    "slideshow": {
     "slide_type": "slide"
    }
   },
   "source": [
    "### Detectores Simulados"
   ]
  },
  {
   "cell_type": "markdown",
   "metadata": {
    "slideshow": {
     "slide_type": "subslide"
    }
   },
   "source": [
    "| Detector   | Motor                          | Description      | Center | Max | Sigma | Fly Scan Procedure |\n",
    "| --------   | -----                          | ----------      | ------ | --- | ----- | ------------------ |\n",
    "| noisy_det  | motor                          | Gaussian Signal | 0      | 1   | 1     |                    |\n",
    "| det        | motor                          | Gaussian Signal | 0      | 1   | 1     |                    |\n",
    "| det1       | motor1                         | Gaussian Signal | 0      | 5   | 0.5   |                    |\n",
    "| det2       | motor2                         | Gaussian Signal | 1      | 2   | 2     |                    |\n",
    "| det3       | motor3                         | Gaussian Signal | -1     | 2   | 1     |                    |\n",
    "| det4       | motor1, motor2                 | Gaussian Signal | (0, 0) | 1   |       |                    |\n",
    "| det5       | jittery_motor1, jittery_motor2 | Gaussian Signal | (0, 0) | 1   |       |                    |\n",
    "| flyer1     | motor                          | Fly Scan Signal |        |     |       | 20 acquisitions - motor goes from 1 to 5 |\n",
    "| flyer2     | motor                          | Fly Scan Signal |        |     |       | 10 acquisitions - motor goes from 1 to 5 |\n",
    "| rand       |                                | Random Signal   |        |     |       |                    |\n",
    "| rand2      |                                | Random Signal   |        |     |       |                    |"
   ]
  },
  {
   "cell_type": "markdown",
   "metadata": {
    "slideshow": {
     "slide_type": "subslide"
    }
   },
   "source": [
    "### Links Úteis\n",
    "\n",
    "\n",
    "- Documentação do uso do Bluesky: https://blueskyproject.io/bluesky/main/userindex.html     \n",
    "- Tutorial do projeto Bluesky: https://blueskyproject.io/bluesky/main/tutorial.html\n",
    "- Documentação dos planos padrão com exemplos: https://blueskyproject.io/bluesky/main/plans.html\n",
    "- Documentação de modos de visualização ao vivo padrão com exemplos: https://blueskyproject.io/bluesky/main/callbacks.html"
   ]
  },
  {
   "cell_type": "code",
   "execution_count": null,
   "metadata": {
    "slideshow": {
     "slide_type": "subslide"
    }
   },
   "outputs": [],
   "source": [
    "%matplotlib qt\n",
    "from bluesky import RunEngine\n",
    "from bluesky.plans import count\n",
    "from bluesky.callbacks import LiveTable, LivePlot\n",
    "from ophyd.sim import noisy_det, jittery_motor1\n",
    "from matplotlib.pyplot import ion\n",
    "from bluesky.utils import install_nb_kicker\n",
    "install_nb_kicker()\n",
    "\n",
    "ion()"
   ]
  },
  {
   "cell_type": "markdown",
   "metadata": {
    "slideshow": {
     "slide_type": "slide"
    }
   },
   "source": [
    "## Detalhes Ophyd"
   ]
  },
  {
   "cell_type": "code",
   "execution_count": null,
   "metadata": {
    "slideshow": {
     "slide_type": "fragment"
    }
   },
   "outputs": [],
   "source": [
    "noisy_det.describe()"
   ]
  },
  {
   "cell_type": "code",
   "execution_count": null,
   "metadata": {
    "slideshow": {
     "slide_type": "fragment"
    }
   },
   "outputs": [],
   "source": [
    "noisy_det.read()"
   ]
  },
  {
   "cell_type": "code",
   "execution_count": null,
   "metadata": {
    "slideshow": {
     "slide_type": "fragment"
    }
   },
   "outputs": [],
   "source": [
    "noisy_det.read_configuration()"
   ]
  },
  {
   "cell_type": "code",
   "execution_count": null,
   "metadata": {
    "scrolled": false,
    "slideshow": {
     "slide_type": "subslide"
    }
   },
   "outputs": [],
   "source": [
    "noisy_det.summary()"
   ]
  },
  {
   "cell_type": "code",
   "execution_count": null,
   "metadata": {
    "slideshow": {
     "slide_type": "slide"
    }
   },
   "outputs": [],
   "source": [
    "jittery_motor1.read()"
   ]
  },
  {
   "cell_type": "code",
   "execution_count": null,
   "metadata": {
    "slideshow": {
     "slide_type": "fragment"
    }
   },
   "outputs": [],
   "source": [
    "jittery_motor1.read_configuration()"
   ]
  },
  {
   "cell_type": "code",
   "execution_count": null,
   "metadata": {
    "slideshow": {
     "slide_type": "subslide"
    }
   },
   "outputs": [],
   "source": [
    "jittery_motor1.summary()"
   ]
  },
  {
   "cell_type": "markdown",
   "metadata": {
    "slideshow": {
     "slide_type": "slide"
    }
   },
   "source": [
    "## Run Engine"
   ]
  },
  {
   "cell_type": "code",
   "execution_count": null,
   "metadata": {
    "slideshow": {
     "slide_type": "fragment"
    }
   },
   "outputs": [],
   "source": [
    "RE = RunEngine()"
   ]
  },
  {
   "cell_type": "code",
   "execution_count": null,
   "metadata": {
    "slideshow": {
     "slide_type": "fragment"
    }
   },
   "outputs": [],
   "source": [
    "help(RE)"
   ]
  },
  {
   "cell_type": "markdown",
   "metadata": {
    "slideshow": {
     "slide_type": "slide"
    }
   },
   "source": [
    "## Count"
   ]
  },
  {
   "cell_type": "code",
   "execution_count": null,
   "metadata": {
    "scrolled": true,
    "slideshow": {
     "slide_type": "fragment"
    }
   },
   "outputs": [],
   "source": [
    "help(count)"
   ]
  },
  {
   "cell_type": "code",
   "execution_count": null,
   "metadata": {
    "slideshow": {
     "slide_type": "fragment"
    }
   },
   "outputs": [],
   "source": [
    "RE(\n",
    "    count([noisy_det], num=5, delay=1),\n",
    "    LiveTable([\"noisy_det\"]))"
   ]
  },
  {
   "cell_type": "code",
   "execution_count": null,
   "metadata": {
    "slideshow": {
     "slide_type": "subslide"
    }
   },
   "outputs": [],
   "source": [
    "RE(\n",
    "    count([noisy_det], num=15, delay=0.1),\n",
    "    LivePlot(y=\"noisy_det\"))"
   ]
  },
  {
   "cell_type": "code",
   "execution_count": null,
   "metadata": {
    "slideshow": {
     "slide_type": "subslide"
    }
   },
   "outputs": [],
   "source": [
    "RE(\n",
    "    count([noisy_det], num=15, delay=0.1),\n",
    "    LivePlot(y=\"noisy_det\", marker=\"o\", markersize=10, color=\"green\"))"
   ]
  },
  {
   "cell_type": "markdown",
   "metadata": {
    "slideshow": {
     "slide_type": "slide"
    }
   },
   "source": [
    "### Exercícios"
   ]
  },
  {
   "cell_type": "markdown",
   "metadata": {
    "slideshow": {
     "slide_type": "fragment"
    }
   },
   "source": [
    "1. Quais são as duas informações que sempre estão presentes em todos os atributos de leitura e configuração?\n",
    "\n",
    "2. Quais são os atributos de leitura e os de configuração do motor simulado 'motor2'?\n",
    "\n",
    "3. Faça 30 aquisições com o detector simulado 'rand', com 250 milisegundos entre cada aquisição.\n",
    "\n",
    "4. Plote um gráfico durante a aquisição do execício anterior com LivePlot."
   ]
  }
 ],
 "metadata": {
  "celltoolbar": "Slideshow",
  "kernelspec": {
   "display_name": "Python 3 (ipykernel)",
   "language": "python",
   "name": "python3"
  },
  "language_info": {
   "codemirror_mode": {
    "name": "ipython",
    "version": 3
   },
   "file_extension": ".py",
   "mimetype": "text/x-python",
   "name": "python",
   "nbconvert_exporter": "python",
   "pygments_lexer": "ipython3",
   "version": "3.9.2"
  },
  "rise": {
   "enable_chalkboard": true,
   "scroll": true,
   "start_slideshow_at": "beginning",
   "theme": "sky"
  }
 },
 "nbformat": 4,
 "nbformat_minor": 2
}
