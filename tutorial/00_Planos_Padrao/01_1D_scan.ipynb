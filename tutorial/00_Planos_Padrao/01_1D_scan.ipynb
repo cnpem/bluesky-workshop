{
 "cells": [
  {
   "cell_type": "code",
   "execution_count": null,
   "metadata": {
    "slideshow": {
     "slide_type": "slide"
    }
   },
   "outputs": [],
   "source": [
    "%matplotlib widget\n",
    "\n",
    "import lmfit\n",
    "import numpy as np\n",
    "from bluesky import RunEngine\n",
    "from bluesky.plans import scan, rel_scan, list_scan, rel_list_scan, log_scan\n",
    "from bluesky.plan_stubs import mv\n",
    "from bluesky.callbacks import LiveFitPlot, LiveFit, LivePlot\n",
    "from bluesky.callbacks.fitting import PeakStats\n",
    "from bluesky.callbacks.mpl_plotting import plot_peak_stats\n",
    "from bluesky.callbacks.best_effort import BestEffortCallback\n",
    "from ophyd.sim import det, motor, noisy_det\n",
    "import matplotlib.pyplot as plt\n",
    "\n",
    "plt.ion()\n",
    "\n",
    "from jupyter_plot import JupyterLivePlot, JupyterLiveFitPlot"
   ]
  },
  {
   "cell_type": "code",
   "execution_count": null,
   "metadata": {
    "slideshow": {
     "slide_type": "fragment"
    }
   },
   "outputs": [],
   "source": [
    "RE = RunEngine()\n",
    "\n",
    "bec = BestEffortCallback()\n",
    "RE.subscribe(bec)\n",
    "\n",
    "motor.delay = 0.2"
   ]
  },
  {
   "cell_type": "markdown",
   "metadata": {
    "slideshow": {
     "slide_type": "slide"
    }
   },
   "source": [
    "## Scan"
   ]
  },
  {
   "cell_type": "code",
   "execution_count": null,
   "metadata": {
    "slideshow": {
     "slide_type": "fragment"
    }
   },
   "outputs": [],
   "source": [
    "help(scan)"
   ]
  },
  {
   "cell_type": "code",
   "execution_count": null,
   "metadata": {
    "scrolled": true,
    "slideshow": {
     "slide_type": "subslide"
    }
   },
   "outputs": [],
   "source": [
    "RE(\n",
    "    scan([det], motor, -1, 1, num=20)\n",
    ")"
   ]
  },
  {
   "cell_type": "code",
   "execution_count": null,
   "metadata": {
    "scrolled": true,
    "slideshow": {
     "slide_type": "subslide"
    }
   },
   "outputs": [],
   "source": [
    "RE(\n",
    "    scan([det], motor, -5, 5, num=20)\n",
    ")"
   ]
  },
  {
   "cell_type": "code",
   "execution_count": null,
   "metadata": {
    "scrolled": true,
    "slideshow": {
     "slide_type": "subslide"
    }
   },
   "outputs": [],
   "source": [
    "RE(\n",
    "    scan([det], motor, -5, 5, num=100)\n",
    ")"
   ]
  },
  {
   "cell_type": "markdown",
   "metadata": {
    "slideshow": {
     "slide_type": "slide"
    }
   },
   "source": [
    "## Plot fitting"
   ]
  },
  {
   "cell_type": "code",
   "execution_count": null,
   "metadata": {
    "slideshow": {
     "slide_type": "subslide"
    }
   },
   "outputs": [],
   "source": [
    "fig, ax = plt.subplots()\n",
    "bec.disable_plots()\n",
    "def gaussian(x, peak, sigma, x0):\n",
    "    return peak*np.exp(-(x - x0)**2/(2 * sigma**2))\n",
    "\n",
    "model = lmfit.Model(gaussian)\n",
    "init_guess = { 'peak': 2, 'sigma': lmfit.Parameter('sigma', 3, min=0), 'x0': 0}\n",
    "live_fit = LiveFit(model, 'noisy_det', {'x': 'motor'}, init_guess)\n",
    "live_fit_plot = JupyterLiveFitPlot(live_fit, fig=fig, ax=ax, color='r')\n",
    "live_plot = JupyterLivePlot('noisy_det', 'motor', marker='x', fig=fig, ax=ax, linestyle='none')\n",
    "RE(\n",
    "    scan([noisy_det], motor, -5, 5, num=40),\n",
    "    [live_fit_plot, live_plot]\n",
    ")"
   ]
  },
  {
   "cell_type": "markdown",
   "metadata": {
    "slideshow": {
     "slide_type": "subslide"
    }
   },
   "source": [
    "### Peak Stats\n",
    "\n",
    "* cen: center of mass\n",
    "* com: mid-point between half-max points on each side of the peak\n",
    "* max: location of y maximum\n",
    "* min: location of y minimum"
   ]
  },
  {
   "cell_type": "code",
   "execution_count": null,
   "metadata": {
    "scrolled": true,
    "slideshow": {
     "slide_type": "subslide"
    }
   },
   "outputs": [],
   "source": [
    "ps = PeakStats('motor', 'noisy_det', calc_derivative_and_stats=True)\n",
    "RE(\n",
    "    scan([noisy_det], motor, -1, 4.5, num=30), ps\n",
    ")\n",
    "\n",
    "plot_peak_stats(ps)\n",
    "bec.enable_plots()"
   ]
  },
  {
   "cell_type": "markdown",
   "metadata": {
    "slideshow": {
     "slide_type": "slide"
    }
   },
   "source": [
    "## Relative Scan"
   ]
  },
  {
   "cell_type": "code",
   "execution_count": null,
   "metadata": {
    "slideshow": {
     "slide_type": "fragment"
    }
   },
   "outputs": [],
   "source": [
    "help(rel_scan)"
   ]
  },
  {
   "cell_type": "code",
   "execution_count": null,
   "metadata": {
    "scrolled": true,
    "slideshow": {
     "slide_type": "subslide"
    }
   },
   "outputs": [],
   "source": [
    "RE(mv(motor, 3))\n",
    "RE(\n",
    "    rel_scan([det], motor, -1, 2, num=50)\n",
    ")"
   ]
  },
  {
   "cell_type": "code",
   "execution_count": null,
   "metadata": {
    "slideshow": {
     "slide_type": "subslide"
    }
   },
   "outputs": [],
   "source": [
    "RE(\n",
    "    rel_scan([det], motor, -1, 2, num=50)\n",
    ")"
   ]
  },
  {
   "cell_type": "markdown",
   "metadata": {
    "slideshow": {
     "slide_type": "slide"
    }
   },
   "source": [
    "## List Scan"
   ]
  },
  {
   "cell_type": "code",
   "execution_count": null,
   "metadata": {
    "slideshow": {
     "slide_type": "fragment"
    }
   },
   "outputs": [],
   "source": [
    "help(list_scan)"
   ]
  },
  {
   "cell_type": "code",
   "execution_count": null,
   "metadata": {
    "slideshow": {
     "slide_type": "subslide"
    }
   },
   "outputs": [],
   "source": [
    "RE(\n",
    "    list_scan([det], motor, [-1.4, -1.3, -0.8, -0.7, -0.2, -0.1])\n",
    ")"
   ]
  },
  {
   "cell_type": "markdown",
   "metadata": {
    "slideshow": {
     "slide_type": "slide"
    }
   },
   "source": [
    "## Relative List Scan"
   ]
  },
  {
   "cell_type": "code",
   "execution_count": null,
   "metadata": {
    "slideshow": {
     "slide_type": "fragment"
    }
   },
   "outputs": [],
   "source": [
    "help(rel_list_scan)"
   ]
  },
  {
   "cell_type": "code",
   "execution_count": null,
   "metadata": {
    "slideshow": {
     "slide_type": "subslide"
    }
   },
   "outputs": [],
   "source": [
    "RE(mv(motor, 3))\n",
    "RE(\n",
    "    rel_list_scan([det], motor, [-1.4, -1.3, -0.8, -0.7, -0.2, -0.1])\n",
    ")"
   ]
  },
  {
   "cell_type": "markdown",
   "metadata": {
    "slideshow": {
     "slide_type": "slide"
    }
   },
   "source": [
    "## Log Scan"
   ]
  },
  {
   "cell_type": "code",
   "execution_count": null,
   "metadata": {
    "slideshow": {
     "slide_type": "fragment"
    }
   },
   "outputs": [],
   "source": [
    "help(log_scan)"
   ]
  },
  {
   "cell_type": "code",
   "execution_count": null,
   "metadata": {
    "scrolled": true,
    "slideshow": {
     "slide_type": "subslide"
    }
   },
   "outputs": [],
   "source": [
    "RE(\n",
    "    log_scan([det], motor, -1, 1, num=25)\n",
    ")"
   ]
  },
  {
   "cell_type": "code",
   "execution_count": null,
   "metadata": {
    "scrolled": true,
    "slideshow": {
     "slide_type": "subslide"
    }
   },
   "outputs": [],
   "source": [
    "RE(\n",
    "    log_scan([motor], motor, -1, 1, num=25),\n",
    "    LivePlot('motor')\n",
    ")"
   ]
  },
  {
   "cell_type": "markdown",
   "metadata": {
    "slideshow": {
     "slide_type": "slide"
    }
   },
   "source": [
    "### Exercícios"
   ]
  },
  {
   "cell_type": "markdown",
   "metadata": {
    "slideshow": {
     "slide_type": "fragment"
    }
   },
   "source": [
    "1. Descubra o valor máximo do detector 'det3' e a posição do 'motor3' nesse ponto.\n",
    "2. Mova o motor 'motor1' e obtenha o valor máximo e mínimo do detector 'det1' utilizando o gráfico PeakStats.\n",
    "3. Adquira os valores do 'det3' com o motor 'motor3' nos pontos (-8.3, -4.5, -0.45, 0.65, 2.4, 6.2 e 9.8). \n",
    "4. Adquira 45 medidas com o detector 'det3' em um intervalo de -1 mm até +1 mm a partir da posição atual do 'motor3'. \n",
    "\n",
    "> Dica: Mova o 'motor3' dentro do limite mínimo -10 e limite máximo 10."
   ]
  }
 ],
 "metadata": {
  "celltoolbar": "Slideshow",
  "kernelspec": {
   "display_name": "Python 3 (ipykernel)",
   "language": "python",
   "name": "python3"
  },
  "language_info": {
   "codemirror_mode": {
    "name": "ipython",
    "version": 3
   },
   "file_extension": ".py",
   "mimetype": "text/x-python",
   "name": "python",
   "nbconvert_exporter": "python",
   "pygments_lexer": "ipython3",
   "version": "3.9.2"
  },
  "rise": {
   "enable_chalkboard": true,
   "start_slideshow_at": "beginning",
   "theme": "sky"
  }
 },
 "nbformat": 4,
 "nbformat_minor": 2
}
